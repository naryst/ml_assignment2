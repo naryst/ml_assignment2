{
 "cells": [
  {
   "cell_type": "markdown",
   "metadata": {
    "collapsed": true,
    "pycharm": {
     "name": "#%% md\n"
    }
   },
   "source": [
    "# Assignment 2\n",
    "\n",
    "## Instructions\n",
    "- Your submission should be the `.ipynb` file with your name,\n",
    "  like `YusufMesbah.ipynb`. it should include the answers to the questions in\n",
    "  markdown cells.\n",
    "- You are expected to follow the best practices for code writing and model\n",
    "training. Poor coding style will be penalized.\n",
    "- You are allowed to discuss ideas with your peers, but no sharing of code.\n",
    "Plagiarism in the code will result in failing. If you use code from the\n",
    "internet, cite it.\n",
    "- If the instructions seem vague, use common sense."
   ]
  },
  {
   "cell_type": "markdown",
   "source": [
    "# Task 1: ANN (30%)\n",
    "For this task, you are required to build a fully connect feed-forward ANN model\n",
    "for a multi-label regression problem.\n",
    "\n",
    "For the given data, you need do proper data preprocessing, design the ANN model,\n",
    "then fine-tune your model architecture (number of layers, number of neurons,\n",
    "activation function, learning rate, momentum, regularization).\n",
    "\n",
    "For evaluating your model, do $80/20$ train test split.\n",
    "\n",
    "### Data\n",
    "You will be working with the data in `Task 1.csv` for predicting students'\n",
    "scores in 3 different exams: math, reading and writing. The columns include:\n",
    " - gender\n",
    " - race\n",
    " - parental level of education\n",
    " - lunch meal plan at school\n",
    " - whether the student undertook the test preparation course"
   ],
   "metadata": {
    "collapsed": false,
    "pycharm": {
     "name": "#%% md\n"
    }
   }
  },
  {
   "cell_type": "markdown",
   "source": [
    "# Sergeev Nikita BS20-AI-01"
   ],
   "metadata": {
    "collapsed": false,
    "pycharm": {
     "name": "#%% md\n"
    }
   }
  },
  {
   "cell_type": "code",
   "execution_count": 1,
   "outputs": [
    {
     "data": {
      "text/plain": "device(type='cuda')"
     },
     "execution_count": 1,
     "metadata": {},
     "output_type": "execute_result"
    }
   ],
   "source": [
    "import pandas as pd\n",
    "import numpy as np\n",
    "import matplotlib.pyplot as plt\n",
    "import seaborn as sns\n",
    "import torch\n",
    "import torch.nn as nn\n",
    "import torch.nn.functional as F\n",
    "from sklearn.model_selection import train_test_split\n",
    "import torch.utils.data as data_utils\n",
    "from sklearn.linear_model import LinearRegression\n",
    "from sklearn.metrics import mean_squared_error\n",
    "from torchvision.transforms import transforms\n",
    "from torchvision import datasets\n",
    "import torchvision\n",
    "import torchsummary\n",
    "device = torch.device('cuda' if torch.cuda.is_available() else 'cpu')\n",
    "device"
   ],
   "metadata": {
    "collapsed": false,
    "pycharm": {
     "name": "#%%\n"
    }
   }
  },
  {
   "cell_type": "code",
   "execution_count": 2,
   "outputs": [
    {
     "data": {
      "text/plain": "   gender race/ethnicity parental level of education         lunch  \\\n0    male        group A                 high school      standard   \n1  female        group D            some high school  free/reduced   \n2    male        group E                some college  free/reduced   \n3    male        group B                 high school      standard   \n4    male        group E          associate's degree      standard   \n\n  test preparation course  math score  reading score  writing score  \n0               completed          67             67             63  \n1                    none          40             59             55  \n2                    none          59             60             50  \n3                    none          77             78             68  \n4               completed          78             73             68  ",
      "text/html": "<div>\n<style scoped>\n    .dataframe tbody tr th:only-of-type {\n        vertical-align: middle;\n    }\n\n    .dataframe tbody tr th {\n        vertical-align: top;\n    }\n\n    .dataframe thead th {\n        text-align: right;\n    }\n</style>\n<table border=\"1\" class=\"dataframe\">\n  <thead>\n    <tr style=\"text-align: right;\">\n      <th></th>\n      <th>gender</th>\n      <th>race/ethnicity</th>\n      <th>parental level of education</th>\n      <th>lunch</th>\n      <th>test preparation course</th>\n      <th>math score</th>\n      <th>reading score</th>\n      <th>writing score</th>\n    </tr>\n  </thead>\n  <tbody>\n    <tr>\n      <th>0</th>\n      <td>male</td>\n      <td>group A</td>\n      <td>high school</td>\n      <td>standard</td>\n      <td>completed</td>\n      <td>67</td>\n      <td>67</td>\n      <td>63</td>\n    </tr>\n    <tr>\n      <th>1</th>\n      <td>female</td>\n      <td>group D</td>\n      <td>some high school</td>\n      <td>free/reduced</td>\n      <td>none</td>\n      <td>40</td>\n      <td>59</td>\n      <td>55</td>\n    </tr>\n    <tr>\n      <th>2</th>\n      <td>male</td>\n      <td>group E</td>\n      <td>some college</td>\n      <td>free/reduced</td>\n      <td>none</td>\n      <td>59</td>\n      <td>60</td>\n      <td>50</td>\n    </tr>\n    <tr>\n      <th>3</th>\n      <td>male</td>\n      <td>group B</td>\n      <td>high school</td>\n      <td>standard</td>\n      <td>none</td>\n      <td>77</td>\n      <td>78</td>\n      <td>68</td>\n    </tr>\n    <tr>\n      <th>4</th>\n      <td>male</td>\n      <td>group E</td>\n      <td>associate's degree</td>\n      <td>standard</td>\n      <td>completed</td>\n      <td>78</td>\n      <td>73</td>\n      <td>68</td>\n    </tr>\n  </tbody>\n</table>\n</div>"
     },
     "execution_count": 2,
     "metadata": {},
     "output_type": "execute_result"
    }
   ],
   "source": [
    "df = pd.read_csv('Task 1.csv')\n",
    "df.head()"
   ],
   "metadata": {
    "collapsed": false,
    "pycharm": {
     "name": "#%%\n"
    }
   }
  },
  {
   "cell_type": "code",
   "execution_count": 3,
   "outputs": [
    {
     "data": {
      "text/plain": "        math score  reading score  writing score\ncount  1000.000000    1000.000000    1000.000000\nmean     66.396000      69.002000      67.738000\nstd      15.402871      14.737272      15.600985\nmin      13.000000      27.000000      23.000000\n25%      56.000000      60.000000      58.000000\n50%      66.500000      70.000000      68.000000\n75%      77.000000      79.000000      79.000000\nmax     100.000000     100.000000     100.000000",
      "text/html": "<div>\n<style scoped>\n    .dataframe tbody tr th:only-of-type {\n        vertical-align: middle;\n    }\n\n    .dataframe tbody tr th {\n        vertical-align: top;\n    }\n\n    .dataframe thead th {\n        text-align: right;\n    }\n</style>\n<table border=\"1\" class=\"dataframe\">\n  <thead>\n    <tr style=\"text-align: right;\">\n      <th></th>\n      <th>math score</th>\n      <th>reading score</th>\n      <th>writing score</th>\n    </tr>\n  </thead>\n  <tbody>\n    <tr>\n      <th>count</th>\n      <td>1000.000000</td>\n      <td>1000.000000</td>\n      <td>1000.000000</td>\n    </tr>\n    <tr>\n      <th>mean</th>\n      <td>66.396000</td>\n      <td>69.002000</td>\n      <td>67.738000</td>\n    </tr>\n    <tr>\n      <th>std</th>\n      <td>15.402871</td>\n      <td>14.737272</td>\n      <td>15.600985</td>\n    </tr>\n    <tr>\n      <th>min</th>\n      <td>13.000000</td>\n      <td>27.000000</td>\n      <td>23.000000</td>\n    </tr>\n    <tr>\n      <th>25%</th>\n      <td>56.000000</td>\n      <td>60.000000</td>\n      <td>58.000000</td>\n    </tr>\n    <tr>\n      <th>50%</th>\n      <td>66.500000</td>\n      <td>70.000000</td>\n      <td>68.000000</td>\n    </tr>\n    <tr>\n      <th>75%</th>\n      <td>77.000000</td>\n      <td>79.000000</td>\n      <td>79.000000</td>\n    </tr>\n    <tr>\n      <th>max</th>\n      <td>100.000000</td>\n      <td>100.000000</td>\n      <td>100.000000</td>\n    </tr>\n  </tbody>\n</table>\n</div>"
     },
     "execution_count": 3,
     "metadata": {},
     "output_type": "execute_result"
    }
   ],
   "source": [
    "df.describe()"
   ],
   "metadata": {
    "collapsed": false,
    "pycharm": {
     "name": "#%%\n"
    }
   }
  },
  {
   "cell_type": "markdown",
   "source": [
    "# Data preprocessing"
   ],
   "metadata": {
    "collapsed": false,
    "pycharm": {
     "name": "#%% md\n"
    }
   }
  },
  {
   "cell_type": "code",
   "execution_count": 4,
   "outputs": [
    {
     "data": {
      "text/plain": "((800, 17), (800, 3))"
     },
     "execution_count": 4,
     "metadata": {},
     "output_type": "execute_result"
    }
   ],
   "source": [
    "y = df[['math score', 'reading score', 'writing score']] # target features\n",
    "X = df.drop(['math score', 'reading score', 'writing score'], axis=1) # features\n",
    "X = pd.get_dummies(X) # one-hot encoding for categorical features\n",
    "X_train, X_test, y_train, y_test = train_test_split(X, y, test_size=0.2, random_state=42) # 80/20 train test split\n",
    "X_train.shape, y_train.shape"
   ],
   "metadata": {
    "collapsed": false,
    "pycharm": {
     "name": "#%%\n"
    }
   }
  },
  {
   "cell_type": "markdown",
   "source": [
    "# Pytorch architecture of the Neural Network"
   ],
   "metadata": {
    "collapsed": false,
    "pycharm": {
     "name": "#%% md\n"
    }
   }
  },
  {
   "cell_type": "code",
   "execution_count": 5,
   "outputs": [],
   "source": [
    "class ANN(nn.Module):\n",
    "    def __init__(self, input_size, hidden_size1, hidden_size2, output_size, regression):\n",
    "        super().__init__()\n",
    "        self.fc1 = nn.Linear(input_size, hidden_size1) # first hidden layer\n",
    "        self.fc2 = nn.Linear(hidden_size1, hidden_size2) # second hidden layer\n",
    "        self.fc3 = nn.Linear(hidden_size2, output_size) # output layer\n",
    "        self.regression = regression # regression or classification task\n",
    "\n",
    "    def forward(self, x):\n",
    "        # I used ReLU activation function for hidden layers and identity function for output layer.\n",
    "        x = F.relu(self.fc1(x))\n",
    "        x = F.relu(self.fc2(x))\n",
    "        x = self.fc3(x)\n",
    "        if not self.regression:\n",
    "            # classification task → apply softmax function.\n",
    "            x = F.log_softmax(x, dim=1)\n",
    "        return x"
   ],
   "metadata": {
    "collapsed": false,
    "pycharm": {
     "name": "#%%\n"
    }
   }
  },
  {
   "cell_type": "code",
   "execution_count": 6,
   "outputs": [
    {
     "data": {
      "text/plain": "(torch.Size([800, 17]), torch.Size([800, 3]))"
     },
     "execution_count": 6,
     "metadata": {},
     "output_type": "execute_result"
    }
   ],
   "source": [
    "# Convert data to pytorch tensors\n",
    "X_train = torch.tensor(X_train.values, dtype=torch.float32)\n",
    "y_train = torch.tensor(y_train.values, dtype=torch.float32)\n",
    "X_test = torch.tensor(X_test.values, dtype=torch.float32)\n",
    "y_test = torch.tensor(y_test.values, dtype=torch.float32)\n",
    "X_train.shape, y_train.shape"
   ],
   "metadata": {
    "collapsed": false,
    "pycharm": {
     "name": "#%%\n"
    }
   }
  },
  {
   "cell_type": "markdown",
   "source": [
    "# Train keras model (for comparing its performance with pytorch model)"
   ],
   "metadata": {
    "collapsed": false,
    "pycharm": {
     "name": "#%% md\n"
    }
   }
  },
  {
   "cell_type": "code",
   "execution_count": 7,
   "outputs": [
    {
     "name": "stderr",
     "output_type": "stream",
     "text": [
      "2022-11-18 17:19:27.422681: I tensorflow/core/platform/cpu_feature_guard.cc:193] This TensorFlow binary is optimized with oneAPI Deep Neural Network Library (oneDNN) to use the following CPU instructions in performance-critical operations:  SSE4.1 SSE4.2 AVX AVX2 FMA\n",
      "To enable them in other operations, rebuild TensorFlow with the appropriate compiler flags.\n",
      "2022-11-18 17:19:28.662731: I tensorflow/stream_executor/cuda/cuda_gpu_executor.cc:980] successful NUMA node read from SysFS had negative value (-1), but there must be at least one NUMA node, so returning NUMA node zero\n",
      "2022-11-18 17:19:28.663892: I tensorflow/stream_executor/cuda/cuda_gpu_executor.cc:980] successful NUMA node read from SysFS had negative value (-1), but there must be at least one NUMA node, so returning NUMA node zero\n",
      "2022-11-18 17:19:28.664224: I tensorflow/stream_executor/cuda/cuda_gpu_executor.cc:980] successful NUMA node read from SysFS had negative value (-1), but there must be at least one NUMA node, so returning NUMA node zero\n",
      "2022-11-18 17:19:28.664681: I tensorflow/core/platform/cpu_feature_guard.cc:193] This TensorFlow binary is optimized with oneAPI Deep Neural Network Library (oneDNN) to use the following CPU instructions in performance-critical operations:  SSE4.1 SSE4.2 AVX AVX2 FMA\n",
      "To enable them in other operations, rebuild TensorFlow with the appropriate compiler flags.\n",
      "2022-11-18 17:19:28.666355: I tensorflow/stream_executor/cuda/cuda_gpu_executor.cc:980] successful NUMA node read from SysFS had negative value (-1), but there must be at least one NUMA node, so returning NUMA node zero\n",
      "2022-11-18 17:19:28.666821: I tensorflow/stream_executor/cuda/cuda_gpu_executor.cc:980] successful NUMA node read from SysFS had negative value (-1), but there must be at least one NUMA node, so returning NUMA node zero\n",
      "2022-11-18 17:19:28.667122: I tensorflow/stream_executor/cuda/cuda_gpu_executor.cc:980] successful NUMA node read from SysFS had negative value (-1), but there must be at least one NUMA node, so returning NUMA node zero\n",
      "2022-11-18 17:19:29.890848: I tensorflow/stream_executor/cuda/cuda_gpu_executor.cc:980] successful NUMA node read from SysFS had negative value (-1), but there must be at least one NUMA node, so returning NUMA node zero\n",
      "2022-11-18 17:19:29.891003: I tensorflow/stream_executor/cuda/cuda_gpu_executor.cc:980] successful NUMA node read from SysFS had negative value (-1), but there must be at least one NUMA node, so returning NUMA node zero\n",
      "2022-11-18 17:19:29.891123: I tensorflow/stream_executor/cuda/cuda_gpu_executor.cc:980] successful NUMA node read from SysFS had negative value (-1), but there must be at least one NUMA node, so returning NUMA node zero\n",
      "2022-11-18 17:19:29.891228: I tensorflow/core/common_runtime/gpu/gpu_device.cc:1616] Created device /job:localhost/replica:0/task:0/device:GPU:0 with 2229 MB memory:  -> device: 0, name: NVIDIA GeForce GTX 1650 Ti, pci bus id: 0000:01:00.0, compute capability: 7.5\n"
     ]
    },
    {
     "name": "stdout",
     "output_type": "stream",
     "text": [
      "MSE of the training set:  170.13148498535156\n"
     ]
    }
   ],
   "source": [
    "import tensorflow as tf\n",
    "from tensorflow import keras\n",
    "from keras import layers\n",
    "\n",
    "# model architecture\n",
    "logreg = keras.Sequential([\n",
    "    layers.Dense(64, activation='relu', input_shape=(X_train.shape[1],)),\n",
    "    layers.Dense(64, activation='relu'),\n",
    "    layers.Dense(3)\n",
    "])\n",
    "\n",
    "# compile model with MSE loss function and Adam optimizer\n",
    "logreg.compile(optimizer='adam',\n",
    "              loss='mse')\n",
    "\n",
    "# convert pytorch tensors to tensorflow tensors\n",
    "tf_X_train = tf.convert_to_tensor(X_train.numpy())\n",
    "tf_y_train = tf.convert_to_tensor(y_train.numpy())\n",
    "tf_X_test = tf.convert_to_tensor(X_test.numpy())\n",
    "tf_y_test = tf.convert_to_tensor(y_test.numpy())\n",
    "\n",
    "# train model and output its performance on validation set\n",
    "logreg.fit(tf_X_train, tf_y_train, epochs=100, batch_size=32, verbose=0)\n",
    "val_score = logreg.evaluate(tf_X_test, tf_y_test, verbose=0)\n",
    "print('MSE of the training set: ', val_score)"
   ],
   "metadata": {
    "collapsed": false,
    "pycharm": {
     "name": "#%%\n"
    }
   }
  },
  {
   "cell_type": "markdown",
   "source": [
    "## Define parameters for training Pytorch model"
   ],
   "metadata": {
    "collapsed": false,
    "pycharm": {
     "name": "#%% md\n"
    }
   }
  },
  {
   "cell_type": "code",
   "execution_count": 8,
   "outputs": [],
   "source": [
    "# define model parameters\n",
    "model = ANN(X_train.shape[1], 64, 64, y_train.shape[1], regression=True)\n",
    "\n",
    "epochs = 500 # number of epochs\n",
    "criterion = nn.MSELoss() # loss function\n",
    "lr = 0.001 # learning rate\n",
    "optimizer = torch.optim.Adam(model.parameters(), lr=lr) # use Adam optimizer\n",
    "scheduler = torch.optim.lr_scheduler.StepLR(optimizer, step_size=250, gamma=0.5) # learning rate scheduler with step size 250 and gamma 0.5"
   ],
   "metadata": {
    "collapsed": false,
    "pycharm": {
     "name": "#%%\n"
    }
   }
  },
  {
   "cell_type": "code",
   "execution_count": 9,
   "outputs": [
    {
     "name": "stdout",
     "output_type": "stream",
     "text": [
      "----------------------------------------------------------------\n",
      "        Layer (type)               Output Shape         Param #\n",
      "================================================================\n",
      "            Linear-1                   [-1, 64]           1,152\n",
      "            Linear-2                   [-1, 64]           4,160\n",
      "            Linear-3                    [-1, 3]             195\n",
      "================================================================\n",
      "Total params: 5,507\n",
      "Trainable params: 5,507\n",
      "Non-trainable params: 0\n",
      "----------------------------------------------------------------\n",
      "Input size (MB): 0.00\n",
      "Forward/backward pass size (MB): 0.00\n",
      "Params size (MB): 0.02\n",
      "Estimated Total Size (MB): 0.02\n",
      "----------------------------------------------------------------\n"
     ]
    }
   ],
   "source": [
    "# model summary\n",
    "torchsummary.summary(model, (X_train.shape[1],), device='cpu')"
   ],
   "metadata": {
    "collapsed": false,
    "pycharm": {
     "name": "#%%\n"
    }
   }
  },
  {
   "cell_type": "code",
   "execution_count": 10,
   "outputs": [],
   "source": [
    "# Early stopping the training process.\n",
    "# (if validation loss doesn't decrease for 10 epochs)\n",
    "def early_stopping(loss, patience=10):\n",
    "    if len(loss) < patience:\n",
    "        return False\n",
    "    for i in range(1, patience):\n",
    "        if loss[-i] < loss[-i-1]:\n",
    "            return False\n",
    "    return True"
   ],
   "metadata": {
    "collapsed": false,
    "pycharm": {
     "name": "#%%\n"
    }
   }
  },
  {
   "cell_type": "markdown",
   "source": [
    "## Train and test the model"
   ],
   "metadata": {
    "collapsed": false,
    "pycharm": {
     "name": "#%% md\n"
    }
   }
  },
  {
   "cell_type": "code",
   "execution_count": 11,
   "outputs": [
    {
     "name": "stdout",
     "output_type": "stream",
     "text": [
      "Epoch:    1/500 | Train Loss: 5082.9551 | Test Loss: 4854.6479\n",
      "Epoch:    5/500 | Train Loss: 4859.5459 | Test Loss: 4624.1895\n",
      "Epoch:   10/500 | Train Loss: 3465.0305 | Test Loss: 3213.0320\n",
      "Epoch:   15/500 | Train Loss: 629.9774 | Test Loss: 539.2097\n",
      "Epoch:   20/500 | Train Loss: 214.7462 | Test Loss: 244.5727\n",
      "Epoch:   25/500 | Train Loss: 194.0216 | Test Loss: 215.4496\n",
      "Epoch:   30/500 | Train Loss: 179.1064 | Test Loss: 200.8570\n",
      "Epoch:   35/500 | Train Loss: 171.9080 | Test Loss: 191.8109\n",
      "Epoch:   40/500 | Train Loss: 168.3375 | Test Loss: 186.4853\n",
      "Epoch:   45/500 | Train Loss: 166.8457 | Test Loss: 183.5317\n",
      "Epoch:   50/500 | Train Loss: 166.3946 | Test Loss: 181.9747\n",
      "Epoch:   55/500 | Train Loss: 166.3844 | Test Loss: 181.2044\n",
      "Epoch:   60/500 | Train Loss: 166.5237 | Test Loss: 180.8451\n",
      "Epoch:   65/500 | Train Loss: 166.6723 | Test Loss: 180.6855\n",
      "Epoch:   70/500 | Train Loss: 166.7805 | Test Loss: 180.6059\n",
      "Epoch:   75/500 | Train Loss: 166.8417 | Test Loss: 180.5459\n",
      "Epoch:   80/500 | Train Loss: 166.8564 | Test Loss: 180.4755\n",
      "Epoch:   85/500 | Train Loss: 166.8195 | Test Loss: 180.3882\n",
      "Epoch:   90/500 | Train Loss: 166.7408 | Test Loss: 180.2786\n",
      "Epoch:   95/500 | Train Loss: 166.6108 | Test Loss: 180.1399\n",
      "Epoch:  100/500 | Train Loss: 166.4518 | Test Loss: 179.9779\n",
      "Epoch:  105/500 | Train Loss: 166.2471 | Test Loss: 179.7822\n",
      "Epoch:  110/500 | Train Loss: 165.9970 | Test Loss: 179.5524\n",
      "Epoch:  115/500 | Train Loss: 165.7042 | Test Loss: 179.2841\n",
      "Epoch:  120/500 | Train Loss: 165.3720 | Test Loss: 178.9729\n",
      "Epoch:  125/500 | Train Loss: 164.9939 | Test Loss: 178.6132\n",
      "Epoch:  130/500 | Train Loss: 164.5627 | Test Loss: 178.2065\n",
      "Epoch:  135/500 | Train Loss: 164.0638 | Test Loss: 177.7406\n",
      "Epoch:  140/500 | Train Loss: 163.5097 | Test Loss: 177.2101\n",
      "Epoch:  145/500 | Train Loss: 162.8790 | Test Loss: 176.6168\n",
      "Epoch:  150/500 | Train Loss: 162.1759 | Test Loss: 175.9638\n",
      "Epoch:  155/500 | Train Loss: 161.4029 | Test Loss: 175.2686\n",
      "Epoch:  160/500 | Train Loss: 160.5774 | Test Loss: 174.5878\n",
      "Epoch:  165/500 | Train Loss: 159.7741 | Test Loss: 173.9114\n",
      "Epoch:  170/500 | Train Loss: 158.9944 | Test Loss: 173.2370\n",
      "Epoch:  175/500 | Train Loss: 158.2541 | Test Loss: 172.5980\n",
      "Epoch:  180/500 | Train Loss: 157.5967 | Test Loss: 172.0214\n",
      "Epoch:  185/500 | Train Loss: 157.0340 | Test Loss: 171.5071\n",
      "Epoch:  190/500 | Train Loss: 156.5689 | Test Loss: 171.0806\n",
      "Epoch:  195/500 | Train Loss: 156.1987 | Test Loss: 170.7400\n",
      "Epoch:  200/500 | Train Loss: 155.9243 | Test Loss: 170.4762\n",
      "Epoch:  205/500 | Train Loss: 155.7173 | Test Loss: 170.2767\n",
      "Epoch:  210/500 | Train Loss: 155.5864 | Test Loss: 170.1308\n",
      "Epoch:  215/500 | Train Loss: 155.4904 | Test Loss: 170.0244\n",
      "Epoch:  220/500 | Train Loss: 155.4259 | Test Loss: 169.9467\n",
      "Epoch:  225/500 | Train Loss: 155.3776 | Test Loss: 169.8909\n",
      "Epoch:  230/500 | Train Loss: 155.3245 | Test Loss: 169.8499\n",
      "Epoch:  235/500 | Train Loss: 155.2726 | Test Loss: 169.8159\n",
      "Epoch:  240/500 | Train Loss: 155.2358 | Test Loss: 169.7911\n",
      "Epoch:  245/500 | Train Loss: 155.1938 | Test Loss: 169.7682\n",
      "Epoch:  250/500 | Train Loss: 155.1408 | Test Loss: 169.7520\n",
      "Epoch:  255/500 | Train Loss: 155.0603 | Test Loss: 169.7562\n",
      "Epoch:  260/500 | Train Loss: 155.0301 | Test Loss: 169.7530\n",
      "Epoch:  265/500 | Train Loss: 155.0020 | Test Loss: 169.7484\n",
      "Epoch:  270/500 | Train Loss: 154.9740 | Test Loss: 169.7442\n",
      "Epoch:  275/500 | Train Loss: 154.9472 | Test Loss: 169.7383\n",
      "Epoch:  280/500 | Train Loss: 154.9206 | Test Loss: 169.7354\n",
      "Epoch:  285/500 | Train Loss: 154.8958 | Test Loss: 169.7306\n",
      "Epoch:  290/500 | Train Loss: 154.8767 | Test Loss: 169.7285\n",
      "Epoch:  295/500 | Train Loss: 154.8596 | Test Loss: 169.7274\n",
      "Epoch:  300/500 | Train Loss: 154.8420 | Test Loss: 169.7254\n",
      "Epoch:  305/500 | Train Loss: 154.8256 | Test Loss: 169.7228\n",
      "Epoch:  310/500 | Train Loss: 154.8094 | Test Loss: 169.7193\n",
      "Epoch:  315/500 | Train Loss: 154.7900 | Test Loss: 169.7148\n",
      "Epoch:  320/500 | Train Loss: 154.7735 | Test Loss: 169.7126\n",
      "Epoch:  325/500 | Train Loss: 154.7491 | Test Loss: 169.7097\n",
      "Epoch:  330/500 | Train Loss: 154.7243 | Test Loss: 169.7065\n",
      "Epoch:  335/500 | Train Loss: 154.6993 | Test Loss: 169.7037\n",
      "Epoch:  340/500 | Train Loss: 154.6713 | Test Loss: 169.7027\n",
      "Epoch:  345/500 | Train Loss: 154.6461 | Test Loss: 169.6999\n",
      "Epoch:  350/500 | Train Loss: 154.6190 | Test Loss: 169.6996\n",
      "Epoch:  355/500 | Train Loss: 154.5975 | Test Loss: 169.7001\n",
      "Epoch:  360/500 | Train Loss: 154.5756 | Test Loss: 169.6986\n",
      "Epoch:  365/500 | Train Loss: 154.5558 | Test Loss: 169.6986\n",
      "Epoch:  370/500 | Train Loss: 154.5389 | Test Loss: 169.6967\n",
      "Epoch:  375/500 | Train Loss: 154.5134 | Test Loss: 169.6973\n",
      "Epoch:  380/500 | Train Loss: 154.4881 | Test Loss: 169.6981\n",
      "Epoch:  385/500 | Train Loss: 154.4672 | Test Loss: 169.6991\n",
      "Epoch:  390/500 | Train Loss: 154.4452 | Test Loss: 169.6974\n",
      "Epoch:  395/500 | Train Loss: 154.4270 | Test Loss: 169.6950\n",
      "Epoch:  400/500 | Train Loss: 154.4040 | Test Loss: 169.6932\n",
      "Epoch:  405/500 | Train Loss: 154.3832 | Test Loss: 169.6914\n",
      "Epoch:  410/500 | Train Loss: 154.3586 | Test Loss: 169.6913\n",
      "Epoch:  415/500 | Train Loss: 154.3438 | Test Loss: 169.6888\n",
      "Epoch:  420/500 | Train Loss: 154.3223 | Test Loss: 169.6822\n",
      "Epoch:  425/500 | Train Loss: 154.2992 | Test Loss: 169.6796\n",
      "Epoch:  430/500 | Train Loss: 154.2782 | Test Loss: 169.6770\n",
      "Epoch:  435/500 | Train Loss: 154.2525 | Test Loss: 169.6731\n",
      "Epoch:  440/500 | Train Loss: 154.2331 | Test Loss: 169.6696\n",
      "Epoch:  445/500 | Train Loss: 154.2129 | Test Loss: 169.6711\n",
      "Epoch:  450/500 | Train Loss: 154.1934 | Test Loss: 169.6700\n",
      "Epoch:  455/500 | Train Loss: 154.1610 | Test Loss: 169.6712\n",
      "Epoch:  460/500 | Train Loss: 154.0998 | Test Loss: 169.6699\n",
      "Epoch:  465/500 | Train Loss: 154.0350 | Test Loss: 169.6623\n",
      "Epoch:  470/500 | Train Loss: 153.9741 | Test Loss: 169.6550\n",
      "Epoch:  475/500 | Train Loss: 153.9172 | Test Loss: 169.6457\n",
      "Epoch:  480/500 | Train Loss: 153.8623 | Test Loss: 169.6389\n",
      "Epoch:  485/500 | Train Loss: 153.8216 | Test Loss: 169.6240\n",
      "Epoch:  490/500 | Train Loss: 153.7807 | Test Loss: 169.6142\n",
      "Epoch:  495/500 | Train Loss: 153.7308 | Test Loss: 169.6065\n",
      "Epoch:  500/500 | Train Loss: 153.6784 | Test Loss: 169.5949\n"
     ]
    }
   ],
   "source": [
    "batch_size = 128\n",
    "\n",
    "# train model (the same process as in the lab)\n",
    "def train(model, X_train, y_train, criterion, optimizer):\n",
    "    X_batches = torch.split(X_train, batch_size)\n",
    "    y_batches = torch.split(y_train, batch_size)\n",
    "    loss = 0\n",
    "    for X_batch, y_batch in zip(X_batches, y_batches):\n",
    "        optimizer.zero_grad()\n",
    "        y_pred = model(X_batch)\n",
    "        loss = criterion(y_pred, y_batch)\n",
    "        loss.backward()\n",
    "        optimizer.step()\n",
    "    return loss.item()\n",
    "\n",
    "# test model performance on validation set\n",
    "def test(model, X_test, y_test, criterion):\n",
    "    model.eval()\n",
    "    with torch.no_grad():\n",
    "        y_pred = model(X_test)\n",
    "        loss = criterion(y_pred, y_test)\n",
    "    return loss.item()\n",
    "\n",
    "# iterate over epochs, train and test model\n",
    "train_losses = []\n",
    "test_losses = []\n",
    "for epoch in range(epochs):\n",
    "    train_loss = train(model, X_train, y_train, criterion, optimizer)\n",
    "    test_loss = test(model, X_test, y_test, criterion)\n",
    "    scheduler.step()\n",
    "    train_losses.append(test_loss)\n",
    "    test_losses.append(test_loss)\n",
    "    if (epoch+1) % 5 == 0 or epoch == 0:\n",
    "        print(f'Epoch: {epoch+1:4}/{epochs} | Train Loss: {train_loss:.4f} | Test Loss: {test_loss:.4f}')\n",
    "    if early_stopping(train_losses, patience=100):\n",
    "        print('Early stopping')\n",
    "        break\n",
    "\n"
   ],
   "metadata": {
    "collapsed": false,
    "pycharm": {
     "name": "#%%\n"
    }
   }
  },
  {
   "cell_type": "code",
   "execution_count": 12,
   "outputs": [
    {
     "data": {
      "text/plain": "<Figure size 640x480 with 1 Axes>",
      "image/png": "[encoded data removed]"
     },
     "metadata": {},
     "output_type": "display_data"
    }
   ],
   "source": [
    "# plot train and test losses\n",
    "plt.plot(train_losses, label='train loss')\n",
    "plt.plot(test_losses, label='test loss')\n",
    "plt.legend()\n",
    "plt.xlabel('Epochs')\n",
    "plt.ylabel('Loss')\n",
    "plt.show()"
   ],
   "metadata": {
    "collapsed": false,
    "pycharm": {
     "name": "#%%\n"
    }
   }
  },
  {
   "cell_type": "markdown",
   "source": [
    "## Comparing with sklearn linear regression model"
   ],
   "metadata": {
    "collapsed": false,
    "pycharm": {
     "name": "#%% md\n"
    }
   }
  },
  {
   "cell_type": "code",
   "execution_count": 13,
   "outputs": [
    {
     "data": {
      "text/plain": "168.12584"
     },
     "execution_count": 13,
     "metadata": {},
     "output_type": "execute_result"
    }
   ],
   "source": [
    "lr = LinearRegression()\n",
    "lr.fit(X_train, y_train)\n",
    "y_pred = lr.predict(X_test)\n",
    "mean_squared_error(y_test, y_pred)"
   ],
   "metadata": {
    "collapsed": false,
    "pycharm": {
     "name": "#%%\n"
    }
   }
  },
  {
   "cell_type": "code",
   "execution_count": 14,
   "outputs": [
    {
     "data": {
      "text/plain": "169.59492"
     },
     "execution_count": 14,
     "metadata": {},
     "output_type": "execute_result"
    }
   ],
   "source": [
    "y_pred_nn = model(X_test)\n",
    "mean_squared_error(y_test, y_pred_nn.detach())"
   ],
   "metadata": {
    "collapsed": false,
    "pycharm": {
     "name": "#%%\n"
    }
   }
  },
  {
   "cell_type": "markdown",
   "source": [
    "With Pytorch model we got the same MSE as with sklearn linear regression model and keras model. And the amount of efforts to implement these models was significantly different (Pytorch >> keras > sklearn)."
   ],
   "metadata": {
    "collapsed": false,
    "pycharm": {
     "name": "#%% md\n"
    }
   }
  },
  {
   "cell_type": "markdown",
   "source": [
    "### Questions\n",
    "1. What preprocessing techniques did you use? Why?\n",
    "    - One-hot encoding for categorical features. I used one-hot encoding because it is the most common way to encode categorical features.\n",
    "    - Data separation into a train and test sets. I used this technique because it is the most common way to evaluate the performance of the model.\n",
    "        - I used 80% of data for training and 20% for testing.\n",
    "    - Data separating into goal function and features.\n",
    "2. Describe the fine-tuning process and how you reached your model architecture.\n",
    "    - In this case we solve regression task, so I used MSE loss function and Adam optimizer.\n",
    "\n",
    "    - This regression task nicely fits to the linear regression model. And NN with the only 1 hidden layer is also a linear regression model. So I started with the linear regression model and then added more hidden layers.\n",
    "\n",
    "    - I used 2 hidden layers with 64 neurons in each layer. I used 64 neurons because it is the most common number of neurons in the hidden layer.\n",
    "\n",
    "    - ReLU activation function was used in the hidden layers. It was used as a most common activation function in the hidden layers.\n",
    "\n",
    "    - Early stopping was used to prevent overfitting. I used early stopping with patience 100. It means that if the validation loss doesn't decrease for 100 epochs, the training process will be stopped.\n",
    "\n",
    "    - Learning rate scheduler was used to decrease learning rate after 250 epochs. It was used to better converge to the minimum of the loss function.\n",
    "\n",
    "    - I used batch size 128. It was used to speed up the training process."
   ],
   "metadata": {
    "collapsed": false,
    "pycharm": {
     "name": "#%% md\n"
    }
   }
  },
  {
   "cell_type": "markdown",
   "source": [
    "# Task 2: CNN (40%)\n",
    "For this task, you will be doing image classification:\n",
    "- First, adapt your best model from Task 1 to work on this task, and\n",
    "fit it on the new data. Then, evaluate its performance.\n",
    "- After that, build a CNN model for image classification.\n",
    "- Compare both models in terms of accuracy, number of parameters and speed of\n",
    "inference (the time the model takes to predict 50 samples).\n",
    "\n",
    "For the given data, you need to do proper data preprocessing and augmentation,\n",
    "data loaders.\n",
    "Then fine-tune your model architecture (number of layers, number of filters,\n",
    "activation function, learning rate, momentum, regularization).\n",
    "\n",
    "### Data\n",
    "You will be working with the data in `triple_mnist.zip` for predicting 3-digit\n",
    "numbers writen in the image. Each image contains 3 digits similar to the\n",
    "following example (whose label is `039`):\n",
    "\n",
    "![example](https://github.com/shaohua0116/MultiDigitMNIST/blob/master/asset/examples/039/0_039.png?raw=true)"
   ],
   "metadata": {
    "collapsed": false,
    "pycharm": {
     "name": "#%% md\n"
    }
   }
  },
  {
   "cell_type": "markdown",
   "source": [
    "## Create a pytorch dataset from the ImageFolder"
   ],
   "metadata": {
    "collapsed": false,
    "pycharm": {
     "name": "#%% md\n"
    }
   }
  },
  {
   "cell_type": "code",
   "execution_count": 15,
   "outputs": [],
   "source": [
    "# from torchvision import transforms\n",
    "test_transform = transforms.Compose([\n",
    "    transforms.RandomRotation(10),\n",
    "    transforms.ToTensor(),\n",
    "    transforms.Normalize((0.1307,), (0.3081,))\n",
    "])\n",
    "\n",
    "\n",
    "train_data = datasets.ImageFolder(root='triple_mnist/train', transform=test_transform)\n",
    "test_data = datasets.ImageFolder(root='triple_mnist/test', transform=test_transform)"
   ],
   "metadata": {
    "collapsed": false,
    "pycharm": {
     "name": "#%%\n"
    }
   }
  },
  {
   "cell_type": "markdown",
   "source": [
    "Trying to get some picture from the dataset, and its label."
   ],
   "metadata": {
    "collapsed": false,
    "pycharm": {
     "name": "#%% md\n"
    }
   }
  },
  {
   "cell_type": "code",
   "execution_count": 16,
   "outputs": [
    {
     "name": "stdout",
     "output_type": "stream",
     "text": [
      "('triple_mnist/train/190/20_190.png', 123)\n"
     ]
    },
    {
     "data": {
      "text/plain": "<PIL.Image.Image image mode=RGB size=84x84>",
      "image/png": "[encoded data removed]"
     },
     "execution_count": 16,
     "metadata": {},
     "output_type": "execute_result"
    }
   ],
   "source": [
    "f = train_data.loader\n",
    "print(train_data.samples[12312])\n",
    "f(train_data.samples[12312][0])"
   ],
   "metadata": {
    "collapsed": false,
    "pycharm": {
     "name": "#%%\n"
    }
   }
  },
  {
   "cell_type": "markdown",
   "source": [
    "We can see that the label doesn't match the image. So we need to fix it."
   ],
   "metadata": {
    "collapsed": false,
    "pycharm": {
     "name": "#%% md\n"
    }
   }
  },
  {
   "cell_type": "code",
   "execution_count": 17,
   "outputs": [],
   "source": [
    "# function for getting the label from the image name\n",
    "def create_label(path):\n",
    "    return int(path.split('/')[-1].split('_')[1].split('.')[0])\n",
    "\n",
    "# fix the labels on the train and test datasets\n",
    "train_data.samples = [(path, create_label(path)) for path, _ in train_data.samples]\n",
    "test_data.samples = [(path, create_label(path)) for path, _ in test_data.samples]"
   ],
   "metadata": {
    "collapsed": false,
    "pycharm": {
     "name": "#%%\n"
    }
   }
  },
  {
   "cell_type": "markdown",
   "source": [
    "## Create data loaders with batch size 16 and shuffle"
   ],
   "metadata": {
    "collapsed": false,
    "pycharm": {
     "name": "#%% md\n"
    }
   }
  },
  {
   "cell_type": "code",
   "execution_count": 18,
   "outputs": [],
   "source": [
    "batch_size = 16\n",
    "\n",
    "train_loader = torch.utils.data.DataLoader(train_data, batch_size=batch_size, shuffle=True)\n",
    "test_loader = torch.utils.data.DataLoader(test_data, batch_size=batch_size, shuffle=True)"
   ],
   "metadata": {
    "collapsed": false,
    "pycharm": {
     "name": "#%%\n"
    }
   }
  },
  {
   "cell_type": "code",
   "execution_count": 19,
   "outputs": [
    {
     "name": "stderr",
     "output_type": "stream",
     "text": [
      "Clipping input data to the valid range for imshow with RGB data ([0..1] for floats or [0..255] for integers).\n",
      "Clipping input data to the valid range for imshow with RGB data ([0..1] for floats or [0..255] for integers).\n",
      "Clipping input data to the valid range for imshow with RGB data ([0..1] for floats or [0..255] for integers).\n",
      "Clipping input data to the valid range for imshow with RGB data ([0..1] for floats or [0..255] for integers).\n",
      "Clipping input data to the valid range for imshow with RGB data ([0..1] for floats or [0..255] for integers).\n",
      "Clipping input data to the valid range for imshow with RGB data ([0..1] for floats or [0..255] for integers).\n",
      "Clipping input data to the valid range for imshow with RGB data ([0..1] for floats or [0..255] for integers).\n",
      "Clipping input data to the valid range for imshow with RGB data ([0..1] for floats or [0..255] for integers).\n",
      "Clipping input data to the valid range for imshow with RGB data ([0..1] for floats or [0..255] for integers).\n",
      "Clipping input data to the valid range for imshow with RGB data ([0..1] for floats or [0..255] for integers).\n",
      "Clipping input data to the valid range for imshow with RGB data ([0..1] for floats or [0..255] for integers).\n",
      "Clipping input data to the valid range for imshow with RGB data ([0..1] for floats or [0..255] for integers).\n",
      "Clipping input data to the valid range for imshow with RGB data ([0..1] for floats or [0..255] for integers).\n",
      "Clipping input data to the valid range for imshow with RGB data ([0..1] for floats or [0..255] for integers).\n",
      "Clipping input data to the valid range for imshow with RGB data ([0..1] for floats or [0..255] for integers).\n",
      "Clipping input data to the valid range for imshow with RGB data ([0..1] for floats or [0..255] for integers).\n"
     ]
    },
    {
     "data": {
      "text/plain": "<Figure size 1000x1000 with 16 Axes>",
      "image/png": "[encoded data removed]"
     },
     "metadata": {},
     "output_type": "display_data"
    }
   ],
   "source": [
    "# checking the data\n",
    "def imshow(img):\n",
    "    npimg = img.numpy()\n",
    "    plt.imshow(np.transpose(npimg, (1, 2, 0)))\n",
    "    plt.show()\n",
    "\n",
    "dataiter = iter(train_loader)\n",
    "images, labels = next(dataiter)\n",
    "\n",
    "# show images from some batch and its labels\n",
    "fig, ax = plt.subplots(4, 4, figsize=(10, 10))\n",
    "for i in range(4):\n",
    "    for j in range(4):\n",
    "        ax[i, j].imshow(images[i*4+j].permute(1, 2, 0))\n",
    "        ax[i, j].set_title(labels[i*4+j].item())\n",
    "        ax[i, j].axis('off')\n",
    "        ax[i, j].set_title(labels[i*4+j].item())\n",
    "        ax[i, j].axis('off')"
   ],
   "metadata": {
    "collapsed": false,
    "pycharm": {
     "name": "#%%\n"
    }
   }
  },
  {
   "cell_type": "markdown",
   "source": [
    "Now we can see that the labels match the images."
   ],
   "metadata": {
    "collapsed": false,
    "pycharm": {
     "name": "#%% md\n"
    }
   }
  },
  {
   "cell_type": "code",
   "execution_count": 20,
   "outputs": [
    {
     "data": {
      "text/plain": "(torch.Size([16, 3, 84, 84]), torch.Size([16]))"
     },
     "execution_count": 20,
     "metadata": {},
     "output_type": "execute_result"
    }
   ],
   "source": [
    "# get shape of the batch of images\n",
    "image_sample, label_sample = next(iter(train_loader))\n",
    "image_sample.shape, label_sample.shape"
   ],
   "metadata": {
    "collapsed": false,
    "pycharm": {
     "name": "#%%\n"
    }
   }
  },
  {
   "cell_type": "markdown",
   "source": [
    "## Creating an ANN model from the previous task for this one."
   ],
   "metadata": {
    "collapsed": false,
    "pycharm": {
     "name": "#%% md\n"
    }
   }
  },
  {
   "cell_type": "code",
   "execution_count": 21,
   "outputs": [
    {
     "name": "stdout",
     "output_type": "stream",
     "text": [
      "----------------------------------------------------------------\n",
      "        Layer (type)               Output Shape         Param #\n",
      "================================================================\n",
      "            Linear-1                  [-1, 512]      10,838,528\n",
      "            Linear-2                  [-1, 256]         131,328\n",
      "            Linear-3                   [-1, 30]           7,710\n",
      "================================================================\n",
      "Total params: 10,977,566\n",
      "Trainable params: 10,977,566\n",
      "Non-trainable params: 0\n",
      "----------------------------------------------------------------\n",
      "Input size (MB): 0.08\n",
      "Forward/backward pass size (MB): 0.01\n",
      "Params size (MB): 41.88\n",
      "Estimated Total Size (MB): 41.96\n",
      "----------------------------------------------------------------\n"
     ]
    }
   ],
   "source": [
    "triple_mnist_ann = ANN(3 * 84 * 84, 512, 256, 30, regression=False).to(device)\n",
    "torchsummary.summary(triple_mnist_ann, (3 * 84 * 84,))"
   ],
   "metadata": {
    "collapsed": false,
    "pycharm": {
     "name": "#%%\n"
    }
   }
  },
  {
   "cell_type": "markdown",
   "source": [
    "## Parameters for the training process of the ANN model"
   ],
   "metadata": {
    "collapsed": false,
    "pycharm": {
     "name": "#%% md\n"
    }
   }
  },
  {
   "cell_type": "code",
   "execution_count": 22,
   "outputs": [],
   "source": [
    "epochs = 15\n",
    "lr = 0.01\n",
    "log_interval = 100\n",
    "momentum = 0.5\n",
    "optimizer = torch.optim.SGD(triple_mnist_ann.parameters(), lr=lr, momentum=momentum)\n",
    "criterion = nn.NLLLoss()"
   ],
   "metadata": {
    "collapsed": false,
    "pycharm": {
     "name": "#%%\n"
    }
   }
  },
  {
   "cell_type": "code",
   "execution_count": 23,
   "outputs": [],
   "source": [
    "# function for breaking the 3-digit number into 3 numbers to predict them separately.\n",
    "f = lambda x: torch.Tensor([torch.div(x,100, rounding_mode='floor'),\n",
    "                            torch.div((x % 100), 10, rounding_mode='floor'),\n",
    "                            x % 10]).long()\n",
    "# inverse function for getting the 3-digit number from 3 numbers.\n",
    "f_inverse = lambda x: x[0]*100 + x[1]*10 + x[2]"
   ],
   "metadata": {
    "collapsed": false,
    "pycharm": {
     "name": "#%%\n"
    }
   }
  },
  {
   "cell_type": "code",
   "execution_count": 24,
   "outputs": [],
   "source": [
    "test_losses = []\n",
    "train_losses = []\n",
    "\n",
    "# training loop (almost the same as in the previous task)\n",
    "def train_ANN(model, device, train_loader, optimizer, epoch, criterion):\n",
    "    model.train()\n",
    "    for batch_idx, (data, target) in enumerate(train_loader):\n",
    "\n",
    "        data, target = data.to(device), target.to(device)\n",
    "        data = data.view(-1, 3*84*84)\n",
    "\n",
    "        optimizer.zero_grad()\n",
    "        output = model(data)\n",
    "\n",
    "        output = output.view(data.shape[0], 10, -1)\n",
    "        target = list(map(f, target))\n",
    "        target = torch.stack(target).to(device)\n",
    "\n",
    "        loss = criterion(output, target)\n",
    "        loss.backward()\n",
    "        optimizer.step()\n",
    "\n",
    "        if batch_idx % log_interval == 0:\n",
    "            print('Train Epoch: {} [{}/{} ({:.0f}%)]\\tLoss: {:.6f}'.format(\n",
    "                epoch, batch_idx * len(data), len(train_loader.dataset),\n",
    "                100. * batch_idx / len(train_loader), loss.item()))\n",
    "    train_losses.append(loss.item())\n",
    "\n",
    "# a testing loop (almost the same as in the previous task)\n",
    "def test_ANN(model, device, test_loader):\n",
    "    model.eval()\n",
    "    test_loss = 0\n",
    "    correct = 0\n",
    "    with torch.no_grad():\n",
    "        for data, target in test_loader:\n",
    "            data, target = data.to(device), target.to(device)\n",
    "            data = data.view(-1, 3*84*84)\n",
    "\n",
    "            output = model(data)\n",
    "\n",
    "            output = output.view(data.shape[0], 10, -1)\n",
    "            target = list(map(f, target))\n",
    "            target = torch.stack(target).to(device)\n",
    "\n",
    "            test_loss += criterion(output, target).item()\n",
    "            pred = output.argmax(dim=1, keepdim=True)\n",
    "            correct += pred.eq(target.view_as(pred)).all(dim=2).sum().item()\n",
    "\n",
    "    test_loss /= len(test_loader)\n",
    "    print('\\nTest set: Average loss: {:.4f}, Accuracy: {}/{} ({:.0f}%)\\n'.format(\n",
    "        test_loss, correct, len(test_loader.dataset),\n",
    "        100. * correct / len(test_loader.dataset)))\n",
    "    test_losses.append(test_loss)\n",
    "    return correct / len(test_loader.dataset)"
   ],
   "metadata": {
    "collapsed": false,
    "pycharm": {
     "name": "#%%\n"
    }
   }
  },
  {
   "cell_type": "code",
   "execution_count": 25,
   "outputs": [],
   "source": [
    "# The block for loading the pretrained model state dict. (for faster testing the code)\n",
    "pretrained = False\n",
    "# try:\n",
    "#     triple_mnist_ann.load_state_dict(torch.load('triple_mnist_model.pt'))\n",
    "#     pretrained = True\n",
    "# except FileNotFoundError:\n",
    "#     print('No pretrained model found')"
   ],
   "metadata": {
    "collapsed": false,
    "pycharm": {
     "name": "#%%\n"
    }
   }
  },
  {
   "cell_type": "code",
   "execution_count": 26,
   "outputs": [
    {
     "name": "stdout",
     "output_type": "stream",
     "text": [
      "Train Epoch: 1 [0/64000 (0%)]\tLoss: 3.398916\n",
      "Train Epoch: 1 [1600/64000 (2%)]\tLoss: 3.412134\n",
      "Train Epoch: 1 [3200/64000 (5%)]\tLoss: 3.368768\n",
      "Train Epoch: 1 [4800/64000 (8%)]\tLoss: 3.398101\n",
      "Train Epoch: 1 [6400/64000 (10%)]\tLoss: 3.258085\n",
      "Train Epoch: 1 [8000/64000 (12%)]\tLoss: 3.335062\n",
      "Train Epoch: 1 [9600/64000 (15%)]\tLoss: 3.278836\n",
      "Train Epoch: 1 [11200/64000 (18%)]\tLoss: 3.072556\n",
      "Train Epoch: 1 [12800/64000 (20%)]\tLoss: 3.166474\n",
      "Train Epoch: 1 [14400/64000 (22%)]\tLoss: 3.133304\n",
      "Train Epoch: 1 [16000/64000 (25%)]\tLoss: 2.874547\n",
      "Train Epoch: 1 [17600/64000 (28%)]\tLoss: 3.010788\n",
      "Train Epoch: 1 [19200/64000 (30%)]\tLoss: 3.087366\n",
      "Train Epoch: 1 [20800/64000 (32%)]\tLoss: 3.101311\n",
      "Train Epoch: 1 [22400/64000 (35%)]\tLoss: 3.069984\n",
      "Train Epoch: 1 [24000/64000 (38%)]\tLoss: 3.117159\n",
      "Train Epoch: 1 [25600/64000 (40%)]\tLoss: 3.218843\n",
      "Train Epoch: 1 [27200/64000 (42%)]\tLoss: 3.046302\n",
      "Train Epoch: 1 [28800/64000 (45%)]\tLoss: 2.932550\n",
      "Train Epoch: 1 [30400/64000 (48%)]\tLoss: 2.931586\n",
      "Train Epoch: 1 [32000/64000 (50%)]\tLoss: 3.041875\n",
      "Train Epoch: 1 [33600/64000 (52%)]\tLoss: 3.055991\n",
      "Train Epoch: 1 [35200/64000 (55%)]\tLoss: 3.029577\n",
      "Train Epoch: 1 [36800/64000 (58%)]\tLoss: 3.049051\n",
      "Train Epoch: 1 [38400/64000 (60%)]\tLoss: 2.981140\n",
      "Train Epoch: 1 [40000/64000 (62%)]\tLoss: 3.140016\n",
      "Train Epoch: 1 [41600/64000 (65%)]\tLoss: 2.942919\n",
      "Train Epoch: 1 [43200/64000 (68%)]\tLoss: 3.097055\n",
      "Train Epoch: 1 [44800/64000 (70%)]\tLoss: 3.017421\n",
      "Train Epoch: 1 [46400/64000 (72%)]\tLoss: 3.022426\n",
      "Train Epoch: 1 [48000/64000 (75%)]\tLoss: 2.892483\n",
      "Train Epoch: 1 [49600/64000 (78%)]\tLoss: 2.912288\n",
      "Train Epoch: 1 [51200/64000 (80%)]\tLoss: 3.009769\n",
      "Train Epoch: 1 [52800/64000 (82%)]\tLoss: 2.920402\n",
      "Train Epoch: 1 [54400/64000 (85%)]\tLoss: 2.979080\n",
      "Train Epoch: 1 [56000/64000 (88%)]\tLoss: 2.777098\n",
      "Train Epoch: 1 [57600/64000 (90%)]\tLoss: 3.014148\n",
      "Train Epoch: 1 [59200/64000 (92%)]\tLoss: 2.941816\n",
      "Train Epoch: 1 [60800/64000 (95%)]\tLoss: 2.918588\n",
      "Train Epoch: 1 [62400/64000 (98%)]\tLoss: 2.944783\n",
      "\n",
      "Test set: Average loss: 2.9693, Accuracy: 564/20000 (3%)\n",
      "\n",
      "Train Epoch: 2 [0/64000 (0%)]\tLoss: 2.824832\n",
      "Train Epoch: 2 [1600/64000 (2%)]\tLoss: 3.038898\n",
      "Train Epoch: 2 [3200/64000 (5%)]\tLoss: 3.072065\n",
      "Train Epoch: 2 [4800/64000 (8%)]\tLoss: 2.857291\n",
      "Train Epoch: 2 [6400/64000 (10%)]\tLoss: 2.745170\n",
      "Train Epoch: 2 [8000/64000 (12%)]\tLoss: 2.780076\n",
      "Train Epoch: 2 [9600/64000 (15%)]\tLoss: 2.940364\n",
      "Train Epoch: 2 [11200/64000 (18%)]\tLoss: 2.975778\n",
      "Train Epoch: 2 [12800/64000 (20%)]\tLoss: 2.687066\n",
      "Train Epoch: 2 [14400/64000 (22%)]\tLoss: 2.704726\n",
      "Train Epoch: 2 [16000/64000 (25%)]\tLoss: 2.838660\n",
      "Train Epoch: 2 [17600/64000 (28%)]\tLoss: 2.670098\n",
      "Train Epoch: 2 [19200/64000 (30%)]\tLoss: 2.718801\n",
      "Train Epoch: 2 [20800/64000 (32%)]\tLoss: 2.687547\n",
      "Train Epoch: 2 [22400/64000 (35%)]\tLoss: 2.679463\n",
      "Train Epoch: 2 [24000/64000 (38%)]\tLoss: 2.733715\n",
      "Train Epoch: 2 [25600/64000 (40%)]\tLoss: 2.646092\n",
      "Train Epoch: 2 [27200/64000 (42%)]\tLoss: 2.542434\n",
      "Train Epoch: 2 [28800/64000 (45%)]\tLoss: 2.743552\n",
      "Train Epoch: 2 [30400/64000 (48%)]\tLoss: 2.740042\n",
      "Train Epoch: 2 [32000/64000 (50%)]\tLoss: 2.481474\n",
      "Train Epoch: 2 [33600/64000 (52%)]\tLoss: 2.489430\n",
      "Train Epoch: 2 [35200/64000 (55%)]\tLoss: 2.487980\n",
      "Train Epoch: 2 [36800/64000 (58%)]\tLoss: 2.748820\n",
      "Train Epoch: 2 [38400/64000 (60%)]\tLoss: 2.628120\n",
      "Train Epoch: 2 [40000/64000 (62%)]\tLoss: 2.516814\n",
      "Train Epoch: 2 [41600/64000 (65%)]\tLoss: 2.592485\n",
      "Train Epoch: 2 [43200/64000 (68%)]\tLoss: 2.465444\n",
      "Train Epoch: 2 [44800/64000 (70%)]\tLoss: 2.606393\n",
      "Train Epoch: 2 [46400/64000 (72%)]\tLoss: 2.555913\n",
      "Train Epoch: 2 [48000/64000 (75%)]\tLoss: 2.305905\n",
      "Train Epoch: 2 [49600/64000 (78%)]\tLoss: 2.469741\n",
      "Train Epoch: 2 [51200/64000 (80%)]\tLoss: 2.466948\n",
      "Train Epoch: 2 [52800/64000 (82%)]\tLoss: 2.250793\n",
      "Train Epoch: 2 [54400/64000 (85%)]\tLoss: 2.538310\n",
      "Train Epoch: 2 [56000/64000 (88%)]\tLoss: 2.356047\n",
      "Train Epoch: 2 [57600/64000 (90%)]\tLoss: 2.328824\n",
      "Train Epoch: 2 [59200/64000 (92%)]\tLoss: 2.654392\n",
      "Train Epoch: 2 [60800/64000 (95%)]\tLoss: 2.496427\n",
      "Train Epoch: 2 [62400/64000 (98%)]\tLoss: 2.408436\n",
      "\n",
      "Test set: Average loss: 2.4690, Accuracy: 3004/20000 (15%)\n",
      "\n",
      "Train Epoch: 3 [0/64000 (0%)]\tLoss: 2.226639\n",
      "Train Epoch: 3 [1600/64000 (2%)]\tLoss: 2.246693\n",
      "Train Epoch: 3 [3200/64000 (5%)]\tLoss: 2.238148\n",
      "Train Epoch: 3 [4800/64000 (8%)]\tLoss: 2.345867\n",
      "Train Epoch: 3 [6400/64000 (10%)]\tLoss: 2.436697\n",
      "Train Epoch: 3 [8000/64000 (12%)]\tLoss: 2.233450\n",
      "Train Epoch: 3 [9600/64000 (15%)]\tLoss: 2.109835\n",
      "Train Epoch: 3 [11200/64000 (18%)]\tLoss: 2.247346\n",
      "Train Epoch: 3 [12800/64000 (20%)]\tLoss: 2.540447\n",
      "Train Epoch: 3 [14400/64000 (22%)]\tLoss: 2.533551\n",
      "Train Epoch: 3 [16000/64000 (25%)]\tLoss: 2.313985\n",
      "Train Epoch: 3 [17600/64000 (28%)]\tLoss: 2.193415\n",
      "Train Epoch: 3 [19200/64000 (30%)]\tLoss: 2.107744\n",
      "Train Epoch: 3 [20800/64000 (32%)]\tLoss: 2.430686\n",
      "Train Epoch: 3 [22400/64000 (35%)]\tLoss: 2.241785\n",
      "Train Epoch: 3 [24000/64000 (38%)]\tLoss: 2.218421\n",
      "Train Epoch: 3 [25600/64000 (40%)]\tLoss: 2.275569\n",
      "Train Epoch: 3 [27200/64000 (42%)]\tLoss: 2.224910\n",
      "Train Epoch: 3 [28800/64000 (45%)]\tLoss: 2.026530\n",
      "Train Epoch: 3 [30400/64000 (48%)]\tLoss: 2.061970\n",
      "Train Epoch: 3 [32000/64000 (50%)]\tLoss: 2.111196\n",
      "Train Epoch: 3 [33600/64000 (52%)]\tLoss: 2.197221\n",
      "Train Epoch: 3 [35200/64000 (55%)]\tLoss: 2.410960\n",
      "Train Epoch: 3 [36800/64000 (58%)]\tLoss: 2.518216\n",
      "Train Epoch: 3 [38400/64000 (60%)]\tLoss: 2.441667\n",
      "Train Epoch: 3 [40000/64000 (62%)]\tLoss: 2.199588\n",
      "Train Epoch: 3 [41600/64000 (65%)]\tLoss: 1.997051\n",
      "Train Epoch: 3 [43200/64000 (68%)]\tLoss: 2.087286\n",
      "Train Epoch: 3 [44800/64000 (70%)]\tLoss: 2.036108\n",
      "Train Epoch: 3 [46400/64000 (72%)]\tLoss: 2.165152\n",
      "Train Epoch: 3 [48000/64000 (75%)]\tLoss: 2.297711\n",
      "Train Epoch: 3 [49600/64000 (78%)]\tLoss: 2.097172\n",
      "Train Epoch: 3 [51200/64000 (80%)]\tLoss: 2.106413\n",
      "Train Epoch: 3 [52800/64000 (82%)]\tLoss: 2.065633\n",
      "Train Epoch: 3 [54400/64000 (85%)]\tLoss: 2.089649\n",
      "Train Epoch: 3 [56000/64000 (88%)]\tLoss: 1.973477\n",
      "Train Epoch: 3 [57600/64000 (90%)]\tLoss: 2.383188\n",
      "Train Epoch: 3 [59200/64000 (92%)]\tLoss: 2.018464\n",
      "Train Epoch: 3 [60800/64000 (95%)]\tLoss: 2.153702\n",
      "Train Epoch: 3 [62400/64000 (98%)]\tLoss: 1.989759\n",
      "\n",
      "Test set: Average loss: 2.1901, Accuracy: 5406/20000 (27%)\n",
      "\n",
      "Train Epoch: 4 [0/64000 (0%)]\tLoss: 2.022171\n",
      "Train Epoch: 4 [1600/64000 (2%)]\tLoss: 1.863753\n",
      "Train Epoch: 4 [3200/64000 (5%)]\tLoss: 2.348897\n",
      "Train Epoch: 4 [4800/64000 (8%)]\tLoss: 2.038772\n",
      "Train Epoch: 4 [6400/64000 (10%)]\tLoss: 2.286223\n",
      "Train Epoch: 4 [8000/64000 (12%)]\tLoss: 2.172051\n",
      "Train Epoch: 4 [9600/64000 (15%)]\tLoss: 2.098129\n",
      "Train Epoch: 4 [11200/64000 (18%)]\tLoss: 1.922477\n",
      "Train Epoch: 4 [12800/64000 (20%)]\tLoss: 2.033043\n",
      "Train Epoch: 4 [14400/64000 (22%)]\tLoss: 2.077003\n",
      "Train Epoch: 4 [16000/64000 (25%)]\tLoss: 2.082629\n",
      "Train Epoch: 4 [17600/64000 (28%)]\tLoss: 1.923279\n",
      "Train Epoch: 4 [19200/64000 (30%)]\tLoss: 2.073298\n",
      "Train Epoch: 4 [20800/64000 (32%)]\tLoss: 2.138210\n",
      "Train Epoch: 4 [22400/64000 (35%)]\tLoss: 2.181606\n",
      "Train Epoch: 4 [24000/64000 (38%)]\tLoss: 1.934989\n",
      "Train Epoch: 4 [25600/64000 (40%)]\tLoss: 1.865399\n",
      "Train Epoch: 4 [27200/64000 (42%)]\tLoss: 1.804591\n",
      "Train Epoch: 4 [28800/64000 (45%)]\tLoss: 2.082887\n",
      "Train Epoch: 4 [30400/64000 (48%)]\tLoss: 2.073677\n",
      "Train Epoch: 4 [32000/64000 (50%)]\tLoss: 1.898043\n",
      "Train Epoch: 4 [33600/64000 (52%)]\tLoss: 2.057865\n",
      "Train Epoch: 4 [35200/64000 (55%)]\tLoss: 2.045587\n",
      "Train Epoch: 4 [36800/64000 (58%)]\tLoss: 2.066102\n",
      "Train Epoch: 4 [38400/64000 (60%)]\tLoss: 1.895391\n",
      "Train Epoch: 4 [40000/64000 (62%)]\tLoss: 1.829080\n",
      "Train Epoch: 4 [41600/64000 (65%)]\tLoss: 2.063110\n",
      "Train Epoch: 4 [43200/64000 (68%)]\tLoss: 1.928615\n",
      "Train Epoch: 4 [44800/64000 (70%)]\tLoss: 2.120682\n",
      "Train Epoch: 4 [46400/64000 (72%)]\tLoss: 2.002905\n",
      "Train Epoch: 4 [48000/64000 (75%)]\tLoss: 1.949639\n",
      "Train Epoch: 4 [49600/64000 (78%)]\tLoss: 1.904408\n",
      "Train Epoch: 4 [51200/64000 (80%)]\tLoss: 2.016957\n",
      "Train Epoch: 4 [52800/64000 (82%)]\tLoss: 1.855998\n",
      "Train Epoch: 4 [54400/64000 (85%)]\tLoss: 1.944952\n",
      "Train Epoch: 4 [56000/64000 (88%)]\tLoss: 1.890905\n",
      "Train Epoch: 4 [57600/64000 (90%)]\tLoss: 1.976132\n",
      "Train Epoch: 4 [59200/64000 (92%)]\tLoss: 1.867783\n",
      "Train Epoch: 4 [60800/64000 (95%)]\tLoss: 1.908794\n",
      "Train Epoch: 4 [62400/64000 (98%)]\tLoss: 1.933804\n",
      "\n",
      "Test set: Average loss: 2.0377, Accuracy: 7084/20000 (35%)\n",
      "\n",
      "Train Epoch: 5 [0/64000 (0%)]\tLoss: 2.046120\n",
      "Train Epoch: 5 [1600/64000 (2%)]\tLoss: 1.921625\n",
      "Train Epoch: 5 [3200/64000 (5%)]\tLoss: 1.923998\n",
      "Train Epoch: 5 [4800/64000 (8%)]\tLoss: 1.765329\n",
      "Train Epoch: 5 [6400/64000 (10%)]\tLoss: 2.040463\n",
      "Train Epoch: 5 [8000/64000 (12%)]\tLoss: 1.819664\n",
      "Train Epoch: 5 [9600/64000 (15%)]\tLoss: 1.953961\n",
      "Train Epoch: 5 [11200/64000 (18%)]\tLoss: 1.729142\n",
      "Train Epoch: 5 [12800/64000 (20%)]\tLoss: 1.798840\n",
      "Train Epoch: 5 [14400/64000 (22%)]\tLoss: 1.935637\n",
      "Train Epoch: 5 [16000/64000 (25%)]\tLoss: 2.216745\n",
      "Train Epoch: 5 [17600/64000 (28%)]\tLoss: 1.967767\n",
      "Train Epoch: 5 [19200/64000 (30%)]\tLoss: 1.663119\n",
      "Train Epoch: 5 [20800/64000 (32%)]\tLoss: 1.631304\n",
      "Train Epoch: 5 [22400/64000 (35%)]\tLoss: 2.359916\n",
      "Train Epoch: 5 [24000/64000 (38%)]\tLoss: 1.695230\n",
      "Train Epoch: 5 [25600/64000 (40%)]\tLoss: 1.778173\n",
      "Train Epoch: 5 [27200/64000 (42%)]\tLoss: 1.964339\n",
      "Train Epoch: 5 [28800/64000 (45%)]\tLoss: 1.841913\n",
      "Train Epoch: 5 [30400/64000 (48%)]\tLoss: 1.780296\n",
      "Train Epoch: 5 [32000/64000 (50%)]\tLoss: 1.879434\n",
      "Train Epoch: 5 [33600/64000 (52%)]\tLoss: 2.046838\n",
      "Train Epoch: 5 [35200/64000 (55%)]\tLoss: 1.926848\n",
      "Train Epoch: 5 [36800/64000 (58%)]\tLoss: 1.637941\n",
      "Train Epoch: 5 [38400/64000 (60%)]\tLoss: 1.822126\n",
      "Train Epoch: 5 [40000/64000 (62%)]\tLoss: 1.758025\n",
      "Train Epoch: 5 [41600/64000 (65%)]\tLoss: 1.763098\n",
      "Train Epoch: 5 [43200/64000 (68%)]\tLoss: 1.774097\n",
      "Train Epoch: 5 [44800/64000 (70%)]\tLoss: 1.887885\n",
      "Train Epoch: 5 [46400/64000 (72%)]\tLoss: 1.609902\n",
      "Train Epoch: 5 [48000/64000 (75%)]\tLoss: 2.093073\n",
      "Train Epoch: 5 [49600/64000 (78%)]\tLoss: 1.852330\n",
      "Train Epoch: 5 [51200/64000 (80%)]\tLoss: 1.742288\n",
      "Train Epoch: 5 [52800/64000 (82%)]\tLoss: 1.683282\n",
      "Train Epoch: 5 [54400/64000 (85%)]\tLoss: 1.799696\n",
      "Train Epoch: 5 [56000/64000 (88%)]\tLoss: 1.633752\n",
      "Train Epoch: 5 [57600/64000 (90%)]\tLoss: 1.792285\n",
      "Train Epoch: 5 [59200/64000 (92%)]\tLoss: 1.709901\n",
      "Train Epoch: 5 [60800/64000 (95%)]\tLoss: 1.937741\n",
      "Train Epoch: 5 [62400/64000 (98%)]\tLoss: 1.827726\n",
      "\n",
      "Test set: Average loss: 1.9251, Accuracy: 8384/20000 (42%)\n",
      "\n",
      "Train Epoch: 6 [0/64000 (0%)]\tLoss: 1.778207\n",
      "Train Epoch: 6 [1600/64000 (2%)]\tLoss: 1.696441\n",
      "Train Epoch: 6 [3200/64000 (5%)]\tLoss: 1.688377\n",
      "Train Epoch: 6 [4800/64000 (8%)]\tLoss: 1.997585\n",
      "Train Epoch: 6 [6400/64000 (10%)]\tLoss: 1.663754\n",
      "Train Epoch: 6 [8000/64000 (12%)]\tLoss: 1.674636\n",
      "Train Epoch: 6 [9600/64000 (15%)]\tLoss: 1.653715\n",
      "Train Epoch: 6 [11200/64000 (18%)]\tLoss: 1.833477\n",
      "Train Epoch: 6 [12800/64000 (20%)]\tLoss: 1.664426\n",
      "Train Epoch: 6 [14400/64000 (22%)]\tLoss: 1.790915\n",
      "Train Epoch: 6 [16000/64000 (25%)]\tLoss: 1.824209\n",
      "Train Epoch: 6 [17600/64000 (28%)]\tLoss: 1.780135\n",
      "Train Epoch: 6 [19200/64000 (30%)]\tLoss: 1.798740\n",
      "Train Epoch: 6 [20800/64000 (32%)]\tLoss: 1.549387\n",
      "Train Epoch: 6 [22400/64000 (35%)]\tLoss: 1.528469\n",
      "Train Epoch: 6 [24000/64000 (38%)]\tLoss: 1.761129\n",
      "Train Epoch: 6 [25600/64000 (40%)]\tLoss: 1.838809\n",
      "Train Epoch: 6 [27200/64000 (42%)]\tLoss: 1.596070\n",
      "Train Epoch: 6 [28800/64000 (45%)]\tLoss: 1.735952\n",
      "Train Epoch: 6 [30400/64000 (48%)]\tLoss: 1.864086\n",
      "Train Epoch: 6 [32000/64000 (50%)]\tLoss: 1.722289\n",
      "Train Epoch: 6 [33600/64000 (52%)]\tLoss: 1.557018\n",
      "Train Epoch: 6 [35200/64000 (55%)]\tLoss: 1.721400\n",
      "Train Epoch: 6 [36800/64000 (58%)]\tLoss: 1.985797\n",
      "Train Epoch: 6 [38400/64000 (60%)]\tLoss: 2.045543\n",
      "Train Epoch: 6 [40000/64000 (62%)]\tLoss: 1.587988\n",
      "Train Epoch: 6 [41600/64000 (65%)]\tLoss: 1.803023\n",
      "Train Epoch: 6 [43200/64000 (68%)]\tLoss: 1.771062\n",
      "Train Epoch: 6 [44800/64000 (70%)]\tLoss: 1.693849\n",
      "Train Epoch: 6 [46400/64000 (72%)]\tLoss: 1.853425\n",
      "Train Epoch: 6 [48000/64000 (75%)]\tLoss: 1.651567\n",
      "Train Epoch: 6 [49600/64000 (78%)]\tLoss: 1.664948\n",
      "Train Epoch: 6 [51200/64000 (80%)]\tLoss: 1.645596\n",
      "Train Epoch: 6 [52800/64000 (82%)]\tLoss: 1.717854\n",
      "Train Epoch: 6 [54400/64000 (85%)]\tLoss: 2.004550\n",
      "Train Epoch: 6 [56000/64000 (88%)]\tLoss: 1.733252\n",
      "Train Epoch: 6 [57600/64000 (90%)]\tLoss: 1.511463\n",
      "Train Epoch: 6 [59200/64000 (92%)]\tLoss: 1.595925\n",
      "Train Epoch: 6 [60800/64000 (95%)]\tLoss: 1.594215\n",
      "Train Epoch: 6 [62400/64000 (98%)]\tLoss: 1.503540\n",
      "\n",
      "Test set: Average loss: 1.8687, Accuracy: 8883/20000 (44%)\n",
      "\n",
      "Train Epoch: 7 [0/64000 (0%)]\tLoss: 1.683387\n",
      "Train Epoch: 7 [1600/64000 (2%)]\tLoss: 1.644569\n",
      "Train Epoch: 7 [3200/64000 (5%)]\tLoss: 1.536846\n",
      "Train Epoch: 7 [4800/64000 (8%)]\tLoss: 1.572610\n",
      "Train Epoch: 7 [6400/64000 (10%)]\tLoss: 1.898212\n",
      "Train Epoch: 7 [8000/64000 (12%)]\tLoss: 1.708087\n",
      "Train Epoch: 7 [9600/64000 (15%)]\tLoss: 1.708809\n",
      "Train Epoch: 7 [11200/64000 (18%)]\tLoss: 1.637053\n",
      "Train Epoch: 7 [12800/64000 (20%)]\tLoss: 1.835857\n",
      "Train Epoch: 7 [14400/64000 (22%)]\tLoss: 1.639641\n",
      "Train Epoch: 7 [16000/64000 (25%)]\tLoss: 1.657973\n",
      "Train Epoch: 7 [17600/64000 (28%)]\tLoss: 1.764701\n",
      "Train Epoch: 7 [19200/64000 (30%)]\tLoss: 1.612785\n",
      "Train Epoch: 7 [20800/64000 (32%)]\tLoss: 1.667024\n",
      "Train Epoch: 7 [22400/64000 (35%)]\tLoss: 1.887799\n",
      "Train Epoch: 7 [24000/64000 (38%)]\tLoss: 1.565344\n",
      "Train Epoch: 7 [25600/64000 (40%)]\tLoss: 1.827605\n",
      "Train Epoch: 7 [27200/64000 (42%)]\tLoss: 1.914864\n",
      "Train Epoch: 7 [28800/64000 (45%)]\tLoss: 1.787821\n",
      "Train Epoch: 7 [30400/64000 (48%)]\tLoss: 1.645794\n",
      "Train Epoch: 7 [32000/64000 (50%)]\tLoss: 1.642459\n",
      "Train Epoch: 7 [33600/64000 (52%)]\tLoss: 1.779893\n",
      "Train Epoch: 7 [35200/64000 (55%)]\tLoss: 1.603699\n",
      "Train Epoch: 7 [36800/64000 (58%)]\tLoss: 1.631426\n",
      "Train Epoch: 7 [38400/64000 (60%)]\tLoss: 1.837146\n",
      "Train Epoch: 7 [40000/64000 (62%)]\tLoss: 1.719932\n",
      "Train Epoch: 7 [41600/64000 (65%)]\tLoss: 1.728668\n",
      "Train Epoch: 7 [43200/64000 (68%)]\tLoss: 1.625532\n",
      "Train Epoch: 7 [44800/64000 (70%)]\tLoss: 1.616005\n",
      "Train Epoch: 7 [46400/64000 (72%)]\tLoss: 1.808659\n",
      "Train Epoch: 7 [48000/64000 (75%)]\tLoss: 1.708821\n",
      "Train Epoch: 7 [49600/64000 (78%)]\tLoss: 1.662603\n",
      "Train Epoch: 7 [51200/64000 (80%)]\tLoss: 1.609120\n",
      "Train Epoch: 7 [52800/64000 (82%)]\tLoss: 1.640694\n",
      "Train Epoch: 7 [54400/64000 (85%)]\tLoss: 1.577674\n",
      "Train Epoch: 7 [56000/64000 (88%)]\tLoss: 1.657272\n",
      "Train Epoch: 7 [57600/64000 (90%)]\tLoss: 1.595448\n",
      "Train Epoch: 7 [59200/64000 (92%)]\tLoss: 1.618560\n",
      "Train Epoch: 7 [60800/64000 (95%)]\tLoss: 1.757487\n",
      "Train Epoch: 7 [62400/64000 (98%)]\tLoss: 1.706539\n",
      "\n",
      "Test set: Average loss: 1.8186, Accuracy: 9371/20000 (47%)\n",
      "\n",
      "Train Epoch: 8 [0/64000 (0%)]\tLoss: 1.605049\n",
      "Train Epoch: 8 [1600/64000 (2%)]\tLoss: 1.516961\n",
      "Train Epoch: 8 [3200/64000 (5%)]\tLoss: 1.632965\n",
      "Train Epoch: 8 [4800/64000 (8%)]\tLoss: 1.564304\n",
      "Train Epoch: 8 [6400/64000 (10%)]\tLoss: 1.877807\n",
      "Train Epoch: 8 [8000/64000 (12%)]\tLoss: 1.768719\n",
      "Train Epoch: 8 [9600/64000 (15%)]\tLoss: 1.871723\n",
      "Train Epoch: 8 [11200/64000 (18%)]\tLoss: 1.661756\n",
      "Train Epoch: 8 [12800/64000 (20%)]\tLoss: 1.548748\n",
      "Train Epoch: 8 [14400/64000 (22%)]\tLoss: 1.662951\n",
      "Train Epoch: 8 [16000/64000 (25%)]\tLoss: 1.584379\n",
      "Train Epoch: 8 [17600/64000 (28%)]\tLoss: 1.549705\n",
      "Train Epoch: 8 [19200/64000 (30%)]\tLoss: 1.605682\n",
      "Train Epoch: 8 [20800/64000 (32%)]\tLoss: 1.516632\n",
      "Train Epoch: 8 [22400/64000 (35%)]\tLoss: 1.628247\n",
      "Train Epoch: 8 [24000/64000 (38%)]\tLoss: 1.517902\n",
      "Train Epoch: 8 [25600/64000 (40%)]\tLoss: 1.517276\n",
      "Train Epoch: 8 [27200/64000 (42%)]\tLoss: 1.710466\n",
      "Train Epoch: 8 [28800/64000 (45%)]\tLoss: 1.644771\n",
      "Train Epoch: 8 [30400/64000 (48%)]\tLoss: 1.581493\n",
      "Train Epoch: 8 [32000/64000 (50%)]\tLoss: 1.618462\n",
      "Train Epoch: 8 [33600/64000 (52%)]\tLoss: 1.688424\n",
      "Train Epoch: 8 [35200/64000 (55%)]\tLoss: 1.783602\n",
      "Train Epoch: 8 [36800/64000 (58%)]\tLoss: 1.350804\n",
      "Train Epoch: 8 [38400/64000 (60%)]\tLoss: 1.562685\n",
      "Train Epoch: 8 [40000/64000 (62%)]\tLoss: 1.543343\n",
      "Train Epoch: 8 [41600/64000 (65%)]\tLoss: 1.541754\n",
      "Train Epoch: 8 [43200/64000 (68%)]\tLoss: 1.575547\n",
      "Train Epoch: 8 [44800/64000 (70%)]\tLoss: 1.652619\n",
      "Train Epoch: 8 [46400/64000 (72%)]\tLoss: 1.784509\n",
      "Train Epoch: 8 [48000/64000 (75%)]\tLoss: 1.587215\n",
      "Train Epoch: 8 [49600/64000 (78%)]\tLoss: 1.706971\n",
      "Train Epoch: 8 [51200/64000 (80%)]\tLoss: 1.608517\n",
      "Train Epoch: 8 [52800/64000 (82%)]\tLoss: 1.577970\n",
      "Train Epoch: 8 [54400/64000 (85%)]\tLoss: 1.543171\n",
      "Train Epoch: 8 [56000/64000 (88%)]\tLoss: 1.624746\n",
      "Train Epoch: 8 [57600/64000 (90%)]\tLoss: 1.566707\n",
      "Train Epoch: 8 [59200/64000 (92%)]\tLoss: 1.783583\n",
      "Train Epoch: 8 [60800/64000 (95%)]\tLoss: 1.531180\n",
      "Train Epoch: 8 [62400/64000 (98%)]\tLoss: 1.659445\n",
      "\n",
      "Test set: Average loss: 1.7771, Accuracy: 9814/20000 (49%)\n",
      "\n",
      "Train Epoch: 9 [0/64000 (0%)]\tLoss: 1.522489\n",
      "Train Epoch: 9 [1600/64000 (2%)]\tLoss: 1.521436\n",
      "Train Epoch: 9 [3200/64000 (5%)]\tLoss: 1.493838\n",
      "Train Epoch: 9 [4800/64000 (8%)]\tLoss: 1.641893\n",
      "Train Epoch: 9 [6400/64000 (10%)]\tLoss: 1.800448\n",
      "Train Epoch: 9 [8000/64000 (12%)]\tLoss: 1.656247\n",
      "Train Epoch: 9 [9600/64000 (15%)]\tLoss: 1.933354\n",
      "Train Epoch: 9 [11200/64000 (18%)]\tLoss: 1.658729\n",
      "Train Epoch: 9 [12800/64000 (20%)]\tLoss: 1.608378\n",
      "Train Epoch: 9 [14400/64000 (22%)]\tLoss: 1.443573\n",
      "Train Epoch: 9 [16000/64000 (25%)]\tLoss: 1.575457\n",
      "Train Epoch: 9 [17600/64000 (28%)]\tLoss: 1.496500\n",
      "Train Epoch: 9 [19200/64000 (30%)]\tLoss: 1.442376\n",
      "Train Epoch: 9 [20800/64000 (32%)]\tLoss: 1.519348\n",
      "Train Epoch: 9 [22400/64000 (35%)]\tLoss: 1.607955\n",
      "Train Epoch: 9 [24000/64000 (38%)]\tLoss: 1.470102\n",
      "Train Epoch: 9 [25600/64000 (40%)]\tLoss: 1.594042\n",
      "Train Epoch: 9 [27200/64000 (42%)]\tLoss: 1.415992\n",
      "Train Epoch: 9 [28800/64000 (45%)]\tLoss: 1.526514\n",
      "Train Epoch: 9 [30400/64000 (48%)]\tLoss: 1.422985\n",
      "Train Epoch: 9 [32000/64000 (50%)]\tLoss: 1.494324\n",
      "Train Epoch: 9 [33600/64000 (52%)]\tLoss: 1.609173\n",
      "Train Epoch: 9 [35200/64000 (55%)]\tLoss: 1.390905\n",
      "Train Epoch: 9 [36800/64000 (58%)]\tLoss: 1.565705\n",
      "Train Epoch: 9 [38400/64000 (60%)]\tLoss: 1.667953\n",
      "Train Epoch: 9 [40000/64000 (62%)]\tLoss: 1.487809\n",
      "Train Epoch: 9 [41600/64000 (65%)]\tLoss: 1.567867\n",
      "Train Epoch: 9 [43200/64000 (68%)]\tLoss: 1.489440\n",
      "Train Epoch: 9 [44800/64000 (70%)]\tLoss: 1.630317\n",
      "Train Epoch: 9 [46400/64000 (72%)]\tLoss: 1.878392\n",
      "Train Epoch: 9 [48000/64000 (75%)]\tLoss: 1.615291\n",
      "Train Epoch: 9 [49600/64000 (78%)]\tLoss: 1.613927\n",
      "Train Epoch: 9 [51200/64000 (80%)]\tLoss: 1.556345\n",
      "Train Epoch: 9 [52800/64000 (82%)]\tLoss: 1.541671\n",
      "Train Epoch: 9 [54400/64000 (85%)]\tLoss: 1.544334\n",
      "Train Epoch: 9 [56000/64000 (88%)]\tLoss: 1.927755\n",
      "Train Epoch: 9 [57600/64000 (90%)]\tLoss: 1.650939\n",
      "Train Epoch: 9 [59200/64000 (92%)]\tLoss: 1.627932\n",
      "Train Epoch: 9 [60800/64000 (95%)]\tLoss: 1.497400\n",
      "Train Epoch: 9 [62400/64000 (98%)]\tLoss: 1.558508\n",
      "\n",
      "Test set: Average loss: 1.7426, Accuracy: 10438/20000 (52%)\n",
      "\n",
      "Train Epoch: 10 [0/64000 (0%)]\tLoss: 1.447530\n",
      "Train Epoch: 10 [1600/64000 (2%)]\tLoss: 1.654451\n",
      "Train Epoch: 10 [3200/64000 (5%)]\tLoss: 1.727466\n",
      "Train Epoch: 10 [4800/64000 (8%)]\tLoss: 1.671377\n",
      "Train Epoch: 10 [6400/64000 (10%)]\tLoss: 1.630296\n",
      "Train Epoch: 10 [8000/64000 (12%)]\tLoss: 1.763509\n",
      "Train Epoch: 10 [9600/64000 (15%)]\tLoss: 1.416630\n",
      "Train Epoch: 10 [11200/64000 (18%)]\tLoss: 1.605531\n",
      "Train Epoch: 10 [12800/64000 (20%)]\tLoss: 1.545725\n",
      "Train Epoch: 10 [14400/64000 (22%)]\tLoss: 1.653124\n",
      "Train Epoch: 10 [16000/64000 (25%)]\tLoss: 1.794680\n",
      "Train Epoch: 10 [17600/64000 (28%)]\tLoss: 1.498658\n",
      "Train Epoch: 10 [19200/64000 (30%)]\tLoss: 1.613619\n",
      "Train Epoch: 10 [20800/64000 (32%)]\tLoss: 1.597554\n",
      "Train Epoch: 10 [22400/64000 (35%)]\tLoss: 1.620283\n",
      "Train Epoch: 10 [24000/64000 (38%)]\tLoss: 1.693998\n",
      "Train Epoch: 10 [25600/64000 (40%)]\tLoss: 1.579162\n",
      "Train Epoch: 10 [27200/64000 (42%)]\tLoss: 1.649280\n",
      "Train Epoch: 10 [28800/64000 (45%)]\tLoss: 1.504357\n",
      "Train Epoch: 10 [30400/64000 (48%)]\tLoss: 1.549208\n",
      "Train Epoch: 10 [32000/64000 (50%)]\tLoss: 1.546374\n",
      "Train Epoch: 10 [33600/64000 (52%)]\tLoss: 1.803815\n",
      "Train Epoch: 10 [35200/64000 (55%)]\tLoss: 1.596850\n",
      "Train Epoch: 10 [36800/64000 (58%)]\tLoss: 1.478336\n",
      "Train Epoch: 10 [38400/64000 (60%)]\tLoss: 1.558517\n",
      "Train Epoch: 10 [40000/64000 (62%)]\tLoss: 1.382525\n",
      "Train Epoch: 10 [41600/64000 (65%)]\tLoss: 1.442762\n",
      "Train Epoch: 10 [43200/64000 (68%)]\tLoss: 1.615811\n",
      "Train Epoch: 10 [44800/64000 (70%)]\tLoss: 1.421910\n",
      "Train Epoch: 10 [46400/64000 (72%)]\tLoss: 1.662608\n",
      "Train Epoch: 10 [48000/64000 (75%)]\tLoss: 1.487841\n",
      "Train Epoch: 10 [49600/64000 (78%)]\tLoss: 1.729767\n",
      "Train Epoch: 10 [51200/64000 (80%)]\tLoss: 1.484459\n",
      "Train Epoch: 10 [52800/64000 (82%)]\tLoss: 1.448307\n",
      "Train Epoch: 10 [54400/64000 (85%)]\tLoss: 1.501682\n",
      "Train Epoch: 10 [56000/64000 (88%)]\tLoss: 1.689690\n",
      "Train Epoch: 10 [57600/64000 (90%)]\tLoss: 1.474048\n",
      "Train Epoch: 10 [59200/64000 (92%)]\tLoss: 1.568811\n",
      "Train Epoch: 10 [60800/64000 (95%)]\tLoss: 1.527135\n",
      "Train Epoch: 10 [62400/64000 (98%)]\tLoss: 1.602313\n",
      "\n",
      "Test set: Average loss: 1.7188, Accuracy: 10664/20000 (53%)\n",
      "\n",
      "Train Epoch: 11 [0/64000 (0%)]\tLoss: 1.576627\n",
      "Train Epoch: 11 [1600/64000 (2%)]\tLoss: 1.414586\n",
      "Train Epoch: 11 [3200/64000 (5%)]\tLoss: 1.492487\n",
      "Train Epoch: 11 [4800/64000 (8%)]\tLoss: 1.417511\n",
      "Train Epoch: 11 [6400/64000 (10%)]\tLoss: 1.525168\n",
      "Train Epoch: 11 [8000/64000 (12%)]\tLoss: 1.443813\n",
      "Train Epoch: 11 [9600/64000 (15%)]\tLoss: 1.543471\n",
      "Train Epoch: 11 [11200/64000 (18%)]\tLoss: 1.494020\n",
      "Train Epoch: 11 [12800/64000 (20%)]\tLoss: 1.594143\n",
      "Train Epoch: 11 [14400/64000 (22%)]\tLoss: 1.558239\n",
      "Train Epoch: 11 [16000/64000 (25%)]\tLoss: 1.628754\n",
      "Train Epoch: 11 [17600/64000 (28%)]\tLoss: 1.550555\n",
      "Train Epoch: 11 [19200/64000 (30%)]\tLoss: 1.572521\n",
      "Train Epoch: 11 [20800/64000 (32%)]\tLoss: 1.493727\n",
      "Train Epoch: 11 [22400/64000 (35%)]\tLoss: 1.518371\n",
      "Train Epoch: 11 [24000/64000 (38%)]\tLoss: 1.509862\n",
      "Train Epoch: 11 [25600/64000 (40%)]\tLoss: 1.708862\n",
      "Train Epoch: 11 [27200/64000 (42%)]\tLoss: 1.581542\n",
      "Train Epoch: 11 [28800/64000 (45%)]\tLoss: 1.667319\n",
      "Train Epoch: 11 [30400/64000 (48%)]\tLoss: 1.604033\n",
      "Train Epoch: 11 [32000/64000 (50%)]\tLoss: 1.398706\n",
      "Train Epoch: 11 [33600/64000 (52%)]\tLoss: 1.560713\n",
      "Train Epoch: 11 [35200/64000 (55%)]\tLoss: 1.545869\n",
      "Train Epoch: 11 [36800/64000 (58%)]\tLoss: 1.363904\n",
      "Train Epoch: 11 [38400/64000 (60%)]\tLoss: 1.617620\n",
      "Train Epoch: 11 [40000/64000 (62%)]\tLoss: 1.675386\n",
      "Train Epoch: 11 [41600/64000 (65%)]\tLoss: 1.765417\n",
      "Train Epoch: 11 [43200/64000 (68%)]\tLoss: 1.351063\n",
      "Train Epoch: 11 [44800/64000 (70%)]\tLoss: 1.552664\n",
      "Train Epoch: 11 [46400/64000 (72%)]\tLoss: 1.421129\n",
      "Train Epoch: 11 [48000/64000 (75%)]\tLoss: 1.596774\n",
      "Train Epoch: 11 [49600/64000 (78%)]\tLoss: 1.592333\n",
      "Train Epoch: 11 [51200/64000 (80%)]\tLoss: 1.668770\n",
      "Train Epoch: 11 [52800/64000 (82%)]\tLoss: 1.576812\n",
      "Train Epoch: 11 [54400/64000 (85%)]\tLoss: 1.565631\n",
      "Train Epoch: 11 [56000/64000 (88%)]\tLoss: 1.578882\n",
      "Train Epoch: 11 [57600/64000 (90%)]\tLoss: 1.376338\n",
      "Train Epoch: 11 [59200/64000 (92%)]\tLoss: 1.410186\n",
      "Train Epoch: 11 [60800/64000 (95%)]\tLoss: 1.386009\n",
      "Train Epoch: 11 [62400/64000 (98%)]\tLoss: 1.432295\n",
      "\n",
      "Test set: Average loss: 1.6927, Accuracy: 11025/20000 (55%)\n",
      "\n",
      "Train Epoch: 12 [0/64000 (0%)]\tLoss: 1.592504\n",
      "Train Epoch: 12 [1600/64000 (2%)]\tLoss: 1.324428\n",
      "Train Epoch: 12 [3200/64000 (5%)]\tLoss: 1.473703\n",
      "Train Epoch: 12 [4800/64000 (8%)]\tLoss: 1.552639\n",
      "Train Epoch: 12 [6400/64000 (10%)]\tLoss: 1.298212\n",
      "Train Epoch: 12 [8000/64000 (12%)]\tLoss: 1.487008\n",
      "Train Epoch: 12 [9600/64000 (15%)]\tLoss: 1.620726\n",
      "Train Epoch: 12 [11200/64000 (18%)]\tLoss: 1.567978\n",
      "Train Epoch: 12 [12800/64000 (20%)]\tLoss: 1.518864\n",
      "Train Epoch: 12 [14400/64000 (22%)]\tLoss: 1.495544\n",
      "Train Epoch: 12 [16000/64000 (25%)]\tLoss: 1.573501\n",
      "Train Epoch: 12 [17600/64000 (28%)]\tLoss: 1.609674\n",
      "Train Epoch: 12 [19200/64000 (30%)]\tLoss: 1.407370\n",
      "Train Epoch: 12 [20800/64000 (32%)]\tLoss: 1.444301\n",
      "Train Epoch: 12 [22400/64000 (35%)]\tLoss: 1.510940\n",
      "Train Epoch: 12 [24000/64000 (38%)]\tLoss: 1.397099\n",
      "Train Epoch: 12 [25600/64000 (40%)]\tLoss: 1.384506\n",
      "Train Epoch: 12 [27200/64000 (42%)]\tLoss: 1.549403\n",
      "Train Epoch: 12 [28800/64000 (45%)]\tLoss: 1.382877\n",
      "Train Epoch: 12 [30400/64000 (48%)]\tLoss: 1.468680\n",
      "Train Epoch: 12 [32000/64000 (50%)]\tLoss: 1.547841\n",
      "Train Epoch: 12 [33600/64000 (52%)]\tLoss: 1.397949\n",
      "Train Epoch: 12 [35200/64000 (55%)]\tLoss: 1.445671\n",
      "Train Epoch: 12 [36800/64000 (58%)]\tLoss: 1.445158\n",
      "Train Epoch: 12 [38400/64000 (60%)]\tLoss: 1.702401\n",
      "Train Epoch: 12 [40000/64000 (62%)]\tLoss: 1.678937\n",
      "Train Epoch: 12 [41600/64000 (65%)]\tLoss: 1.392330\n",
      "Train Epoch: 12 [43200/64000 (68%)]\tLoss: 1.482323\n",
      "Train Epoch: 12 [44800/64000 (70%)]\tLoss: 1.419045\n",
      "Train Epoch: 12 [46400/64000 (72%)]\tLoss: 1.384631\n",
      "Train Epoch: 12 [48000/64000 (75%)]\tLoss: 1.593498\n",
      "Train Epoch: 12 [49600/64000 (78%)]\tLoss: 1.709560\n",
      "Train Epoch: 12 [51200/64000 (80%)]\tLoss: 1.366845\n",
      "Train Epoch: 12 [52800/64000 (82%)]\tLoss: 1.384596\n",
      "Train Epoch: 12 [54400/64000 (85%)]\tLoss: 1.476117\n",
      "Train Epoch: 12 [56000/64000 (88%)]\tLoss: 1.563153\n",
      "Train Epoch: 12 [57600/64000 (90%)]\tLoss: 1.496029\n",
      "Train Epoch: 12 [59200/64000 (92%)]\tLoss: 1.500612\n",
      "Train Epoch: 12 [60800/64000 (95%)]\tLoss: 1.465560\n",
      "Train Epoch: 12 [62400/64000 (98%)]\tLoss: 1.412097\n",
      "\n",
      "Test set: Average loss: 1.6745, Accuracy: 11255/20000 (56%)\n",
      "\n",
      "Train Epoch: 13 [0/64000 (0%)]\tLoss: 1.345381\n",
      "Train Epoch: 13 [1600/64000 (2%)]\tLoss: 1.612820\n",
      "Train Epoch: 13 [3200/64000 (5%)]\tLoss: 1.304162\n",
      "Train Epoch: 13 [4800/64000 (8%)]\tLoss: 1.442715\n",
      "Train Epoch: 13 [6400/64000 (10%)]\tLoss: 1.406430\n",
      "Train Epoch: 13 [8000/64000 (12%)]\tLoss: 1.647970\n",
      "Train Epoch: 13 [9600/64000 (15%)]\tLoss: 1.722608\n",
      "Train Epoch: 13 [11200/64000 (18%)]\tLoss: 1.481687\n",
      "Train Epoch: 13 [12800/64000 (20%)]\tLoss: 1.367686\n",
      "Train Epoch: 13 [14400/64000 (22%)]\tLoss: 1.707056\n",
      "Train Epoch: 13 [16000/64000 (25%)]\tLoss: 1.411476\n",
      "Train Epoch: 13 [17600/64000 (28%)]\tLoss: 1.303775\n",
      "Train Epoch: 13 [19200/64000 (30%)]\tLoss: 1.435810\n",
      "Train Epoch: 13 [20800/64000 (32%)]\tLoss: 1.476919\n",
      "Train Epoch: 13 [22400/64000 (35%)]\tLoss: 1.530724\n",
      "Train Epoch: 13 [24000/64000 (38%)]\tLoss: 1.491682\n",
      "Train Epoch: 13 [25600/64000 (40%)]\tLoss: 1.527238\n",
      "Train Epoch: 13 [27200/64000 (42%)]\tLoss: 1.633340\n",
      "Train Epoch: 13 [28800/64000 (45%)]\tLoss: 1.387317\n",
      "Train Epoch: 13 [30400/64000 (48%)]\tLoss: 1.872457\n",
      "Train Epoch: 13 [32000/64000 (50%)]\tLoss: 1.517897\n",
      "Train Epoch: 13 [33600/64000 (52%)]\tLoss: 1.494623\n",
      "Train Epoch: 13 [35200/64000 (55%)]\tLoss: 1.507551\n",
      "Train Epoch: 13 [36800/64000 (58%)]\tLoss: 1.614879\n",
      "Train Epoch: 13 [38400/64000 (60%)]\tLoss: 1.475689\n",
      "Train Epoch: 13 [40000/64000 (62%)]\tLoss: 1.418348\n",
      "Train Epoch: 13 [41600/64000 (65%)]\tLoss: 1.703590\n",
      "Train Epoch: 13 [43200/64000 (68%)]\tLoss: 1.509568\n",
      "Train Epoch: 13 [44800/64000 (70%)]\tLoss: 1.775834\n",
      "Train Epoch: 13 [46400/64000 (72%)]\tLoss: 1.494061\n",
      "Train Epoch: 13 [48000/64000 (75%)]\tLoss: 1.556026\n",
      "Train Epoch: 13 [49600/64000 (78%)]\tLoss: 1.365381\n",
      "Train Epoch: 13 [51200/64000 (80%)]\tLoss: 1.706942\n",
      "Train Epoch: 13 [52800/64000 (82%)]\tLoss: 1.553457\n",
      "Train Epoch: 13 [54400/64000 (85%)]\tLoss: 1.407766\n",
      "Train Epoch: 13 [56000/64000 (88%)]\tLoss: 1.624109\n",
      "Train Epoch: 13 [57600/64000 (90%)]\tLoss: 1.564523\n",
      "Train Epoch: 13 [59200/64000 (92%)]\tLoss: 1.431856\n",
      "Train Epoch: 13 [60800/64000 (95%)]\tLoss: 1.362282\n",
      "Train Epoch: 13 [62400/64000 (98%)]\tLoss: 1.400837\n",
      "\n",
      "Test set: Average loss: 1.6491, Accuracy: 11677/20000 (58%)\n",
      "\n",
      "Train Epoch: 14 [0/64000 (0%)]\tLoss: 1.580018\n",
      "Train Epoch: 14 [1600/64000 (2%)]\tLoss: 1.423729\n",
      "Train Epoch: 14 [3200/64000 (5%)]\tLoss: 1.375587\n",
      "Train Epoch: 14 [4800/64000 (8%)]\tLoss: 1.360301\n",
      "Train Epoch: 14 [6400/64000 (10%)]\tLoss: 1.406445\n",
      "Train Epoch: 14 [8000/64000 (12%)]\tLoss: 1.508392\n",
      "Train Epoch: 14 [9600/64000 (15%)]\tLoss: 1.719620\n",
      "Train Epoch: 14 [11200/64000 (18%)]\tLoss: 1.684280\n",
      "Train Epoch: 14 [12800/64000 (20%)]\tLoss: 1.591999\n",
      "Train Epoch: 14 [14400/64000 (22%)]\tLoss: 1.440948\n",
      "Train Epoch: 14 [16000/64000 (25%)]\tLoss: 1.476281\n",
      "Train Epoch: 14 [17600/64000 (28%)]\tLoss: 1.318898\n",
      "Train Epoch: 14 [19200/64000 (30%)]\tLoss: 1.534505\n",
      "Train Epoch: 14 [20800/64000 (32%)]\tLoss: 1.395782\n",
      "Train Epoch: 14 [22400/64000 (35%)]\tLoss: 1.462282\n",
      "Train Epoch: 14 [24000/64000 (38%)]\tLoss: 1.637731\n",
      "Train Epoch: 14 [25600/64000 (40%)]\tLoss: 1.446532\n",
      "Train Epoch: 14 [27200/64000 (42%)]\tLoss: 1.562268\n",
      "Train Epoch: 14 [28800/64000 (45%)]\tLoss: 1.362675\n",
      "Train Epoch: 14 [30400/64000 (48%)]\tLoss: 1.365788\n",
      "Train Epoch: 14 [32000/64000 (50%)]\tLoss: 1.429573\n",
      "Train Epoch: 14 [33600/64000 (52%)]\tLoss: 1.478861\n",
      "Train Epoch: 14 [35200/64000 (55%)]\tLoss: 1.371894\n",
      "Train Epoch: 14 [36800/64000 (58%)]\tLoss: 1.458716\n",
      "Train Epoch: 14 [38400/64000 (60%)]\tLoss: 1.522862\n",
      "Train Epoch: 14 [40000/64000 (62%)]\tLoss: 1.728102\n",
      "Train Epoch: 14 [41600/64000 (65%)]\tLoss: 1.473808\n",
      "Train Epoch: 14 [43200/64000 (68%)]\tLoss: 1.401654\n",
      "Train Epoch: 14 [44800/64000 (70%)]\tLoss: 1.480360\n",
      "Train Epoch: 14 [46400/64000 (72%)]\tLoss: 1.551413\n",
      "Train Epoch: 14 [48000/64000 (75%)]\tLoss: 1.730662\n",
      "Train Epoch: 14 [49600/64000 (78%)]\tLoss: 1.436827\n",
      "Train Epoch: 14 [51200/64000 (80%)]\tLoss: 1.585090\n",
      "Train Epoch: 14 [52800/64000 (82%)]\tLoss: 1.461260\n",
      "Train Epoch: 14 [54400/64000 (85%)]\tLoss: 1.487238\n",
      "Train Epoch: 14 [56000/64000 (88%)]\tLoss: 1.472441\n",
      "Train Epoch: 14 [57600/64000 (90%)]\tLoss: 1.516387\n",
      "Train Epoch: 14 [59200/64000 (92%)]\tLoss: 1.911821\n",
      "Train Epoch: 14 [60800/64000 (95%)]\tLoss: 1.626953\n",
      "Train Epoch: 14 [62400/64000 (98%)]\tLoss: 1.566765\n",
      "\n",
      "Test set: Average loss: 1.6484, Accuracy: 11686/20000 (58%)\n",
      "\n",
      "Train Epoch: 15 [0/64000 (0%)]\tLoss: 1.532120\n",
      "Train Epoch: 15 [1600/64000 (2%)]\tLoss: 1.447009\n",
      "Train Epoch: 15 [3200/64000 (5%)]\tLoss: 1.487946\n",
      "Train Epoch: 15 [4800/64000 (8%)]\tLoss: 1.504691\n",
      "Train Epoch: 15 [6400/64000 (10%)]\tLoss: 1.452046\n",
      "Train Epoch: 15 [8000/64000 (12%)]\tLoss: 1.411592\n",
      "Train Epoch: 15 [9600/64000 (15%)]\tLoss: 1.434740\n",
      "Train Epoch: 15 [11200/64000 (18%)]\tLoss: 1.401196\n",
      "Train Epoch: 15 [12800/64000 (20%)]\tLoss: 1.399595\n",
      "Train Epoch: 15 [14400/64000 (22%)]\tLoss: 1.444394\n",
      "Train Epoch: 15 [16000/64000 (25%)]\tLoss: 1.450674\n",
      "Train Epoch: 15 [17600/64000 (28%)]\tLoss: 1.516361\n",
      "Train Epoch: 15 [19200/64000 (30%)]\tLoss: 1.400371\n",
      "Train Epoch: 15 [20800/64000 (32%)]\tLoss: 1.408296\n",
      "Train Epoch: 15 [22400/64000 (35%)]\tLoss: 1.289974\n",
      "Train Epoch: 15 [24000/64000 (38%)]\tLoss: 1.549892\n",
      "Train Epoch: 15 [25600/64000 (40%)]\tLoss: 1.491233\n",
      "Train Epoch: 15 [27200/64000 (42%)]\tLoss: 1.386541\n",
      "Train Epoch: 15 [28800/64000 (45%)]\tLoss: 1.344047\n",
      "Train Epoch: 15 [30400/64000 (48%)]\tLoss: 1.453086\n",
      "Train Epoch: 15 [32000/64000 (50%)]\tLoss: 1.394833\n",
      "Train Epoch: 15 [33600/64000 (52%)]\tLoss: 1.767804\n",
      "Train Epoch: 15 [35200/64000 (55%)]\tLoss: 1.314425\n",
      "Train Epoch: 15 [36800/64000 (58%)]\tLoss: 1.650365\n",
      "Train Epoch: 15 [38400/64000 (60%)]\tLoss: 1.440782\n",
      "Train Epoch: 15 [40000/64000 (62%)]\tLoss: 1.600614\n",
      "Train Epoch: 15 [41600/64000 (65%)]\tLoss: 1.496262\n",
      "Train Epoch: 15 [43200/64000 (68%)]\tLoss: 1.426391\n",
      "Train Epoch: 15 [44800/64000 (70%)]\tLoss: 1.547479\n",
      "Train Epoch: 15 [46400/64000 (72%)]\tLoss: 1.575080\n",
      "Train Epoch: 15 [48000/64000 (75%)]\tLoss: 1.357819\n",
      "Train Epoch: 15 [49600/64000 (78%)]\tLoss: 1.481499\n",
      "Train Epoch: 15 [51200/64000 (80%)]\tLoss: 1.396126\n",
      "Train Epoch: 15 [52800/64000 (82%)]\tLoss: 1.504802\n",
      "Train Epoch: 15 [54400/64000 (85%)]\tLoss: 1.429062\n",
      "Train Epoch: 15 [56000/64000 (88%)]\tLoss: 1.502235\n",
      "Train Epoch: 15 [57600/64000 (90%)]\tLoss: 1.347815\n",
      "Train Epoch: 15 [59200/64000 (92%)]\tLoss: 1.575949\n",
      "Train Epoch: 15 [60800/64000 (95%)]\tLoss: 1.442227\n",
      "Train Epoch: 15 [62400/64000 (98%)]\tLoss: 1.375559\n",
      "\n",
      "Test set: Average loss: 1.6379, Accuracy: 11727/20000 (59%)\n",
      "\n"
     ]
    }
   ],
   "source": [
    "# training and testing the model\n",
    "device = torch.device(\"cuda\" if torch.cuda.is_available() else \"cpu\")\n",
    "if not pretrained:\n",
    "    for epoch in range(1, epochs + 1):\n",
    "        train_ANN(triple_mnist_ann, device, train_loader, optimizer, epoch, criterion)\n",
    "        test_ANN(triple_mnist_ann, device, test_loader)"
   ],
   "metadata": {
    "collapsed": false,
    "pycharm": {
     "name": "#%%\n"
    }
   }
  },
  {
   "cell_type": "code",
   "execution_count": 27,
   "outputs": [
    {
     "data": {
      "text/plain": "<Figure size 640x480 with 1 Axes>",
      "image/png": "[encoded data removed]"
     },
     "metadata": {},
     "output_type": "display_data"
    }
   ],
   "source": [
    "# plot graph of the loss function for the train and test datasets for each epoch.\n",
    "if not pretrained:\n",
    "    plt.plot(train_losses, label='train')\n",
    "    plt.plot(test_losses, label='test')\n",
    "    plt.xlabel('Epochs')\n",
    "    plt.ylabel('Loss')\n",
    "    plt.legend()\n",
    "    plt.show()"
   ],
   "metadata": {
    "collapsed": false,
    "pycharm": {
     "name": "#%%\n"
    }
   }
  },
  {
   "cell_type": "code",
   "execution_count": 28,
   "outputs": [
    {
     "name": "stdout",
     "output_type": "stream",
     "text": [
      "\n",
      "Test set: Average loss: 1.6388, Accuracy: 11777/20000 (59%)\n",
      "\n"
     ]
    }
   ],
   "source": [
    "# get final accuracy of the model in the test dataset\n",
    "final_accuracy_ann =  test_ANN(triple_mnist_ann, device, test_loader)"
   ],
   "metadata": {
    "collapsed": false,
    "pycharm": {
     "name": "#%%\n"
    }
   }
  },
  {
   "cell_type": "code",
   "execution_count": 29,
   "outputs": [],
   "source": [
    "# save the model state dict\n",
    "torch.save(triple_mnist_ann.state_dict(), 'triple_mnist_model.pt')"
   ],
   "metadata": {
    "collapsed": false,
    "pycharm": {
     "name": "#%%\n"
    }
   }
  },
  {
   "cell_type": "code",
   "execution_count": 30,
   "outputs": [
    {
     "name": "stderr",
     "output_type": "stream",
     "text": [
      "Clipping input data to the valid range for imshow with RGB data ([0..1] for floats or [0..255] for integers).\n"
     ]
    },
    {
     "data": {
      "text/plain": "<Figure size 640x480 with 1 Axes>",
      "image/png": "[encoded data removed]"
     },
     "metadata": {},
     "output_type": "display_data"
    },
    {
     "name": "stdout",
     "output_type": "stream",
     "text": [
      "tensor(544, device='cuda:0')\n",
      "tensor([[[5, 9, 4]]], device='cuda:0')\n"
     ]
    }
   ],
   "source": [
    "# check the model on some images from the test dataset\n",
    "def test_sample(model, device, test_loader):\n",
    "    model.eval()\n",
    "    with torch.no_grad():\n",
    "        for data, target in test_loader:\n",
    "            data, target = data.to(device), target.to(device)\n",
    "            i = 0\n",
    "            sample = data[i]\n",
    "            sample = sample.view(-1, 3*84*84)\n",
    "            imshow(sample.view(3, 84, 84).to('cpu'))\n",
    "            print(target[i])\n",
    "            output = model(sample)\n",
    "            output = output.view(sample.shape[0], 10, -1)\n",
    "            print(output.argmax(dim=1, keepdim=True))\n",
    "            break\n",
    "test_sample(triple_mnist_ann, device, test_loader)"
   ],
   "metadata": {
    "collapsed": false,
    "pycharm": {
     "name": "#%%\n"
    }
   }
  },
  {
   "cell_type": "code",
   "execution_count": 31,
   "outputs": [],
   "source": [
    "# class for the CNN model\n",
    "class CNN(nn.Module):\n",
    "    def __init__(self, input_size, output_size):\n",
    "        super(CNN, self).__init__()\n",
    "        self.input_size = input_size\n",
    "        self.output_size = output_size\n",
    "\n",
    "        # convolutional layers\n",
    "        self.conv1 = nn.Conv2d(3, 6, 5)\n",
    "        self.pool = nn.MaxPool2d(2, 2)\n",
    "        self.conv2 = nn.Conv2d(6, 16, 5)\n",
    "        self.conv3 = nn.Conv2d(in_channels=16, out_channels=64, kernel_size=3)\n",
    "        self.conv4 = nn.Conv2d(in_channels=64, out_channels=64, kernel_size=3, padding=1)\n",
    "\n",
    "        # linear layers\n",
    "        self.fc1 = nn.Linear(64*8*8, 1024)\n",
    "        self.fc2 = nn.Linear(1024, 128)\n",
    "        self.fc3 = nn.Linear(128, 84)\n",
    "        self.fc4 = nn.Linear(84, output_size)\n",
    "\n",
    "    def forward(self, x):\n",
    "        # x.shape = (batch_size, 3, 84, 84)\n",
    "        x = self.pool(F.relu(self.conv1(x))) # (batch_size, 6, 40, 40)\n",
    "        x = self.pool(F.relu(self.conv2(x))) # (batch_size, 16, 18, 18)\n",
    "        x = self.pool(F.relu(self.conv3(x))) # (batch_size, 32, 8, 8)\n",
    "        # print(x.shape)\n",
    "        x = F.relu(self.conv4(x)) # (batch_size, 64, 8, 8)\n",
    "\n",
    "        x = x.view(-1, 64 * 8 * 8)\n",
    "        x = F.relu(self.fc1(x))\n",
    "        x = F.relu(self.fc2(x))\n",
    "        x = F.relu(self.fc3(x))\n",
    "        x = self.fc4(x)\n",
    "        x = F.log_softmax(x, dim=1)\n",
    "\n",
    "        return x"
   ],
   "metadata": {
    "collapsed": false,
    "pycharm": {
     "name": "#%%\n"
    }
   }
  },
  {
   "cell_type": "code",
   "execution_count": 32,
   "outputs": [],
   "source": [
    "# f = lambda x: torch.Tensor([torch.div(x,100, rounding_mode='floor'),\n",
    "#                             torch.div((x % 100), 10, rounding_mode='floor'),\n",
    "#                             x % 10]).long()\n",
    "#\n",
    "# f_inverse = lambda x: x[0]*100 + x[1]*10 + x[2]\n",
    "#\n",
    "#\n",
    "# test_t = torch.Tensor([1, 2, 3, 4, 5, 6, 7, 8, 9, 10])\n",
    "#\n",
    "# test_t = list(map(f, test_t))\n",
    "# test_t = torch.stack(test_t)\n",
    "#\n",
    "# test_t = list(map(f_inverse, test_t))\n",
    "# test_t = torch.stack(test_t)\n",
    "# test_t"
   ],
   "metadata": {
    "collapsed": false,
    "pycharm": {
     "name": "#%%\n"
    }
   }
  },
  {
   "cell_type": "code",
   "execution_count": 33,
   "outputs": [],
   "source": [
    "# train and test functions for the CNN model (almost the same as in the ANN, but without flattening the input)\n",
    "train_losses = []\n",
    "test_losses = []\n",
    "\n",
    "def train_cnn(model, device, train_loader, optimizer, epoch, criterion):\n",
    "    model.train()\n",
    "    for batch_idx, (data, target) in enumerate(train_loader):\n",
    "        data, target = data.to(device), target.to(device)\n",
    "\n",
    "        optimizer.zero_grad()\n",
    "        output = model(data)\n",
    "        output = output.view(data.shape[0], 10, -1)\n",
    "        target = list(map(f, target))\n",
    "        target = torch.stack(target).to(device)\n",
    "\n",
    "        loss = criterion(output, target)\n",
    "        loss.backward()\n",
    "        optimizer.step()\n",
    "\n",
    "        if batch_idx % log_interval == 0:\n",
    "            print('Train Epoch: {} [{}/{} ({:.0f}%)]\\tLoss: {:.6f}'.format(\n",
    "                epoch, batch_idx * len(data), len(train_loader.dataset),\n",
    "                100. * batch_idx / len(train_loader), loss.item()))\n",
    "\n",
    "    train_losses.append(loss.item())\n",
    "\n",
    "def test_cnn(model, device, test_loader):\n",
    "    model.eval()\n",
    "    test_loss = 0\n",
    "    correct = 0\n",
    "    with torch.no_grad():\n",
    "        for data, target in test_loader:\n",
    "            data, target = data.to(device), target.to(device)\n",
    "\n",
    "            output = model(data)\n",
    "\n",
    "            output = output.view(data.shape[0], 10, -1)\n",
    "            target = list(map(f, target))\n",
    "            target = torch.stack(target).to(device)\n",
    "\n",
    "            test_loss += criterion(output, target).item()\n",
    "            pred = output.argmax(dim=1, keepdim=True)\n",
    "\n",
    "            correct += pred.eq(target.view_as(pred)).all(dim=2).sum().item()\n",
    "\n",
    "    test_loss /= len(test_loader)\n",
    "\n",
    "    print('\\nTest set: Average loss: {:.4f}, Accuracy: {}/{} ({:.0f}%)\\n'.format(\n",
    "        test_loss, correct, len(test_loader.dataset),\n",
    "        100. * correct / len(test_loader.dataset)))\n",
    "    test_losses.append(test_loss)\n",
    "    return correct / len(test_loader.dataset)"
   ],
   "metadata": {
    "collapsed": false,
    "pycharm": {
     "name": "#%%\n"
    }
   }
  },
  {
   "cell_type": "code",
   "execution_count": 34,
   "outputs": [],
   "source": [
    "# model parameters\n",
    "triple_mnist_cnn = CNN(3 * 84 * 84, 30).to(device)\n",
    "lr = 0.01\n",
    "momentum = 0.5\n",
    "log_interval = 100\n",
    "optimizer = torch.optim.SGD(triple_mnist_cnn.parameters(), lr=lr, momentum=momentum)\n",
    "criterion = nn.NLLLoss()\n",
    "epochs = 15"
   ],
   "metadata": {
    "collapsed": false,
    "pycharm": {
     "name": "#%%\n"
    }
   }
  },
  {
   "cell_type": "code",
   "execution_count": 35,
   "outputs": [],
   "source": [
    "# load model if needed\n",
    "pretrained = False\n",
    "# try:\n",
    "#     triple_mnist_cnn.load_state_dict(torch.load('cnn_model.pt'))\n",
    "#     print('Model loaded')\n",
    "#     pretrained = True\n",
    "# except FileNotFoundError:\n",
    "#     print('No model found')"
   ],
   "metadata": {
    "collapsed": false,
    "pycharm": {
     "name": "#%%\n"
    }
   }
  },
  {
   "cell_type": "code",
   "execution_count": 36,
   "outputs": [
    {
     "name": "stdout",
     "output_type": "stream",
     "text": [
      "Train Epoch: 1 [0/64000 (0%)]\tLoss: 3.401906\n",
      "Train Epoch: 1 [1600/64000 (2%)]\tLoss: 3.394107\n",
      "Train Epoch: 1 [3200/64000 (5%)]\tLoss: 3.414384\n",
      "Train Epoch: 1 [4800/64000 (8%)]\tLoss: 3.402304\n",
      "Train Epoch: 1 [6400/64000 (10%)]\tLoss: 3.393379\n",
      "Train Epoch: 1 [8000/64000 (12%)]\tLoss: 3.400856\n",
      "Train Epoch: 1 [9600/64000 (15%)]\tLoss: 3.396758\n",
      "Train Epoch: 1 [11200/64000 (18%)]\tLoss: 3.403863\n",
      "Train Epoch: 1 [12800/64000 (20%)]\tLoss: 3.396117\n",
      "Train Epoch: 1 [14400/64000 (22%)]\tLoss: 3.396160\n",
      "Train Epoch: 1 [16000/64000 (25%)]\tLoss: 3.390889\n",
      "Train Epoch: 1 [17600/64000 (28%)]\tLoss: 3.400104\n",
      "Train Epoch: 1 [19200/64000 (30%)]\tLoss: 3.402389\n",
      "Train Epoch: 1 [20800/64000 (32%)]\tLoss: 3.399279\n",
      "Train Epoch: 1 [22400/64000 (35%)]\tLoss: 3.403749\n",
      "Train Epoch: 1 [24000/64000 (38%)]\tLoss: 3.385240\n",
      "Train Epoch: 1 [25600/64000 (40%)]\tLoss: 3.413521\n",
      "Train Epoch: 1 [27200/64000 (42%)]\tLoss: 3.399850\n",
      "Train Epoch: 1 [28800/64000 (45%)]\tLoss: 3.391612\n",
      "Train Epoch: 1 [30400/64000 (48%)]\tLoss: 3.395353\n",
      "Train Epoch: 1 [32000/64000 (50%)]\tLoss: 3.389915\n",
      "Train Epoch: 1 [33600/64000 (52%)]\tLoss: 3.414761\n",
      "Train Epoch: 1 [35200/64000 (55%)]\tLoss: 3.406104\n",
      "Train Epoch: 1 [36800/64000 (58%)]\tLoss: 3.397493\n",
      "Train Epoch: 1 [38400/64000 (60%)]\tLoss: 3.404852\n",
      "Train Epoch: 1 [40000/64000 (62%)]\tLoss: 3.392297\n",
      "Train Epoch: 1 [41600/64000 (65%)]\tLoss: 3.386454\n",
      "Train Epoch: 1 [43200/64000 (68%)]\tLoss: 3.391663\n",
      "Train Epoch: 1 [44800/64000 (70%)]\tLoss: 3.417508\n",
      "Train Epoch: 1 [46400/64000 (72%)]\tLoss: 3.397067\n",
      "Train Epoch: 1 [48000/64000 (75%)]\tLoss: 3.381049\n",
      "Train Epoch: 1 [49600/64000 (78%)]\tLoss: 3.387826\n",
      "Train Epoch: 1 [51200/64000 (80%)]\tLoss: 3.407228\n",
      "Train Epoch: 1 [52800/64000 (82%)]\tLoss: 3.392832\n",
      "Train Epoch: 1 [54400/64000 (85%)]\tLoss: 3.389617\n",
      "Train Epoch: 1 [56000/64000 (88%)]\tLoss: 3.396395\n",
      "Train Epoch: 1 [57600/64000 (90%)]\tLoss: 3.396657\n",
      "Train Epoch: 1 [59200/64000 (92%)]\tLoss: 3.393508\n",
      "Train Epoch: 1 [60800/64000 (95%)]\tLoss: 3.404415\n",
      "Train Epoch: 1 [62400/64000 (98%)]\tLoss: 3.365194\n",
      "\n",
      "Test set: Average loss: 3.4093, Accuracy: 0/20000 (0%)\n",
      "\n",
      "Train Epoch: 2 [0/64000 (0%)]\tLoss: 3.370454\n",
      "Train Epoch: 2 [1600/64000 (2%)]\tLoss: 3.401958\n",
      "Train Epoch: 2 [3200/64000 (5%)]\tLoss: 3.378119\n",
      "Train Epoch: 2 [4800/64000 (8%)]\tLoss: 3.363476\n",
      "Train Epoch: 2 [6400/64000 (10%)]\tLoss: 3.304947\n",
      "Train Epoch: 2 [8000/64000 (12%)]\tLoss: 3.263682\n",
      "Train Epoch: 2 [9600/64000 (15%)]\tLoss: 3.135158\n",
      "Train Epoch: 2 [11200/64000 (18%)]\tLoss: 3.185426\n",
      "Train Epoch: 2 [12800/64000 (20%)]\tLoss: 3.115957\n",
      "Train Epoch: 2 [14400/64000 (22%)]\tLoss: 3.155281\n",
      "Train Epoch: 2 [16000/64000 (25%)]\tLoss: 3.145777\n",
      "Train Epoch: 2 [17600/64000 (28%)]\tLoss: 3.121790\n",
      "Train Epoch: 2 [19200/64000 (30%)]\tLoss: 3.169837\n",
      "Train Epoch: 2 [20800/64000 (32%)]\tLoss: 3.018289\n",
      "Train Epoch: 2 [22400/64000 (35%)]\tLoss: 2.968724\n",
      "Train Epoch: 2 [24000/64000 (38%)]\tLoss: 3.082051\n",
      "Train Epoch: 2 [25600/64000 (40%)]\tLoss: 3.016113\n",
      "Train Epoch: 2 [27200/64000 (42%)]\tLoss: 3.153690\n",
      "Train Epoch: 2 [28800/64000 (45%)]\tLoss: 3.046728\n",
      "Train Epoch: 2 [30400/64000 (48%)]\tLoss: 3.004936\n",
      "Train Epoch: 2 [32000/64000 (50%)]\tLoss: 2.958526\n",
      "Train Epoch: 2 [33600/64000 (52%)]\tLoss: 3.110533\n",
      "Train Epoch: 2 [35200/64000 (55%)]\tLoss: 2.922244\n",
      "Train Epoch: 2 [36800/64000 (58%)]\tLoss: 2.965072\n",
      "Train Epoch: 2 [38400/64000 (60%)]\tLoss: 2.918191\n",
      "Train Epoch: 2 [40000/64000 (62%)]\tLoss: 2.897341\n",
      "Train Epoch: 2 [41600/64000 (65%)]\tLoss: 2.907198\n",
      "Train Epoch: 2 [43200/64000 (68%)]\tLoss: 3.039941\n",
      "Train Epoch: 2 [44800/64000 (70%)]\tLoss: 2.604158\n",
      "Train Epoch: 2 [46400/64000 (72%)]\tLoss: 2.794395\n",
      "Train Epoch: 2 [48000/64000 (75%)]\tLoss: 2.670742\n",
      "Train Epoch: 2 [49600/64000 (78%)]\tLoss: 2.701181\n",
      "Train Epoch: 2 [51200/64000 (80%)]\tLoss: 2.439227\n",
      "Train Epoch: 2 [52800/64000 (82%)]\tLoss: 2.348418\n",
      "Train Epoch: 2 [54400/64000 (85%)]\tLoss: 2.635254\n",
      "Train Epoch: 2 [56000/64000 (88%)]\tLoss: 2.536380\n",
      "Train Epoch: 2 [57600/64000 (90%)]\tLoss: 2.458362\n",
      "Train Epoch: 2 [59200/64000 (92%)]\tLoss: 2.335922\n",
      "Train Epoch: 2 [60800/64000 (95%)]\tLoss: 2.129297\n",
      "Train Epoch: 2 [62400/64000 (98%)]\tLoss: 2.633737\n",
      "\n",
      "Test set: Average loss: 2.3082, Accuracy: 3018/20000 (15%)\n",
      "\n",
      "Train Epoch: 3 [0/64000 (0%)]\tLoss: 2.271221\n",
      "Train Epoch: 3 [1600/64000 (2%)]\tLoss: 2.044142\n",
      "Train Epoch: 3 [3200/64000 (5%)]\tLoss: 2.245433\n",
      "Train Epoch: 3 [4800/64000 (8%)]\tLoss: 2.115799\n",
      "Train Epoch: 3 [6400/64000 (10%)]\tLoss: 2.148311\n",
      "Train Epoch: 3 [8000/64000 (12%)]\tLoss: 2.190877\n",
      "Train Epoch: 3 [9600/64000 (15%)]\tLoss: 1.901443\n",
      "Train Epoch: 3 [11200/64000 (18%)]\tLoss: 1.797442\n",
      "Train Epoch: 3 [12800/64000 (20%)]\tLoss: 1.865656\n",
      "Train Epoch: 3 [14400/64000 (22%)]\tLoss: 1.810333\n",
      "Train Epoch: 3 [16000/64000 (25%)]\tLoss: 1.680524\n",
      "Train Epoch: 3 [17600/64000 (28%)]\tLoss: 1.990495\n",
      "Train Epoch: 3 [19200/64000 (30%)]\tLoss: 1.847244\n",
      "Train Epoch: 3 [20800/64000 (32%)]\tLoss: 1.679931\n",
      "Train Epoch: 3 [22400/64000 (35%)]\tLoss: 1.760646\n",
      "Train Epoch: 3 [24000/64000 (38%)]\tLoss: 1.667917\n",
      "Train Epoch: 3 [25600/64000 (40%)]\tLoss: 1.803028\n",
      "Train Epoch: 3 [27200/64000 (42%)]\tLoss: 1.668579\n",
      "Train Epoch: 3 [28800/64000 (45%)]\tLoss: 1.578105\n",
      "Train Epoch: 3 [30400/64000 (48%)]\tLoss: 1.703052\n",
      "Train Epoch: 3 [32000/64000 (50%)]\tLoss: 1.685214\n",
      "Train Epoch: 3 [33600/64000 (52%)]\tLoss: 1.576852\n",
      "Train Epoch: 3 [35200/64000 (55%)]\tLoss: 1.832512\n",
      "Train Epoch: 3 [36800/64000 (58%)]\tLoss: 1.421117\n",
      "Train Epoch: 3 [38400/64000 (60%)]\tLoss: 1.717961\n",
      "Train Epoch: 3 [40000/64000 (62%)]\tLoss: 1.558365\n",
      "Train Epoch: 3 [41600/64000 (65%)]\tLoss: 1.457181\n",
      "Train Epoch: 3 [43200/64000 (68%)]\tLoss: 1.526847\n",
      "Train Epoch: 3 [44800/64000 (70%)]\tLoss: 1.764874\n",
      "Train Epoch: 3 [46400/64000 (72%)]\tLoss: 1.535261\n",
      "Train Epoch: 3 [48000/64000 (75%)]\tLoss: 1.738289\n",
      "Train Epoch: 3 [49600/64000 (78%)]\tLoss: 1.582952\n",
      "Train Epoch: 3 [51200/64000 (80%)]\tLoss: 1.482647\n",
      "Train Epoch: 3 [52800/64000 (82%)]\tLoss: 1.523354\n",
      "Train Epoch: 3 [54400/64000 (85%)]\tLoss: 1.435637\n",
      "Train Epoch: 3 [56000/64000 (88%)]\tLoss: 1.748884\n",
      "Train Epoch: 3 [57600/64000 (90%)]\tLoss: 1.541796\n",
      "Train Epoch: 3 [59200/64000 (92%)]\tLoss: 1.420792\n",
      "Train Epoch: 3 [60800/64000 (95%)]\tLoss: 1.417069\n",
      "Train Epoch: 3 [62400/64000 (98%)]\tLoss: 1.441003\n",
      "\n",
      "Test set: Average loss: 1.5979, Accuracy: 13043/20000 (65%)\n",
      "\n",
      "Train Epoch: 4 [0/64000 (0%)]\tLoss: 1.395928\n",
      "Train Epoch: 4 [1600/64000 (2%)]\tLoss: 1.379263\n",
      "Train Epoch: 4 [3200/64000 (5%)]\tLoss: 1.624506\n",
      "Train Epoch: 4 [4800/64000 (8%)]\tLoss: 1.409950\n",
      "Train Epoch: 4 [6400/64000 (10%)]\tLoss: 1.525973\n",
      "Train Epoch: 4 [8000/64000 (12%)]\tLoss: 1.538209\n",
      "Train Epoch: 4 [9600/64000 (15%)]\tLoss: 1.278635\n",
      "Train Epoch: 4 [11200/64000 (18%)]\tLoss: 1.508238\n",
      "Train Epoch: 4 [12800/64000 (20%)]\tLoss: 1.305123\n",
      "Train Epoch: 4 [14400/64000 (22%)]\tLoss: 1.732254\n",
      "Train Epoch: 4 [16000/64000 (25%)]\tLoss: 1.335914\n",
      "Train Epoch: 4 [17600/64000 (28%)]\tLoss: 1.411079\n",
      "Train Epoch: 4 [19200/64000 (30%)]\tLoss: 1.558275\n",
      "Train Epoch: 4 [20800/64000 (32%)]\tLoss: 1.366930\n",
      "Train Epoch: 4 [22400/64000 (35%)]\tLoss: 1.300349\n",
      "Train Epoch: 4 [24000/64000 (38%)]\tLoss: 1.373927\n",
      "Train Epoch: 4 [25600/64000 (40%)]\tLoss: 1.306997\n",
      "Train Epoch: 4 [27200/64000 (42%)]\tLoss: 1.385352\n",
      "Train Epoch: 4 [28800/64000 (45%)]\tLoss: 1.298894\n",
      "Train Epoch: 4 [30400/64000 (48%)]\tLoss: 1.513474\n",
      "Train Epoch: 4 [32000/64000 (50%)]\tLoss: 1.338074\n",
      "Train Epoch: 4 [33600/64000 (52%)]\tLoss: 1.373239\n",
      "Train Epoch: 4 [35200/64000 (55%)]\tLoss: 1.193483\n",
      "Train Epoch: 4 [36800/64000 (58%)]\tLoss: 1.391393\n",
      "Train Epoch: 4 [38400/64000 (60%)]\tLoss: 1.320070\n",
      "Train Epoch: 4 [40000/64000 (62%)]\tLoss: 1.535153\n",
      "Train Epoch: 4 [41600/64000 (65%)]\tLoss: 1.382044\n",
      "Train Epoch: 4 [43200/64000 (68%)]\tLoss: 1.360024\n",
      "Train Epoch: 4 [44800/64000 (70%)]\tLoss: 1.169138\n",
      "Train Epoch: 4 [46400/64000 (72%)]\tLoss: 1.344575\n",
      "Train Epoch: 4 [48000/64000 (75%)]\tLoss: 1.203248\n",
      "Train Epoch: 4 [49600/64000 (78%)]\tLoss: 1.357647\n",
      "Train Epoch: 4 [51200/64000 (80%)]\tLoss: 1.304241\n",
      "Train Epoch: 4 [52800/64000 (82%)]\tLoss: 1.319822\n",
      "Train Epoch: 4 [54400/64000 (85%)]\tLoss: 1.302929\n",
      "Train Epoch: 4 [56000/64000 (88%)]\tLoss: 1.277448\n",
      "Train Epoch: 4 [57600/64000 (90%)]\tLoss: 1.425263\n",
      "Train Epoch: 4 [59200/64000 (92%)]\tLoss: 1.312220\n",
      "Train Epoch: 4 [60800/64000 (95%)]\tLoss: 1.425714\n",
      "Train Epoch: 4 [62400/64000 (98%)]\tLoss: 1.259274\n",
      "\n",
      "Test set: Average loss: 1.3307, Accuracy: 17023/20000 (85%)\n",
      "\n",
      "Train Epoch: 5 [0/64000 (0%)]\tLoss: 1.376185\n",
      "Train Epoch: 5 [1600/64000 (2%)]\tLoss: 1.300961\n",
      "Train Epoch: 5 [3200/64000 (5%)]\tLoss: 1.244681\n",
      "Train Epoch: 5 [4800/64000 (8%)]\tLoss: 1.223080\n",
      "Train Epoch: 5 [6400/64000 (10%)]\tLoss: 1.216545\n",
      "Train Epoch: 5 [8000/64000 (12%)]\tLoss: 1.193868\n",
      "Train Epoch: 5 [9600/64000 (15%)]\tLoss: 1.314178\n",
      "Train Epoch: 5 [11200/64000 (18%)]\tLoss: 1.204252\n",
      "Train Epoch: 5 [12800/64000 (20%)]\tLoss: 1.237788\n",
      "Train Epoch: 5 [14400/64000 (22%)]\tLoss: 1.237593\n",
      "Train Epoch: 5 [16000/64000 (25%)]\tLoss: 1.249778\n",
      "Train Epoch: 5 [17600/64000 (28%)]\tLoss: 1.244340\n",
      "Train Epoch: 5 [19200/64000 (30%)]\tLoss: 1.199521\n",
      "Train Epoch: 5 [20800/64000 (32%)]\tLoss: 1.261029\n",
      "Train Epoch: 5 [22400/64000 (35%)]\tLoss: 1.204706\n",
      "Train Epoch: 5 [24000/64000 (38%)]\tLoss: 1.167109\n",
      "Train Epoch: 5 [25600/64000 (40%)]\tLoss: 1.307503\n",
      "Train Epoch: 5 [27200/64000 (42%)]\tLoss: 1.303401\n",
      "Train Epoch: 5 [28800/64000 (45%)]\tLoss: 1.317649\n",
      "Train Epoch: 5 [30400/64000 (48%)]\tLoss: 1.266738\n",
      "Train Epoch: 5 [32000/64000 (50%)]\tLoss: 1.198889\n",
      "Train Epoch: 5 [33600/64000 (52%)]\tLoss: 1.207983\n",
      "Train Epoch: 5 [35200/64000 (55%)]\tLoss: 1.207831\n",
      "Train Epoch: 5 [36800/64000 (58%)]\tLoss: 1.230848\n",
      "Train Epoch: 5 [38400/64000 (60%)]\tLoss: 1.363455\n",
      "Train Epoch: 5 [40000/64000 (62%)]\tLoss: 1.343348\n",
      "Train Epoch: 5 [41600/64000 (65%)]\tLoss: 1.308239\n",
      "Train Epoch: 5 [43200/64000 (68%)]\tLoss: 1.231877\n",
      "Train Epoch: 5 [44800/64000 (70%)]\tLoss: 1.283483\n",
      "Train Epoch: 5 [46400/64000 (72%)]\tLoss: 1.332935\n",
      "Train Epoch: 5 [48000/64000 (75%)]\tLoss: 1.181325\n",
      "Train Epoch: 5 [49600/64000 (78%)]\tLoss: 1.297071\n",
      "Train Epoch: 5 [51200/64000 (80%)]\tLoss: 1.193083\n",
      "Train Epoch: 5 [52800/64000 (82%)]\tLoss: 1.285880\n",
      "Train Epoch: 5 [54400/64000 (85%)]\tLoss: 1.235832\n",
      "Train Epoch: 5 [56000/64000 (88%)]\tLoss: 1.249458\n",
      "Train Epoch: 5 [57600/64000 (90%)]\tLoss: 1.267248\n",
      "Train Epoch: 5 [59200/64000 (92%)]\tLoss: 1.258821\n",
      "Train Epoch: 5 [60800/64000 (95%)]\tLoss: 1.192456\n",
      "Train Epoch: 5 [62400/64000 (98%)]\tLoss: 1.222275\n",
      "\n",
      "Test set: Average loss: 1.2696, Accuracy: 17778/20000 (89%)\n",
      "\n",
      "Train Epoch: 6 [0/64000 (0%)]\tLoss: 1.469871\n",
      "Train Epoch: 6 [1600/64000 (2%)]\tLoss: 1.269881\n",
      "Train Epoch: 6 [3200/64000 (5%)]\tLoss: 1.147661\n",
      "Train Epoch: 6 [4800/64000 (8%)]\tLoss: 1.265628\n",
      "Train Epoch: 6 [6400/64000 (10%)]\tLoss: 1.218024\n",
      "Train Epoch: 6 [8000/64000 (12%)]\tLoss: 1.196939\n",
      "Train Epoch: 6 [9600/64000 (15%)]\tLoss: 1.135593\n",
      "Train Epoch: 6 [11200/64000 (18%)]\tLoss: 1.200239\n",
      "Train Epoch: 6 [12800/64000 (20%)]\tLoss: 1.203478\n",
      "Train Epoch: 6 [14400/64000 (22%)]\tLoss: 1.272918\n",
      "Train Epoch: 6 [16000/64000 (25%)]\tLoss: 1.244361\n",
      "Train Epoch: 6 [17600/64000 (28%)]\tLoss: 1.192114\n",
      "Train Epoch: 6 [19200/64000 (30%)]\tLoss: 1.181271\n",
      "Train Epoch: 6 [20800/64000 (32%)]\tLoss: 1.252366\n",
      "Train Epoch: 6 [22400/64000 (35%)]\tLoss: 1.161871\n",
      "Train Epoch: 6 [24000/64000 (38%)]\tLoss: 1.201822\n",
      "Train Epoch: 6 [25600/64000 (40%)]\tLoss: 1.205770\n",
      "Train Epoch: 6 [27200/64000 (42%)]\tLoss: 1.218644\n",
      "Train Epoch: 6 [28800/64000 (45%)]\tLoss: 1.320910\n",
      "Train Epoch: 6 [30400/64000 (48%)]\tLoss: 1.243886\n",
      "Train Epoch: 6 [32000/64000 (50%)]\tLoss: 1.267408\n",
      "Train Epoch: 6 [33600/64000 (52%)]\tLoss: 1.235708\n",
      "Train Epoch: 6 [35200/64000 (55%)]\tLoss: 1.229047\n",
      "Train Epoch: 6 [36800/64000 (58%)]\tLoss: 1.199329\n",
      "Train Epoch: 6 [38400/64000 (60%)]\tLoss: 1.164265\n",
      "Train Epoch: 6 [40000/64000 (62%)]\tLoss: 1.217125\n",
      "Train Epoch: 6 [41600/64000 (65%)]\tLoss: 1.146741\n",
      "Train Epoch: 6 [43200/64000 (68%)]\tLoss: 1.209972\n",
      "Train Epoch: 6 [44800/64000 (70%)]\tLoss: 1.159284\n",
      "Train Epoch: 6 [46400/64000 (72%)]\tLoss: 1.194180\n",
      "Train Epoch: 6 [48000/64000 (75%)]\tLoss: 1.139584\n",
      "Train Epoch: 6 [49600/64000 (78%)]\tLoss: 1.155513\n",
      "Train Epoch: 6 [51200/64000 (80%)]\tLoss: 1.246127\n",
      "Train Epoch: 6 [52800/64000 (82%)]\tLoss: 1.165251\n",
      "Train Epoch: 6 [54400/64000 (85%)]\tLoss: 1.216865\n",
      "Train Epoch: 6 [56000/64000 (88%)]\tLoss: 1.283648\n",
      "Train Epoch: 6 [57600/64000 (90%)]\tLoss: 1.239891\n",
      "Train Epoch: 6 [59200/64000 (92%)]\tLoss: 1.181407\n",
      "Train Epoch: 6 [60800/64000 (95%)]\tLoss: 1.317415\n",
      "Train Epoch: 6 [62400/64000 (98%)]\tLoss: 1.244342\n",
      "\n",
      "Test set: Average loss: 1.2302, Accuracy: 18190/20000 (91%)\n",
      "\n",
      "Train Epoch: 7 [0/64000 (0%)]\tLoss: 1.189764\n",
      "Train Epoch: 7 [1600/64000 (2%)]\tLoss: 1.210195\n",
      "Train Epoch: 7 [3200/64000 (5%)]\tLoss: 1.257422\n",
      "Train Epoch: 7 [4800/64000 (8%)]\tLoss: 1.164118\n",
      "Train Epoch: 7 [6400/64000 (10%)]\tLoss: 1.188900\n",
      "Train Epoch: 7 [8000/64000 (12%)]\tLoss: 1.174026\n",
      "Train Epoch: 7 [9600/64000 (15%)]\tLoss: 1.182682\n",
      "Train Epoch: 7 [11200/64000 (18%)]\tLoss: 1.188589\n",
      "Train Epoch: 7 [12800/64000 (20%)]\tLoss: 1.153435\n",
      "Train Epoch: 7 [14400/64000 (22%)]\tLoss: 1.141130\n",
      "Train Epoch: 7 [16000/64000 (25%)]\tLoss: 1.136126\n",
      "Train Epoch: 7 [17600/64000 (28%)]\tLoss: 1.268011\n",
      "Train Epoch: 7 [19200/64000 (30%)]\tLoss: 1.225882\n",
      "Train Epoch: 7 [20800/64000 (32%)]\tLoss: 1.168122\n",
      "Train Epoch: 7 [22400/64000 (35%)]\tLoss: 1.189108\n",
      "Train Epoch: 7 [24000/64000 (38%)]\tLoss: 1.281910\n",
      "Train Epoch: 7 [25600/64000 (40%)]\tLoss: 1.303774\n",
      "Train Epoch: 7 [27200/64000 (42%)]\tLoss: 1.147679\n",
      "Train Epoch: 7 [28800/64000 (45%)]\tLoss: 1.133325\n",
      "Train Epoch: 7 [30400/64000 (48%)]\tLoss: 1.173594\n",
      "Train Epoch: 7 [32000/64000 (50%)]\tLoss: 1.328854\n",
      "Train Epoch: 7 [33600/64000 (52%)]\tLoss: 1.159129\n",
      "Train Epoch: 7 [35200/64000 (55%)]\tLoss: 1.174105\n",
      "Train Epoch: 7 [36800/64000 (58%)]\tLoss: 1.116698\n",
      "Train Epoch: 7 [38400/64000 (60%)]\tLoss: 1.122846\n",
      "Train Epoch: 7 [40000/64000 (62%)]\tLoss: 1.128461\n",
      "Train Epoch: 7 [41600/64000 (65%)]\tLoss: 1.143437\n",
      "Train Epoch: 7 [43200/64000 (68%)]\tLoss: 1.128578\n",
      "Train Epoch: 7 [44800/64000 (70%)]\tLoss: 1.121701\n",
      "Train Epoch: 7 [46400/64000 (72%)]\tLoss: 1.194964\n",
      "Train Epoch: 7 [48000/64000 (75%)]\tLoss: 1.355757\n",
      "Train Epoch: 7 [49600/64000 (78%)]\tLoss: 1.117475\n",
      "Train Epoch: 7 [51200/64000 (80%)]\tLoss: 1.196253\n",
      "Train Epoch: 7 [52800/64000 (82%)]\tLoss: 1.199420\n",
      "Train Epoch: 7 [54400/64000 (85%)]\tLoss: 1.283476\n",
      "Train Epoch: 7 [56000/64000 (88%)]\tLoss: 1.150644\n",
      "Train Epoch: 7 [57600/64000 (90%)]\tLoss: 1.200413\n",
      "Train Epoch: 7 [59200/64000 (92%)]\tLoss: 1.153735\n",
      "Train Epoch: 7 [60800/64000 (95%)]\tLoss: 1.212317\n",
      "Train Epoch: 7 [62400/64000 (98%)]\tLoss: 1.280207\n",
      "\n",
      "Test set: Average loss: 1.2155, Accuracy: 18314/20000 (92%)\n",
      "\n",
      "Train Epoch: 8 [0/64000 (0%)]\tLoss: 1.149227\n",
      "Train Epoch: 8 [1600/64000 (2%)]\tLoss: 1.123040\n",
      "Train Epoch: 8 [3200/64000 (5%)]\tLoss: 1.182283\n",
      "Train Epoch: 8 [4800/64000 (8%)]\tLoss: 1.147466\n",
      "Train Epoch: 8 [6400/64000 (10%)]\tLoss: 1.284901\n",
      "Train Epoch: 8 [8000/64000 (12%)]\tLoss: 1.239972\n",
      "Train Epoch: 8 [9600/64000 (15%)]\tLoss: 1.140811\n",
      "Train Epoch: 8 [11200/64000 (18%)]\tLoss: 1.163496\n",
      "Train Epoch: 8 [12800/64000 (20%)]\tLoss: 1.249322\n",
      "Train Epoch: 8 [14400/64000 (22%)]\tLoss: 1.164140\n",
      "Train Epoch: 8 [16000/64000 (25%)]\tLoss: 1.145691\n",
      "Train Epoch: 8 [17600/64000 (28%)]\tLoss: 1.203147\n",
      "Train Epoch: 8 [19200/64000 (30%)]\tLoss: 1.128976\n",
      "Train Epoch: 8 [20800/64000 (32%)]\tLoss: 1.300700\n",
      "Train Epoch: 8 [22400/64000 (35%)]\tLoss: 1.278074\n",
      "Train Epoch: 8 [24000/64000 (38%)]\tLoss: 1.173967\n",
      "Train Epoch: 8 [25600/64000 (40%)]\tLoss: 1.339009\n",
      "Train Epoch: 8 [27200/64000 (42%)]\tLoss: 1.193162\n",
      "Train Epoch: 8 [28800/64000 (45%)]\tLoss: 1.172572\n",
      "Train Epoch: 8 [30400/64000 (48%)]\tLoss: 1.124635\n",
      "Train Epoch: 8 [32000/64000 (50%)]\tLoss: 1.132905\n",
      "Train Epoch: 8 [33600/64000 (52%)]\tLoss: 1.118101\n",
      "Train Epoch: 8 [35200/64000 (55%)]\tLoss: 1.259489\n",
      "Train Epoch: 8 [36800/64000 (58%)]\tLoss: 1.151480\n",
      "Train Epoch: 8 [38400/64000 (60%)]\tLoss: 1.121087\n",
      "Train Epoch: 8 [40000/64000 (62%)]\tLoss: 1.173023\n",
      "Train Epoch: 8 [41600/64000 (65%)]\tLoss: 1.125611\n",
      "Train Epoch: 8 [43200/64000 (68%)]\tLoss: 1.123590\n",
      "Train Epoch: 8 [44800/64000 (70%)]\tLoss: 1.152599\n",
      "Train Epoch: 8 [46400/64000 (72%)]\tLoss: 1.244132\n",
      "Train Epoch: 8 [48000/64000 (75%)]\tLoss: 1.288708\n",
      "Train Epoch: 8 [49600/64000 (78%)]\tLoss: 1.146864\n",
      "Train Epoch: 8 [51200/64000 (80%)]\tLoss: 1.258666\n",
      "Train Epoch: 8 [52800/64000 (82%)]\tLoss: 1.134212\n",
      "Train Epoch: 8 [54400/64000 (85%)]\tLoss: 1.130643\n",
      "Train Epoch: 8 [56000/64000 (88%)]\tLoss: 1.335625\n",
      "Train Epoch: 8 [57600/64000 (90%)]\tLoss: 1.140517\n",
      "Train Epoch: 8 [59200/64000 (92%)]\tLoss: 1.138907\n",
      "Train Epoch: 8 [60800/64000 (95%)]\tLoss: 1.133304\n",
      "Train Epoch: 8 [62400/64000 (98%)]\tLoss: 1.166290\n",
      "\n",
      "Test set: Average loss: 1.2068, Accuracy: 18459/20000 (92%)\n",
      "\n",
      "Train Epoch: 9 [0/64000 (0%)]\tLoss: 1.246642\n",
      "Train Epoch: 9 [1600/64000 (2%)]\tLoss: 1.113041\n",
      "Train Epoch: 9 [3200/64000 (5%)]\tLoss: 1.321134\n",
      "Train Epoch: 9 [4800/64000 (8%)]\tLoss: 1.133338\n",
      "Train Epoch: 9 [6400/64000 (10%)]\tLoss: 1.194348\n",
      "Train Epoch: 9 [8000/64000 (12%)]\tLoss: 1.148469\n",
      "Train Epoch: 9 [9600/64000 (15%)]\tLoss: 1.138987\n",
      "Train Epoch: 9 [11200/64000 (18%)]\tLoss: 1.127588\n",
      "Train Epoch: 9 [12800/64000 (20%)]\tLoss: 1.120517\n",
      "Train Epoch: 9 [14400/64000 (22%)]\tLoss: 1.148754\n",
      "Train Epoch: 9 [16000/64000 (25%)]\tLoss: 1.260193\n",
      "Train Epoch: 9 [17600/64000 (28%)]\tLoss: 1.187852\n",
      "Train Epoch: 9 [19200/64000 (30%)]\tLoss: 1.159380\n",
      "Train Epoch: 9 [20800/64000 (32%)]\tLoss: 1.145233\n",
      "Train Epoch: 9 [22400/64000 (35%)]\tLoss: 1.223554\n",
      "Train Epoch: 9 [24000/64000 (38%)]\tLoss: 1.139249\n",
      "Train Epoch: 9 [25600/64000 (40%)]\tLoss: 1.232588\n",
      "Train Epoch: 9 [27200/64000 (42%)]\tLoss: 1.148681\n",
      "Train Epoch: 9 [28800/64000 (45%)]\tLoss: 1.135428\n",
      "Train Epoch: 9 [30400/64000 (48%)]\tLoss: 1.237736\n",
      "Train Epoch: 9 [32000/64000 (50%)]\tLoss: 1.207253\n",
      "Train Epoch: 9 [33600/64000 (52%)]\tLoss: 1.145745\n",
      "Train Epoch: 9 [35200/64000 (55%)]\tLoss: 1.246720\n",
      "Train Epoch: 9 [36800/64000 (58%)]\tLoss: 1.125889\n",
      "Train Epoch: 9 [38400/64000 (60%)]\tLoss: 1.129465\n",
      "Train Epoch: 9 [40000/64000 (62%)]\tLoss: 1.125298\n",
      "Train Epoch: 9 [41600/64000 (65%)]\tLoss: 1.128063\n",
      "Train Epoch: 9 [43200/64000 (68%)]\tLoss: 1.171268\n",
      "Train Epoch: 9 [44800/64000 (70%)]\tLoss: 1.201149\n",
      "Train Epoch: 9 [46400/64000 (72%)]\tLoss: 1.188013\n",
      "Train Epoch: 9 [48000/64000 (75%)]\tLoss: 1.124144\n",
      "Train Epoch: 9 [49600/64000 (78%)]\tLoss: 1.149740\n",
      "Train Epoch: 9 [51200/64000 (80%)]\tLoss: 1.163870\n",
      "Train Epoch: 9 [52800/64000 (82%)]\tLoss: 1.207070\n",
      "Train Epoch: 9 [54400/64000 (85%)]\tLoss: 1.123851\n",
      "Train Epoch: 9 [56000/64000 (88%)]\tLoss: 1.114521\n",
      "Train Epoch: 9 [57600/64000 (90%)]\tLoss: 1.122691\n",
      "Train Epoch: 9 [59200/64000 (92%)]\tLoss: 1.197973\n",
      "Train Epoch: 9 [60800/64000 (95%)]\tLoss: 1.121185\n",
      "Train Epoch: 9 [62400/64000 (98%)]\tLoss: 1.140406\n",
      "\n",
      "Test set: Average loss: 1.1942, Accuracy: 18640/20000 (93%)\n",
      "\n",
      "Train Epoch: 10 [0/64000 (0%)]\tLoss: 1.161589\n",
      "Train Epoch: 10 [1600/64000 (2%)]\tLoss: 1.111787\n",
      "Train Epoch: 10 [3200/64000 (5%)]\tLoss: 1.195453\n",
      "Train Epoch: 10 [4800/64000 (8%)]\tLoss: 1.121438\n",
      "Train Epoch: 10 [6400/64000 (10%)]\tLoss: 1.262625\n",
      "Train Epoch: 10 [8000/64000 (12%)]\tLoss: 1.113725\n",
      "Train Epoch: 10 [9600/64000 (15%)]\tLoss: 1.129830\n",
      "Train Epoch: 10 [11200/64000 (18%)]\tLoss: 1.162028\n",
      "Train Epoch: 10 [12800/64000 (20%)]\tLoss: 1.119750\n",
      "Train Epoch: 10 [14400/64000 (22%)]\tLoss: 1.117412\n",
      "Train Epoch: 10 [16000/64000 (25%)]\tLoss: 1.149741\n",
      "Train Epoch: 10 [17600/64000 (28%)]\tLoss: 1.174682\n",
      "Train Epoch: 10 [19200/64000 (30%)]\tLoss: 1.213561\n",
      "Train Epoch: 10 [20800/64000 (32%)]\tLoss: 1.190306\n",
      "Train Epoch: 10 [22400/64000 (35%)]\tLoss: 1.131986\n",
      "Train Epoch: 10 [24000/64000 (38%)]\tLoss: 1.141331\n",
      "Train Epoch: 10 [25600/64000 (40%)]\tLoss: 1.166421\n",
      "Train Epoch: 10 [27200/64000 (42%)]\tLoss: 1.160206\n",
      "Train Epoch: 10 [28800/64000 (45%)]\tLoss: 1.127257\n",
      "Train Epoch: 10 [30400/64000 (48%)]\tLoss: 1.142627\n",
      "Train Epoch: 10 [32000/64000 (50%)]\tLoss: 1.163019\n",
      "Train Epoch: 10 [33600/64000 (52%)]\tLoss: 1.107784\n",
      "Train Epoch: 10 [35200/64000 (55%)]\tLoss: 1.132978\n",
      "Train Epoch: 10 [36800/64000 (58%)]\tLoss: 1.113013\n",
      "Train Epoch: 10 [38400/64000 (60%)]\tLoss: 1.135620\n",
      "Train Epoch: 10 [40000/64000 (62%)]\tLoss: 1.244161\n",
      "Train Epoch: 10 [41600/64000 (65%)]\tLoss: 1.136299\n",
      "Train Epoch: 10 [43200/64000 (68%)]\tLoss: 1.156009\n",
      "Train Epoch: 10 [44800/64000 (70%)]\tLoss: 1.213459\n",
      "Train Epoch: 10 [46400/64000 (72%)]\tLoss: 1.111144\n",
      "Train Epoch: 10 [48000/64000 (75%)]\tLoss: 1.175953\n",
      "Train Epoch: 10 [49600/64000 (78%)]\tLoss: 1.173742\n",
      "Train Epoch: 10 [51200/64000 (80%)]\tLoss: 1.118520\n",
      "Train Epoch: 10 [52800/64000 (82%)]\tLoss: 1.228345\n",
      "Train Epoch: 10 [54400/64000 (85%)]\tLoss: 1.119733\n",
      "Train Epoch: 10 [56000/64000 (88%)]\tLoss: 1.116020\n",
      "Train Epoch: 10 [57600/64000 (90%)]\tLoss: 1.352591\n",
      "Train Epoch: 10 [59200/64000 (92%)]\tLoss: 1.113232\n",
      "Train Epoch: 10 [60800/64000 (95%)]\tLoss: 1.176703\n",
      "Train Epoch: 10 [62400/64000 (98%)]\tLoss: 1.114017\n",
      "\n",
      "Test set: Average loss: 1.1929, Accuracy: 18595/20000 (93%)\n",
      "\n",
      "Train Epoch: 11 [0/64000 (0%)]\tLoss: 1.116600\n",
      "Train Epoch: 11 [1600/64000 (2%)]\tLoss: 1.172216\n",
      "Train Epoch: 11 [3200/64000 (5%)]\tLoss: 1.181215\n",
      "Train Epoch: 11 [4800/64000 (8%)]\tLoss: 1.205892\n",
      "Train Epoch: 11 [6400/64000 (10%)]\tLoss: 1.148329\n",
      "Train Epoch: 11 [8000/64000 (12%)]\tLoss: 1.172805\n",
      "Train Epoch: 11 [9600/64000 (15%)]\tLoss: 1.145884\n",
      "Train Epoch: 11 [11200/64000 (18%)]\tLoss: 1.114914\n",
      "Train Epoch: 11 [12800/64000 (20%)]\tLoss: 1.140367\n",
      "Train Epoch: 11 [14400/64000 (22%)]\tLoss: 1.115791\n",
      "Train Epoch: 11 [16000/64000 (25%)]\tLoss: 1.210985\n",
      "Train Epoch: 11 [17600/64000 (28%)]\tLoss: 1.185980\n",
      "Train Epoch: 11 [19200/64000 (30%)]\tLoss: 1.119111\n",
      "Train Epoch: 11 [20800/64000 (32%)]\tLoss: 1.180990\n",
      "Train Epoch: 11 [22400/64000 (35%)]\tLoss: 1.216102\n",
      "Train Epoch: 11 [24000/64000 (38%)]\tLoss: 1.126995\n",
      "Train Epoch: 11 [25600/64000 (40%)]\tLoss: 1.117741\n",
      "Train Epoch: 11 [27200/64000 (42%)]\tLoss: 1.115494\n",
      "Train Epoch: 11 [28800/64000 (45%)]\tLoss: 1.150586\n",
      "Train Epoch: 11 [30400/64000 (48%)]\tLoss: 1.119978\n",
      "Train Epoch: 11 [32000/64000 (50%)]\tLoss: 1.161072\n",
      "Train Epoch: 11 [33600/64000 (52%)]\tLoss: 1.222157\n",
      "Train Epoch: 11 [35200/64000 (55%)]\tLoss: 1.152025\n",
      "Train Epoch: 11 [36800/64000 (58%)]\tLoss: 1.233956\n",
      "Train Epoch: 11 [38400/64000 (60%)]\tLoss: 1.122225\n",
      "Train Epoch: 11 [40000/64000 (62%)]\tLoss: 1.200676\n",
      "Train Epoch: 11 [41600/64000 (65%)]\tLoss: 1.196983\n",
      "Train Epoch: 11 [43200/64000 (68%)]\tLoss: 1.211572\n",
      "Train Epoch: 11 [44800/64000 (70%)]\tLoss: 1.168969\n",
      "Train Epoch: 11 [46400/64000 (72%)]\tLoss: 1.135056\n",
      "Train Epoch: 11 [48000/64000 (75%)]\tLoss: 1.143979\n",
      "Train Epoch: 11 [49600/64000 (78%)]\tLoss: 1.140910\n",
      "Train Epoch: 11 [51200/64000 (80%)]\tLoss: 1.126722\n",
      "Train Epoch: 11 [52800/64000 (82%)]\tLoss: 1.120550\n",
      "Train Epoch: 11 [54400/64000 (85%)]\tLoss: 1.169805\n",
      "Train Epoch: 11 [56000/64000 (88%)]\tLoss: 1.156852\n",
      "Train Epoch: 11 [57600/64000 (90%)]\tLoss: 1.114430\n",
      "Train Epoch: 11 [59200/64000 (92%)]\tLoss: 1.257861\n",
      "Train Epoch: 11 [60800/64000 (95%)]\tLoss: 1.154928\n",
      "Train Epoch: 11 [62400/64000 (98%)]\tLoss: 1.114389\n",
      "\n",
      "Test set: Average loss: 1.1959, Accuracy: 18539/20000 (93%)\n",
      "\n",
      "Train Epoch: 12 [0/64000 (0%)]\tLoss: 1.166338\n",
      "Train Epoch: 12 [1600/64000 (2%)]\tLoss: 1.112622\n",
      "Train Epoch: 12 [3200/64000 (5%)]\tLoss: 1.142812\n",
      "Train Epoch: 12 [4800/64000 (8%)]\tLoss: 1.118302\n",
      "Train Epoch: 12 [6400/64000 (10%)]\tLoss: 1.149524\n",
      "Train Epoch: 12 [8000/64000 (12%)]\tLoss: 1.158533\n",
      "Train Epoch: 12 [9600/64000 (15%)]\tLoss: 1.111082\n",
      "Train Epoch: 12 [11200/64000 (18%)]\tLoss: 1.157198\n",
      "Train Epoch: 12 [12800/64000 (20%)]\tLoss: 1.114653\n",
      "Train Epoch: 12 [14400/64000 (22%)]\tLoss: 1.113044\n",
      "Train Epoch: 12 [16000/64000 (25%)]\tLoss: 1.118872\n",
      "Train Epoch: 12 [17600/64000 (28%)]\tLoss: 1.118246\n",
      "Train Epoch: 12 [19200/64000 (30%)]\tLoss: 1.119420\n",
      "Train Epoch: 12 [20800/64000 (32%)]\tLoss: 1.146914\n",
      "Train Epoch: 12 [22400/64000 (35%)]\tLoss: 1.119638\n",
      "Train Epoch: 12 [24000/64000 (38%)]\tLoss: 1.121520\n",
      "Train Epoch: 12 [25600/64000 (40%)]\tLoss: 1.182165\n",
      "Train Epoch: 12 [27200/64000 (42%)]\tLoss: 1.220736\n",
      "Train Epoch: 12 [28800/64000 (45%)]\tLoss: 1.195273\n",
      "Train Epoch: 12 [30400/64000 (48%)]\tLoss: 1.145124\n",
      "Train Epoch: 12 [32000/64000 (50%)]\tLoss: 1.163619\n",
      "Train Epoch: 12 [33600/64000 (52%)]\tLoss: 1.124877\n",
      "Train Epoch: 12 [35200/64000 (55%)]\tLoss: 1.157090\n",
      "Train Epoch: 12 [36800/64000 (58%)]\tLoss: 1.150517\n",
      "Train Epoch: 12 [38400/64000 (60%)]\tLoss: 1.176723\n",
      "Train Epoch: 12 [40000/64000 (62%)]\tLoss: 1.123808\n",
      "Train Epoch: 12 [41600/64000 (65%)]\tLoss: 1.189667\n",
      "Train Epoch: 12 [43200/64000 (68%)]\tLoss: 1.185278\n",
      "Train Epoch: 12 [44800/64000 (70%)]\tLoss: 1.121449\n",
      "Train Epoch: 12 [46400/64000 (72%)]\tLoss: 1.114367\n",
      "Train Epoch: 12 [48000/64000 (75%)]\tLoss: 1.155155\n",
      "Train Epoch: 12 [49600/64000 (78%)]\tLoss: 1.155633\n",
      "Train Epoch: 12 [51200/64000 (80%)]\tLoss: 1.122683\n",
      "Train Epoch: 12 [52800/64000 (82%)]\tLoss: 1.130693\n",
      "Train Epoch: 12 [54400/64000 (85%)]\tLoss: 1.159957\n",
      "Train Epoch: 12 [56000/64000 (88%)]\tLoss: 1.114281\n",
      "Train Epoch: 12 [57600/64000 (90%)]\tLoss: 1.110363\n",
      "Train Epoch: 12 [59200/64000 (92%)]\tLoss: 1.152990\n",
      "Train Epoch: 12 [60800/64000 (95%)]\tLoss: 1.110551\n",
      "Train Epoch: 12 [62400/64000 (98%)]\tLoss: 1.167923\n",
      "\n",
      "Test set: Average loss: 1.1794, Accuracy: 18832/20000 (94%)\n",
      "\n",
      "Train Epoch: 13 [0/64000 (0%)]\tLoss: 1.106861\n",
      "Train Epoch: 13 [1600/64000 (2%)]\tLoss: 1.111074\n",
      "Train Epoch: 13 [3200/64000 (5%)]\tLoss: 1.113663\n",
      "Train Epoch: 13 [4800/64000 (8%)]\tLoss: 1.201668\n",
      "Train Epoch: 13 [6400/64000 (10%)]\tLoss: 1.140233\n",
      "Train Epoch: 13 [8000/64000 (12%)]\tLoss: 1.117773\n",
      "Train Epoch: 13 [9600/64000 (15%)]\tLoss: 1.121813\n",
      "Train Epoch: 13 [11200/64000 (18%)]\tLoss: 1.123137\n",
      "Train Epoch: 13 [12800/64000 (20%)]\tLoss: 1.225917\n",
      "Train Epoch: 13 [14400/64000 (22%)]\tLoss: 1.111079\n",
      "Train Epoch: 13 [16000/64000 (25%)]\tLoss: 1.162146\n",
      "Train Epoch: 13 [17600/64000 (28%)]\tLoss: 1.113953\n",
      "Train Epoch: 13 [19200/64000 (30%)]\tLoss: 1.249475\n",
      "Train Epoch: 13 [20800/64000 (32%)]\tLoss: 1.119747\n",
      "Train Epoch: 13 [22400/64000 (35%)]\tLoss: 1.237752\n",
      "Train Epoch: 13 [24000/64000 (38%)]\tLoss: 1.202794\n",
      "Train Epoch: 13 [25600/64000 (40%)]\tLoss: 1.127641\n",
      "Train Epoch: 13 [27200/64000 (42%)]\tLoss: 1.121590\n",
      "Train Epoch: 13 [28800/64000 (45%)]\tLoss: 1.155222\n",
      "Train Epoch: 13 [30400/64000 (48%)]\tLoss: 1.148142\n",
      "Train Epoch: 13 [32000/64000 (50%)]\tLoss: 1.181356\n",
      "Train Epoch: 13 [33600/64000 (52%)]\tLoss: 1.139550\n",
      "Train Epoch: 13 [35200/64000 (55%)]\tLoss: 1.112472\n",
      "Train Epoch: 13 [36800/64000 (58%)]\tLoss: 1.127080\n",
      "Train Epoch: 13 [38400/64000 (60%)]\tLoss: 1.161934\n",
      "Train Epoch: 13 [40000/64000 (62%)]\tLoss: 1.110767\n",
      "Train Epoch: 13 [41600/64000 (65%)]\tLoss: 1.136141\n",
      "Train Epoch: 13 [43200/64000 (68%)]\tLoss: 1.160760\n",
      "Train Epoch: 13 [44800/64000 (70%)]\tLoss: 1.107688\n",
      "Train Epoch: 13 [46400/64000 (72%)]\tLoss: 1.273171\n",
      "Train Epoch: 13 [48000/64000 (75%)]\tLoss: 1.110889\n",
      "Train Epoch: 13 [49600/64000 (78%)]\tLoss: 1.247164\n",
      "Train Epoch: 13 [51200/64000 (80%)]\tLoss: 1.233428\n",
      "Train Epoch: 13 [52800/64000 (82%)]\tLoss: 1.128210\n",
      "Train Epoch: 13 [54400/64000 (85%)]\tLoss: 1.126013\n",
      "Train Epoch: 13 [56000/64000 (88%)]\tLoss: 1.254301\n",
      "Train Epoch: 13 [57600/64000 (90%)]\tLoss: 1.110789\n",
      "Train Epoch: 13 [59200/64000 (92%)]\tLoss: 1.128905\n",
      "Train Epoch: 13 [60800/64000 (95%)]\tLoss: 1.198642\n",
      "Train Epoch: 13 [62400/64000 (98%)]\tLoss: 1.129425\n",
      "\n",
      "Test set: Average loss: 1.1765, Accuracy: 18882/20000 (94%)\n",
      "\n",
      "Train Epoch: 14 [0/64000 (0%)]\tLoss: 1.188799\n",
      "Train Epoch: 14 [1600/64000 (2%)]\tLoss: 1.147467\n",
      "Train Epoch: 14 [3200/64000 (5%)]\tLoss: 1.107999\n",
      "Train Epoch: 14 [4800/64000 (8%)]\tLoss: 1.125717\n",
      "Train Epoch: 14 [6400/64000 (10%)]\tLoss: 1.271289\n",
      "Train Epoch: 14 [8000/64000 (12%)]\tLoss: 1.121830\n",
      "Train Epoch: 14 [9600/64000 (15%)]\tLoss: 1.112436\n",
      "Train Epoch: 14 [11200/64000 (18%)]\tLoss: 1.205732\n",
      "Train Epoch: 14 [12800/64000 (20%)]\tLoss: 1.115961\n",
      "Train Epoch: 14 [14400/64000 (22%)]\tLoss: 1.145184\n",
      "Train Epoch: 14 [16000/64000 (25%)]\tLoss: 1.124435\n",
      "Train Epoch: 14 [17600/64000 (28%)]\tLoss: 1.111154\n",
      "Train Epoch: 14 [19200/64000 (30%)]\tLoss: 1.123960\n",
      "Train Epoch: 14 [20800/64000 (32%)]\tLoss: 1.115519\n",
      "Train Epoch: 14 [22400/64000 (35%)]\tLoss: 1.135436\n",
      "Train Epoch: 14 [24000/64000 (38%)]\tLoss: 1.115290\n",
      "Train Epoch: 14 [25600/64000 (40%)]\tLoss: 1.119577\n",
      "Train Epoch: 14 [27200/64000 (42%)]\tLoss: 1.174353\n",
      "Train Epoch: 14 [28800/64000 (45%)]\tLoss: 1.110407\n",
      "Train Epoch: 14 [30400/64000 (48%)]\tLoss: 1.148282\n",
      "Train Epoch: 14 [32000/64000 (50%)]\tLoss: 1.177425\n",
      "Train Epoch: 14 [33600/64000 (52%)]\tLoss: 1.120577\n",
      "Train Epoch: 14 [35200/64000 (55%)]\tLoss: 1.263509\n",
      "Train Epoch: 14 [36800/64000 (58%)]\tLoss: 1.122958\n",
      "Train Epoch: 14 [38400/64000 (60%)]\tLoss: 1.119655\n",
      "Train Epoch: 14 [40000/64000 (62%)]\tLoss: 1.119833\n",
      "Train Epoch: 14 [41600/64000 (65%)]\tLoss: 1.108121\n",
      "Train Epoch: 14 [43200/64000 (68%)]\tLoss: 1.111856\n",
      "Train Epoch: 14 [44800/64000 (70%)]\tLoss: 1.130480\n",
      "Train Epoch: 14 [46400/64000 (72%)]\tLoss: 1.196610\n",
      "Train Epoch: 14 [48000/64000 (75%)]\tLoss: 1.112736\n",
      "Train Epoch: 14 [49600/64000 (78%)]\tLoss: 1.117646\n",
      "Train Epoch: 14 [51200/64000 (80%)]\tLoss: 1.107971\n",
      "Train Epoch: 14 [52800/64000 (82%)]\tLoss: 1.111402\n",
      "Train Epoch: 14 [54400/64000 (85%)]\tLoss: 1.135842\n",
      "Train Epoch: 14 [56000/64000 (88%)]\tLoss: 1.137068\n",
      "Train Epoch: 14 [57600/64000 (90%)]\tLoss: 1.116805\n",
      "Train Epoch: 14 [59200/64000 (92%)]\tLoss: 1.117795\n",
      "Train Epoch: 14 [60800/64000 (95%)]\tLoss: 1.168085\n",
      "Train Epoch: 14 [62400/64000 (98%)]\tLoss: 1.123590\n",
      "\n",
      "Test set: Average loss: 1.1772, Accuracy: 18822/20000 (94%)\n",
      "\n",
      "Train Epoch: 15 [0/64000 (0%)]\tLoss: 1.152353\n",
      "Train Epoch: 15 [1600/64000 (2%)]\tLoss: 1.122131\n",
      "Train Epoch: 15 [3200/64000 (5%)]\tLoss: 1.170660\n",
      "Train Epoch: 15 [4800/64000 (8%)]\tLoss: 1.121433\n",
      "Train Epoch: 15 [6400/64000 (10%)]\tLoss: 1.107723\n",
      "Train Epoch: 15 [8000/64000 (12%)]\tLoss: 1.120722\n",
      "Train Epoch: 15 [9600/64000 (15%)]\tLoss: 1.128503\n",
      "Train Epoch: 15 [11200/64000 (18%)]\tLoss: 1.129101\n",
      "Train Epoch: 15 [12800/64000 (20%)]\tLoss: 1.218195\n",
      "Train Epoch: 15 [14400/64000 (22%)]\tLoss: 1.118764\n",
      "Train Epoch: 15 [16000/64000 (25%)]\tLoss: 1.111439\n",
      "Train Epoch: 15 [17600/64000 (28%)]\tLoss: 1.134940\n",
      "Train Epoch: 15 [19200/64000 (30%)]\tLoss: 1.107862\n",
      "Train Epoch: 15 [20800/64000 (32%)]\tLoss: 1.108810\n",
      "Train Epoch: 15 [22400/64000 (35%)]\tLoss: 1.120140\n",
      "Train Epoch: 15 [24000/64000 (38%)]\tLoss: 1.127441\n",
      "Train Epoch: 15 [25600/64000 (40%)]\tLoss: 1.172346\n",
      "Train Epoch: 15 [27200/64000 (42%)]\tLoss: 1.127968\n",
      "Train Epoch: 15 [28800/64000 (45%)]\tLoss: 1.111257\n",
      "Train Epoch: 15 [30400/64000 (48%)]\tLoss: 1.129619\n",
      "Train Epoch: 15 [32000/64000 (50%)]\tLoss: 1.110336\n",
      "Train Epoch: 15 [33600/64000 (52%)]\tLoss: 1.160689\n",
      "Train Epoch: 15 [35200/64000 (55%)]\tLoss: 1.134314\n",
      "Train Epoch: 15 [36800/64000 (58%)]\tLoss: 1.116564\n",
      "Train Epoch: 15 [38400/64000 (60%)]\tLoss: 1.120161\n",
      "Train Epoch: 15 [40000/64000 (62%)]\tLoss: 1.190236\n",
      "Train Epoch: 15 [41600/64000 (65%)]\tLoss: 1.113328\n",
      "Train Epoch: 15 [43200/64000 (68%)]\tLoss: 1.108027\n",
      "Train Epoch: 15 [44800/64000 (70%)]\tLoss: 1.194631\n",
      "Train Epoch: 15 [46400/64000 (72%)]\tLoss: 1.213965\n",
      "Train Epoch: 15 [48000/64000 (75%)]\tLoss: 1.113742\n",
      "Train Epoch: 15 [49600/64000 (78%)]\tLoss: 1.159854\n",
      "Train Epoch: 15 [51200/64000 (80%)]\tLoss: 1.109626\n",
      "Train Epoch: 15 [52800/64000 (82%)]\tLoss: 1.106547\n",
      "Train Epoch: 15 [54400/64000 (85%)]\tLoss: 1.121447\n",
      "Train Epoch: 15 [56000/64000 (88%)]\tLoss: 1.136052\n",
      "Train Epoch: 15 [57600/64000 (90%)]\tLoss: 1.109857\n",
      "Train Epoch: 15 [59200/64000 (92%)]\tLoss: 1.111669\n",
      "Train Epoch: 15 [60800/64000 (95%)]\tLoss: 1.128029\n",
      "Train Epoch: 15 [62400/64000 (98%)]\tLoss: 1.127889\n",
      "\n",
      "Test set: Average loss: 1.1741, Accuracy: 18893/20000 (94%)\n",
      "\n"
     ]
    }
   ],
   "source": [
    "# train and test the CNN model\n",
    "if not pretrained:\n",
    "    for epoch in range(1, epochs + 1):\n",
    "        train_cnn(triple_mnist_cnn, device, train_loader, optimizer, epoch, criterion)\n",
    "        test_cnn(triple_mnist_cnn, device, test_loader)"
   ],
   "metadata": {
    "collapsed": false,
    "pycharm": {
     "name": "#%%\n"
    }
   }
  },
  {
   "cell_type": "code",
   "execution_count": 37,
   "outputs": [
    {
     "data": {
      "text/plain": "<Figure size 640x480 with 1 Axes>",
      "image/png": "[encoded data removed]"
     },
     "metadata": {},
     "output_type": "display_data"
    }
   ],
   "source": [
    "if not pretrained:\n",
    "# graph the loss\n",
    "    plt.plot(train_losses, label='Training loss')\n",
    "    plt.plot(test_losses, label='Validation loss')\n",
    "    plt.legend(frameon=False)\n",
    "    plt.xlabel('Epoch')\n",
    "    plt.ylabel('Loss')\n",
    "    plt.show()"
   ],
   "metadata": {
    "collapsed": false,
    "pycharm": {
     "name": "#%%\n"
    }
   }
  },
  {
   "cell_type": "code",
   "execution_count": 38,
   "outputs": [
    {
     "name": "stdout",
     "output_type": "stream",
     "text": [
      "\n",
      "Test set: Average loss: 1.1722, Accuracy: 18889/20000 (94%)\n",
      "\n"
     ]
    }
   ],
   "source": [
    "final_accuracy_cnn = test_cnn(triple_mnist_cnn, device, test_loader)"
   ],
   "metadata": {
    "collapsed": false,
    "pycharm": {
     "name": "#%%\n"
    }
   }
  },
  {
   "cell_type": "code",
   "execution_count": 62,
   "outputs": [],
   "source": [
    "# save the model\n",
    "torch.save(triple_mnist_cnn.state_dict(), 'cnn_model.pt')"
   ],
   "metadata": {
    "collapsed": false,
    "pycharm": {
     "name": "#%%\n"
    }
   }
  },
  {
   "cell_type": "code",
   "execution_count": 39,
   "outputs": [
    {
     "name": "stderr",
     "output_type": "stream",
     "text": [
      "Clipping input data to the valid range for imshow with RGB data ([0..1] for floats or [0..255] for integers).\n"
     ]
    },
    {
     "data": {
      "text/plain": "<Figure size 640x480 with 1 Axes>",
      "image/png": "[encoded data removed]"
     },
     "metadata": {},
     "output_type": "display_data"
    },
    {
     "name": "stdout",
     "output_type": "stream",
     "text": [
      "label 409\n",
      "model_answer 409\n"
     ]
    }
   ],
   "source": [
    "# test the model on a random image\n",
    "def test_sample(model, device, test_loader):\n",
    "    model.eval()\n",
    "    with torch.no_grad():\n",
    "        for data, target in test_loader:\n",
    "            data, target = data.to(device), target.to(device)\n",
    "            i = 0\n",
    "            sample = data[i]\n",
    "            imshow(sample.view(3, 84, 84).to('cpu'))\n",
    "            print('label', target[i].item())\n",
    "\n",
    "            output = model(data)\n",
    "            output = output.view(data.shape[0], 10, -1)\n",
    "            output = output.argmax(dim=1, keepdim=True)[i]\n",
    "            output = output[0][0].item() * 100 + output[0][1].item() * 10 + output[0][2].item()\n",
    "            print('model_answer', output)\n",
    "            # print(output.argmax(dim=1, keepdim=True)[id])\n",
    "            break\n",
    "test_sample(triple_mnist_cnn, device, test_loader)"
   ],
   "metadata": {
    "collapsed": false,
    "pycharm": {
     "name": "#%%\n"
    }
   }
  },
  {
   "cell_type": "markdown",
   "source": [
    "## Compare both models in terms of accuracy, number of parameters and speed of inference (the time the model takes to predict 50 samples)."
   ],
   "metadata": {
    "collapsed": false,
    "pycharm": {
     "name": "#%% md\n"
    }
   }
  },
  {
   "cell_type": "code",
   "execution_count": 40,
   "outputs": [
    {
     "name": "stdout",
     "output_type": "stream",
     "text": [
      "ANN accuracy on the test set:  0.58885\n",
      "CNN accuracy on the test set:  0.94445\n"
     ]
    }
   ],
   "source": [
    "# compare the models accuracy\n",
    "print(\"ANN accuracy on the test set: \", final_accuracy_ann)\n",
    "print(\"CNN accuracy on the test set: \", final_accuracy_cnn)"
   ],
   "metadata": {
    "collapsed": false,
    "pycharm": {
     "name": "#%%\n"
    }
   }
  },
  {
   "cell_type": "code",
   "execution_count": 41,
   "outputs": [
    {
     "name": "stdout",
     "output_type": "stream",
     "text": [
      "ANN number of parameters:  10977566\n",
      "CNN number of parameters:  4388994\n"
     ]
    }
   ],
   "source": [
    "# compare the models number of parameters\n",
    "print(\"ANN number of parameters: \", sum(p.numel() for p in triple_mnist_ann.parameters()))\n",
    "print(\"CNN number of parameters: \", sum(p.numel() for p in triple_mnist_cnn.parameters()))"
   ],
   "metadata": {
    "collapsed": false,
    "pycharm": {
     "name": "#%%\n"
    }
   }
  },
  {
   "cell_type": "code",
   "execution_count": 42,
   "outputs": [],
   "source": [
    "def model_answer(model, device, sample):\n",
    "    model.eval()\n",
    "    with torch.no_grad():\n",
    "        sample = sample.to(device)\n",
    "        output = model(sample)\n",
    "        output = output.view(1, 10, -1)\n",
    "        return output.argmax(dim=1, keepdim=True)"
   ],
   "metadata": {
    "collapsed": false,
    "pycharm": {
     "name": "#%%\n"
    }
   }
  },
  {
   "cell_type": "code",
   "execution_count": 43,
   "outputs": [],
   "source": [
    "# get random samples from the test set\n",
    "test_samples = []\n",
    "test_labels = []\n",
    "for j in range(4):\n",
    "    for data, target in test_loader:\n",
    "        for i in range(data.shape[0]):\n",
    "            test_samples.append(data[i])\n",
    "            test_labels.append(target[i])\n",
    "        break\n",
    "test_samples = test_samples[:50]\n",
    "test_labels = test_labels[:50]"
   ],
   "metadata": {
    "collapsed": false,
    "pycharm": {
     "name": "#%%\n"
    }
   }
  },
  {
   "cell_type": "code",
   "execution_count": 44,
   "outputs": [
    {
     "name": "stdout",
     "output_type": "stream",
     "text": [
      "16.2 ms ± 523 µs per loop (mean ± std. dev. of 7 runs, 100 loops each)\n"
     ]
    }
   ],
   "source": [
    "%%timeit\n",
    "# compare the models inference time\n",
    "for i in range(50):\n",
    "    model_answer(triple_mnist_ann, device, test_samples[i].view(-1, 3* 84 * 84))\n"
   ],
   "metadata": {
    "collapsed": false,
    "pycharm": {
     "name": "#%%\n"
    }
   }
  },
  {
   "cell_type": "code",
   "execution_count": 45,
   "outputs": [
    {
     "name": "stdout",
     "output_type": "stream",
     "text": [
      "37.8 ms ± 1.54 ms per loop (mean ± std. dev. of 7 runs, 10 loops each)\n"
     ]
    }
   ],
   "source": [
    "%%timeit\n",
    "for i in range(50):\n",
    "    model_answer(triple_mnist_cnn, device, test_samples[i].view(-1, 3, 84, 84))"
   ],
   "metadata": {
    "collapsed": false,
    "pycharm": {
     "name": "#%%\n"
    }
   }
  },
  {
   "cell_type": "markdown",
   "source": [
    "### Questions\n",
    "1. What preprocessing techniques did you use? Why?\n",
    "    - Creating data loaders for the train and test sets with batch size of 16.\n",
    "    - Shuffling the train and test sets.\n",
    "    - Redefining labels for the data in the dataloaders.\n",
    "2. What data augmentation techniques did you use?\n",
    "    - Normalizing the data.\n",
    "    - Randomly rotating the images by 10 degrees.\n",
    "3. Describe the fine-tuning process and how you reached your final CNN model.\n",
    "    - Firstly I tried to make CNN model with 1000 classes in the output layer, but it didn't work well.\n",
    "    - Then I decided to make model with 30 neurons in the output layer (10 neurons for each digit in the label). And this approach worked much better.\n",
    "    - Then I tried to add more layers to the model to improve the accuracy.\n",
    "    - In final model I have 4 convolutional layers with ReLU activation function.\n",
    "    - After each convolutional layer, except the last one, I have max pooling layer.\n",
    "    - Finally, after all the convolutional layers my input takes the form of (batch_size, 64, 8, 8).\n",
    "    - Then I flatten the input and pass it to the fully connected layer with 30 neurons in the output layer.\n",
    "- And about the training process:\n",
    "    - I used SGD optimizer with learning rate of 0.01 and momentum of 0.5.\n",
    "    - I used NLLLoss as a loss function.\n",
    "    - I trained the model for 15 epochs.\n",
    "This model have pretty good accuracy on the test set (about 94%). And I think these parameters and architecture of the model are good enough for this task."
   ],
   "metadata": {
    "collapsed": false,
    "pycharm": {
     "name": "#%% md\n"
    }
   }
  },
  {
   "cell_type": "markdown",
   "source": [
    "# Task 3: Decision Trees and Ensemble Learning (15%)\n",
    "\n",
    "For the `loan_data.csv` data, predict if the bank should give a loan or not.\n",
    "You need to do the following:\n",
    "- Fine-tune a decision tree on the data\n",
    "- Fine-tune a random forest on the data\n",
    "- Compare their performance\n",
    "- Visualize your DT and one of the trees from the RF\n",
    "\n",
    "For evaluating your models, do $80/20$ train test split.\n",
    "\n",
    "### Data\n",
    "- `credit.policy`: Whether the customer meets the credit underwriting criteria.\n",
    "- `purpose`: The purpose of the loan.\n",
    "- `int.rate`: The interest rate of the loan.\n",
    "- `installment`: The monthly installments owed by the borrower if the loan is funded.\n",
    "- `log.annual.inc`: The natural logarithm of the self-reported annual income of the borrower.\n",
    "- `dti`: The debt-to-income ratio of the borrower.\n",
    "- `fico`: The FICO credit score of the borrower.\n",
    "- `days.with.cr.line`: The number of days the borrower has had a credit line.\n",
    "- `revol.bal`: The borrower's revolving balance.\n",
    "- `revol.util`: The borrower's revolving line utilization rate."
   ],
   "metadata": {
    "collapsed": false,
    "pycharm": {
     "name": "#%% md\n"
    }
   }
  },
  {
   "cell_type": "code",
   "execution_count": 46,
   "outputs": [
    {
     "name": "stdout",
     "output_type": "stream",
     "text": [
      "(9578, 14)\n"
     ]
    },
    {
     "data": {
      "text/plain": "   credit.policy             purpose  int.rate  installment  log.annual.inc  \\\n0              1  debt_consolidation    0.1189       829.10       11.350407   \n1              1         credit_card    0.1071       228.22       11.082143   \n2              1  debt_consolidation    0.1357       366.86       10.373491   \n3              1  debt_consolidation    0.1008       162.34       11.350407   \n4              1         credit_card    0.1426       102.92       11.299732   \n\n     dti  fico  days.with.cr.line  revol.bal  revol.util  inq.last.6mths  \\\n0  19.48   737        5639.958333      28854        52.1               0   \n1  14.29   707        2760.000000      33623        76.7               0   \n2  11.63   682        4710.000000       3511        25.6               1   \n3   8.10   712        2699.958333      33667        73.2               1   \n4  14.97   667        4066.000000       4740        39.5               0   \n\n   delinq.2yrs  pub.rec  not.fully.paid  \n0            0        0               0  \n1            0        0               0  \n2            0        0               0  \n3            0        0               0  \n4            1        0               0  ",
      "text/html": "<div>\n<style scoped>\n    .dataframe tbody tr th:only-of-type {\n        vertical-align: middle;\n    }\n\n    .dataframe tbody tr th {\n        vertical-align: top;\n    }\n\n    .dataframe thead th {\n        text-align: right;\n    }\n</style>\n<table border=\"1\" class=\"dataframe\">\n  <thead>\n    <tr style=\"text-align: right;\">\n      <th></th>\n      <th>credit.policy</th>\n      <th>purpose</th>\n      <th>int.rate</th>\n      <th>installment</th>\n      <th>log.annual.inc</th>\n      <th>dti</th>\n      <th>fico</th>\n      <th>days.with.cr.line</th>\n      <th>revol.bal</th>\n      <th>revol.util</th>\n      <th>inq.last.6mths</th>\n      <th>delinq.2yrs</th>\n      <th>pub.rec</th>\n      <th>not.fully.paid</th>\n    </tr>\n  </thead>\n  <tbody>\n    <tr>\n      <th>0</th>\n      <td>1</td>\n      <td>debt_consolidation</td>\n      <td>0.1189</td>\n      <td>829.10</td>\n      <td>11.350407</td>\n      <td>19.48</td>\n      <td>737</td>\n      <td>5639.958333</td>\n      <td>28854</td>\n      <td>52.1</td>\n      <td>0</td>\n      <td>0</td>\n      <td>0</td>\n      <td>0</td>\n    </tr>\n    <tr>\n      <th>1</th>\n      <td>1</td>\n      <td>credit_card</td>\n      <td>0.1071</td>\n      <td>228.22</td>\n      <td>11.082143</td>\n      <td>14.29</td>\n      <td>707</td>\n      <td>2760.000000</td>\n      <td>33623</td>\n      <td>76.7</td>\n      <td>0</td>\n      <td>0</td>\n      <td>0</td>\n      <td>0</td>\n    </tr>\n    <tr>\n      <th>2</th>\n      <td>1</td>\n      <td>debt_consolidation</td>\n      <td>0.1357</td>\n      <td>366.86</td>\n      <td>10.373491</td>\n      <td>11.63</td>\n      <td>682</td>\n      <td>4710.000000</td>\n      <td>3511</td>\n      <td>25.6</td>\n      <td>1</td>\n      <td>0</td>\n      <td>0</td>\n      <td>0</td>\n    </tr>\n    <tr>\n      <th>3</th>\n      <td>1</td>\n      <td>debt_consolidation</td>\n      <td>0.1008</td>\n      <td>162.34</td>\n      <td>11.350407</td>\n      <td>8.10</td>\n      <td>712</td>\n      <td>2699.958333</td>\n      <td>33667</td>\n      <td>73.2</td>\n      <td>1</td>\n      <td>0</td>\n      <td>0</td>\n      <td>0</td>\n    </tr>\n    <tr>\n      <th>4</th>\n      <td>1</td>\n      <td>credit_card</td>\n      <td>0.1426</td>\n      <td>102.92</td>\n      <td>11.299732</td>\n      <td>14.97</td>\n      <td>667</td>\n      <td>4066.000000</td>\n      <td>4740</td>\n      <td>39.5</td>\n      <td>0</td>\n      <td>1</td>\n      <td>0</td>\n      <td>0</td>\n    </tr>\n  </tbody>\n</table>\n</div>"
     },
     "execution_count": 46,
     "metadata": {},
     "output_type": "execute_result"
    }
   ],
   "source": [
    "loan_data = pd.read_csv('loan_data.csv')\n",
    "print(loan_data.shape)\n",
    "loan_data.head()"
   ],
   "metadata": {
    "collapsed": false,
    "pycharm": {
     "name": "#%%\n"
    }
   }
  },
  {
   "cell_type": "code",
   "execution_count": 47,
   "outputs": [
    {
     "data": {
      "text/plain": "   credit.policy  int.rate  installment  log.annual.inc    dti  fico  \\\n0              1    0.1189       829.10       11.350407  19.48   737   \n1              1    0.1071       228.22       11.082143  14.29   707   \n2              1    0.1357       366.86       10.373491  11.63   682   \n3              1    0.1008       162.34       11.350407   8.10   712   \n4              1    0.1426       102.92       11.299732  14.97   667   \n\n   days.with.cr.line  revol.bal  revol.util  inq.last.6mths  delinq.2yrs  \\\n0        5639.958333      28854        52.1               0            0   \n1        2760.000000      33623        76.7               0            0   \n2        4710.000000       3511        25.6               1            0   \n3        2699.958333      33667        73.2               1            0   \n4        4066.000000       4740        39.5               0            1   \n\n   pub.rec  not.fully.paid  all_other  credit_card  debt_consolidation  \\\n0        0               0          0            0                   1   \n1        0               0          0            1                   0   \n2        0               0          0            0                   1   \n3        0               0          0            0                   1   \n4        0               0          0            1                   0   \n\n   educational  home_improvement  major_purchase  small_business  \n0            0                 0               0               0  \n1            0                 0               0               0  \n2            0                 0               0               0  \n3            0                 0               0               0  \n4            0                 0               0               0  ",
      "text/html": "<div>\n<style scoped>\n    .dataframe tbody tr th:only-of-type {\n        vertical-align: middle;\n    }\n\n    .dataframe tbody tr th {\n        vertical-align: top;\n    }\n\n    .dataframe thead th {\n        text-align: right;\n    }\n</style>\n<table border=\"1\" class=\"dataframe\">\n  <thead>\n    <tr style=\"text-align: right;\">\n      <th></th>\n      <th>credit.policy</th>\n      <th>int.rate</th>\n      <th>installment</th>\n      <th>log.annual.inc</th>\n      <th>dti</th>\n      <th>fico</th>\n      <th>days.with.cr.line</th>\n      <th>revol.bal</th>\n      <th>revol.util</th>\n      <th>inq.last.6mths</th>\n      <th>delinq.2yrs</th>\n      <th>pub.rec</th>\n      <th>not.fully.paid</th>\n      <th>all_other</th>\n      <th>credit_card</th>\n      <th>debt_consolidation</th>\n      <th>educational</th>\n      <th>home_improvement</th>\n      <th>major_purchase</th>\n      <th>small_business</th>\n    </tr>\n  </thead>\n  <tbody>\n    <tr>\n      <th>0</th>\n      <td>1</td>\n      <td>0.1189</td>\n      <td>829.10</td>\n      <td>11.350407</td>\n      <td>19.48</td>\n      <td>737</td>\n      <td>5639.958333</td>\n      <td>28854</td>\n      <td>52.1</td>\n      <td>0</td>\n      <td>0</td>\n      <td>0</td>\n      <td>0</td>\n      <td>0</td>\n      <td>0</td>\n      <td>1</td>\n      <td>0</td>\n      <td>0</td>\n      <td>0</td>\n      <td>0</td>\n    </tr>\n    <tr>\n      <th>1</th>\n      <td>1</td>\n      <td>0.1071</td>\n      <td>228.22</td>\n      <td>11.082143</td>\n      <td>14.29</td>\n      <td>707</td>\n      <td>2760.000000</td>\n      <td>33623</td>\n      <td>76.7</td>\n      <td>0</td>\n      <td>0</td>\n      <td>0</td>\n      <td>0</td>\n      <td>0</td>\n      <td>1</td>\n      <td>0</td>\n      <td>0</td>\n      <td>0</td>\n      <td>0</td>\n      <td>0</td>\n    </tr>\n    <tr>\n      <th>2</th>\n      <td>1</td>\n      <td>0.1357</td>\n      <td>366.86</td>\n      <td>10.373491</td>\n      <td>11.63</td>\n      <td>682</td>\n      <td>4710.000000</td>\n      <td>3511</td>\n      <td>25.6</td>\n      <td>1</td>\n      <td>0</td>\n      <td>0</td>\n      <td>0</td>\n      <td>0</td>\n      <td>0</td>\n      <td>1</td>\n      <td>0</td>\n      <td>0</td>\n      <td>0</td>\n      <td>0</td>\n    </tr>\n    <tr>\n      <th>3</th>\n      <td>1</td>\n      <td>0.1008</td>\n      <td>162.34</td>\n      <td>11.350407</td>\n      <td>8.10</td>\n      <td>712</td>\n      <td>2699.958333</td>\n      <td>33667</td>\n      <td>73.2</td>\n      <td>1</td>\n      <td>0</td>\n      <td>0</td>\n      <td>0</td>\n      <td>0</td>\n      <td>0</td>\n      <td>1</td>\n      <td>0</td>\n      <td>0</td>\n      <td>0</td>\n      <td>0</td>\n    </tr>\n    <tr>\n      <th>4</th>\n      <td>1</td>\n      <td>0.1426</td>\n      <td>102.92</td>\n      <td>11.299732</td>\n      <td>14.97</td>\n      <td>667</td>\n      <td>4066.000000</td>\n      <td>4740</td>\n      <td>39.5</td>\n      <td>0</td>\n      <td>1</td>\n      <td>0</td>\n      <td>0</td>\n      <td>0</td>\n      <td>1</td>\n      <td>0</td>\n      <td>0</td>\n      <td>0</td>\n      <td>0</td>\n      <td>0</td>\n    </tr>\n  </tbody>\n</table>\n</div>"
     },
     "execution_count": 47,
     "metadata": {},
     "output_type": "execute_result"
    }
   ],
   "source": [
    "loan_data_purpose = pd.get_dummies(loan_data['purpose'])\n",
    "loan_data = loan_data.drop('purpose', axis=1)\n",
    "loan_data = pd.concat([loan_data, loan_data_purpose], axis=1)\n",
    "loan_data.head()"
   ],
   "metadata": {
    "collapsed": false,
    "pycharm": {
     "name": "#%%\n"
    }
   }
  },
  {
   "cell_type": "code",
   "execution_count": 48,
   "outputs": [],
   "source": [
    "X = loan_data.drop('credit.policy', axis=1)\n",
    "y = loan_data['credit.policy']"
   ],
   "metadata": {
    "collapsed": false,
    "pycharm": {
     "name": "#%%\n"
    }
   }
  },
  {
   "cell_type": "code",
   "execution_count": 49,
   "outputs": [],
   "source": [
    "X_train, X_test, y_train, y_test = train_test_split(X, y, test_size=0.2, random_state=42)"
   ],
   "metadata": {
    "collapsed": false,
    "pycharm": {
     "name": "#%%\n"
    }
   }
  },
  {
   "cell_type": "markdown",
   "source": [
    "The best metric for this problem is recall. We want to minimize the number of people who are not eligible for a loan but are given one. This is a very important metric for banks."
   ],
   "metadata": {
    "collapsed": false,
    "pycharm": {
     "name": "#%% md\n"
    }
   }
  },
  {
   "cell_type": "code",
   "execution_count": 50,
   "outputs": [
    {
     "name": "stdout",
     "output_type": "stream",
     "text": [
      "Accuracy:  0.9749478079331941\n"
     ]
    }
   ],
   "source": [
    "from sklearn.tree import DecisionTreeClassifier\n",
    "from sklearn.ensemble import RandomForestClassifier\n",
    "from sklearn.metrics import accuracy_score\n",
    "from sklearn.model_selection import GridSearchCV, RandomizedSearchCV\n",
    "\n",
    "dtree_clf = DecisionTreeClassifier() # decision tree classifier\n",
    "\n",
    "# parameters for grid search\n",
    "params = {\n",
    "    'max_depth': [2, 3, 4, 5, 6, 7],\n",
    "    'min_samples_split': [4, 5, 6, 7],\n",
    "    'min_samples_leaf': [4, 5, 6, 7, 8, 9, 10],\n",
    "    'max_features': ['sqrt', 'log2'],\n",
    "    'criterion': ['gini', 'entropy']\n",
    "}\n",
    "\n",
    "# grid search with 5-fold cross validation\n",
    "grid_search = GridSearchCV(dtree_clf, params, cv=5, scoring='accuracy', n_jobs=-1)\n",
    "grid_search.fit(X_train, y_train)\n",
    "\n",
    "# best parameters\n",
    "best_model = grid_search.best_estimator_\n",
    "\n",
    "# accuracy on test set\n",
    "y_pred = best_model.predict(X_test)\n",
    "print('Accuracy: ', accuracy_score(y_test, y_pred))"
   ],
   "metadata": {
    "collapsed": false,
    "pycharm": {
     "name": "#%%\n"
    }
   }
  },
  {
   "cell_type": "code",
   "execution_count": 51,
   "outputs": [
    {
     "data": {
      "text/plain": "{'criterion': 'entropy',\n 'max_depth': 7,\n 'max_features': 'sqrt',\n 'min_samples_leaf': 6,\n 'min_samples_split': 6}"
     },
     "execution_count": 51,
     "metadata": {},
     "output_type": "execute_result"
    }
   ],
   "source": [
    "grid_search.best_params_ # best parameters"
   ],
   "metadata": {
    "collapsed": false,
    "pycharm": {
     "name": "#%%\n"
    }
   }
  },
  {
   "cell_type": "code",
   "execution_count": 52,
   "outputs": [
    {
     "name": "stdout",
     "output_type": "stream",
     "text": [
      "Fitting 5 folds for each of 3200 candidates, totalling 16000 fits\n",
      "Accuracy:  0.9838204592901879\n"
     ]
    }
   ],
   "source": [
    "rf_clf = RandomForestClassifier() # random forest classifier\n",
    "\n",
    "# parameters for grid search\n",
    "params_rf = {\n",
    "    'n_estimators': [10, 20, 30, 40, 50, 60, 70, 80, 90, 100],\n",
    "    'max_depth': [2, 4, 6, 5, 7],\n",
    "    'min_samples_split': [2, 4, 6, 5],\n",
    "    'min_samples_leaf': [2, 4, 6, 5],\n",
    "    'max_features': ['sqrt', 'log2'],\n",
    "    'criterion': ['gini', 'entropy']\n",
    "}\n",
    "\n",
    "# grid search with 5-fold cross validation\n",
    "grid_search_rf = GridSearchCV(rf_clf, params_rf, cv=5, scoring='accuracy', n_jobs=-1, verbose=1)\n",
    "grid_search_rf.fit(X_train, y_train)\n",
    "\n",
    "# best parameters\n",
    "y_pred_rf = grid_search_rf.predict(X_test)\n",
    "\n",
    "# accuracy on test set\n",
    "print('Accuracy: ', accuracy_score(y_test, y_pred_rf))"
   ],
   "metadata": {
    "collapsed": false,
    "pycharm": {
     "name": "#%%\n"
    }
   }
  },
  {
   "cell_type": "code",
   "execution_count": 53,
   "outputs": [
    {
     "data": {
      "text/plain": "{'criterion': 'entropy',\n 'max_depth': 7,\n 'max_features': 'sqrt',\n 'min_samples_leaf': 2,\n 'min_samples_split': 2,\n 'n_estimators': 60}"
     },
     "execution_count": 53,
     "metadata": {},
     "output_type": "execute_result"
    }
   ],
   "source": [
    "grid_search_rf.best_params_ # best parameters"
   ],
   "metadata": {
    "collapsed": false,
    "pycharm": {
     "name": "#%%\n"
    }
   }
  },
  {
   "cell_type": "code",
   "execution_count": 54,
   "outputs": [
    {
     "data": {
      "image/svg+xml": "<?xml version=\"1.0\" encoding=\"UTF-8\" standalone=\"no\"?>\n<!DOCTYPE svg PUBLIC \"-//W3C//DTD SVG 1.1//EN\"\n \"http://www.w3.org/Graphics/SVG/1.1/DTD/svg11.dtd\">\n<!-- Generated by graphviz version 6.0.1 (20220911.2005)\n -->\n<!-- Title: Tree Pages: 1 -->\n<svg width=\"2860pt\" height=\"909pt\"\n viewBox=\"0.00 0.00 2860.00 909.00\" xmlns=\"http://www.w3.org/2000/svg\" xmlns:xlink=\"http://www.w3.org/1999/xlink\">\n<g id=\"graph0\" class=\"graph\" transform=\"scale(1 1) rotate(0) translate(4 905)\">\n<title>Tree</title>\n<polygon fill=\"white\" stroke=\"none\" points=\"-4,4 -4,-905 2856,-905 2856,4 -4,4\"/>\n<!-- 0 -->\n<g id=\"node1\" class=\"node\">\n<title>0</title>\n<path fill=\"#69b5eb\" stroke=\"black\" d=\"M741,-901C741,-901 598,-901 598,-901 592,-901 586,-895 586,-889 586,-889 586,-830 586,-830 586,-824 592,-818 598,-818 598,-818 741,-818 741,-818 747,-818 753,-824 753,-830 753,-830 753,-889 753,-889 753,-895 747,-901 741,-901\"/>\n<text text-anchor=\"start\" x=\"626\" y=\"-885.8\" font-family=\"Helvetica,sans-Serif\" font-size=\"14.00\">fico ≤ 659.5</text>\n<text text-anchor=\"start\" x=\"612\" y=\"-870.8\" font-family=\"Helvetica,sans-Serif\" font-size=\"14.00\">entropy = 0.712</text>\n<text text-anchor=\"start\" x=\"612\" y=\"-855.8\" font-family=\"Helvetica,sans-Serif\" font-size=\"14.00\">samples = 7662</text>\n<text text-anchor=\"start\" x=\"594\" y=\"-840.8\" font-family=\"Helvetica,sans-Serif\" font-size=\"14.00\">value = [1496, 6166]</text>\n<text text-anchor=\"start\" x=\"637\" y=\"-825.8\" font-family=\"Helvetica,sans-Serif\" font-size=\"14.00\">class = 1</text>\n</g>\n<!-- 1 -->\n<g id=\"node2\" class=\"node\">\n<title>1</title>\n<path fill=\"#e5823a\" stroke=\"black\" d=\"M639.5,-782C639.5,-782 499.5,-782 499.5,-782 493.5,-782 487.5,-776 487.5,-770 487.5,-770 487.5,-711 487.5,-711 487.5,-705 493.5,-699 499.5,-699 499.5,-699 639.5,-699 639.5,-699 645.5,-699 651.5,-705 651.5,-711 651.5,-711 651.5,-770 651.5,-770 651.5,-776 645.5,-782 639.5,-782\"/>\n<text text-anchor=\"start\" x=\"495.5\" y=\"-766.8\" font-family=\"Helvetica,sans-Serif\" font-size=\"14.00\">installment ≤ 95.415</text>\n<text text-anchor=\"start\" x=\"512\" y=\"-751.8\" font-family=\"Helvetica,sans-Serif\" font-size=\"14.00\">entropy = 0.046</text>\n<text text-anchor=\"start\" x=\"516.5\" y=\"-736.8\" font-family=\"Helvetica,sans-Serif\" font-size=\"14.00\">samples = 399</text>\n<text text-anchor=\"start\" x=\"512\" y=\"-721.8\" font-family=\"Helvetica,sans-Serif\" font-size=\"14.00\">value = [397, 2]</text>\n<text text-anchor=\"start\" x=\"537\" y=\"-706.8\" font-family=\"Helvetica,sans-Serif\" font-size=\"14.00\">class = 0</text>\n</g>\n<!-- 0&#45;&gt;1 -->\n<g id=\"edge1\" class=\"edge\">\n<title>0&#45;&gt;1</title>\n<path fill=\"none\" stroke=\"black\" d=\"M634.81,-817.91C627.05,-808.83 618.75,-799.12 610.76,-789.77\"/>\n<polygon fill=\"black\" stroke=\"black\" points=\"613.29,-787.35 604.13,-782.02 607.97,-791.9 613.29,-787.35\"/>\n<text text-anchor=\"middle\" x=\"602.18\" y=\"-803.24\" font-family=\"Helvetica,sans-Serif\" font-size=\"14.00\">True</text>\n</g>\n<!-- 10 -->\n<g id=\"node11\" class=\"node\">\n<title>10</title>\n<path fill=\"#5caeea\" stroke=\"black\" d=\"M863.5,-782C863.5,-782 687.5,-782 687.5,-782 681.5,-782 675.5,-776 675.5,-770 675.5,-770 675.5,-711 675.5,-711 675.5,-705 681.5,-699 687.5,-699 687.5,-699 863.5,-699 863.5,-699 869.5,-699 875.5,-705 875.5,-711 875.5,-711 875.5,-770 875.5,-770 875.5,-776 869.5,-782 863.5,-782\"/>\n<text text-anchor=\"start\" x=\"683.5\" y=\"-766.8\" font-family=\"Helvetica,sans-Serif\" font-size=\"14.00\">days.with.cr.line ≤ 1109.5</text>\n<text text-anchor=\"start\" x=\"718\" y=\"-751.8\" font-family=\"Helvetica,sans-Serif\" font-size=\"14.00\">entropy = 0.613</text>\n<text text-anchor=\"start\" x=\"718\" y=\"-736.8\" font-family=\"Helvetica,sans-Serif\" font-size=\"14.00\">samples = 7263</text>\n<text text-anchor=\"start\" x=\"700\" y=\"-721.8\" font-family=\"Helvetica,sans-Serif\" font-size=\"14.00\">value = [1099, 6164]</text>\n<text text-anchor=\"start\" x=\"743\" y=\"-706.8\" font-family=\"Helvetica,sans-Serif\" font-size=\"14.00\">class = 1</text>\n</g>\n<!-- 0&#45;&gt;10 -->\n<g id=\"edge10\" class=\"edge\">\n<title>0&#45;&gt;10</title>\n<path fill=\"none\" stroke=\"black\" d=\"M706.28,-817.91C714.58,-808.74 723.47,-798.93 732.02,-789.49\"/>\n<polygon fill=\"black\" stroke=\"black\" points=\"734.67,-791.78 738.79,-782.02 729.48,-787.08 734.67,-791.78\"/>\n<text text-anchor=\"middle\" x=\"740.02\" y=\"-803.29\" font-family=\"Helvetica,sans-Serif\" font-size=\"14.00\">False</text>\n</g>\n<!-- 2 -->\n<g id=\"node3\" class=\"node\">\n<title>2</title>\n<path fill=\"#e6853f\" stroke=\"black\" d=\"M471,-663C471,-663 364,-663 364,-663 358,-663 352,-657 352,-651 352,-651 352,-592 352,-592 352,-586 358,-580 364,-580 364,-580 471,-580 471,-580 477,-580 483,-586 483,-592 483,-592 483,-651 483,-651 483,-657 477,-663 471,-663\"/>\n<text text-anchor=\"start\" x=\"361\" y=\"-647.8\" font-family=\"Helvetica,sans-Serif\" font-size=\"14.00\">revol.util ≤ 61.3</text>\n<text text-anchor=\"start\" x=\"360\" y=\"-632.8\" font-family=\"Helvetica,sans-Serif\" font-size=\"14.00\">entropy = 0.181</text>\n<text text-anchor=\"start\" x=\"369\" y=\"-617.8\" font-family=\"Helvetica,sans-Serif\" font-size=\"14.00\">samples = 73</text>\n<text text-anchor=\"start\" x=\"364.5\" y=\"-602.8\" font-family=\"Helvetica,sans-Serif\" font-size=\"14.00\">value = [71, 2]</text>\n<text text-anchor=\"start\" x=\"385\" y=\"-587.8\" font-family=\"Helvetica,sans-Serif\" font-size=\"14.00\">class = 0</text>\n</g>\n<!-- 1&#45;&gt;2 -->\n<g id=\"edge2\" class=\"edge\">\n<title>1&#45;&gt;2</title>\n<path fill=\"none\" stroke=\"black\" d=\"M516.76,-698.91C504.38,-689.38 491.09,-679.15 478.39,-669.37\"/>\n<polygon fill=\"black\" stroke=\"black\" points=\"480.2,-666.35 470.14,-663.02 475.93,-671.89 480.2,-666.35\"/>\n</g>\n<!-- 9 -->\n<g id=\"node10\" class=\"node\">\n<title>9</title>\n<path fill=\"#e58139\" stroke=\"black\" d=\"M623,-655.5C623,-655.5 516,-655.5 516,-655.5 510,-655.5 504,-649.5 504,-643.5 504,-643.5 504,-599.5 504,-599.5 504,-593.5 510,-587.5 516,-587.5 516,-587.5 623,-587.5 623,-587.5 629,-587.5 635,-593.5 635,-599.5 635,-599.5 635,-643.5 635,-643.5 635,-649.5 629,-655.5 623,-655.5\"/>\n<text text-anchor=\"start\" x=\"521\" y=\"-640.3\" font-family=\"Helvetica,sans-Serif\" font-size=\"14.00\">entropy = 0.0</text>\n<text text-anchor=\"start\" x=\"516.5\" y=\"-625.3\" font-family=\"Helvetica,sans-Serif\" font-size=\"14.00\">samples = 326</text>\n<text text-anchor=\"start\" x=\"512\" y=\"-610.3\" font-family=\"Helvetica,sans-Serif\" font-size=\"14.00\">value = [326, 0]</text>\n<text text-anchor=\"start\" x=\"537\" y=\"-595.3\" font-family=\"Helvetica,sans-Serif\" font-size=\"14.00\">class = 0</text>\n</g>\n<!-- 1&#45;&gt;9 -->\n<g id=\"edge9\" class=\"edge\">\n<title>1&#45;&gt;9</title>\n<path fill=\"none\" stroke=\"black\" d=\"M569.5,-698.91C569.5,-688.2 569.5,-676.62 569.5,-665.78\"/>\n<polygon fill=\"black\" stroke=\"black\" points=\"573,-665.67 569.5,-655.67 566,-665.67 573,-665.67\"/>\n</g>\n<!-- 3 -->\n<g id=\"node4\" class=\"node\">\n<title>3</title>\n<path fill=\"#e58139\" stroke=\"black\" d=\"M321.5,-536.5C321.5,-536.5 223.5,-536.5 223.5,-536.5 217.5,-536.5 211.5,-530.5 211.5,-524.5 211.5,-524.5 211.5,-480.5 211.5,-480.5 211.5,-474.5 217.5,-468.5 223.5,-468.5 223.5,-468.5 321.5,-468.5 321.5,-468.5 327.5,-468.5 333.5,-474.5 333.5,-480.5 333.5,-480.5 333.5,-524.5 333.5,-524.5 333.5,-530.5 327.5,-536.5 321.5,-536.5\"/>\n<text text-anchor=\"start\" x=\"224\" y=\"-521.3\" font-family=\"Helvetica,sans-Serif\" font-size=\"14.00\">entropy = 0.0</text>\n<text text-anchor=\"start\" x=\"224\" y=\"-506.3\" font-family=\"Helvetica,sans-Serif\" font-size=\"14.00\">samples = 30</text>\n<text text-anchor=\"start\" x=\"219.5\" y=\"-491.3\" font-family=\"Helvetica,sans-Serif\" font-size=\"14.00\">value = [30, 0]</text>\n<text text-anchor=\"start\" x=\"240\" y=\"-476.3\" font-family=\"Helvetica,sans-Serif\" font-size=\"14.00\">class = 0</text>\n</g>\n<!-- 2&#45;&gt;3 -->\n<g id=\"edge3\" class=\"edge\">\n<title>2&#45;&gt;3</title>\n<path fill=\"none\" stroke=\"black\" d=\"M367.19,-579.91C352.42,-567.99 336.29,-554.98 321.6,-543.12\"/>\n<polygon fill=\"black\" stroke=\"black\" points=\"323.58,-540.22 313.6,-536.67 319.19,-545.67 323.58,-540.22\"/>\n</g>\n<!-- 4 -->\n<g id=\"node5\" class=\"node\">\n<title>4</title>\n<path fill=\"#e68743\" stroke=\"black\" d=\"M471,-544C471,-544 364,-544 364,-544 358,-544 352,-538 352,-532 352,-532 352,-473 352,-473 352,-467 358,-461 364,-461 364,-461 471,-461 471,-461 477,-461 483,-467 483,-473 483,-473 483,-532 483,-532 483,-538 477,-544 471,-544\"/>\n<text text-anchor=\"start\" x=\"373\" y=\"-528.8\" font-family=\"Helvetica,sans-Serif\" font-size=\"14.00\">dti ≤ 13.185</text>\n<text text-anchor=\"start\" x=\"360\" y=\"-513.8\" font-family=\"Helvetica,sans-Serif\" font-size=\"14.00\">entropy = 0.271</text>\n<text text-anchor=\"start\" x=\"369\" y=\"-498.8\" font-family=\"Helvetica,sans-Serif\" font-size=\"14.00\">samples = 43</text>\n<text text-anchor=\"start\" x=\"364.5\" y=\"-483.8\" font-family=\"Helvetica,sans-Serif\" font-size=\"14.00\">value = [41, 2]</text>\n<text text-anchor=\"start\" x=\"385\" y=\"-468.8\" font-family=\"Helvetica,sans-Serif\" font-size=\"14.00\">class = 0</text>\n</g>\n<!-- 2&#45;&gt;4 -->\n<g id=\"edge4\" class=\"edge\">\n<title>2&#45;&gt;4</title>\n<path fill=\"none\" stroke=\"black\" d=\"M417.5,-579.91C417.5,-571.65 417.5,-562.86 417.5,-554.3\"/>\n<polygon fill=\"black\" stroke=\"black\" points=\"421,-554.02 417.5,-544.02 414,-554.02 421,-554.02\"/>\n</g>\n<!-- 5 -->\n<g id=\"node6\" class=\"node\">\n<title>5</title>\n<path fill=\"#e99457\" stroke=\"black\" d=\"M313.5,-425C313.5,-425 199.5,-425 199.5,-425 193.5,-425 187.5,-419 187.5,-413 187.5,-413 187.5,-354 187.5,-354 187.5,-348 193.5,-342 199.5,-342 199.5,-342 313.5,-342 313.5,-342 319.5,-342 325.5,-348 325.5,-354 325.5,-354 325.5,-413 325.5,-413 325.5,-419 319.5,-425 313.5,-425\"/>\n<text text-anchor=\"start\" x=\"195.5\" y=\"-409.8\" font-family=\"Helvetica,sans-Serif\" font-size=\"14.00\">revol.util ≤ 78.55</text>\n<text text-anchor=\"start\" x=\"199\" y=\"-394.8\" font-family=\"Helvetica,sans-Serif\" font-size=\"14.00\">entropy = 0.567</text>\n<text text-anchor=\"start\" x=\"208\" y=\"-379.8\" font-family=\"Helvetica,sans-Serif\" font-size=\"14.00\">samples = 15</text>\n<text text-anchor=\"start\" x=\"203.5\" y=\"-364.8\" font-family=\"Helvetica,sans-Serif\" font-size=\"14.00\">value = [13, 2]</text>\n<text text-anchor=\"start\" x=\"224\" y=\"-349.8\" font-family=\"Helvetica,sans-Serif\" font-size=\"14.00\">class = 0</text>\n</g>\n<!-- 4&#45;&gt;5 -->\n<g id=\"edge5\" class=\"edge\">\n<title>4&#45;&gt;5</title>\n<path fill=\"none\" stroke=\"black\" d=\"M361.64,-460.91C348.4,-451.29 334.18,-440.95 320.61,-431.09\"/>\n<polygon fill=\"black\" stroke=\"black\" points=\"322.41,-428.07 312.26,-425.02 318.29,-433.73 322.41,-428.07\"/>\n</g>\n<!-- 8 -->\n<g id=\"node9\" class=\"node\">\n<title>8</title>\n<path fill=\"#e58139\" stroke=\"black\" d=\"M466.5,-417.5C466.5,-417.5 368.5,-417.5 368.5,-417.5 362.5,-417.5 356.5,-411.5 356.5,-405.5 356.5,-405.5 356.5,-361.5 356.5,-361.5 356.5,-355.5 362.5,-349.5 368.5,-349.5 368.5,-349.5 466.5,-349.5 466.5,-349.5 472.5,-349.5 478.5,-355.5 478.5,-361.5 478.5,-361.5 478.5,-405.5 478.5,-405.5 478.5,-411.5 472.5,-417.5 466.5,-417.5\"/>\n<text text-anchor=\"start\" x=\"369\" y=\"-402.3\" font-family=\"Helvetica,sans-Serif\" font-size=\"14.00\">entropy = 0.0</text>\n<text text-anchor=\"start\" x=\"369\" y=\"-387.3\" font-family=\"Helvetica,sans-Serif\" font-size=\"14.00\">samples = 28</text>\n<text text-anchor=\"start\" x=\"364.5\" y=\"-372.3\" font-family=\"Helvetica,sans-Serif\" font-size=\"14.00\">value = [28, 0]</text>\n<text text-anchor=\"start\" x=\"385\" y=\"-357.3\" font-family=\"Helvetica,sans-Serif\" font-size=\"14.00\">class = 0</text>\n</g>\n<!-- 4&#45;&gt;8 -->\n<g id=\"edge8\" class=\"edge\">\n<title>4&#45;&gt;8</title>\n<path fill=\"none\" stroke=\"black\" d=\"M417.5,-460.91C417.5,-450.2 417.5,-438.62 417.5,-427.78\"/>\n<polygon fill=\"black\" stroke=\"black\" points=\"421,-427.67 417.5,-417.67 414,-427.67 421,-427.67\"/>\n</g>\n<!-- 6 -->\n<g id=\"node7\" class=\"node\">\n<title>6</title>\n<path fill=\"#ea9a61\" stroke=\"black\" d=\"M160.5,-298.5C160.5,-298.5 62.5,-298.5 62.5,-298.5 56.5,-298.5 50.5,-292.5 50.5,-286.5 50.5,-286.5 50.5,-242.5 50.5,-242.5 50.5,-236.5 56.5,-230.5 62.5,-230.5 62.5,-230.5 160.5,-230.5 160.5,-230.5 166.5,-230.5 172.5,-236.5 172.5,-242.5 172.5,-242.5 172.5,-286.5 172.5,-286.5 172.5,-292.5 166.5,-298.5 160.5,-298.5\"/>\n<text text-anchor=\"start\" x=\"58.5\" y=\"-283.3\" font-family=\"Helvetica,sans-Serif\" font-size=\"14.00\">entropy = 0.65</text>\n<text text-anchor=\"start\" x=\"67.5\" y=\"-268.3\" font-family=\"Helvetica,sans-Serif\" font-size=\"14.00\">samples = 6</text>\n<text text-anchor=\"start\" x=\"63\" y=\"-253.3\" font-family=\"Helvetica,sans-Serif\" font-size=\"14.00\">value = [5, 1]</text>\n<text text-anchor=\"start\" x=\"79\" y=\"-238.3\" font-family=\"Helvetica,sans-Serif\" font-size=\"14.00\">class = 0</text>\n</g>\n<!-- 5&#45;&gt;6 -->\n<g id=\"edge6\" class=\"edge\">\n<title>5&#45;&gt;6</title>\n<path fill=\"none\" stroke=\"black\" d=\"M206.19,-341.91C191.42,-329.99 175.29,-316.98 160.6,-305.12\"/>\n<polygon fill=\"black\" stroke=\"black\" points=\"162.58,-302.22 152.6,-298.67 158.19,-307.67 162.58,-302.22\"/>\n</g>\n<!-- 7 -->\n<g id=\"node8\" class=\"node\">\n<title>7</title>\n<path fill=\"#e89152\" stroke=\"black\" d=\"M310,-298.5C310,-298.5 203,-298.5 203,-298.5 197,-298.5 191,-292.5 191,-286.5 191,-286.5 191,-242.5 191,-242.5 191,-236.5 197,-230.5 203,-230.5 203,-230.5 310,-230.5 310,-230.5 316,-230.5 322,-236.5 322,-242.5 322,-242.5 322,-286.5 322,-286.5 322,-292.5 316,-298.5 310,-298.5\"/>\n<text text-anchor=\"start\" x=\"199\" y=\"-283.3\" font-family=\"Helvetica,sans-Serif\" font-size=\"14.00\">entropy = 0.503</text>\n<text text-anchor=\"start\" x=\"212.5\" y=\"-268.3\" font-family=\"Helvetica,sans-Serif\" font-size=\"14.00\">samples = 9</text>\n<text text-anchor=\"start\" x=\"208\" y=\"-253.3\" font-family=\"Helvetica,sans-Serif\" font-size=\"14.00\">value = [8, 1]</text>\n<text text-anchor=\"start\" x=\"224\" y=\"-238.3\" font-family=\"Helvetica,sans-Serif\" font-size=\"14.00\">class = 0</text>\n</g>\n<!-- 5&#45;&gt;7 -->\n<g id=\"edge7\" class=\"edge\">\n<title>5&#45;&gt;7</title>\n<path fill=\"none\" stroke=\"black\" d=\"M256.5,-341.91C256.5,-331.2 256.5,-319.62 256.5,-308.78\"/>\n<polygon fill=\"black\" stroke=\"black\" points=\"260,-308.67 256.5,-298.67 253,-308.67 260,-308.67\"/>\n</g>\n<!-- 11 -->\n<g id=\"node12\" class=\"node\">\n<title>11</title>\n<path fill=\"#e58139\" stroke=\"black\" d=\"M829,-655.5C829,-655.5 722,-655.5 722,-655.5 716,-655.5 710,-649.5 710,-643.5 710,-643.5 710,-599.5 710,-599.5 710,-593.5 716,-587.5 722,-587.5 722,-587.5 829,-587.5 829,-587.5 835,-587.5 841,-593.5 841,-599.5 841,-599.5 841,-643.5 841,-643.5 841,-649.5 835,-655.5 829,-655.5\"/>\n<text text-anchor=\"start\" x=\"727\" y=\"-640.3\" font-family=\"Helvetica,sans-Serif\" font-size=\"14.00\">entropy = 0.0</text>\n<text text-anchor=\"start\" x=\"722.5\" y=\"-625.3\" font-family=\"Helvetica,sans-Serif\" font-size=\"14.00\">samples = 163</text>\n<text text-anchor=\"start\" x=\"718\" y=\"-610.3\" font-family=\"Helvetica,sans-Serif\" font-size=\"14.00\">value = [163, 0]</text>\n<text text-anchor=\"start\" x=\"743\" y=\"-595.3\" font-family=\"Helvetica,sans-Serif\" font-size=\"14.00\">class = 0</text>\n</g>\n<!-- 10&#45;&gt;11 -->\n<g id=\"edge11\" class=\"edge\">\n<title>10&#45;&gt;11</title>\n<path fill=\"none\" stroke=\"black\" d=\"M775.5,-698.91C775.5,-688.2 775.5,-676.62 775.5,-665.78\"/>\n<polygon fill=\"black\" stroke=\"black\" points=\"779,-665.67 775.5,-655.67 772,-665.67 779,-665.67\"/>\n</g>\n<!-- 12 -->\n<g id=\"node13\" class=\"node\">\n<title>12</title>\n<path fill=\"#57ace9\" stroke=\"black\" d=\"M1009.5,-663C1009.5,-663 873.5,-663 873.5,-663 867.5,-663 861.5,-657 861.5,-651 861.5,-651 861.5,-592 861.5,-592 861.5,-586 867.5,-580 873.5,-580 873.5,-580 1009.5,-580 1009.5,-580 1015.5,-580 1021.5,-586 1021.5,-592 1021.5,-592 1021.5,-651 1021.5,-651 1021.5,-657 1015.5,-663 1009.5,-663\"/>\n<text text-anchor=\"start\" x=\"869.5\" y=\"-647.8\" font-family=\"Helvetica,sans-Serif\" font-size=\"14.00\">inq.last.6mths ≤ 3.5</text>\n<text text-anchor=\"start\" x=\"884\" y=\"-632.8\" font-family=\"Helvetica,sans-Serif\" font-size=\"14.00\">entropy = 0.562</text>\n<text text-anchor=\"start\" x=\"884\" y=\"-617.8\" font-family=\"Helvetica,sans-Serif\" font-size=\"14.00\">samples = 7100</text>\n<text text-anchor=\"start\" x=\"870.5\" y=\"-602.8\" font-family=\"Helvetica,sans-Serif\" font-size=\"14.00\">value = [936, 6164]</text>\n<text text-anchor=\"start\" x=\"909\" y=\"-587.8\" font-family=\"Helvetica,sans-Serif\" font-size=\"14.00\">class = 1</text>\n</g>\n<!-- 10&#45;&gt;12 -->\n<g id=\"edge12\" class=\"edge\">\n<title>10&#45;&gt;12</title>\n<path fill=\"none\" stroke=\"black\" d=\"M833.09,-698.91C846.87,-689.2 861.68,-678.76 875.79,-668.81\"/>\n<polygon fill=\"black\" stroke=\"black\" points=\"877.85,-671.64 884.01,-663.02 873.82,-665.92 877.85,-671.64\"/>\n</g>\n<!-- 13 -->\n<g id=\"node14\" class=\"node\">\n<title>13</title>\n<path fill=\"#40a0e6\" stroke=\"black\" d=\"M1008.5,-544C1008.5,-544 874.5,-544 874.5,-544 868.5,-544 862.5,-538 862.5,-532 862.5,-532 862.5,-473 862.5,-473 862.5,-467 868.5,-461 874.5,-461 874.5,-461 1008.5,-461 1008.5,-461 1014.5,-461 1020.5,-467 1020.5,-473 1020.5,-473 1020.5,-532 1020.5,-532 1020.5,-538 1014.5,-544 1008.5,-544\"/>\n<text text-anchor=\"start\" x=\"872\" y=\"-528.8\" font-family=\"Helvetica,sans-Serif\" font-size=\"14.00\">revol.bal ≤ 74020.5</text>\n<text text-anchor=\"start\" x=\"884\" y=\"-513.8\" font-family=\"Helvetica,sans-Serif\" font-size=\"14.00\">entropy = 0.213</text>\n<text text-anchor=\"start\" x=\"884\" y=\"-498.8\" font-family=\"Helvetica,sans-Serif\" font-size=\"14.00\">samples = 6244</text>\n<text text-anchor=\"start\" x=\"870.5\" y=\"-483.8\" font-family=\"Helvetica,sans-Serif\" font-size=\"14.00\">value = [211, 6033]</text>\n<text text-anchor=\"start\" x=\"909\" y=\"-468.8\" font-family=\"Helvetica,sans-Serif\" font-size=\"14.00\">class = 1</text>\n</g>\n<!-- 12&#45;&gt;13 -->\n<g id=\"edge13\" class=\"edge\">\n<title>12&#45;&gt;13</title>\n<path fill=\"none\" stroke=\"black\" d=\"M941.5,-579.91C941.5,-571.65 941.5,-562.86 941.5,-554.3\"/>\n<polygon fill=\"black\" stroke=\"black\" points=\"945,-554.02 941.5,-544.02 938,-554.02 945,-554.02\"/>\n</g>\n<!-- 38 -->\n<g id=\"node39\" class=\"node\">\n<title>38</title>\n<path fill=\"#ea985d\" stroke=\"black\" d=\"M2168,-544C2168,-544 2043,-544 2043,-544 2037,-544 2031,-538 2031,-532 2031,-532 2031,-473 2031,-473 2031,-467 2037,-461 2043,-461 2043,-461 2168,-461 2168,-461 2174,-461 2180,-467 2180,-473 2180,-473 2180,-532 2180,-532 2180,-538 2174,-544 2168,-544\"/>\n<text text-anchor=\"start\" x=\"2044.5\" y=\"-528.8\" font-family=\"Helvetica,sans-Serif\" font-size=\"14.00\">revol.util ≤ 43.15</text>\n<text text-anchor=\"start\" x=\"2048\" y=\"-513.8\" font-family=\"Helvetica,sans-Serif\" font-size=\"14.00\">entropy = 0.617</text>\n<text text-anchor=\"start\" x=\"2052.5\" y=\"-498.8\" font-family=\"Helvetica,sans-Serif\" font-size=\"14.00\">samples = 856</text>\n<text text-anchor=\"start\" x=\"2039\" y=\"-483.8\" font-family=\"Helvetica,sans-Serif\" font-size=\"14.00\">value = [725, 131]</text>\n<text text-anchor=\"start\" x=\"2073\" y=\"-468.8\" font-family=\"Helvetica,sans-Serif\" font-size=\"14.00\">class = 0</text>\n</g>\n<!-- 12&#45;&gt;38 -->\n<g id=\"edge38\" class=\"edge\">\n<title>12&#45;&gt;38</title>\n<path fill=\"none\" stroke=\"black\" d=\"M1021.51,-612.46C1232.72,-591.23 1803.92,-533.81 2020.59,-512.03\"/>\n<polygon fill=\"black\" stroke=\"black\" points=\"2021.04,-515.51 2030.64,-511.02 2020.34,-508.54 2021.04,-515.51\"/>\n</g>\n<!-- 14 -->\n<g id=\"node15\" class=\"node\">\n<title>14</title>\n<path fill=\"#3d9fe5\" stroke=\"black\" d=\"M675.5,-425C675.5,-425 541.5,-425 541.5,-425 535.5,-425 529.5,-419 529.5,-413 529.5,-413 529.5,-354 529.5,-354 529.5,-348 535.5,-342 541.5,-342 541.5,-342 675.5,-342 675.5,-342 681.5,-342 687.5,-348 687.5,-354 687.5,-354 687.5,-413 687.5,-413 687.5,-419 681.5,-425 675.5,-425\"/>\n<text text-anchor=\"start\" x=\"564\" y=\"-409.8\" font-family=\"Helvetica,sans-Serif\" font-size=\"14.00\">dti ≤ 24.995</text>\n<text text-anchor=\"start\" x=\"551\" y=\"-394.8\" font-family=\"Helvetica,sans-Serif\" font-size=\"14.00\">entropy = 0.128</text>\n<text text-anchor=\"start\" x=\"551\" y=\"-379.8\" font-family=\"Helvetica,sans-Serif\" font-size=\"14.00\">samples = 6062</text>\n<text text-anchor=\"start\" x=\"537.5\" y=\"-364.8\" font-family=\"Helvetica,sans-Serif\" font-size=\"14.00\">value = [107, 5955]</text>\n<text text-anchor=\"start\" x=\"576\" y=\"-349.8\" font-family=\"Helvetica,sans-Serif\" font-size=\"14.00\">class = 1</text>\n</g>\n<!-- 13&#45;&gt;14 -->\n<g id=\"edge14\" class=\"edge\">\n<title>13&#45;&gt;14</title>\n<path fill=\"none\" stroke=\"black\" d=\"M862.16,-473.62C812.55,-456.19 748.57,-433.71 697.27,-415.69\"/>\n<polygon fill=\"black\" stroke=\"black\" points=\"698.11,-412.28 687.52,-412.26 695.79,-418.88 698.11,-412.28\"/>\n</g>\n<!-- 25 -->\n<g id=\"node26\" class=\"node\">\n<title>25</title>\n<path fill=\"#f8e0ce\" stroke=\"black\" d=\"M1005,-425C1005,-425 880,-425 880,-425 874,-425 868,-419 868,-413 868,-413 868,-354 868,-354 868,-348 874,-342 880,-342 880,-342 1005,-342 1005,-342 1011,-342 1017,-348 1017,-354 1017,-354 1017,-413 1017,-413 1017,-419 1011,-425 1005,-425\"/>\n<text text-anchor=\"start\" x=\"876\" y=\"-409.8\" font-family=\"Helvetica,sans-Serif\" font-size=\"14.00\">not.fully.paid ≤ 0.5</text>\n<text text-anchor=\"start\" x=\"885\" y=\"-394.8\" font-family=\"Helvetica,sans-Serif\" font-size=\"14.00\">entropy = 0.985</text>\n<text text-anchor=\"start\" x=\"889.5\" y=\"-379.8\" font-family=\"Helvetica,sans-Serif\" font-size=\"14.00\">samples = 182</text>\n<text text-anchor=\"start\" x=\"880.5\" y=\"-364.8\" font-family=\"Helvetica,sans-Serif\" font-size=\"14.00\">value = [104, 78]</text>\n<text text-anchor=\"start\" x=\"910\" y=\"-349.8\" font-family=\"Helvetica,sans-Serif\" font-size=\"14.00\">class = 0</text>\n</g>\n<!-- 13&#45;&gt;25 -->\n<g id=\"edge25\" class=\"edge\">\n<title>13&#45;&gt;25</title>\n<path fill=\"none\" stroke=\"black\" d=\"M941.85,-460.91C941.92,-452.65 941.99,-443.86 942.07,-435.3\"/>\n<polygon fill=\"black\" stroke=\"black\" points=\"945.57,-435.05 942.15,-425.02 938.57,-434.99 945.57,-435.05\"/>\n</g>\n<!-- 15 -->\n<g id=\"node16\" class=\"node\">\n<title>15</title>\n<path fill=\"#3b9ee5\" stroke=\"black\" d=\"M477,-306C477,-306 352,-306 352,-306 346,-306 340,-300 340,-294 340,-294 340,-235 340,-235 340,-229 346,-223 352,-223 352,-223 477,-223 477,-223 483,-223 489,-229 489,-235 489,-235 489,-294 489,-294 489,-300 483,-306 477,-306\"/>\n<text text-anchor=\"start\" x=\"353.5\" y=\"-290.8\" font-family=\"Helvetica,sans-Serif\" font-size=\"14.00\">revol.util ≤ 99.85</text>\n<text text-anchor=\"start\" x=\"357\" y=\"-275.8\" font-family=\"Helvetica,sans-Serif\" font-size=\"14.00\">entropy = 0.071</text>\n<text text-anchor=\"start\" x=\"357\" y=\"-260.8\" font-family=\"Helvetica,sans-Serif\" font-size=\"14.00\">samples = 6004</text>\n<text text-anchor=\"start\" x=\"348\" y=\"-245.8\" font-family=\"Helvetica,sans-Serif\" font-size=\"14.00\">value = [51, 5953]</text>\n<text text-anchor=\"start\" x=\"382\" y=\"-230.8\" font-family=\"Helvetica,sans-Serif\" font-size=\"14.00\">class = 1</text>\n</g>\n<!-- 14&#45;&gt;15 -->\n<g id=\"edge15\" class=\"edge\">\n<title>14&#45;&gt;15</title>\n<path fill=\"none\" stroke=\"black\" d=\"M541.19,-341.91C524.79,-332.02 507.14,-321.37 490.37,-311.25\"/>\n<polygon fill=\"black\" stroke=\"black\" points=\"492.06,-308.19 481.69,-306.02 488.44,-314.18 492.06,-308.19\"/>\n</g>\n<!-- 20 -->\n<g id=\"node21\" class=\"node\">\n<title>20</title>\n<path fill=\"#e68640\" stroke=\"black\" d=\"M662,-306C662,-306 555,-306 555,-306 549,-306 543,-300 543,-294 543,-294 543,-235 543,-235 543,-229 549,-223 555,-223 555,-223 662,-223 662,-223 668,-223 674,-229 674,-235 674,-235 674,-294 674,-294 674,-300 668,-306 662,-306\"/>\n<text text-anchor=\"start\" x=\"552\" y=\"-290.8\" font-family=\"Helvetica,sans-Serif\" font-size=\"14.00\">revol.util ≤ 24.0</text>\n<text text-anchor=\"start\" x=\"551\" y=\"-275.8\" font-family=\"Helvetica,sans-Serif\" font-size=\"14.00\">entropy = 0.216</text>\n<text text-anchor=\"start\" x=\"560\" y=\"-260.8\" font-family=\"Helvetica,sans-Serif\" font-size=\"14.00\">samples = 58</text>\n<text text-anchor=\"start\" x=\"555.5\" y=\"-245.8\" font-family=\"Helvetica,sans-Serif\" font-size=\"14.00\">value = [56, 2]</text>\n<text text-anchor=\"start\" x=\"576\" y=\"-230.8\" font-family=\"Helvetica,sans-Serif\" font-size=\"14.00\">class = 0</text>\n</g>\n<!-- 14&#45;&gt;20 -->\n<g id=\"edge20\" class=\"edge\">\n<title>14&#45;&gt;20</title>\n<path fill=\"none\" stroke=\"black\" d=\"M608.5,-341.91C608.5,-333.65 608.5,-324.86 608.5,-316.3\"/>\n<polygon fill=\"black\" stroke=\"black\" points=\"612,-316.02 608.5,-306.02 605,-316.02 612,-316.02\"/>\n</g>\n<!-- 16 -->\n<g id=\"node17\" class=\"node\">\n<title>16</title>\n<path fill=\"#3a9ee5\" stroke=\"black\" d=\"M266,-187C266,-187 117,-187 117,-187 111,-187 105,-181 105,-175 105,-175 105,-116 105,-116 105,-110 111,-104 117,-104 117,-104 266,-104 266,-104 272,-104 278,-110 278,-116 278,-116 278,-175 278,-175 278,-181 272,-187 266,-187\"/>\n<text text-anchor=\"start\" x=\"113\" y=\"-171.8\" font-family=\"Helvetica,sans-Serif\" font-size=\"14.00\">installment ≤ 141.205</text>\n<text text-anchor=\"start\" x=\"138.5\" y=\"-156.8\" font-family=\"Helvetica,sans-Serif\" font-size=\"14.00\">entropy = 0.06</text>\n<text text-anchor=\"start\" x=\"134\" y=\"-141.8\" font-family=\"Helvetica,sans-Serif\" font-size=\"14.00\">samples = 5994</text>\n<text text-anchor=\"start\" x=\"125\" y=\"-126.8\" font-family=\"Helvetica,sans-Serif\" font-size=\"14.00\">value = [42, 5952]</text>\n<text text-anchor=\"start\" x=\"159\" y=\"-111.8\" font-family=\"Helvetica,sans-Serif\" font-size=\"14.00\">class = 1</text>\n</g>\n<!-- 15&#45;&gt;16 -->\n<g id=\"edge16\" class=\"edge\">\n<title>15&#45;&gt;16</title>\n<path fill=\"none\" stroke=\"black\" d=\"M339.93,-224.38C320.08,-213.96 298.47,-202.62 278.03,-191.9\"/>\n<polygon fill=\"black\" stroke=\"black\" points=\"279.53,-188.73 269.05,-187.19 276.28,-194.93 279.53,-188.73\"/>\n</g>\n<!-- 19 -->\n<g id=\"node20\" class=\"node\">\n<title>19</title>\n<path fill=\"#e88f4f\" stroke=\"black\" d=\"M415,-179.5C415,-179.5 308,-179.5 308,-179.5 302,-179.5 296,-173.5 296,-167.5 296,-167.5 296,-123.5 296,-123.5 296,-117.5 302,-111.5 308,-111.5 308,-111.5 415,-111.5 415,-111.5 421,-111.5 427,-117.5 427,-123.5 427,-123.5 427,-167.5 427,-167.5 427,-173.5 421,-179.5 415,-179.5\"/>\n<text text-anchor=\"start\" x=\"304\" y=\"-164.3\" font-family=\"Helvetica,sans-Serif\" font-size=\"14.00\">entropy = 0.469</text>\n<text text-anchor=\"start\" x=\"313\" y=\"-149.3\" font-family=\"Helvetica,sans-Serif\" font-size=\"14.00\">samples = 10</text>\n<text text-anchor=\"start\" x=\"313\" y=\"-134.3\" font-family=\"Helvetica,sans-Serif\" font-size=\"14.00\">value = [9, 1]</text>\n<text text-anchor=\"start\" x=\"329\" y=\"-119.3\" font-family=\"Helvetica,sans-Serif\" font-size=\"14.00\">class = 0</text>\n</g>\n<!-- 15&#45;&gt;19 -->\n<g id=\"edge19\" class=\"edge\">\n<title>15&#45;&gt;19</title>\n<path fill=\"none\" stroke=\"black\" d=\"M396.11,-222.91C391.16,-211.98 385.8,-200.14 380.8,-189.11\"/>\n<polygon fill=\"black\" stroke=\"black\" points=\"383.84,-187.33 376.52,-179.67 377.46,-190.22 383.84,-187.33\"/>\n</g>\n<!-- 17 -->\n<g id=\"node18\" class=\"node\">\n<title>17</title>\n<path fill=\"#3c9fe5\" stroke=\"black\" d=\"M137,-68C137,-68 12,-68 12,-68 6,-68 0,-62 0,-56 0,-56 0,-12 0,-12 0,-6 6,0 12,0 12,0 137,0 137,0 143,0 149,-6 149,-12 149,-12 149,-56 149,-56 149,-62 143,-68 137,-68\"/>\n<text text-anchor=\"start\" x=\"17\" y=\"-52.8\" font-family=\"Helvetica,sans-Serif\" font-size=\"14.00\">entropy = 0.117</text>\n<text text-anchor=\"start\" x=\"17\" y=\"-37.8\" font-family=\"Helvetica,sans-Serif\" font-size=\"14.00\">samples = 1137</text>\n<text text-anchor=\"start\" x=\"8\" y=\"-22.8\" font-family=\"Helvetica,sans-Serif\" font-size=\"14.00\">value = [18, 1119]</text>\n<text text-anchor=\"start\" x=\"42\" y=\"-7.8\" font-family=\"Helvetica,sans-Serif\" font-size=\"14.00\">class = 1</text>\n</g>\n<!-- 16&#45;&gt;17 -->\n<g id=\"edge17\" class=\"edge\">\n<title>16&#45;&gt;17</title>\n<path fill=\"none\" stroke=\"black\" d=\"M147.93,-103.73C137.99,-94.42 127.44,-84.54 117.52,-75.26\"/>\n<polygon fill=\"black\" stroke=\"black\" points=\"119.77,-72.58 110.08,-68.3 114.99,-77.69 119.77,-72.58\"/>\n</g>\n<!-- 18 -->\n<g id=\"node19\" class=\"node\">\n<title>18</title>\n<path fill=\"#3a9de5\" stroke=\"black\" d=\"M304,-68C304,-68 179,-68 179,-68 173,-68 167,-62 167,-56 167,-56 167,-12 167,-12 167,-6 173,0 179,0 179,0 304,0 304,0 310,0 316,-6 316,-12 316,-12 316,-56 316,-56 316,-62 310,-68 304,-68\"/>\n<text text-anchor=\"start\" x=\"184\" y=\"-52.8\" font-family=\"Helvetica,sans-Serif\" font-size=\"14.00\">entropy = 0.045</text>\n<text text-anchor=\"start\" x=\"184\" y=\"-37.8\" font-family=\"Helvetica,sans-Serif\" font-size=\"14.00\">samples = 4857</text>\n<text text-anchor=\"start\" x=\"175\" y=\"-22.8\" font-family=\"Helvetica,sans-Serif\" font-size=\"14.00\">value = [24, 4833]</text>\n<text text-anchor=\"start\" x=\"209\" y=\"-7.8\" font-family=\"Helvetica,sans-Serif\" font-size=\"14.00\">class = 1</text>\n</g>\n<!-- 16&#45;&gt;18 -->\n<g id=\"edge18\" class=\"edge\">\n<title>16&#45;&gt;18</title>\n<path fill=\"none\" stroke=\"black\" d=\"M210.12,-103.73C214.03,-95.15 218.17,-86.09 222.11,-77.46\"/>\n<polygon fill=\"black\" stroke=\"black\" points=\"225.32,-78.85 226.29,-68.3 218.96,-75.94 225.32,-78.85\"/>\n</g>\n<!-- 21 -->\n<g id=\"node22\" class=\"node\">\n<title>21</title>\n<path fill=\"#ea9a61\" stroke=\"black\" d=\"M555.5,-179.5C555.5,-179.5 457.5,-179.5 457.5,-179.5 451.5,-179.5 445.5,-173.5 445.5,-167.5 445.5,-167.5 445.5,-123.5 445.5,-123.5 445.5,-117.5 451.5,-111.5 457.5,-111.5 457.5,-111.5 555.5,-111.5 555.5,-111.5 561.5,-111.5 567.5,-117.5 567.5,-123.5 567.5,-123.5 567.5,-167.5 567.5,-167.5 567.5,-173.5 561.5,-179.5 555.5,-179.5\"/>\n<text text-anchor=\"start\" x=\"453.5\" y=\"-164.3\" font-family=\"Helvetica,sans-Serif\" font-size=\"14.00\">entropy = 0.65</text>\n<text text-anchor=\"start\" x=\"462.5\" y=\"-149.3\" font-family=\"Helvetica,sans-Serif\" font-size=\"14.00\">samples = 6</text>\n<text text-anchor=\"start\" x=\"458\" y=\"-134.3\" font-family=\"Helvetica,sans-Serif\" font-size=\"14.00\">value = [5, 1]</text>\n<text text-anchor=\"start\" x=\"474\" y=\"-119.3\" font-family=\"Helvetica,sans-Serif\" font-size=\"14.00\">class = 0</text>\n</g>\n<!-- 20&#45;&gt;21 -->\n<g id=\"edge21\" class=\"edge\">\n<title>20&#45;&gt;21</title>\n<path fill=\"none\" stroke=\"black\" d=\"M573.11,-222.91C563.11,-211.43 552.22,-198.94 542.19,-187.44\"/>\n<polygon fill=\"black\" stroke=\"black\" points=\"544.62,-184.9 535.41,-179.67 539.35,-189.5 544.62,-184.9\"/>\n</g>\n<!-- 22 -->\n<g id=\"node23\" class=\"node\">\n<title>22</title>\n<path fill=\"#e6833d\" stroke=\"black\" d=\"M705,-187C705,-187 598,-187 598,-187 592,-187 586,-181 586,-175 586,-175 586,-116 586,-116 586,-110 592,-104 598,-104 598,-104 705,-104 705,-104 711,-104 717,-110 717,-116 717,-116 717,-175 717,-175 717,-181 711,-187 705,-187\"/>\n<text text-anchor=\"start\" x=\"608\" y=\"-171.8\" font-family=\"Helvetica,sans-Serif\" font-size=\"14.00\">fico ≤ 674.5</text>\n<text text-anchor=\"start\" x=\"594\" y=\"-156.8\" font-family=\"Helvetica,sans-Serif\" font-size=\"14.00\">entropy = 0.137</text>\n<text text-anchor=\"start\" x=\"603\" y=\"-141.8\" font-family=\"Helvetica,sans-Serif\" font-size=\"14.00\">samples = 52</text>\n<text text-anchor=\"start\" x=\"598.5\" y=\"-126.8\" font-family=\"Helvetica,sans-Serif\" font-size=\"14.00\">value = [51, 1]</text>\n<text text-anchor=\"start\" x=\"619\" y=\"-111.8\" font-family=\"Helvetica,sans-Serif\" font-size=\"14.00\">class = 0</text>\n</g>\n<!-- 20&#45;&gt;22 -->\n<g id=\"edge22\" class=\"edge\">\n<title>20&#45;&gt;22</title>\n<path fill=\"none\" stroke=\"black\" d=\"M623.42,-222.91C626.55,-214.38 629.9,-205.28 633.14,-196.46\"/>\n<polygon fill=\"black\" stroke=\"black\" points=\"636.44,-197.61 636.61,-187.02 629.87,-195.2 636.44,-197.61\"/>\n</g>\n<!-- 23 -->\n<g id=\"node24\" class=\"node\">\n<title>23</title>\n<path fill=\"#e88e4d\" stroke=\"black\" d=\"M516,-68C516,-68 409,-68 409,-68 403,-68 397,-62 397,-56 397,-56 397,-12 397,-12 397,-6 403,0 409,0 409,0 516,0 516,0 522,0 528,-6 528,-12 528,-12 528,-56 528,-56 528,-62 522,-68 516,-68\"/>\n<text text-anchor=\"start\" x=\"405\" y=\"-52.8\" font-family=\"Helvetica,sans-Serif\" font-size=\"14.00\">entropy = 0.439</text>\n<text text-anchor=\"start\" x=\"414\" y=\"-37.8\" font-family=\"Helvetica,sans-Serif\" font-size=\"14.00\">samples = 11</text>\n<text text-anchor=\"start\" x=\"409.5\" y=\"-22.8\" font-family=\"Helvetica,sans-Serif\" font-size=\"14.00\">value = [10, 1]</text>\n<text text-anchor=\"start\" x=\"430\" y=\"-7.8\" font-family=\"Helvetica,sans-Serif\" font-size=\"14.00\">class = 0</text>\n</g>\n<!-- 22&#45;&gt;23 -->\n<g id=\"edge23\" class=\"edge\">\n<title>22&#45;&gt;23</title>\n<path fill=\"none\" stroke=\"black\" d=\"M585.93,-106.51C567.34,-95.74 547.09,-84.01 528.47,-73.22\"/>\n<polygon fill=\"black\" stroke=\"black\" points=\"530.17,-70.16 519.77,-68.18 526.66,-76.22 530.17,-70.16\"/>\n</g>\n<!-- 24 -->\n<g id=\"node25\" class=\"node\">\n<title>24</title>\n<path fill=\"#e58139\" stroke=\"black\" d=\"M656.5,-68C656.5,-68 558.5,-68 558.5,-68 552.5,-68 546.5,-62 546.5,-56 546.5,-56 546.5,-12 546.5,-12 546.5,-6 552.5,0 558.5,0 558.5,0 656.5,0 656.5,0 662.5,0 668.5,-6 668.5,-12 668.5,-12 668.5,-56 668.5,-56 668.5,-62 662.5,-68 656.5,-68\"/>\n<text text-anchor=\"start\" x=\"559\" y=\"-52.8\" font-family=\"Helvetica,sans-Serif\" font-size=\"14.00\">entropy = 0.0</text>\n<text text-anchor=\"start\" x=\"559\" y=\"-37.8\" font-family=\"Helvetica,sans-Serif\" font-size=\"14.00\">samples = 41</text>\n<text text-anchor=\"start\" x=\"554.5\" y=\"-22.8\" font-family=\"Helvetica,sans-Serif\" font-size=\"14.00\">value = [41, 0]</text>\n<text text-anchor=\"start\" x=\"575\" y=\"-7.8\" font-family=\"Helvetica,sans-Serif\" font-size=\"14.00\">class = 0</text>\n</g>\n<!-- 22&#45;&gt;24 -->\n<g id=\"edge24\" class=\"edge\">\n<title>22&#45;&gt;24</title>\n<path fill=\"none\" stroke=\"black\" d=\"M635.12,-103.73C631.71,-95.24 628.11,-86.28 624.67,-77.73\"/>\n<polygon fill=\"black\" stroke=\"black\" points=\"627.86,-76.27 620.88,-68.3 621.36,-78.88 627.86,-76.27\"/>\n</g>\n<!-- 26 -->\n<g id=\"node27\" class=\"node\">\n<title>26</title>\n<path fill=\"#fae8da\" stroke=\"black\" d=\"M1012.5,-306C1012.5,-306 872.5,-306 872.5,-306 866.5,-306 860.5,-300 860.5,-294 860.5,-294 860.5,-235 860.5,-235 860.5,-229 866.5,-223 872.5,-223 872.5,-223 1012.5,-223 1012.5,-223 1018.5,-223 1024.5,-229 1024.5,-235 1024.5,-235 1024.5,-294 1024.5,-294 1024.5,-300 1018.5,-306 1012.5,-306\"/>\n<text text-anchor=\"start\" x=\"868.5\" y=\"-290.8\" font-family=\"Helvetica,sans-Serif\" font-size=\"14.00\">revol.bal ≤ 146993.5</text>\n<text text-anchor=\"start\" x=\"885\" y=\"-275.8\" font-family=\"Helvetica,sans-Serif\" font-size=\"14.00\">entropy = 0.992</text>\n<text text-anchor=\"start\" x=\"889.5\" y=\"-260.8\" font-family=\"Helvetica,sans-Serif\" font-size=\"14.00\">samples = 147</text>\n<text text-anchor=\"start\" x=\"885\" y=\"-245.8\" font-family=\"Helvetica,sans-Serif\" font-size=\"14.00\">value = [81, 66]</text>\n<text text-anchor=\"start\" x=\"910\" y=\"-230.8\" font-family=\"Helvetica,sans-Serif\" font-size=\"14.00\">class = 0</text>\n</g>\n<!-- 25&#45;&gt;26 -->\n<g id=\"edge26\" class=\"edge\">\n<title>25&#45;&gt;26</title>\n<path fill=\"none\" stroke=\"black\" d=\"M942.5,-341.91C942.5,-333.65 942.5,-324.86 942.5,-316.3\"/>\n<polygon fill=\"black\" stroke=\"black\" points=\"946,-316.02 942.5,-306.02 939,-316.02 946,-316.02\"/>\n</g>\n<!-- 31 -->\n<g id=\"node32\" class=\"node\">\n<title>31</title>\n<path fill=\"#f3c3a0\" stroke=\"black\" d=\"M1229,-306C1229,-306 1080,-306 1080,-306 1074,-306 1068,-300 1068,-294 1068,-294 1068,-235 1068,-235 1068,-229 1074,-223 1080,-223 1080,-223 1229,-223 1229,-223 1235,-223 1241,-229 1241,-235 1241,-235 1241,-294 1241,-294 1241,-300 1235,-306 1229,-306\"/>\n<text text-anchor=\"start\" x=\"1076\" y=\"-290.8\" font-family=\"Helvetica,sans-Serif\" font-size=\"14.00\">installment ≤ 497.235</text>\n<text text-anchor=\"start\" x=\"1097\" y=\"-275.8\" font-family=\"Helvetica,sans-Serif\" font-size=\"14.00\">entropy = 0.928</text>\n<text text-anchor=\"start\" x=\"1106\" y=\"-260.8\" font-family=\"Helvetica,sans-Serif\" font-size=\"14.00\">samples = 35</text>\n<text text-anchor=\"start\" x=\"1097\" y=\"-245.8\" font-family=\"Helvetica,sans-Serif\" font-size=\"14.00\">value = [23, 12]</text>\n<text text-anchor=\"start\" x=\"1122\" y=\"-230.8\" font-family=\"Helvetica,sans-Serif\" font-size=\"14.00\">class = 0</text>\n</g>\n<!-- 25&#45;&gt;31 -->\n<g id=\"edge31\" class=\"edge\">\n<title>25&#45;&gt;31</title>\n<path fill=\"none\" stroke=\"black\" d=\"M1016.05,-341.91C1034.14,-331.92 1053.62,-321.17 1072.1,-310.98\"/>\n<polygon fill=\"black\" stroke=\"black\" points=\"1074.01,-313.92 1081.08,-306.02 1070.63,-307.79 1074.01,-313.92\"/>\n</g>\n<!-- 27 -->\n<g id=\"node28\" class=\"node\">\n<title>27</title>\n<path fill=\"#aed7f4\" stroke=\"black\" d=\"M897,-187C897,-187 790,-187 790,-187 784,-187 778,-181 778,-175 778,-175 778,-116 778,-116 778,-110 784,-104 790,-104 790,-104 897,-104 897,-104 903,-104 909,-110 909,-116 909,-116 909,-175 909,-175 909,-181 903,-187 897,-187\"/>\n<text text-anchor=\"start\" x=\"799\" y=\"-171.8\" font-family=\"Helvetica,sans-Serif\" font-size=\"14.00\">dti ≤ 13.745</text>\n<text text-anchor=\"start\" x=\"786\" y=\"-156.8\" font-family=\"Helvetica,sans-Serif\" font-size=\"14.00\">entropy = 0.952</text>\n<text text-anchor=\"start\" x=\"790.5\" y=\"-141.8\" font-family=\"Helvetica,sans-Serif\" font-size=\"14.00\">samples = 105</text>\n<text text-anchor=\"start\" x=\"786\" y=\"-126.8\" font-family=\"Helvetica,sans-Serif\" font-size=\"14.00\">value = [39, 66]</text>\n<text text-anchor=\"start\" x=\"811\" y=\"-111.8\" font-family=\"Helvetica,sans-Serif\" font-size=\"14.00\">class = 1</text>\n</g>\n<!-- 26&#45;&gt;27 -->\n<g id=\"edge27\" class=\"edge\">\n<title>26&#45;&gt;27</title>\n<path fill=\"none\" stroke=\"black\" d=\"M908.15,-222.91C900.47,-213.83 892.26,-204.12 884.34,-194.77\"/>\n<polygon fill=\"black\" stroke=\"black\" points=\"886.92,-192.39 877.79,-187.02 881.57,-196.92 886.92,-192.39\"/>\n</g>\n<!-- 30 -->\n<g id=\"node31\" class=\"node\">\n<title>30</title>\n<path fill=\"#e58139\" stroke=\"black\" d=\"M1037.5,-179.5C1037.5,-179.5 939.5,-179.5 939.5,-179.5 933.5,-179.5 927.5,-173.5 927.5,-167.5 927.5,-167.5 927.5,-123.5 927.5,-123.5 927.5,-117.5 933.5,-111.5 939.5,-111.5 939.5,-111.5 1037.5,-111.5 1037.5,-111.5 1043.5,-111.5 1049.5,-117.5 1049.5,-123.5 1049.5,-123.5 1049.5,-167.5 1049.5,-167.5 1049.5,-173.5 1043.5,-179.5 1037.5,-179.5\"/>\n<text text-anchor=\"start\" x=\"940\" y=\"-164.3\" font-family=\"Helvetica,sans-Serif\" font-size=\"14.00\">entropy = 0.0</text>\n<text text-anchor=\"start\" x=\"940\" y=\"-149.3\" font-family=\"Helvetica,sans-Serif\" font-size=\"14.00\">samples = 42</text>\n<text text-anchor=\"start\" x=\"935.5\" y=\"-134.3\" font-family=\"Helvetica,sans-Serif\" font-size=\"14.00\">value = [42, 0]</text>\n<text text-anchor=\"start\" x=\"956\" y=\"-119.3\" font-family=\"Helvetica,sans-Serif\" font-size=\"14.00\">class = 0</text>\n</g>\n<!-- 26&#45;&gt;30 -->\n<g id=\"edge30\" class=\"edge\">\n<title>26&#45;&gt;30</title>\n<path fill=\"none\" stroke=\"black\" d=\"M958.46,-222.91C962.75,-211.98 967.41,-200.14 971.75,-189.11\"/>\n<polygon fill=\"black\" stroke=\"black\" points=\"975.06,-190.25 975.46,-179.67 968.54,-187.69 975.06,-190.25\"/>\n</g>\n<!-- 28 -->\n<g id=\"node29\" class=\"node\">\n<title>28</title>\n<path fill=\"#48a4e7\" stroke=\"black\" d=\"M806,-68C806,-68 699,-68 699,-68 693,-68 687,-62 687,-56 687,-56 687,-12 687,-12 687,-6 693,0 699,0 699,0 806,0 806,0 812,0 818,-6 818,-12 818,-12 818,-56 818,-56 818,-62 812,-68 806,-68\"/>\n<text text-anchor=\"start\" x=\"695\" y=\"-52.8\" font-family=\"Helvetica,sans-Serif\" font-size=\"14.00\">entropy = 0.362</text>\n<text text-anchor=\"start\" x=\"704\" y=\"-37.8\" font-family=\"Helvetica,sans-Serif\" font-size=\"14.00\">samples = 29</text>\n<text text-anchor=\"start\" x=\"699.5\" y=\"-22.8\" font-family=\"Helvetica,sans-Serif\" font-size=\"14.00\">value = [2, 27]</text>\n<text text-anchor=\"start\" x=\"720\" y=\"-7.8\" font-family=\"Helvetica,sans-Serif\" font-size=\"14.00\">class = 1</text>\n</g>\n<!-- 27&#45;&gt;28 -->\n<g id=\"edge28\" class=\"edge\">\n<title>27&#45;&gt;28</title>\n<path fill=\"none\" stroke=\"black\" d=\"M809.61,-103.73C802.11,-94.7 794.16,-85.12 786.64,-76.08\"/>\n<polygon fill=\"black\" stroke=\"black\" points=\"789.26,-73.75 780.17,-68.3 783.87,-78.23 789.26,-73.75\"/>\n</g>\n<!-- 29 -->\n<g id=\"node30\" class=\"node\">\n<title>29</title>\n<path fill=\"#f5fafe\" stroke=\"black\" d=\"M955,-68C955,-68 848,-68 848,-68 842,-68 836,-62 836,-56 836,-56 836,-12 836,-12 836,-6 842,0 848,0 848,0 955,0 955,0 961,0 967,-6 967,-12 967,-12 967,-56 967,-56 967,-62 961,-68 955,-68\"/>\n<text text-anchor=\"start\" x=\"853\" y=\"-52.8\" font-family=\"Helvetica,sans-Serif\" font-size=\"14.00\">entropy = 1.0</text>\n<text text-anchor=\"start\" x=\"853\" y=\"-37.8\" font-family=\"Helvetica,sans-Serif\" font-size=\"14.00\">samples = 76</text>\n<text text-anchor=\"start\" x=\"844\" y=\"-22.8\" font-family=\"Helvetica,sans-Serif\" font-size=\"14.00\">value = [37, 39]</text>\n<text text-anchor=\"start\" x=\"869\" y=\"-7.8\" font-family=\"Helvetica,sans-Serif\" font-size=\"14.00\">class = 1</text>\n</g>\n<!-- 27&#45;&gt;29 -->\n<g id=\"edge29\" class=\"edge\">\n<title>27&#45;&gt;29</title>\n<path fill=\"none\" stroke=\"black\" d=\"M865.1,-103.73C869.69,-95.06 874.54,-85.9 879.16,-77.18\"/>\n<polygon fill=\"black\" stroke=\"black\" points=\"882.27,-78.77 883.86,-68.3 876.09,-75.5 882.27,-78.77\"/>\n</g>\n<!-- 32 -->\n<g id=\"node33\" class=\"node\">\n<title>32</title>\n<path fill=\"#fbede3\" stroke=\"black\" d=\"M1208,-187C1208,-187 1101,-187 1101,-187 1095,-187 1089,-181 1089,-175 1089,-175 1089,-116 1089,-116 1089,-110 1095,-104 1101,-104 1101,-104 1208,-104 1208,-104 1214,-104 1220,-110 1220,-116 1220,-116 1220,-175 1220,-175 1220,-181 1214,-187 1208,-187\"/>\n<text text-anchor=\"start\" x=\"1098.5\" y=\"-171.8\" font-family=\"Helvetica,sans-Serif\" font-size=\"14.00\">int.rate ≤ 0.117</text>\n<text text-anchor=\"start\" x=\"1097\" y=\"-156.8\" font-family=\"Helvetica,sans-Serif\" font-size=\"14.00\">entropy = 0.996</text>\n<text text-anchor=\"start\" x=\"1106\" y=\"-141.8\" font-family=\"Helvetica,sans-Serif\" font-size=\"14.00\">samples = 13</text>\n<text text-anchor=\"start\" x=\"1106\" y=\"-126.8\" font-family=\"Helvetica,sans-Serif\" font-size=\"14.00\">value = [7, 6]</text>\n<text text-anchor=\"start\" x=\"1122\" y=\"-111.8\" font-family=\"Helvetica,sans-Serif\" font-size=\"14.00\">class = 0</text>\n</g>\n<!-- 31&#45;&gt;32 -->\n<g id=\"edge32\" class=\"edge\">\n<title>31&#45;&gt;32</title>\n<path fill=\"none\" stroke=\"black\" d=\"M1154.5,-222.91C1154.5,-214.65 1154.5,-205.86 1154.5,-197.3\"/>\n<polygon fill=\"black\" stroke=\"black\" points=\"1158,-197.02 1154.5,-187.02 1151,-197.02 1158,-197.02\"/>\n</g>\n<!-- 35 -->\n<g id=\"node36\" class=\"node\">\n<title>35</title>\n<path fill=\"#efb083\" stroke=\"black\" d=\"M1431.5,-187C1431.5,-187 1265.5,-187 1265.5,-187 1259.5,-187 1253.5,-181 1253.5,-175 1253.5,-175 1253.5,-116 1253.5,-116 1253.5,-110 1259.5,-104 1265.5,-104 1265.5,-104 1431.5,-104 1431.5,-104 1437.5,-104 1443.5,-110 1443.5,-116 1443.5,-116 1443.5,-175 1443.5,-175 1443.5,-181 1437.5,-187 1431.5,-187\"/>\n<text text-anchor=\"start\" x=\"1261.5\" y=\"-171.8\" font-family=\"Helvetica,sans-Serif\" font-size=\"14.00\">debt_consolidation ≤ 0.5</text>\n<text text-anchor=\"start\" x=\"1291\" y=\"-156.8\" font-family=\"Helvetica,sans-Serif\" font-size=\"14.00\">entropy = 0.845</text>\n<text text-anchor=\"start\" x=\"1300\" y=\"-141.8\" font-family=\"Helvetica,sans-Serif\" font-size=\"14.00\">samples = 22</text>\n<text text-anchor=\"start\" x=\"1295.5\" y=\"-126.8\" font-family=\"Helvetica,sans-Serif\" font-size=\"14.00\">value = [16, 6]</text>\n<text text-anchor=\"start\" x=\"1316\" y=\"-111.8\" font-family=\"Helvetica,sans-Serif\" font-size=\"14.00\">class = 0</text>\n</g>\n<!-- 31&#45;&gt;35 -->\n<g id=\"edge35\" class=\"edge\">\n<title>31&#45;&gt;35</title>\n<path fill=\"none\" stroke=\"black\" d=\"M1221.81,-222.91C1238.21,-213.02 1255.86,-202.37 1272.63,-192.25\"/>\n<polygon fill=\"black\" stroke=\"black\" points=\"1274.56,-195.18 1281.31,-187.02 1270.94,-189.19 1274.56,-195.18\"/>\n</g>\n<!-- 33 -->\n<g id=\"node34\" class=\"node\">\n<title>33</title>\n<path fill=\"#cee6f8\" stroke=\"black\" d=\"M1104,-68C1104,-68 997,-68 997,-68 991,-68 985,-62 985,-56 985,-56 985,-12 985,-12 985,-6 991,0 997,0 997,0 1104,0 1104,0 1110,0 1116,-6 1116,-12 1116,-12 1116,-56 1116,-56 1116,-62 1110,-68 1104,-68\"/>\n<text text-anchor=\"start\" x=\"993\" y=\"-52.8\" font-family=\"Helvetica,sans-Serif\" font-size=\"14.00\">entropy = 0.985</text>\n<text text-anchor=\"start\" x=\"1006.5\" y=\"-37.8\" font-family=\"Helvetica,sans-Serif\" font-size=\"14.00\">samples = 7</text>\n<text text-anchor=\"start\" x=\"1002\" y=\"-22.8\" font-family=\"Helvetica,sans-Serif\" font-size=\"14.00\">value = [3, 4]</text>\n<text text-anchor=\"start\" x=\"1018\" y=\"-7.8\" font-family=\"Helvetica,sans-Serif\" font-size=\"14.00\">class = 1</text>\n</g>\n<!-- 32&#45;&gt;33 -->\n<g id=\"edge33\" class=\"edge\">\n<title>32&#45;&gt;33</title>\n<path fill=\"none\" stroke=\"black\" d=\"M1115.77,-103.73C1107.11,-94.61 1097.92,-84.93 1089.26,-75.81\"/>\n<polygon fill=\"black\" stroke=\"black\" points=\"1091.55,-73.14 1082.13,-68.3 1086.48,-77.96 1091.55,-73.14\"/>\n</g>\n<!-- 34 -->\n<g id=\"node35\" class=\"node\">\n<title>34</title>\n<path fill=\"#f2c09c\" stroke=\"black\" d=\"M1253,-68C1253,-68 1146,-68 1146,-68 1140,-68 1134,-62 1134,-56 1134,-56 1134,-12 1134,-12 1134,-6 1140,0 1146,0 1146,0 1253,0 1253,0 1259,0 1265,-6 1265,-12 1265,-12 1265,-56 1265,-56 1265,-62 1259,-68 1253,-68\"/>\n<text text-anchor=\"start\" x=\"1142\" y=\"-52.8\" font-family=\"Helvetica,sans-Serif\" font-size=\"14.00\">entropy = 0.918</text>\n<text text-anchor=\"start\" x=\"1155.5\" y=\"-37.8\" font-family=\"Helvetica,sans-Serif\" font-size=\"14.00\">samples = 6</text>\n<text text-anchor=\"start\" x=\"1151\" y=\"-22.8\" font-family=\"Helvetica,sans-Serif\" font-size=\"14.00\">value = [4, 2]</text>\n<text text-anchor=\"start\" x=\"1167\" y=\"-7.8\" font-family=\"Helvetica,sans-Serif\" font-size=\"14.00\">class = 0</text>\n</g>\n<!-- 32&#45;&gt;34 -->\n<g id=\"edge34\" class=\"edge\">\n<title>32&#45;&gt;34</title>\n<path fill=\"none\" stroke=\"black\" d=\"M1171.26,-103.73C1174.74,-95.24 1178.43,-86.28 1181.94,-77.73\"/>\n<polygon fill=\"black\" stroke=\"black\" points=\"1185.25,-78.88 1185.82,-68.3 1178.78,-76.22 1185.25,-78.88\"/>\n</g>\n<!-- 36 -->\n<g id=\"node37\" class=\"node\">\n<title>36</title>\n<path fill=\"#eb9e67\" stroke=\"black\" d=\"M1402,-68C1402,-68 1295,-68 1295,-68 1289,-68 1283,-62 1283,-56 1283,-56 1283,-12 1283,-12 1283,-6 1289,0 1295,0 1295,0 1402,0 1402,0 1408,0 1414,-6 1414,-12 1414,-12 1414,-56 1414,-56 1414,-62 1408,-68 1402,-68\"/>\n<text text-anchor=\"start\" x=\"1291\" y=\"-52.8\" font-family=\"Helvetica,sans-Serif\" font-size=\"14.00\">entropy = 0.696</text>\n<text text-anchor=\"start\" x=\"1300\" y=\"-37.8\" font-family=\"Helvetica,sans-Serif\" font-size=\"14.00\">samples = 16</text>\n<text text-anchor=\"start\" x=\"1295.5\" y=\"-22.8\" font-family=\"Helvetica,sans-Serif\" font-size=\"14.00\">value = [13, 3]</text>\n<text text-anchor=\"start\" x=\"1316\" y=\"-7.8\" font-family=\"Helvetica,sans-Serif\" font-size=\"14.00\">class = 0</text>\n</g>\n<!-- 35&#45;&gt;36 -->\n<g id=\"edge36\" class=\"edge\">\n<title>35&#45;&gt;36</title>\n<path fill=\"none\" stroke=\"black\" d=\"M1348.5,-103.73C1348.5,-95.52 1348.5,-86.86 1348.5,-78.56\"/>\n<polygon fill=\"black\" stroke=\"black\" points=\"1352,-78.3 1348.5,-68.3 1345,-78.3 1352,-78.3\"/>\n</g>\n<!-- 37 -->\n<g id=\"node38\" class=\"node\">\n<title>37</title>\n<path fill=\"#ffffff\" stroke=\"black\" d=\"M1533,-68C1533,-68 1444,-68 1444,-68 1438,-68 1432,-62 1432,-56 1432,-56 1432,-12 1432,-12 1432,-6 1438,0 1444,0 1444,0 1533,0 1533,0 1539,0 1545,-6 1545,-12 1545,-12 1545,-56 1545,-56 1545,-62 1539,-68 1533,-68\"/>\n<text text-anchor=\"start\" x=\"1440\" y=\"-52.8\" font-family=\"Helvetica,sans-Serif\" font-size=\"14.00\">entropy = 1.0</text>\n<text text-anchor=\"start\" x=\"1444.5\" y=\"-37.8\" font-family=\"Helvetica,sans-Serif\" font-size=\"14.00\">samples = 6</text>\n<text text-anchor=\"start\" x=\"1440\" y=\"-22.8\" font-family=\"Helvetica,sans-Serif\" font-size=\"14.00\">value = [3, 3]</text>\n<text text-anchor=\"start\" x=\"1456\" y=\"-7.8\" font-family=\"Helvetica,sans-Serif\" font-size=\"14.00\">class = 0</text>\n</g>\n<!-- 35&#45;&gt;37 -->\n<g id=\"edge37\" class=\"edge\">\n<title>35&#45;&gt;37</title>\n<path fill=\"none\" stroke=\"black\" d=\"M1400.63,-103.73C1412.76,-94.24 1425.65,-84.16 1437.72,-74.72\"/>\n<polygon fill=\"black\" stroke=\"black\" points=\"1440.2,-77.22 1445.93,-68.3 1435.89,-71.7 1440.2,-77.22\"/>\n</g>\n<!-- 39 -->\n<g id=\"node40\" class=\"node\">\n<title>39</title>\n<path fill=\"#eead7e\" stroke=\"black\" d=\"M2202.5,-425C2202.5,-425 2008.5,-425 2008.5,-425 2002.5,-425 1996.5,-419 1996.5,-413 1996.5,-413 1996.5,-354 1996.5,-354 1996.5,-348 2002.5,-342 2008.5,-342 2008.5,-342 2202.5,-342 2202.5,-342 2208.5,-342 2214.5,-348 2214.5,-354 2214.5,-354 2214.5,-413 2214.5,-413 2214.5,-419 2208.5,-425 2202.5,-425\"/>\n<text text-anchor=\"start\" x=\"2004.5\" y=\"-409.8\" font-family=\"Helvetica,sans-Serif\" font-size=\"14.00\">days.with.cr.line ≤ 4350.479</text>\n<text text-anchor=\"start\" x=\"2048\" y=\"-394.8\" font-family=\"Helvetica,sans-Serif\" font-size=\"14.00\">entropy = 0.825</text>\n<text text-anchor=\"start\" x=\"2052.5\" y=\"-379.8\" font-family=\"Helvetica,sans-Serif\" font-size=\"14.00\">samples = 440</text>\n<text text-anchor=\"start\" x=\"2039\" y=\"-364.8\" font-family=\"Helvetica,sans-Serif\" font-size=\"14.00\">value = [326, 114]</text>\n<text text-anchor=\"start\" x=\"2073\" y=\"-349.8\" font-family=\"Helvetica,sans-Serif\" font-size=\"14.00\">class = 0</text>\n</g>\n<!-- 38&#45;&gt;39 -->\n<g id=\"edge39\" class=\"edge\">\n<title>38&#45;&gt;39</title>\n<path fill=\"none\" stroke=\"black\" d=\"M2105.5,-460.91C2105.5,-452.65 2105.5,-443.86 2105.5,-435.3\"/>\n<polygon fill=\"black\" stroke=\"black\" points=\"2109,-435.02 2105.5,-425.02 2102,-435.02 2109,-435.02\"/>\n</g>\n<!-- 54 -->\n<g id=\"node55\" class=\"node\">\n<title>54</title>\n<path fill=\"#e68641\" stroke=\"black\" d=\"M2509.5,-425C2509.5,-425 2393.5,-425 2393.5,-425 2387.5,-425 2381.5,-419 2381.5,-413 2381.5,-413 2381.5,-354 2381.5,-354 2381.5,-348 2387.5,-342 2393.5,-342 2393.5,-342 2509.5,-342 2509.5,-342 2515.5,-342 2521.5,-348 2521.5,-354 2521.5,-354 2521.5,-413 2521.5,-413 2521.5,-419 2515.5,-425 2509.5,-425\"/>\n<text text-anchor=\"start\" x=\"2408\" y=\"-409.8\" font-family=\"Helvetica,sans-Serif\" font-size=\"14.00\">fico ≤ 739.5</text>\n<text text-anchor=\"start\" x=\"2394\" y=\"-394.8\" font-family=\"Helvetica,sans-Serif\" font-size=\"14.00\">entropy = 0.246</text>\n<text text-anchor=\"start\" x=\"2398.5\" y=\"-379.8\" font-family=\"Helvetica,sans-Serif\" font-size=\"14.00\">samples = 416</text>\n<text text-anchor=\"start\" x=\"2389.5\" y=\"-364.8\" font-family=\"Helvetica,sans-Serif\" font-size=\"14.00\">value = [399, 17]</text>\n<text text-anchor=\"start\" x=\"2419\" y=\"-349.8\" font-family=\"Helvetica,sans-Serif\" font-size=\"14.00\">class = 0</text>\n</g>\n<!-- 38&#45;&gt;54 -->\n<g id=\"edge54\" class=\"edge\">\n<title>38&#45;&gt;54</title>\n<path fill=\"none\" stroke=\"black\" d=\"M2180.15,-476.26C2236.58,-457.17 2313.92,-431.02 2371.6,-411.52\"/>\n<polygon fill=\"black\" stroke=\"black\" points=\"2373.05,-414.72 2381.41,-408.2 2370.81,-408.09 2373.05,-414.72\"/>\n</g>\n<!-- 40 -->\n<g id=\"node41\" class=\"node\">\n<title>40</title>\n<path fill=\"#eb9c63\" stroke=\"black\" d=\"M2048.5,-306C2048.5,-306 1932.5,-306 1932.5,-306 1926.5,-306 1920.5,-300 1920.5,-294 1920.5,-294 1920.5,-235 1920.5,-235 1920.5,-229 1926.5,-223 1932.5,-223 1932.5,-223 2048.5,-223 2048.5,-223 2054.5,-223 2060.5,-229 2060.5,-235 2060.5,-235 2060.5,-294 2060.5,-294 2060.5,-300 2054.5,-306 2048.5,-306\"/>\n<text text-anchor=\"start\" x=\"1929.5\" y=\"-290.8\" font-family=\"Helvetica,sans-Serif\" font-size=\"14.00\">revol.util ≤ 14.75</text>\n<text text-anchor=\"start\" x=\"1933\" y=\"-275.8\" font-family=\"Helvetica,sans-Serif\" font-size=\"14.00\">entropy = 0.671</text>\n<text text-anchor=\"start\" x=\"1937.5\" y=\"-260.8\" font-family=\"Helvetica,sans-Serif\" font-size=\"14.00\">samples = 233</text>\n<text text-anchor=\"start\" x=\"1928.5\" y=\"-245.8\" font-family=\"Helvetica,sans-Serif\" font-size=\"14.00\">value = [192, 41]</text>\n<text text-anchor=\"start\" x=\"1958\" y=\"-230.8\" font-family=\"Helvetica,sans-Serif\" font-size=\"14.00\">class = 0</text>\n</g>\n<!-- 39&#45;&gt;40 -->\n<g id=\"edge40\" class=\"edge\">\n<title>39&#45;&gt;40</title>\n<path fill=\"none\" stroke=\"black\" d=\"M2065.6,-341.91C2056.5,-332.65 2046.75,-322.73 2037.39,-313.21\"/>\n<polygon fill=\"black\" stroke=\"black\" points=\"2039.83,-310.7 2030.33,-306.02 2034.84,-315.61 2039.83,-310.7\"/>\n</g>\n<!-- 47 -->\n<g id=\"node48\" class=\"node\">\n<title>47</title>\n<path fill=\"#f3c6a5\" stroke=\"black\" d=\"M2304.5,-306C2304.5,-306 2164.5,-306 2164.5,-306 2158.5,-306 2152.5,-300 2152.5,-294 2152.5,-294 2152.5,-235 2152.5,-235 2152.5,-229 2158.5,-223 2164.5,-223 2164.5,-223 2304.5,-223 2304.5,-223 2310.5,-223 2316.5,-229 2316.5,-235 2316.5,-235 2316.5,-294 2316.5,-294 2316.5,-300 2310.5,-306 2304.5,-306\"/>\n<text text-anchor=\"start\" x=\"2160.5\" y=\"-290.8\" font-family=\"Helvetica,sans-Serif\" font-size=\"14.00\">installment ≤ 562.48</text>\n<text text-anchor=\"start\" x=\"2177\" y=\"-275.8\" font-family=\"Helvetica,sans-Serif\" font-size=\"14.00\">entropy = 0.936</text>\n<text text-anchor=\"start\" x=\"2181.5\" y=\"-260.8\" font-family=\"Helvetica,sans-Serif\" font-size=\"14.00\">samples = 207</text>\n<text text-anchor=\"start\" x=\"2172.5\" y=\"-245.8\" font-family=\"Helvetica,sans-Serif\" font-size=\"14.00\">value = [134, 73]</text>\n<text text-anchor=\"start\" x=\"2202\" y=\"-230.8\" font-family=\"Helvetica,sans-Serif\" font-size=\"14.00\">class = 0</text>\n</g>\n<!-- 39&#45;&gt;47 -->\n<g id=\"edge47\" class=\"edge\">\n<title>39&#45;&gt;47</title>\n<path fill=\"none\" stroke=\"black\" d=\"M2150.26,-341.91C2160.56,-332.56 2171.61,-322.54 2182.21,-312.93\"/>\n<polygon fill=\"black\" stroke=\"black\" points=\"2184.77,-315.33 2189.82,-306.02 2180.06,-310.15 2184.77,-315.33\"/>\n</g>\n<!-- 41 -->\n<g id=\"node42\" class=\"node\">\n<title>41</title>\n<path fill=\"#f0b58b\" stroke=\"black\" d=\"M1830.5,-187C1830.5,-187 1716.5,-187 1716.5,-187 1710.5,-187 1704.5,-181 1704.5,-175 1704.5,-175 1704.5,-116 1704.5,-116 1704.5,-110 1710.5,-104 1716.5,-104 1716.5,-104 1830.5,-104 1830.5,-104 1836.5,-104 1842.5,-110 1842.5,-116 1842.5,-116 1842.5,-175 1842.5,-175 1842.5,-181 1836.5,-187 1830.5,-187\"/>\n<text text-anchor=\"start\" x=\"1712.5\" y=\"-171.8\" font-family=\"Helvetica,sans-Serif\" font-size=\"14.00\">delinq.2yrs ≤ 0.5</text>\n<text text-anchor=\"start\" x=\"1716\" y=\"-156.8\" font-family=\"Helvetica,sans-Serif\" font-size=\"14.00\">entropy = 0.872</text>\n<text text-anchor=\"start\" x=\"1725\" y=\"-141.8\" font-family=\"Helvetica,sans-Serif\" font-size=\"14.00\">samples = 82</text>\n<text text-anchor=\"start\" x=\"1716\" y=\"-126.8\" font-family=\"Helvetica,sans-Serif\" font-size=\"14.00\">value = [58, 24]</text>\n<text text-anchor=\"start\" x=\"1741\" y=\"-111.8\" font-family=\"Helvetica,sans-Serif\" font-size=\"14.00\">class = 0</text>\n</g>\n<!-- 40&#45;&gt;41 -->\n<g id=\"edge41\" class=\"edge\">\n<title>40&#45;&gt;41</title>\n<path fill=\"none\" stroke=\"black\" d=\"M1920.35,-225.68C1898.37,-213.83 1873.99,-200.68 1851.51,-188.56\"/>\n<polygon fill=\"black\" stroke=\"black\" points=\"1853.13,-185.46 1842.67,-183.79 1849.81,-191.62 1853.13,-185.46\"/>\n</g>\n<!-- 44 -->\n<g id=\"node45\" class=\"node\">\n<title>44</title>\n<path fill=\"#e89152\" stroke=\"black\" d=\"M2087.5,-187C2087.5,-187 1893.5,-187 1893.5,-187 1887.5,-187 1881.5,-181 1881.5,-175 1881.5,-175 1881.5,-116 1881.5,-116 1881.5,-110 1887.5,-104 1893.5,-104 1893.5,-104 2087.5,-104 2087.5,-104 2093.5,-104 2099.5,-110 2099.5,-116 2099.5,-116 2099.5,-175 2099.5,-175 2099.5,-181 2093.5,-187 2087.5,-187\"/>\n<text text-anchor=\"start\" x=\"1889.5\" y=\"-171.8\" font-family=\"Helvetica,sans-Serif\" font-size=\"14.00\">days.with.cr.line ≤ 2354.979</text>\n<text text-anchor=\"start\" x=\"1933\" y=\"-156.8\" font-family=\"Helvetica,sans-Serif\" font-size=\"14.00\">entropy = 0.508</text>\n<text text-anchor=\"start\" x=\"1937.5\" y=\"-141.8\" font-family=\"Helvetica,sans-Serif\" font-size=\"14.00\">samples = 151</text>\n<text text-anchor=\"start\" x=\"1928.5\" y=\"-126.8\" font-family=\"Helvetica,sans-Serif\" font-size=\"14.00\">value = [134, 17]</text>\n<text text-anchor=\"start\" x=\"1958\" y=\"-111.8\" font-family=\"Helvetica,sans-Serif\" font-size=\"14.00\">class = 0</text>\n</g>\n<!-- 40&#45;&gt;44 -->\n<g id=\"edge44\" class=\"edge\">\n<title>40&#45;&gt;44</title>\n<path fill=\"none\" stroke=\"black\" d=\"M1990.5,-222.91C1990.5,-214.65 1990.5,-205.86 1990.5,-197.3\"/>\n<polygon fill=\"black\" stroke=\"black\" points=\"1994,-197.02 1990.5,-187.02 1987,-197.02 1994,-197.02\"/>\n</g>\n<!-- 42 -->\n<g id=\"node43\" class=\"node\">\n<title>42</title>\n<path fill=\"#f2c09c\" stroke=\"black\" d=\"M1682,-68C1682,-68 1575,-68 1575,-68 1569,-68 1563,-62 1563,-56 1563,-56 1563,-12 1563,-12 1563,-6 1569,0 1575,0 1575,0 1682,0 1682,0 1688,0 1694,-6 1694,-12 1694,-12 1694,-56 1694,-56 1694,-62 1688,-68 1682,-68\"/>\n<text text-anchor=\"start\" x=\"1571\" y=\"-52.8\" font-family=\"Helvetica,sans-Serif\" font-size=\"14.00\">entropy = 0.918</text>\n<text text-anchor=\"start\" x=\"1580\" y=\"-37.8\" font-family=\"Helvetica,sans-Serif\" font-size=\"14.00\">samples = 72</text>\n<text text-anchor=\"start\" x=\"1571\" y=\"-22.8\" font-family=\"Helvetica,sans-Serif\" font-size=\"14.00\">value = [48, 24]</text>\n<text text-anchor=\"start\" x=\"1596\" y=\"-7.8\" font-family=\"Helvetica,sans-Serif\" font-size=\"14.00\">class = 0</text>\n</g>\n<!-- 41&#45;&gt;42 -->\n<g id=\"edge42\" class=\"edge\">\n<title>41&#45;&gt;42</title>\n<path fill=\"none\" stroke=\"black\" d=\"M1719.51,-103.73C1706.83,-94.15 1693.33,-83.96 1680.73,-74.44\"/>\n<polygon fill=\"black\" stroke=\"black\" points=\"1682.68,-71.53 1672.6,-68.3 1678.47,-77.12 1682.68,-71.53\"/>\n</g>\n<!-- 43 -->\n<g id=\"node44\" class=\"node\">\n<title>43</title>\n<path fill=\"#e58139\" stroke=\"black\" d=\"M1822.5,-68C1822.5,-68 1724.5,-68 1724.5,-68 1718.5,-68 1712.5,-62 1712.5,-56 1712.5,-56 1712.5,-12 1712.5,-12 1712.5,-6 1718.5,0 1724.5,0 1724.5,0 1822.5,0 1822.5,0 1828.5,0 1834.5,-6 1834.5,-12 1834.5,-12 1834.5,-56 1834.5,-56 1834.5,-62 1828.5,-68 1822.5,-68\"/>\n<text text-anchor=\"start\" x=\"1725\" y=\"-52.8\" font-family=\"Helvetica,sans-Serif\" font-size=\"14.00\">entropy = 0.0</text>\n<text text-anchor=\"start\" x=\"1725\" y=\"-37.8\" font-family=\"Helvetica,sans-Serif\" font-size=\"14.00\">samples = 10</text>\n<text text-anchor=\"start\" x=\"1720.5\" y=\"-22.8\" font-family=\"Helvetica,sans-Serif\" font-size=\"14.00\">value = [10, 0]</text>\n<text text-anchor=\"start\" x=\"1741\" y=\"-7.8\" font-family=\"Helvetica,sans-Serif\" font-size=\"14.00\">class = 0</text>\n</g>\n<!-- 41&#45;&gt;43 -->\n<g id=\"edge43\" class=\"edge\">\n<title>41&#45;&gt;43</title>\n<path fill=\"none\" stroke=\"black\" d=\"M1773.5,-103.73C1773.5,-95.52 1773.5,-86.86 1773.5,-78.56\"/>\n<polygon fill=\"black\" stroke=\"black\" points=\"1777,-78.3 1773.5,-68.3 1770,-78.3 1777,-78.3\"/>\n</g>\n<!-- 45 -->\n<g id=\"node46\" class=\"node\">\n<title>45</title>\n<path fill=\"#e6843e\" stroke=\"black\" d=\"M1972,-68C1972,-68 1865,-68 1865,-68 1859,-68 1853,-62 1853,-56 1853,-56 1853,-12 1853,-12 1853,-6 1859,0 1865,0 1865,0 1972,0 1972,0 1978,0 1984,-6 1984,-12 1984,-12 1984,-56 1984,-56 1984,-62 1978,-68 1972,-68\"/>\n<text text-anchor=\"start\" x=\"1861\" y=\"-52.8\" font-family=\"Helvetica,sans-Serif\" font-size=\"14.00\">entropy = 0.159</text>\n<text text-anchor=\"start\" x=\"1870\" y=\"-37.8\" font-family=\"Helvetica,sans-Serif\" font-size=\"14.00\">samples = 43</text>\n<text text-anchor=\"start\" x=\"1865.5\" y=\"-22.8\" font-family=\"Helvetica,sans-Serif\" font-size=\"14.00\">value = [42, 1]</text>\n<text text-anchor=\"start\" x=\"1886\" y=\"-7.8\" font-family=\"Helvetica,sans-Serif\" font-size=\"14.00\">class = 0</text>\n</g>\n<!-- 44&#45;&gt;45 -->\n<g id=\"edge45\" class=\"edge\">\n<title>44&#45;&gt;45</title>\n<path fill=\"none\" stroke=\"black\" d=\"M1963.69,-103.73C1957.93,-94.97 1951.84,-85.7 1946.05,-76.91\"/>\n<polygon fill=\"black\" stroke=\"black\" points=\"1948.81,-74.73 1940.4,-68.3 1942.97,-78.58 1948.81,-74.73\"/>\n</g>\n<!-- 46 -->\n<g id=\"node47\" class=\"node\">\n<title>46</title>\n<path fill=\"#ea975b\" stroke=\"black\" d=\"M2121,-68C2121,-68 2014,-68 2014,-68 2008,-68 2002,-62 2002,-56 2002,-56 2002,-12 2002,-12 2002,-6 2008,0 2014,0 2014,0 2121,0 2121,0 2127,0 2133,-6 2133,-12 2133,-12 2133,-56 2133,-56 2133,-62 2127,-68 2121,-68\"/>\n<text text-anchor=\"start\" x=\"2010\" y=\"-52.8\" font-family=\"Helvetica,sans-Serif\" font-size=\"14.00\">entropy = 0.605</text>\n<text text-anchor=\"start\" x=\"2014.5\" y=\"-37.8\" font-family=\"Helvetica,sans-Serif\" font-size=\"14.00\">samples = 108</text>\n<text text-anchor=\"start\" x=\"2010\" y=\"-22.8\" font-family=\"Helvetica,sans-Serif\" font-size=\"14.00\">value = [92, 16]</text>\n<text text-anchor=\"start\" x=\"2035\" y=\"-7.8\" font-family=\"Helvetica,sans-Serif\" font-size=\"14.00\">class = 0</text>\n</g>\n<!-- 44&#45;&gt;46 -->\n<g id=\"edge46\" class=\"edge\">\n<title>44&#45;&gt;46</title>\n<path fill=\"none\" stroke=\"black\" d=\"M2019.17,-103.73C2025.39,-94.88 2031.98,-85.51 2038.23,-76.63\"/>\n<polygon fill=\"black\" stroke=\"black\" points=\"2041.19,-78.49 2044.08,-68.3 2035.47,-74.47 2041.19,-78.49\"/>\n</g>\n<!-- 48 -->\n<g id=\"node49\" class=\"node\">\n<title>48</title>\n<path fill=\"#f0b990\" stroke=\"black\" d=\"M2304.5,-187C2304.5,-187 2164.5,-187 2164.5,-187 2158.5,-187 2152.5,-181 2152.5,-175 2152.5,-175 2152.5,-116 2152.5,-116 2152.5,-110 2158.5,-104 2164.5,-104 2164.5,-104 2304.5,-104 2304.5,-104 2310.5,-104 2316.5,-110 2316.5,-116 2316.5,-116 2316.5,-175 2316.5,-175 2316.5,-181 2310.5,-187 2304.5,-187\"/>\n<text text-anchor=\"start\" x=\"2160.5\" y=\"-171.8\" font-family=\"Helvetica,sans-Serif\" font-size=\"14.00\">revol.bal ≤ 104225.0</text>\n<text text-anchor=\"start\" x=\"2177\" y=\"-156.8\" font-family=\"Helvetica,sans-Serif\" font-size=\"14.00\">entropy = 0.888</text>\n<text text-anchor=\"start\" x=\"2181.5\" y=\"-141.8\" font-family=\"Helvetica,sans-Serif\" font-size=\"14.00\">samples = 170</text>\n<text text-anchor=\"start\" x=\"2172.5\" y=\"-126.8\" font-family=\"Helvetica,sans-Serif\" font-size=\"14.00\">value = [118, 52]</text>\n<text text-anchor=\"start\" x=\"2202\" y=\"-111.8\" font-family=\"Helvetica,sans-Serif\" font-size=\"14.00\">class = 0</text>\n</g>\n<!-- 47&#45;&gt;48 -->\n<g id=\"edge48\" class=\"edge\">\n<title>47&#45;&gt;48</title>\n<path fill=\"none\" stroke=\"black\" d=\"M2234.5,-222.91C2234.5,-214.65 2234.5,-205.86 2234.5,-197.3\"/>\n<polygon fill=\"black\" stroke=\"black\" points=\"2238,-197.02 2234.5,-187.02 2231,-197.02 2238,-197.02\"/>\n</g>\n<!-- 51 -->\n<g id=\"node52\" class=\"node\">\n<title>51</title>\n<path fill=\"#d0e8f9\" stroke=\"black\" d=\"M2550.5,-187C2550.5,-187 2436.5,-187 2436.5,-187 2430.5,-187 2424.5,-181 2424.5,-175 2424.5,-175 2424.5,-116 2424.5,-116 2424.5,-110 2430.5,-104 2436.5,-104 2436.5,-104 2550.5,-104 2550.5,-104 2556.5,-104 2562.5,-110 2562.5,-116 2562.5,-116 2562.5,-175 2562.5,-175 2562.5,-181 2556.5,-187 2550.5,-187\"/>\n<text text-anchor=\"start\" x=\"2432.5\" y=\"-171.8\" font-family=\"Helvetica,sans-Serif\" font-size=\"14.00\">revol.util ≤ 24.05</text>\n<text text-anchor=\"start\" x=\"2436\" y=\"-156.8\" font-family=\"Helvetica,sans-Serif\" font-size=\"14.00\">entropy = 0.987</text>\n<text text-anchor=\"start\" x=\"2445\" y=\"-141.8\" font-family=\"Helvetica,sans-Serif\" font-size=\"14.00\">samples = 37</text>\n<text text-anchor=\"start\" x=\"2436\" y=\"-126.8\" font-family=\"Helvetica,sans-Serif\" font-size=\"14.00\">value = [16, 21]</text>\n<text text-anchor=\"start\" x=\"2461\" y=\"-111.8\" font-family=\"Helvetica,sans-Serif\" font-size=\"14.00\">class = 1</text>\n</g>\n<!-- 47&#45;&gt;51 -->\n<g id=\"edge51\" class=\"edge\">\n<title>47&#45;&gt;51</title>\n<path fill=\"none\" stroke=\"black\" d=\"M2316.81,-226.32C2348.22,-212.13 2383.92,-196 2414.97,-181.97\"/>\n<polygon fill=\"black\" stroke=\"black\" points=\"2416.78,-185 2424.45,-177.69 2413.89,-178.62 2416.78,-185\"/>\n</g>\n<!-- 49 -->\n<g id=\"node50\" class=\"node\">\n<title>49</title>\n<path fill=\"#f1bc96\" stroke=\"black\" d=\"M2279.5,-68C2279.5,-68 2163.5,-68 2163.5,-68 2157.5,-68 2151.5,-62 2151.5,-56 2151.5,-56 2151.5,-12 2151.5,-12 2151.5,-6 2157.5,0 2163.5,0 2163.5,0 2279.5,0 2279.5,0 2285.5,0 2291.5,-6 2291.5,-12 2291.5,-12 2291.5,-56 2291.5,-56 2291.5,-62 2285.5,-68 2279.5,-68\"/>\n<text text-anchor=\"start\" x=\"2164\" y=\"-52.8\" font-family=\"Helvetica,sans-Serif\" font-size=\"14.00\">entropy = 0.903</text>\n<text text-anchor=\"start\" x=\"2168.5\" y=\"-37.8\" font-family=\"Helvetica,sans-Serif\" font-size=\"14.00\">samples = 163</text>\n<text text-anchor=\"start\" x=\"2159.5\" y=\"-22.8\" font-family=\"Helvetica,sans-Serif\" font-size=\"14.00\">value = [111, 52]</text>\n<text text-anchor=\"start\" x=\"2189\" y=\"-7.8\" font-family=\"Helvetica,sans-Serif\" font-size=\"14.00\">class = 0</text>\n</g>\n<!-- 48&#45;&gt;49 -->\n<g id=\"edge49\" class=\"edge\">\n<title>48&#45;&gt;49</title>\n<path fill=\"none\" stroke=\"black\" d=\"M2229.66,-103.73C2228.67,-95.43 2227.63,-86.67 2226.64,-78.28\"/>\n<polygon fill=\"black\" stroke=\"black\" points=\"2230.11,-77.82 2225.45,-68.3 2223.16,-78.64 2230.11,-77.82\"/>\n</g>\n<!-- 50 -->\n<g id=\"node51\" class=\"node\">\n<title>50</title>\n<path fill=\"#e58139\" stroke=\"black\" d=\"M2411,-68C2411,-68 2322,-68 2322,-68 2316,-68 2310,-62 2310,-56 2310,-56 2310,-12 2310,-12 2310,-6 2316,0 2322,0 2322,0 2411,0 2411,0 2417,0 2423,-6 2423,-12 2423,-12 2423,-56 2423,-56 2423,-62 2417,-68 2411,-68\"/>\n<text text-anchor=\"start\" x=\"2318\" y=\"-52.8\" font-family=\"Helvetica,sans-Serif\" font-size=\"14.00\">entropy = 0.0</text>\n<text text-anchor=\"start\" x=\"2322.5\" y=\"-37.8\" font-family=\"Helvetica,sans-Serif\" font-size=\"14.00\">samples = 7</text>\n<text text-anchor=\"start\" x=\"2318\" y=\"-22.8\" font-family=\"Helvetica,sans-Serif\" font-size=\"14.00\">value = [7, 0]</text>\n<text text-anchor=\"start\" x=\"2334\" y=\"-7.8\" font-family=\"Helvetica,sans-Serif\" font-size=\"14.00\">class = 0</text>\n</g>\n<!-- 48&#45;&gt;50 -->\n<g id=\"edge50\" class=\"edge\">\n<title>48&#45;&gt;50</title>\n<path fill=\"none\" stroke=\"black\" d=\"M2283.65,-103.73C2295.09,-94.24 2307.24,-84.16 2318.62,-74.72\"/>\n<polygon fill=\"black\" stroke=\"black\" points=\"2320.9,-77.38 2326.36,-68.3 2316.43,-71.99 2320.9,-77.38\"/>\n</g>\n<!-- 52 -->\n<g id=\"node53\" class=\"node\">\n<title>52</title>\n<path fill=\"#83c2ef\" stroke=\"black\" d=\"M2560,-68C2560,-68 2453,-68 2453,-68 2447,-68 2441,-62 2441,-56 2441,-56 2441,-12 2441,-12 2441,-6 2447,0 2453,0 2453,0 2560,0 2560,0 2566,0 2572,-6 2572,-12 2572,-12 2572,-56 2572,-56 2572,-62 2566,-68 2560,-68\"/>\n<text text-anchor=\"start\" x=\"2449\" y=\"-52.8\" font-family=\"Helvetica,sans-Serif\" font-size=\"14.00\">entropy = 0.845</text>\n<text text-anchor=\"start\" x=\"2458\" y=\"-37.8\" font-family=\"Helvetica,sans-Serif\" font-size=\"14.00\">samples = 22</text>\n<text text-anchor=\"start\" x=\"2453.5\" y=\"-22.8\" font-family=\"Helvetica,sans-Serif\" font-size=\"14.00\">value = [6, 16]</text>\n<text text-anchor=\"start\" x=\"2474\" y=\"-7.8\" font-family=\"Helvetica,sans-Serif\" font-size=\"14.00\">class = 1</text>\n</g>\n<!-- 51&#45;&gt;52 -->\n<g id=\"edge52\" class=\"edge\">\n<title>51&#45;&gt;52</title>\n<path fill=\"none\" stroke=\"black\" d=\"M2498.34,-103.73C2499.33,-95.43 2500.37,-86.67 2501.36,-78.28\"/>\n<polygon fill=\"black\" stroke=\"black\" points=\"2504.84,-78.64 2502.55,-68.3 2497.89,-77.82 2504.84,-78.64\"/>\n</g>\n<!-- 53 -->\n<g id=\"node54\" class=\"node\">\n<title>53</title>\n<path fill=\"#f2c09c\" stroke=\"black\" d=\"M2709,-68C2709,-68 2602,-68 2602,-68 2596,-68 2590,-62 2590,-56 2590,-56 2590,-12 2590,-12 2590,-6 2596,0 2602,0 2602,0 2709,0 2709,0 2715,0 2721,-6 2721,-12 2721,-12 2721,-56 2721,-56 2721,-62 2715,-68 2709,-68\"/>\n<text text-anchor=\"start\" x=\"2598\" y=\"-52.8\" font-family=\"Helvetica,sans-Serif\" font-size=\"14.00\">entropy = 0.918</text>\n<text text-anchor=\"start\" x=\"2607\" y=\"-37.8\" font-family=\"Helvetica,sans-Serif\" font-size=\"14.00\">samples = 15</text>\n<text text-anchor=\"start\" x=\"2602.5\" y=\"-22.8\" font-family=\"Helvetica,sans-Serif\" font-size=\"14.00\">value = [10, 5]</text>\n<text text-anchor=\"start\" x=\"2623\" y=\"-7.8\" font-family=\"Helvetica,sans-Serif\" font-size=\"14.00\">class = 0</text>\n</g>\n<!-- 51&#45;&gt;53 -->\n<g id=\"edge53\" class=\"edge\">\n<title>51&#45;&gt;53</title>\n<path fill=\"none\" stroke=\"black\" d=\"M2553.82,-103.73C2568.34,-93.92 2583.8,-83.46 2598.17,-73.75\"/>\n<polygon fill=\"black\" stroke=\"black\" points=\"2600.17,-76.62 2606.49,-68.13 2596.25,-70.83 2600.17,-76.62\"/>\n</g>\n<!-- 55 -->\n<g id=\"node56\" class=\"node\">\n<title>55</title>\n<path fill=\"#e58139\" stroke=\"black\" d=\"M2505,-298.5C2505,-298.5 2398,-298.5 2398,-298.5 2392,-298.5 2386,-292.5 2386,-286.5 2386,-286.5 2386,-242.5 2386,-242.5 2386,-236.5 2392,-230.5 2398,-230.5 2398,-230.5 2505,-230.5 2505,-230.5 2511,-230.5 2517,-236.5 2517,-242.5 2517,-242.5 2517,-286.5 2517,-286.5 2517,-292.5 2511,-298.5 2505,-298.5\"/>\n<text text-anchor=\"start\" x=\"2403\" y=\"-283.3\" font-family=\"Helvetica,sans-Serif\" font-size=\"14.00\">entropy = 0.0</text>\n<text text-anchor=\"start\" x=\"2398.5\" y=\"-268.3\" font-family=\"Helvetica,sans-Serif\" font-size=\"14.00\">samples = 398</text>\n<text text-anchor=\"start\" x=\"2394\" y=\"-253.3\" font-family=\"Helvetica,sans-Serif\" font-size=\"14.00\">value = [398, 0]</text>\n<text text-anchor=\"start\" x=\"2419\" y=\"-238.3\" font-family=\"Helvetica,sans-Serif\" font-size=\"14.00\">class = 0</text>\n</g>\n<!-- 54&#45;&gt;55 -->\n<g id=\"edge55\" class=\"edge\">\n<title>54&#45;&gt;55</title>\n<path fill=\"none\" stroke=\"black\" d=\"M2451.5,-341.91C2451.5,-331.2 2451.5,-319.62 2451.5,-308.78\"/>\n<polygon fill=\"black\" stroke=\"black\" points=\"2455,-308.67 2451.5,-298.67 2448,-308.67 2455,-308.67\"/>\n</g>\n<!-- 56 -->\n<g id=\"node57\" class=\"node\">\n<title>56</title>\n<path fill=\"#45a3e7\" stroke=\"black\" d=\"M2709.5,-306C2709.5,-306 2573.5,-306 2573.5,-306 2567.5,-306 2561.5,-300 2561.5,-294 2561.5,-294 2561.5,-235 2561.5,-235 2561.5,-229 2567.5,-223 2573.5,-223 2573.5,-223 2709.5,-223 2709.5,-223 2715.5,-223 2721.5,-229 2721.5,-235 2721.5,-235 2721.5,-294 2721.5,-294 2721.5,-300 2715.5,-306 2709.5,-306\"/>\n<text text-anchor=\"start\" x=\"2569.5\" y=\"-290.8\" font-family=\"Helvetica,sans-Serif\" font-size=\"14.00\">inq.last.6mths ≤ 4.5</text>\n<text text-anchor=\"start\" x=\"2588.5\" y=\"-275.8\" font-family=\"Helvetica,sans-Serif\" font-size=\"14.00\">entropy = 0.31</text>\n<text text-anchor=\"start\" x=\"2593\" y=\"-260.8\" font-family=\"Helvetica,sans-Serif\" font-size=\"14.00\">samples = 18</text>\n<text text-anchor=\"start\" x=\"2588.5\" y=\"-245.8\" font-family=\"Helvetica,sans-Serif\" font-size=\"14.00\">value = [1, 17]</text>\n<text text-anchor=\"start\" x=\"2609\" y=\"-230.8\" font-family=\"Helvetica,sans-Serif\" font-size=\"14.00\">class = 1</text>\n</g>\n<!-- 54&#45;&gt;56 -->\n<g id=\"edge56\" class=\"edge\">\n<title>54&#45;&gt;56</title>\n<path fill=\"none\" stroke=\"black\" d=\"M2517.42,-341.91C2533.34,-332.11 2550.46,-321.56 2566.75,-311.53\"/>\n<polygon fill=\"black\" stroke=\"black\" points=\"2569.02,-314.24 2575.7,-306.02 2565.35,-308.28 2569.02,-314.24\"/>\n</g>\n<!-- 57 -->\n<g id=\"node58\" class=\"node\">\n<title>57</title>\n<path fill=\"#399de5\" stroke=\"black\" d=\"M2690.5,-179.5C2690.5,-179.5 2592.5,-179.5 2592.5,-179.5 2586.5,-179.5 2580.5,-173.5 2580.5,-167.5 2580.5,-167.5 2580.5,-123.5 2580.5,-123.5 2580.5,-117.5 2586.5,-111.5 2592.5,-111.5 2592.5,-111.5 2690.5,-111.5 2690.5,-111.5 2696.5,-111.5 2702.5,-117.5 2702.5,-123.5 2702.5,-123.5 2702.5,-167.5 2702.5,-167.5 2702.5,-173.5 2696.5,-179.5 2690.5,-179.5\"/>\n<text text-anchor=\"start\" x=\"2593\" y=\"-164.3\" font-family=\"Helvetica,sans-Serif\" font-size=\"14.00\">entropy = 0.0</text>\n<text text-anchor=\"start\" x=\"2593\" y=\"-149.3\" font-family=\"Helvetica,sans-Serif\" font-size=\"14.00\">samples = 10</text>\n<text text-anchor=\"start\" x=\"2588.5\" y=\"-134.3\" font-family=\"Helvetica,sans-Serif\" font-size=\"14.00\">value = [0, 10]</text>\n<text text-anchor=\"start\" x=\"2609\" y=\"-119.3\" font-family=\"Helvetica,sans-Serif\" font-size=\"14.00\">class = 1</text>\n</g>\n<!-- 56&#45;&gt;57 -->\n<g id=\"edge57\" class=\"edge\">\n<title>56&#45;&gt;57</title>\n<path fill=\"none\" stroke=\"black\" d=\"M2641.5,-222.91C2641.5,-212.2 2641.5,-200.62 2641.5,-189.78\"/>\n<polygon fill=\"black\" stroke=\"black\" points=\"2645,-189.67 2641.5,-179.67 2638,-189.67 2645,-189.67\"/>\n</g>\n<!-- 58 -->\n<g id=\"node59\" class=\"node\">\n<title>58</title>\n<path fill=\"#55abe9\" stroke=\"black\" d=\"M2840,-179.5C2840,-179.5 2733,-179.5 2733,-179.5 2727,-179.5 2721,-173.5 2721,-167.5 2721,-167.5 2721,-123.5 2721,-123.5 2721,-117.5 2727,-111.5 2733,-111.5 2733,-111.5 2840,-111.5 2840,-111.5 2846,-111.5 2852,-117.5 2852,-123.5 2852,-123.5 2852,-167.5 2852,-167.5 2852,-173.5 2846,-179.5 2840,-179.5\"/>\n<text text-anchor=\"start\" x=\"2729\" y=\"-164.3\" font-family=\"Helvetica,sans-Serif\" font-size=\"14.00\">entropy = 0.544</text>\n<text text-anchor=\"start\" x=\"2742.5\" y=\"-149.3\" font-family=\"Helvetica,sans-Serif\" font-size=\"14.00\">samples = 8</text>\n<text text-anchor=\"start\" x=\"2738\" y=\"-134.3\" font-family=\"Helvetica,sans-Serif\" font-size=\"14.00\">value = [1, 7]</text>\n<text text-anchor=\"start\" x=\"2754\" y=\"-119.3\" font-family=\"Helvetica,sans-Serif\" font-size=\"14.00\">class = 1</text>\n</g>\n<!-- 56&#45;&gt;58 -->\n<g id=\"edge58\" class=\"edge\">\n<title>56&#45;&gt;58</title>\n<path fill=\"none\" stroke=\"black\" d=\"M2691.81,-222.91C2706.58,-210.99 2722.71,-197.98 2737.4,-186.12\"/>\n<polygon fill=\"black\" stroke=\"black\" points=\"2739.81,-188.67 2745.4,-179.67 2735.42,-183.22 2739.81,-188.67\"/>\n</g>\n</g>\n</svg>\n",
      "text/plain": "<graphviz.sources.Source at 0x7fbbb4755de0>"
     },
     "execution_count": 54,
     "metadata": {},
     "output_type": "execute_result"
    }
   ],
   "source": [
    "from sklearn.tree import export_graphviz\n",
    "import graphviz\n",
    "\n",
    "# visualize decision tree\n",
    "dot_data = export_graphviz(best_model, out_file=None,\n",
    "                           feature_names=X.columns,\n",
    "                           class_names=['0', '1'],\n",
    "                           filled=True, rounded=True,\n",
    "                           special_characters=True)\n",
    "graph = graphviz.Source(dot_data)\n",
    "graph"
   ],
   "metadata": {
    "collapsed": false,
    "pycharm": {
     "name": "#%%\n"
    }
   }
  },
  {
   "cell_type": "code",
   "execution_count": 55,
   "outputs": [
    {
     "data": {
      "image/svg+xml": "<?xml version=\"1.0\" encoding=\"UTF-8\" standalone=\"no\"?>\n<!DOCTYPE svg PUBLIC \"-//W3C//DTD SVG 1.1//EN\"\n \"http://www.w3.org/Graphics/SVG/1.1/DTD/svg11.dtd\">\n<!-- Generated by graphviz version 6.0.1 (20220911.2005)\n -->\n<!-- Title: Tree Pages: 1 -->\n<svg width=\"2190pt\" height=\"909pt\"\n viewBox=\"0.00 0.00 2190.00 909.00\" xmlns=\"http://www.w3.org/2000/svg\" xmlns:xlink=\"http://www.w3.org/1999/xlink\">\n<g id=\"graph0\" class=\"graph\" transform=\"scale(1 1) rotate(0) translate(4 905)\">\n<title>Tree</title>\n<polygon fill=\"white\" stroke=\"none\" points=\"-4,4 -4,-905 2186,-905 2186,4 -4,4\"/>\n<!-- 0 -->\n<g id=\"node1\" class=\"node\">\n<title>0</title>\n<path fill=\"#68b4eb\" stroke=\"black\" d=\"M562.5,-901C562.5,-901 386.5,-901 386.5,-901 380.5,-901 374.5,-895 374.5,-889 374.5,-889 374.5,-830 374.5,-830 374.5,-824 380.5,-818 386.5,-818 386.5,-818 562.5,-818 562.5,-818 568.5,-818 574.5,-824 574.5,-830 574.5,-830 574.5,-889 574.5,-889 574.5,-895 568.5,-901 562.5,-901\"/>\n<text text-anchor=\"start\" x=\"382.5\" y=\"-885.8\" font-family=\"Helvetica,sans-Serif\" font-size=\"14.00\">days.with.cr.line ≤ 1109.5</text>\n<text text-anchor=\"start\" x=\"417\" y=\"-870.8\" font-family=\"Helvetica,sans-Serif\" font-size=\"14.00\">entropy = 0.705</text>\n<text text-anchor=\"start\" x=\"417\" y=\"-855.8\" font-family=\"Helvetica,sans-Serif\" font-size=\"14.00\">samples = 4810</text>\n<text text-anchor=\"start\" x=\"399\" y=\"-840.8\" font-family=\"Helvetica,sans-Serif\" font-size=\"14.00\">value = [1468, 6194]</text>\n<text text-anchor=\"start\" x=\"442\" y=\"-825.8\" font-family=\"Helvetica,sans-Serif\" font-size=\"14.00\">class = 1</text>\n</g>\n<!-- 1 -->\n<g id=\"node2\" class=\"node\">\n<title>1</title>\n<path fill=\"#e58139\" stroke=\"black\" d=\"M445,-774.5C445,-774.5 338,-774.5 338,-774.5 332,-774.5 326,-768.5 326,-762.5 326,-762.5 326,-718.5 326,-718.5 326,-712.5 332,-706.5 338,-706.5 338,-706.5 445,-706.5 445,-706.5 451,-706.5 457,-712.5 457,-718.5 457,-718.5 457,-762.5 457,-762.5 457,-768.5 451,-774.5 445,-774.5\"/>\n<text text-anchor=\"start\" x=\"343\" y=\"-759.3\" font-family=\"Helvetica,sans-Serif\" font-size=\"14.00\">entropy = 0.0</text>\n<text text-anchor=\"start\" x=\"338.5\" y=\"-744.3\" font-family=\"Helvetica,sans-Serif\" font-size=\"14.00\">samples = 128</text>\n<text text-anchor=\"start\" x=\"334\" y=\"-729.3\" font-family=\"Helvetica,sans-Serif\" font-size=\"14.00\">value = [201, 0]</text>\n<text text-anchor=\"start\" x=\"359\" y=\"-714.3\" font-family=\"Helvetica,sans-Serif\" font-size=\"14.00\">class = 0</text>\n</g>\n<!-- 0&#45;&gt;1 -->\n<g id=\"edge1\" class=\"edge\">\n<title>0&#45;&gt;1</title>\n<path fill=\"none\" stroke=\"black\" d=\"M445.7,-817.91C437.72,-806.65 429.04,-794.42 421.02,-783.11\"/>\n<polygon fill=\"black\" stroke=\"black\" points=\"423.67,-780.8 415.03,-774.67 417.96,-784.85 423.67,-780.8\"/>\n<text text-anchor=\"middle\" x=\"410.84\" y=\"-795.61\" font-family=\"Helvetica,sans-Serif\" font-size=\"14.00\">True</text>\n</g>\n<!-- 2 -->\n<g id=\"node3\" class=\"node\">\n<title>2</title>\n<path fill=\"#62b1ea\" stroke=\"black\" d=\"M630,-782C630,-782 487,-782 487,-782 481,-782 475,-776 475,-770 475,-770 475,-711 475,-711 475,-705 481,-699 487,-699 487,-699 630,-699 630,-699 636,-699 642,-705 642,-711 642,-711 642,-770 642,-770 642,-776 636,-782 630,-782\"/>\n<text text-anchor=\"start\" x=\"515\" y=\"-766.8\" font-family=\"Helvetica,sans-Serif\" font-size=\"14.00\">fico ≤ 659.5</text>\n<text text-anchor=\"start\" x=\"501\" y=\"-751.8\" font-family=\"Helvetica,sans-Serif\" font-size=\"14.00\">entropy = 0.657</text>\n<text text-anchor=\"start\" x=\"501\" y=\"-736.8\" font-family=\"Helvetica,sans-Serif\" font-size=\"14.00\">samples = 4682</text>\n<text text-anchor=\"start\" x=\"483\" y=\"-721.8\" font-family=\"Helvetica,sans-Serif\" font-size=\"14.00\">value = [1267, 6194]</text>\n<text text-anchor=\"start\" x=\"526\" y=\"-706.8\" font-family=\"Helvetica,sans-Serif\" font-size=\"14.00\">class = 1</text>\n</g>\n<!-- 0&#45;&gt;2 -->\n<g id=\"edge2\" class=\"edge\">\n<title>0&#45;&gt;2</title>\n<path fill=\"none\" stroke=\"black\" d=\"M503.64,-817.91C510.03,-809.01 516.85,-799.51 523.44,-790.33\"/>\n<polygon fill=\"black\" stroke=\"black\" points=\"526.42,-792.19 529.41,-782.02 520.73,-788.1 526.42,-792.19\"/>\n<text text-anchor=\"middle\" x=\"533.46\" y=\"-802.99\" font-family=\"Helvetica,sans-Serif\" font-size=\"14.00\">False</text>\n</g>\n<!-- 3 -->\n<g id=\"node4\" class=\"node\">\n<title>3</title>\n<path fill=\"#e5813a\" stroke=\"black\" d=\"M535.5,-663C535.5,-663 341.5,-663 341.5,-663 335.5,-663 329.5,-657 329.5,-651 329.5,-651 329.5,-592 329.5,-592 329.5,-586 335.5,-580 341.5,-580 341.5,-580 535.5,-580 535.5,-580 541.5,-580 547.5,-586 547.5,-592 547.5,-592 547.5,-651 547.5,-651 547.5,-657 541.5,-663 535.5,-663\"/>\n<text text-anchor=\"start\" x=\"337.5\" y=\"-647.8\" font-family=\"Helvetica,sans-Serif\" font-size=\"14.00\">days.with.cr.line ≤ 1559.979</text>\n<text text-anchor=\"start\" x=\"381\" y=\"-632.8\" font-family=\"Helvetica,sans-Serif\" font-size=\"14.00\">entropy = 0.028</text>\n<text text-anchor=\"start\" x=\"385.5\" y=\"-617.8\" font-family=\"Helvetica,sans-Serif\" font-size=\"14.00\">samples = 211</text>\n<text text-anchor=\"start\" x=\"381\" y=\"-602.8\" font-family=\"Helvetica,sans-Serif\" font-size=\"14.00\">value = [346, 1]</text>\n<text text-anchor=\"start\" x=\"406\" y=\"-587.8\" font-family=\"Helvetica,sans-Serif\" font-size=\"14.00\">class = 0</text>\n</g>\n<!-- 2&#45;&gt;3 -->\n<g id=\"edge3\" class=\"edge\">\n<title>2&#45;&gt;3</title>\n<path fill=\"none\" stroke=\"black\" d=\"M516.87,-698.91C507.37,-689.65 497.2,-679.73 487.43,-670.21\"/>\n<polygon fill=\"black\" stroke=\"black\" points=\"489.66,-667.5 480.06,-663.02 484.78,-672.51 489.66,-667.5\"/>\n</g>\n<!-- 10 -->\n<g id=\"node11\" class=\"node\">\n<title>10</title>\n<path fill=\"#56ace9\" stroke=\"black\" d=\"M745.5,-663C745.5,-663 611.5,-663 611.5,-663 605.5,-663 599.5,-657 599.5,-651 599.5,-651 599.5,-592 599.5,-592 599.5,-586 605.5,-580 611.5,-580 611.5,-580 745.5,-580 745.5,-580 751.5,-580 757.5,-586 757.5,-592 757.5,-592 757.5,-651 757.5,-651 757.5,-657 751.5,-663 745.5,-663\"/>\n<text text-anchor=\"start\" x=\"635\" y=\"-647.8\" font-family=\"Helvetica,sans-Serif\" font-size=\"14.00\">fico ≤ 739.5</text>\n<text text-anchor=\"start\" x=\"621\" y=\"-632.8\" font-family=\"Helvetica,sans-Serif\" font-size=\"14.00\">entropy = 0.556</text>\n<text text-anchor=\"start\" x=\"621\" y=\"-617.8\" font-family=\"Helvetica,sans-Serif\" font-size=\"14.00\">samples = 4471</text>\n<text text-anchor=\"start\" x=\"607.5\" y=\"-602.8\" font-family=\"Helvetica,sans-Serif\" font-size=\"14.00\">value = [921, 6193]</text>\n<text text-anchor=\"start\" x=\"646\" y=\"-587.8\" font-family=\"Helvetica,sans-Serif\" font-size=\"14.00\">class = 1</text>\n</g>\n<!-- 2&#45;&gt;10 -->\n<g id=\"edge10\" class=\"edge\">\n<title>2&#45;&gt;10</title>\n<path fill=\"none\" stroke=\"black\" d=\"M600.13,-698.91C609.63,-689.65 619.8,-679.73 629.57,-670.21\"/>\n<polygon fill=\"black\" stroke=\"black\" points=\"632.22,-672.51 636.94,-663.02 627.34,-667.5 632.22,-672.51\"/>\n</g>\n<!-- 4 -->\n<g id=\"node5\" class=\"node\">\n<title>4</title>\n<path fill=\"#e68742\" stroke=\"black\" d=\"M309,-544C309,-544 202,-544 202,-544 196,-544 190,-538 190,-532 190,-532 190,-473 190,-473 190,-467 196,-461 202,-461 202,-461 309,-461 309,-461 315,-461 321,-467 321,-473 321,-473 321,-532 321,-532 321,-538 315,-544 309,-544\"/>\n<text text-anchor=\"start\" x=\"199.5\" y=\"-528.8\" font-family=\"Helvetica,sans-Serif\" font-size=\"14.00\">int.rate ≤ 0.146</text>\n<text text-anchor=\"start\" x=\"198\" y=\"-513.8\" font-family=\"Helvetica,sans-Serif\" font-size=\"14.00\">entropy = 0.258</text>\n<text text-anchor=\"start\" x=\"207\" y=\"-498.8\" font-family=\"Helvetica,sans-Serif\" font-size=\"14.00\">samples = 14</text>\n<text text-anchor=\"start\" x=\"202.5\" y=\"-483.8\" font-family=\"Helvetica,sans-Serif\" font-size=\"14.00\">value = [22, 1]</text>\n<text text-anchor=\"start\" x=\"223\" y=\"-468.8\" font-family=\"Helvetica,sans-Serif\" font-size=\"14.00\">class = 0</text>\n</g>\n<!-- 3&#45;&gt;4 -->\n<g id=\"edge4\" class=\"edge\">\n<title>3&#45;&gt;4</title>\n<path fill=\"none\" stroke=\"black\" d=\"M375.01,-579.91C359.68,-570.11 343.19,-559.56 327.5,-549.53\"/>\n<polygon fill=\"black\" stroke=\"black\" points=\"329.19,-546.46 318.88,-544.02 325.42,-552.36 329.19,-546.46\"/>\n</g>\n<!-- 9 -->\n<g id=\"node10\" class=\"node\">\n<title>9</title>\n<path fill=\"#e58139\" stroke=\"black\" d=\"M492,-536.5C492,-536.5 385,-536.5 385,-536.5 379,-536.5 373,-530.5 373,-524.5 373,-524.5 373,-480.5 373,-480.5 373,-474.5 379,-468.5 385,-468.5 385,-468.5 492,-468.5 492,-468.5 498,-468.5 504,-474.5 504,-480.5 504,-480.5 504,-524.5 504,-524.5 504,-530.5 498,-536.5 492,-536.5\"/>\n<text text-anchor=\"start\" x=\"390\" y=\"-521.3\" font-family=\"Helvetica,sans-Serif\" font-size=\"14.00\">entropy = 0.0</text>\n<text text-anchor=\"start\" x=\"385.5\" y=\"-506.3\" font-family=\"Helvetica,sans-Serif\" font-size=\"14.00\">samples = 197</text>\n<text text-anchor=\"start\" x=\"381\" y=\"-491.3\" font-family=\"Helvetica,sans-Serif\" font-size=\"14.00\">value = [324, 0]</text>\n<text text-anchor=\"start\" x=\"406\" y=\"-476.3\" font-family=\"Helvetica,sans-Serif\" font-size=\"14.00\">class = 0</text>\n</g>\n<!-- 3&#45;&gt;9 -->\n<g id=\"edge9\" class=\"edge\">\n<title>3&#45;&gt;9</title>\n<path fill=\"none\" stroke=\"black\" d=\"M438.5,-579.91C438.5,-569.2 438.5,-557.62 438.5,-546.78\"/>\n<polygon fill=\"black\" stroke=\"black\" points=\"442,-546.67 438.5,-536.67 435,-546.67 442,-546.67\"/>\n</g>\n<!-- 5 -->\n<g id=\"node6\" class=\"node\">\n<title>5</title>\n<path fill=\"#e58139\" stroke=\"black\" d=\"M159.5,-417.5C159.5,-417.5 61.5,-417.5 61.5,-417.5 55.5,-417.5 49.5,-411.5 49.5,-405.5 49.5,-405.5 49.5,-361.5 49.5,-361.5 49.5,-355.5 55.5,-349.5 61.5,-349.5 61.5,-349.5 159.5,-349.5 159.5,-349.5 165.5,-349.5 171.5,-355.5 171.5,-361.5 171.5,-361.5 171.5,-405.5 171.5,-405.5 171.5,-411.5 165.5,-417.5 159.5,-417.5\"/>\n<text text-anchor=\"start\" x=\"62\" y=\"-402.3\" font-family=\"Helvetica,sans-Serif\" font-size=\"14.00\">entropy = 0.0</text>\n<text text-anchor=\"start\" x=\"62\" y=\"-387.3\" font-family=\"Helvetica,sans-Serif\" font-size=\"14.00\">samples = 10</text>\n<text text-anchor=\"start\" x=\"57.5\" y=\"-372.3\" font-family=\"Helvetica,sans-Serif\" font-size=\"14.00\">value = [16, 0]</text>\n<text text-anchor=\"start\" x=\"78\" y=\"-357.3\" font-family=\"Helvetica,sans-Serif\" font-size=\"14.00\">class = 0</text>\n</g>\n<!-- 4&#45;&gt;5 -->\n<g id=\"edge5\" class=\"edge\">\n<title>4&#45;&gt;5</title>\n<path fill=\"none\" stroke=\"black\" d=\"M205.19,-460.91C190.42,-448.99 174.29,-435.98 159.6,-424.12\"/>\n<polygon fill=\"black\" stroke=\"black\" points=\"161.58,-421.22 151.6,-417.67 157.19,-426.67 161.58,-421.22\"/>\n</g>\n<!-- 6 -->\n<g id=\"node7\" class=\"node\">\n<title>6</title>\n<path fill=\"#e9965a\" stroke=\"black\" d=\"M309,-425C309,-425 202,-425 202,-425 196,-425 190,-419 190,-413 190,-413 190,-354 190,-354 190,-348 196,-342 202,-342 202,-342 309,-342 309,-342 315,-342 321,-348 321,-354 321,-354 321,-413 321,-413 321,-419 315,-425 309,-425\"/>\n<text text-anchor=\"start\" x=\"199\" y=\"-409.8\" font-family=\"Helvetica,sans-Serif\" font-size=\"14.00\">revol.util ≤ 71.0</text>\n<text text-anchor=\"start\" x=\"198\" y=\"-394.8\" font-family=\"Helvetica,sans-Serif\" font-size=\"14.00\">entropy = 0.592</text>\n<text text-anchor=\"start\" x=\"211.5\" y=\"-379.8\" font-family=\"Helvetica,sans-Serif\" font-size=\"14.00\">samples = 4</text>\n<text text-anchor=\"start\" x=\"207\" y=\"-364.8\" font-family=\"Helvetica,sans-Serif\" font-size=\"14.00\">value = [6, 1]</text>\n<text text-anchor=\"start\" x=\"223\" y=\"-349.8\" font-family=\"Helvetica,sans-Serif\" font-size=\"14.00\">class = 0</text>\n</g>\n<!-- 4&#45;&gt;6 -->\n<g id=\"edge6\" class=\"edge\">\n<title>4&#45;&gt;6</title>\n<path fill=\"none\" stroke=\"black\" d=\"M255.5,-460.91C255.5,-452.65 255.5,-443.86 255.5,-435.3\"/>\n<polygon fill=\"black\" stroke=\"black\" points=\"259,-435.02 255.5,-425.02 252,-435.02 259,-435.02\"/>\n</g>\n<!-- 7 -->\n<g id=\"node8\" class=\"node\">\n<title>7</title>\n<path fill=\"#ffffff\" stroke=\"black\" d=\"M169,-298.5C169,-298.5 80,-298.5 80,-298.5 74,-298.5 68,-292.5 68,-286.5 68,-286.5 68,-242.5 68,-242.5 68,-236.5 74,-230.5 80,-230.5 80,-230.5 169,-230.5 169,-230.5 175,-230.5 181,-236.5 181,-242.5 181,-242.5 181,-286.5 181,-286.5 181,-292.5 175,-298.5 169,-298.5\"/>\n<text text-anchor=\"start\" x=\"76\" y=\"-283.3\" font-family=\"Helvetica,sans-Serif\" font-size=\"14.00\">entropy = 1.0</text>\n<text text-anchor=\"start\" x=\"80.5\" y=\"-268.3\" font-family=\"Helvetica,sans-Serif\" font-size=\"14.00\">samples = 2</text>\n<text text-anchor=\"start\" x=\"76\" y=\"-253.3\" font-family=\"Helvetica,sans-Serif\" font-size=\"14.00\">value = [1, 1]</text>\n<text text-anchor=\"start\" x=\"92\" y=\"-238.3\" font-family=\"Helvetica,sans-Serif\" font-size=\"14.00\">class = 0</text>\n</g>\n<!-- 6&#45;&gt;7 -->\n<g id=\"edge7\" class=\"edge\">\n<title>6&#45;&gt;7</title>\n<path fill=\"none\" stroke=\"black\" d=\"M210.05,-341.91C196.83,-330.1 182.4,-317.22 169.23,-305.45\"/>\n<polygon fill=\"black\" stroke=\"black\" points=\"171.43,-302.72 161.64,-298.67 166.76,-307.94 171.43,-302.72\"/>\n</g>\n<!-- 8 -->\n<g id=\"node9\" class=\"node\">\n<title>8</title>\n<path fill=\"#e58139\" stroke=\"black\" d=\"M300,-298.5C300,-298.5 211,-298.5 211,-298.5 205,-298.5 199,-292.5 199,-286.5 199,-286.5 199,-242.5 199,-242.5 199,-236.5 205,-230.5 211,-230.5 211,-230.5 300,-230.5 300,-230.5 306,-230.5 312,-236.5 312,-242.5 312,-242.5 312,-286.5 312,-286.5 312,-292.5 306,-298.5 300,-298.5\"/>\n<text text-anchor=\"start\" x=\"207\" y=\"-283.3\" font-family=\"Helvetica,sans-Serif\" font-size=\"14.00\">entropy = 0.0</text>\n<text text-anchor=\"start\" x=\"211.5\" y=\"-268.3\" font-family=\"Helvetica,sans-Serif\" font-size=\"14.00\">samples = 2</text>\n<text text-anchor=\"start\" x=\"207\" y=\"-253.3\" font-family=\"Helvetica,sans-Serif\" font-size=\"14.00\">value = [5, 0]</text>\n<text text-anchor=\"start\" x=\"223\" y=\"-238.3\" font-family=\"Helvetica,sans-Serif\" font-size=\"14.00\">class = 0</text>\n</g>\n<!-- 6&#45;&gt;8 -->\n<g id=\"edge8\" class=\"edge\">\n<title>6&#45;&gt;8</title>\n<path fill=\"none\" stroke=\"black\" d=\"M255.5,-341.91C255.5,-331.2 255.5,-319.62 255.5,-308.78\"/>\n<polygon fill=\"black\" stroke=\"black\" points=\"259,-308.67 255.5,-298.67 252,-308.67 259,-308.67\"/>\n</g>\n<!-- 11 -->\n<g id=\"node12\" class=\"node\">\n<title>11</title>\n<path fill=\"#5fb0ea\" stroke=\"black\" d=\"M745.5,-544C745.5,-544 611.5,-544 611.5,-544 605.5,-544 599.5,-538 599.5,-532 599.5,-532 599.5,-473 599.5,-473 599.5,-467 605.5,-461 611.5,-461 611.5,-461 745.5,-461 745.5,-461 751.5,-461 757.5,-467 757.5,-473 757.5,-473 757.5,-532 757.5,-532 757.5,-538 751.5,-544 745.5,-544\"/>\n<text text-anchor=\"start\" x=\"622.5\" y=\"-528.8\" font-family=\"Helvetica,sans-Serif\" font-size=\"14.00\">int.rate ≤ 0.143</text>\n<text text-anchor=\"start\" x=\"621\" y=\"-513.8\" font-family=\"Helvetica,sans-Serif\" font-size=\"14.00\">entropy = 0.639</text>\n<text text-anchor=\"start\" x=\"621\" y=\"-498.8\" font-family=\"Helvetica,sans-Serif\" font-size=\"14.00\">samples = 3360</text>\n<text text-anchor=\"start\" x=\"607.5\" y=\"-483.8\" font-family=\"Helvetica,sans-Serif\" font-size=\"14.00\">value = [870, 4504]</text>\n<text text-anchor=\"start\" x=\"646\" y=\"-468.8\" font-family=\"Helvetica,sans-Serif\" font-size=\"14.00\">class = 1</text>\n</g>\n<!-- 10&#45;&gt;11 -->\n<g id=\"edge11\" class=\"edge\">\n<title>10&#45;&gt;11</title>\n<path fill=\"none\" stroke=\"black\" d=\"M678.5,-579.91C678.5,-571.65 678.5,-562.86 678.5,-554.3\"/>\n<polygon fill=\"black\" stroke=\"black\" points=\"682,-554.02 678.5,-544.02 675,-554.02 682,-554.02\"/>\n</g>\n<!-- 30 -->\n<g id=\"node31\" class=\"node\">\n<title>30</title>\n<path fill=\"#3fa0e6\" stroke=\"black\" d=\"M1559,-544C1559,-544 1434,-544 1434,-544 1428,-544 1422,-538 1422,-532 1422,-532 1422,-473 1422,-473 1422,-467 1428,-461 1434,-461 1434,-461 1559,-461 1559,-461 1565,-461 1571,-467 1571,-473 1571,-473 1571,-532 1571,-532 1571,-538 1565,-544 1559,-544\"/>\n<text text-anchor=\"start\" x=\"1453\" y=\"-528.8\" font-family=\"Helvetica,sans-Serif\" font-size=\"14.00\">fico ≤ 799.5</text>\n<text text-anchor=\"start\" x=\"1439\" y=\"-513.8\" font-family=\"Helvetica,sans-Serif\" font-size=\"14.00\">entropy = 0.191</text>\n<text text-anchor=\"start\" x=\"1439\" y=\"-498.8\" font-family=\"Helvetica,sans-Serif\" font-size=\"14.00\">samples = 1111</text>\n<text text-anchor=\"start\" x=\"1430\" y=\"-483.8\" font-family=\"Helvetica,sans-Serif\" font-size=\"14.00\">value = [51, 1689]</text>\n<text text-anchor=\"start\" x=\"1464\" y=\"-468.8\" font-family=\"Helvetica,sans-Serif\" font-size=\"14.00\">class = 1</text>\n</g>\n<!-- 10&#45;&gt;30 -->\n<g id=\"edge30\" class=\"edge\">\n<title>10&#45;&gt;30</title>\n<path fill=\"none\" stroke=\"black\" d=\"M757.68,-609.18C912.16,-587.08 1252.53,-538.4 1411.53,-515.65\"/>\n<polygon fill=\"black\" stroke=\"black\" points=\"1412.33,-519.07 1421.74,-514.19 1411.34,-512.14 1412.33,-519.07\"/>\n</g>\n<!-- 12 -->\n<g id=\"node13\" class=\"node\">\n<title>12</title>\n<path fill=\"#54abe9\" stroke=\"black\" d=\"M632.5,-425C632.5,-425 496.5,-425 496.5,-425 490.5,-425 484.5,-419 484.5,-413 484.5,-413 484.5,-354 484.5,-354 484.5,-348 490.5,-342 496.5,-342 496.5,-342 632.5,-342 632.5,-342 638.5,-342 644.5,-348 644.5,-354 644.5,-354 644.5,-413 644.5,-413 644.5,-419 638.5,-425 632.5,-425\"/>\n<text text-anchor=\"start\" x=\"492.5\" y=\"-409.8\" font-family=\"Helvetica,sans-Serif\" font-size=\"14.00\">inq.last.6mths ≤ 3.5</text>\n<text text-anchor=\"start\" x=\"507\" y=\"-394.8\" font-family=\"Helvetica,sans-Serif\" font-size=\"14.00\">entropy = 0.535</text>\n<text text-anchor=\"start\" x=\"507\" y=\"-379.8\" font-family=\"Helvetica,sans-Serif\" font-size=\"14.00\">samples = 2550</text>\n<text text-anchor=\"start\" x=\"493.5\" y=\"-364.8\" font-family=\"Helvetica,sans-Serif\" font-size=\"14.00\">value = [501, 3608]</text>\n<text text-anchor=\"start\" x=\"532\" y=\"-349.8\" font-family=\"Helvetica,sans-Serif\" font-size=\"14.00\">class = 1</text>\n</g>\n<!-- 11&#45;&gt;12 -->\n<g id=\"edge12\" class=\"edge\">\n<title>11&#45;&gt;12</title>\n<path fill=\"none\" stroke=\"black\" d=\"M638.95,-460.91C629.93,-451.65 620.26,-441.73 610.99,-432.21\"/>\n<polygon fill=\"black\" stroke=\"black\" points=\"613.47,-429.74 603.98,-425.02 608.45,-434.63 613.47,-429.74\"/>\n</g>\n<!-- 19 -->\n<g id=\"node20\" class=\"node\">\n<title>19</title>\n<path fill=\"#8bc5f0\" stroke=\"black\" d=\"M815.5,-425C815.5,-425 675.5,-425 675.5,-425 669.5,-425 663.5,-419 663.5,-413 663.5,-413 663.5,-354 663.5,-354 663.5,-348 669.5,-342 675.5,-342 675.5,-342 815.5,-342 815.5,-342 821.5,-342 827.5,-348 827.5,-354 827.5,-354 827.5,-413 827.5,-413 827.5,-419 821.5,-425 815.5,-425\"/>\n<text text-anchor=\"start\" x=\"671.5\" y=\"-409.8\" font-family=\"Helvetica,sans-Serif\" font-size=\"14.00\">revol.bal ≤ 106055.5</text>\n<text text-anchor=\"start\" x=\"688\" y=\"-394.8\" font-family=\"Helvetica,sans-Serif\" font-size=\"14.00\">entropy = 0.871</text>\n<text text-anchor=\"start\" x=\"692.5\" y=\"-379.8\" font-family=\"Helvetica,sans-Serif\" font-size=\"14.00\">samples = 810</text>\n<text text-anchor=\"start\" x=\"679\" y=\"-364.8\" font-family=\"Helvetica,sans-Serif\" font-size=\"14.00\">value = [369, 896]</text>\n<text text-anchor=\"start\" x=\"713\" y=\"-349.8\" font-family=\"Helvetica,sans-Serif\" font-size=\"14.00\">class = 1</text>\n</g>\n<!-- 11&#45;&gt;19 -->\n<g id=\"edge19\" class=\"edge\">\n<title>11&#45;&gt;19</title>\n<path fill=\"none\" stroke=\"black\" d=\"M701.75,-460.91C706.73,-452.2 712.06,-442.9 717.21,-433.89\"/>\n<polygon fill=\"black\" stroke=\"black\" points=\"720.36,-435.44 722.3,-425.02 714.29,-431.96 720.36,-435.44\"/>\n</g>\n<!-- 13 -->\n<g id=\"node14\" class=\"node\">\n<title>13</title>\n<path fill=\"#3ea0e6\" stroke=\"black\" d=\"M467,-306C467,-306 342,-306 342,-306 336,-306 330,-300 330,-294 330,-294 330,-235 330,-235 330,-229 336,-223 342,-223 342,-223 467,-223 467,-223 473,-223 479,-229 479,-235 479,-235 479,-294 479,-294 479,-300 473,-306 467,-306\"/>\n<text text-anchor=\"start\" x=\"348.5\" y=\"-290.8\" font-family=\"Helvetica,sans-Serif\" font-size=\"14.00\">int.rate ≤ 0.142</text>\n<text text-anchor=\"start\" x=\"347\" y=\"-275.8\" font-family=\"Helvetica,sans-Serif\" font-size=\"14.00\">entropy = 0.176</text>\n<text text-anchor=\"start\" x=\"347\" y=\"-260.8\" font-family=\"Helvetica,sans-Serif\" font-size=\"14.00\">samples = 2293</text>\n<text text-anchor=\"start\" x=\"338\" y=\"-245.8\" font-family=\"Helvetica,sans-Serif\" font-size=\"14.00\">value = [98, 3608]</text>\n<text text-anchor=\"start\" x=\"372\" y=\"-230.8\" font-family=\"Helvetica,sans-Serif\" font-size=\"14.00\">class = 1</text>\n</g>\n<!-- 12&#45;&gt;13 -->\n<g id=\"edge13\" class=\"edge\">\n<title>12&#45;&gt;13</title>\n<path fill=\"none\" stroke=\"black\" d=\"M508.99,-341.91C495.83,-332.29 481.7,-321.95 468.21,-312.09\"/>\n<polygon fill=\"black\" stroke=\"black\" points=\"470.05,-309.1 459.91,-306.02 465.92,-314.75 470.05,-309.1\"/>\n</g>\n<!-- 18 -->\n<g id=\"node19\" class=\"node\">\n<title>18</title>\n<path fill=\"#e58139\" stroke=\"black\" d=\"M618,-298.5C618,-298.5 511,-298.5 511,-298.5 505,-298.5 499,-292.5 499,-286.5 499,-286.5 499,-242.5 499,-242.5 499,-236.5 505,-230.5 511,-230.5 511,-230.5 618,-230.5 618,-230.5 624,-230.5 630,-236.5 630,-242.5 630,-242.5 630,-286.5 630,-286.5 630,-292.5 624,-298.5 618,-298.5\"/>\n<text text-anchor=\"start\" x=\"516\" y=\"-283.3\" font-family=\"Helvetica,sans-Serif\" font-size=\"14.00\">entropy = 0.0</text>\n<text text-anchor=\"start\" x=\"511.5\" y=\"-268.3\" font-family=\"Helvetica,sans-Serif\" font-size=\"14.00\">samples = 257</text>\n<text text-anchor=\"start\" x=\"507\" y=\"-253.3\" font-family=\"Helvetica,sans-Serif\" font-size=\"14.00\">value = [403, 0]</text>\n<text text-anchor=\"start\" x=\"532\" y=\"-238.3\" font-family=\"Helvetica,sans-Serif\" font-size=\"14.00\">class = 0</text>\n</g>\n<!-- 12&#45;&gt;18 -->\n<g id=\"edge18\" class=\"edge\">\n<title>12&#45;&gt;18</title>\n<path fill=\"none\" stroke=\"black\" d=\"M564.5,-341.91C564.5,-331.2 564.5,-319.62 564.5,-308.78\"/>\n<polygon fill=\"black\" stroke=\"black\" points=\"568,-308.67 564.5,-298.67 561,-308.67 568,-308.67\"/>\n</g>\n<!-- 14 -->\n<g id=\"node15\" class=\"node\">\n<title>14</title>\n<path fill=\"#3fa0e6\" stroke=\"black\" d=\"M308,-187C308,-187 147,-187 147,-187 141,-187 135,-181 135,-175 135,-175 135,-116 135,-116 135,-110 141,-104 147,-104 147,-104 308,-104 308,-104 314,-104 320,-110 320,-116 320,-116 320,-175 320,-175 320,-181 314,-187 308,-187\"/>\n<text text-anchor=\"start\" x=\"143\" y=\"-171.8\" font-family=\"Helvetica,sans-Serif\" font-size=\"14.00\">log.annual.inc ≤ 11.555</text>\n<text text-anchor=\"start\" x=\"170\" y=\"-156.8\" font-family=\"Helvetica,sans-Serif\" font-size=\"14.00\">entropy = 0.181</text>\n<text text-anchor=\"start\" x=\"170\" y=\"-141.8\" font-family=\"Helvetica,sans-Serif\" font-size=\"14.00\">samples = 2217</text>\n<text text-anchor=\"start\" x=\"161\" y=\"-126.8\" font-family=\"Helvetica,sans-Serif\" font-size=\"14.00\">value = [98, 3483]</text>\n<text text-anchor=\"start\" x=\"195\" y=\"-111.8\" font-family=\"Helvetica,sans-Serif\" font-size=\"14.00\">class = 1</text>\n</g>\n<!-- 13&#45;&gt;14 -->\n<g id=\"edge14\" class=\"edge\">\n<title>13&#45;&gt;14</title>\n<path fill=\"none\" stroke=\"black\" d=\"M343.09,-222.91C328.4,-213.2 312.61,-202.76 297.56,-192.81\"/>\n<polygon fill=\"black\" stroke=\"black\" points=\"299.07,-189.62 288.8,-187.02 295.21,-195.45 299.07,-189.62\"/>\n</g>\n<!-- 17 -->\n<g id=\"node18\" class=\"node\">\n<title>17</title>\n<path fill=\"#399de5\" stroke=\"black\" d=\"M457,-179.5C457,-179.5 350,-179.5 350,-179.5 344,-179.5 338,-173.5 338,-167.5 338,-167.5 338,-123.5 338,-123.5 338,-117.5 344,-111.5 350,-111.5 350,-111.5 457,-111.5 457,-111.5 463,-111.5 469,-117.5 469,-123.5 469,-123.5 469,-167.5 469,-167.5 469,-173.5 463,-179.5 457,-179.5\"/>\n<text text-anchor=\"start\" x=\"355\" y=\"-164.3\" font-family=\"Helvetica,sans-Serif\" font-size=\"14.00\">entropy = 0.0</text>\n<text text-anchor=\"start\" x=\"355\" y=\"-149.3\" font-family=\"Helvetica,sans-Serif\" font-size=\"14.00\">samples = 76</text>\n<text text-anchor=\"start\" x=\"346\" y=\"-134.3\" font-family=\"Helvetica,sans-Serif\" font-size=\"14.00\">value = [0, 125]</text>\n<text text-anchor=\"start\" x=\"371\" y=\"-119.3\" font-family=\"Helvetica,sans-Serif\" font-size=\"14.00\">class = 1</text>\n</g>\n<!-- 13&#45;&gt;17 -->\n<g id=\"edge17\" class=\"edge\">\n<title>13&#45;&gt;17</title>\n<path fill=\"none\" stroke=\"black\" d=\"M404.15,-222.91C404.06,-212.2 403.96,-200.62 403.87,-189.78\"/>\n<polygon fill=\"black\" stroke=\"black\" points=\"407.37,-189.64 403.78,-179.67 400.37,-189.7 407.37,-189.64\"/>\n</g>\n<!-- 15 -->\n<g id=\"node16\" class=\"node\">\n<title>15</title>\n<path fill=\"#3d9fe6\" stroke=\"black\" d=\"M137,-68C137,-68 12,-68 12,-68 6,-68 0,-62 0,-56 0,-56 0,-12 0,-12 0,-6 6,0 12,0 12,0 137,0 137,0 143,0 149,-6 149,-12 149,-12 149,-56 149,-56 149,-62 143,-68 137,-68\"/>\n<text text-anchor=\"start\" x=\"17\" y=\"-52.8\" font-family=\"Helvetica,sans-Serif\" font-size=\"14.00\">entropy = 0.153</text>\n<text text-anchor=\"start\" x=\"17\" y=\"-37.8\" font-family=\"Helvetica,sans-Serif\" font-size=\"14.00\">samples = 1973</text>\n<text text-anchor=\"start\" x=\"8\" y=\"-22.8\" font-family=\"Helvetica,sans-Serif\" font-size=\"14.00\">value = [70, 3094]</text>\n<text text-anchor=\"start\" x=\"42\" y=\"-7.8\" font-family=\"Helvetica,sans-Serif\" font-size=\"14.00\">class = 1</text>\n</g>\n<!-- 14&#45;&gt;15 -->\n<g id=\"edge15\" class=\"edge\">\n<title>14&#45;&gt;15</title>\n<path fill=\"none\" stroke=\"black\" d=\"M170.53,-103.73C157.02,-94.06 142.64,-83.77 129.23,-74.17\"/>\n<polygon fill=\"black\" stroke=\"black\" points=\"131.2,-71.27 121.03,-68.3 127.12,-76.97 131.2,-71.27\"/>\n</g>\n<!-- 16 -->\n<g id=\"node17\" class=\"node\">\n<title>16</title>\n<path fill=\"#47a4e7\" stroke=\"black\" d=\"M295.5,-68C295.5,-68 179.5,-68 179.5,-68 173.5,-68 167.5,-62 167.5,-56 167.5,-56 167.5,-12 167.5,-12 167.5,-6 173.5,0 179.5,0 179.5,0 295.5,0 295.5,0 301.5,0 307.5,-6 307.5,-12 307.5,-12 307.5,-56 307.5,-56 307.5,-62 301.5,-68 295.5,-68\"/>\n<text text-anchor=\"start\" x=\"180\" y=\"-52.8\" font-family=\"Helvetica,sans-Serif\" font-size=\"14.00\">entropy = 0.355</text>\n<text text-anchor=\"start\" x=\"184.5\" y=\"-37.8\" font-family=\"Helvetica,sans-Serif\" font-size=\"14.00\">samples = 244</text>\n<text text-anchor=\"start\" x=\"175.5\" y=\"-22.8\" font-family=\"Helvetica,sans-Serif\" font-size=\"14.00\">value = [28, 389]</text>\n<text text-anchor=\"start\" x=\"205\" y=\"-7.8\" font-family=\"Helvetica,sans-Serif\" font-size=\"14.00\">class = 1</text>\n</g>\n<!-- 14&#45;&gt;16 -->\n<g id=\"edge16\" class=\"edge\">\n<title>14&#45;&gt;16</title>\n<path fill=\"none\" stroke=\"black\" d=\"M231.22,-103.73C231.98,-95.43 232.78,-86.67 233.55,-78.28\"/>\n<polygon fill=\"black\" stroke=\"black\" points=\"237.03,-78.58 234.46,-68.3 230.06,-77.94 237.03,-78.58\"/>\n</g>\n<!-- 20 -->\n<g id=\"node21\" class=\"node\">\n<title>20</title>\n<path fill=\"#84c2ef\" stroke=\"black\" d=\"M808,-306C808,-306 683,-306 683,-306 677,-306 671,-300 671,-294 671,-294 671,-235 671,-235 671,-229 677,-223 683,-223 683,-223 808,-223 808,-223 814,-223 820,-229 820,-235 820,-235 820,-294 820,-294 820,-300 814,-306 808,-306\"/>\n<text text-anchor=\"start\" x=\"684.5\" y=\"-290.8\" font-family=\"Helvetica,sans-Serif\" font-size=\"14.00\">revol.util ≤ 86.95</text>\n<text text-anchor=\"start\" x=\"692.5\" y=\"-275.8\" font-family=\"Helvetica,sans-Serif\" font-size=\"14.00\">entropy = 0.85</text>\n<text text-anchor=\"start\" x=\"692.5\" y=\"-260.8\" font-family=\"Helvetica,sans-Serif\" font-size=\"14.00\">samples = 790</text>\n<text text-anchor=\"start\" x=\"679\" y=\"-245.8\" font-family=\"Helvetica,sans-Serif\" font-size=\"14.00\">value = [341, 895]</text>\n<text text-anchor=\"start\" x=\"713\" y=\"-230.8\" font-family=\"Helvetica,sans-Serif\" font-size=\"14.00\">class = 1</text>\n</g>\n<!-- 19&#45;&gt;20 -->\n<g id=\"edge20\" class=\"edge\">\n<title>19&#45;&gt;20</title>\n<path fill=\"none\" stroke=\"black\" d=\"M745.5,-341.91C745.5,-333.65 745.5,-324.86 745.5,-316.3\"/>\n<polygon fill=\"black\" stroke=\"black\" points=\"749,-316.02 745.5,-306.02 742,-316.02 749,-316.02\"/>\n</g>\n<!-- 27 -->\n<g id=\"node28\" class=\"node\">\n<title>27</title>\n<path fill=\"#e68640\" stroke=\"black\" d=\"M967,-306C967,-306 860,-306 860,-306 854,-306 848,-300 848,-294 848,-294 848,-235 848,-235 848,-229 854,-223 860,-223 860,-223 967,-223 967,-223 973,-223 979,-229 979,-235 979,-235 979,-294 979,-294 979,-300 973,-306 967,-306\"/>\n<text text-anchor=\"start\" x=\"857.5\" y=\"-290.8\" font-family=\"Helvetica,sans-Serif\" font-size=\"14.00\">int.rate ≤ 0.148</text>\n<text text-anchor=\"start\" x=\"856\" y=\"-275.8\" font-family=\"Helvetica,sans-Serif\" font-size=\"14.00\">entropy = 0.216</text>\n<text text-anchor=\"start\" x=\"865\" y=\"-260.8\" font-family=\"Helvetica,sans-Serif\" font-size=\"14.00\">samples = 20</text>\n<text text-anchor=\"start\" x=\"860.5\" y=\"-245.8\" font-family=\"Helvetica,sans-Serif\" font-size=\"14.00\">value = [28, 1]</text>\n<text text-anchor=\"start\" x=\"881\" y=\"-230.8\" font-family=\"Helvetica,sans-Serif\" font-size=\"14.00\">class = 0</text>\n</g>\n<!-- 19&#45;&gt;27 -->\n<g id=\"edge27\" class=\"edge\">\n<title>19&#45;&gt;27</title>\n<path fill=\"none\" stroke=\"black\" d=\"M803.79,-341.91C817.73,-332.2 832.72,-321.76 847,-311.81\"/>\n<polygon fill=\"black\" stroke=\"black\" points=\"849.11,-314.61 855.32,-306.02 845.11,-308.86 849.11,-314.61\"/>\n</g>\n<!-- 21 -->\n<g id=\"node22\" class=\"node\">\n<title>21</title>\n<path fill=\"#97cbf1\" stroke=\"black\" d=\"M624,-187C624,-187 499,-187 499,-187 493,-187 487,-181 487,-175 487,-175 487,-116 487,-116 487,-110 493,-104 499,-104 499,-104 624,-104 624,-104 630,-104 636,-110 636,-116 636,-116 636,-175 636,-175 636,-181 630,-187 624,-187\"/>\n<text text-anchor=\"start\" x=\"521.5\" y=\"-171.8\" font-family=\"Helvetica,sans-Serif\" font-size=\"14.00\">dti ≤ 24.68</text>\n<text text-anchor=\"start\" x=\"504\" y=\"-156.8\" font-family=\"Helvetica,sans-Serif\" font-size=\"14.00\">entropy = 0.906</text>\n<text text-anchor=\"start\" x=\"508.5\" y=\"-141.8\" font-family=\"Helvetica,sans-Serif\" font-size=\"14.00\">samples = 595</text>\n<text text-anchor=\"start\" x=\"495\" y=\"-126.8\" font-family=\"Helvetica,sans-Serif\" font-size=\"14.00\">value = [295, 623]</text>\n<text text-anchor=\"start\" x=\"529\" y=\"-111.8\" font-family=\"Helvetica,sans-Serif\" font-size=\"14.00\">class = 1</text>\n</g>\n<!-- 20&#45;&gt;21 -->\n<g id=\"edge21\" class=\"edge\">\n<title>20&#45;&gt;21</title>\n<path fill=\"none\" stroke=\"black\" d=\"M681.66,-222.91C666.25,-213.11 649.67,-202.56 633.89,-192.53\"/>\n<polygon fill=\"black\" stroke=\"black\" points=\"635.54,-189.43 625.23,-187.02 631.79,-195.34 635.54,-189.43\"/>\n</g>\n<!-- 24 -->\n<g id=\"node25\" class=\"node\">\n<title>24</title>\n<path fill=\"#5aaee9\" stroke=\"black\" d=\"M827,-187C827,-187 666,-187 666,-187 660,-187 654,-181 654,-175 654,-175 654,-116 654,-116 654,-110 660,-104 666,-104 666,-104 827,-104 827,-104 833,-104 839,-110 839,-116 839,-116 839,-175 839,-175 839,-181 833,-187 827,-187\"/>\n<text text-anchor=\"start\" x=\"662\" y=\"-171.8\" font-family=\"Helvetica,sans-Serif\" font-size=\"14.00\">log.annual.inc ≤ 11.935</text>\n<text text-anchor=\"start\" x=\"689\" y=\"-156.8\" font-family=\"Helvetica,sans-Serif\" font-size=\"14.00\">entropy = 0.596</text>\n<text text-anchor=\"start\" x=\"693.5\" y=\"-141.8\" font-family=\"Helvetica,sans-Serif\" font-size=\"14.00\">samples = 195</text>\n<text text-anchor=\"start\" x=\"684.5\" y=\"-126.8\" font-family=\"Helvetica,sans-Serif\" font-size=\"14.00\">value = [46, 272]</text>\n<text text-anchor=\"start\" x=\"714\" y=\"-111.8\" font-family=\"Helvetica,sans-Serif\" font-size=\"14.00\">class = 1</text>\n</g>\n<!-- 20&#45;&gt;24 -->\n<g id=\"edge24\" class=\"edge\">\n<title>20&#45;&gt;24</title>\n<path fill=\"none\" stroke=\"black\" d=\"M745.85,-222.91C745.92,-214.65 745.99,-205.86 746.07,-197.3\"/>\n<polygon fill=\"black\" stroke=\"black\" points=\"749.57,-197.05 746.15,-187.02 742.57,-196.99 749.57,-197.05\"/>\n</g>\n<!-- 22 -->\n<g id=\"node23\" class=\"node\">\n<title>22</title>\n<path fill=\"#85c3ef\" stroke=\"black\" d=\"M469,-68C469,-68 344,-68 344,-68 338,-68 332,-62 332,-56 332,-56 332,-12 332,-12 332,-6 338,0 344,0 344,0 469,0 469,0 475,0 481,-6 481,-12 481,-12 481,-56 481,-56 481,-62 475,-68 469,-68\"/>\n<text text-anchor=\"start\" x=\"349\" y=\"-52.8\" font-family=\"Helvetica,sans-Serif\" font-size=\"14.00\">entropy = 0.851</text>\n<text text-anchor=\"start\" x=\"353.5\" y=\"-37.8\" font-family=\"Helvetica,sans-Serif\" font-size=\"14.00\">samples = 556</text>\n<text text-anchor=\"start\" x=\"340\" y=\"-22.8\" font-family=\"Helvetica,sans-Serif\" font-size=\"14.00\">value = [238, 621]</text>\n<text text-anchor=\"start\" x=\"374\" y=\"-7.8\" font-family=\"Helvetica,sans-Serif\" font-size=\"14.00\">class = 1</text>\n</g>\n<!-- 21&#45;&gt;22 -->\n<g id=\"edge22\" class=\"edge\">\n<title>21&#45;&gt;22</title>\n<path fill=\"none\" stroke=\"black\" d=\"M503.78,-103.73C490.1,-94.06 475.53,-83.77 461.95,-74.17\"/>\n<polygon fill=\"black\" stroke=\"black\" points=\"463.82,-71.21 453.64,-68.3 459.78,-76.93 463.82,-71.21\"/>\n</g>\n<!-- 23 -->\n<g id=\"node24\" class=\"node\">\n<title>23</title>\n<path fill=\"#e68540\" stroke=\"black\" d=\"M618,-68C618,-68 511,-68 511,-68 505,-68 499,-62 499,-56 499,-56 499,-12 499,-12 499,-6 505,0 511,0 511,0 618,0 618,0 624,0 630,-6 630,-12 630,-12 630,-56 630,-56 630,-62 624,-68 618,-68\"/>\n<text text-anchor=\"start\" x=\"507\" y=\"-52.8\" font-family=\"Helvetica,sans-Serif\" font-size=\"14.00\">entropy = 0.214</text>\n<text text-anchor=\"start\" x=\"516\" y=\"-37.8\" font-family=\"Helvetica,sans-Serif\" font-size=\"14.00\">samples = 39</text>\n<text text-anchor=\"start\" x=\"511.5\" y=\"-22.8\" font-family=\"Helvetica,sans-Serif\" font-size=\"14.00\">value = [57, 2]</text>\n<text text-anchor=\"start\" x=\"532\" y=\"-7.8\" font-family=\"Helvetica,sans-Serif\" font-size=\"14.00\">class = 0</text>\n</g>\n<!-- 21&#45;&gt;23 -->\n<g id=\"edge23\" class=\"edge\">\n<title>21&#45;&gt;23</title>\n<path fill=\"none\" stroke=\"black\" d=\"M562.62,-103.73C562.84,-95.52 563.08,-86.86 563.31,-78.56\"/>\n<polygon fill=\"black\" stroke=\"black\" points=\"566.81,-78.39 563.59,-68.3 559.82,-78.2 566.81,-78.39\"/>\n</g>\n<!-- 25 -->\n<g id=\"node26\" class=\"node\">\n<title>25</title>\n<path fill=\"#5eb0ea\" stroke=\"black\" d=\"M789.5,-68C789.5,-68 673.5,-68 673.5,-68 667.5,-68 661.5,-62 661.5,-56 661.5,-56 661.5,-12 661.5,-12 661.5,-6 667.5,0 673.5,0 673.5,0 789.5,0 789.5,0 795.5,0 801.5,-6 801.5,-12 801.5,-12 801.5,-56 801.5,-56 801.5,-62 795.5,-68 789.5,-68\"/>\n<text text-anchor=\"start\" x=\"674\" y=\"-52.8\" font-family=\"Helvetica,sans-Serif\" font-size=\"14.00\">entropy = 0.632</text>\n<text text-anchor=\"start\" x=\"678.5\" y=\"-37.8\" font-family=\"Helvetica,sans-Serif\" font-size=\"14.00\">samples = 181</text>\n<text text-anchor=\"start\" x=\"669.5\" y=\"-22.8\" font-family=\"Helvetica,sans-Serif\" font-size=\"14.00\">value = [46, 243]</text>\n<text text-anchor=\"start\" x=\"699\" y=\"-7.8\" font-family=\"Helvetica,sans-Serif\" font-size=\"14.00\">class = 1</text>\n</g>\n<!-- 24&#45;&gt;25 -->\n<g id=\"edge25\" class=\"edge\">\n<title>24&#45;&gt;25</title>\n<path fill=\"none\" stroke=\"black\" d=\"M740.91,-103.73C739.78,-95.43 738.58,-86.67 737.43,-78.28\"/>\n<polygon fill=\"black\" stroke=\"black\" points=\"740.89,-77.73 736.06,-68.3 733.95,-78.68 740.89,-77.73\"/>\n</g>\n<!-- 26 -->\n<g id=\"node27\" class=\"node\">\n<title>26</title>\n<path fill=\"#399de5\" stroke=\"black\" d=\"M929.5,-68C929.5,-68 831.5,-68 831.5,-68 825.5,-68 819.5,-62 819.5,-56 819.5,-56 819.5,-12 819.5,-12 819.5,-6 825.5,0 831.5,0 831.5,0 929.5,0 929.5,0 935.5,0 941.5,-6 941.5,-12 941.5,-12 941.5,-56 941.5,-56 941.5,-62 935.5,-68 929.5,-68\"/>\n<text text-anchor=\"start\" x=\"832\" y=\"-52.8\" font-family=\"Helvetica,sans-Serif\" font-size=\"14.00\">entropy = 0.0</text>\n<text text-anchor=\"start\" x=\"832\" y=\"-37.8\" font-family=\"Helvetica,sans-Serif\" font-size=\"14.00\">samples = 14</text>\n<text text-anchor=\"start\" x=\"827.5\" y=\"-22.8\" font-family=\"Helvetica,sans-Serif\" font-size=\"14.00\">value = [0, 29]</text>\n<text text-anchor=\"start\" x=\"848\" y=\"-7.8\" font-family=\"Helvetica,sans-Serif\" font-size=\"14.00\">class = 1</text>\n</g>\n<!-- 24&#45;&gt;26 -->\n<g id=\"edge26\" class=\"edge\">\n<title>24&#45;&gt;26</title>\n<path fill=\"none\" stroke=\"black\" d=\"M796.4,-103.73C808,-94.24 820.35,-84.16 831.9,-74.72\"/>\n<polygon fill=\"black\" stroke=\"black\" points=\"834.22,-77.34 839.75,-68.3 829.79,-71.92 834.22,-77.34\"/>\n</g>\n<!-- 28 -->\n<g id=\"node29\" class=\"node\">\n<title>28</title>\n<path fill=\"#ffffff\" stroke=\"black\" d=\"M958,-179.5C958,-179.5 869,-179.5 869,-179.5 863,-179.5 857,-173.5 857,-167.5 857,-167.5 857,-123.5 857,-123.5 857,-117.5 863,-111.5 869,-111.5 869,-111.5 958,-111.5 958,-111.5 964,-111.5 970,-117.5 970,-123.5 970,-123.5 970,-167.5 970,-167.5 970,-173.5 964,-179.5 958,-179.5\"/>\n<text text-anchor=\"start\" x=\"865\" y=\"-164.3\" font-family=\"Helvetica,sans-Serif\" font-size=\"14.00\">entropy = 1.0</text>\n<text text-anchor=\"start\" x=\"869.5\" y=\"-149.3\" font-family=\"Helvetica,sans-Serif\" font-size=\"14.00\">samples = 2</text>\n<text text-anchor=\"start\" x=\"865\" y=\"-134.3\" font-family=\"Helvetica,sans-Serif\" font-size=\"14.00\">value = [1, 1]</text>\n<text text-anchor=\"start\" x=\"881\" y=\"-119.3\" font-family=\"Helvetica,sans-Serif\" font-size=\"14.00\">class = 0</text>\n</g>\n<!-- 27&#45;&gt;28 -->\n<g id=\"edge28\" class=\"edge\">\n<title>27&#45;&gt;28</title>\n<path fill=\"none\" stroke=\"black\" d=\"M913.5,-222.91C913.5,-212.2 913.5,-200.62 913.5,-189.78\"/>\n<polygon fill=\"black\" stroke=\"black\" points=\"917,-189.67 913.5,-179.67 910,-189.67 917,-189.67\"/>\n</g>\n<!-- 29 -->\n<g id=\"node30\" class=\"node\">\n<title>29</title>\n<path fill=\"#e58139\" stroke=\"black\" d=\"M1098.5,-179.5C1098.5,-179.5 1000.5,-179.5 1000.5,-179.5 994.5,-179.5 988.5,-173.5 988.5,-167.5 988.5,-167.5 988.5,-123.5 988.5,-123.5 988.5,-117.5 994.5,-111.5 1000.5,-111.5 1000.5,-111.5 1098.5,-111.5 1098.5,-111.5 1104.5,-111.5 1110.5,-117.5 1110.5,-123.5 1110.5,-123.5 1110.5,-167.5 1110.5,-167.5 1110.5,-173.5 1104.5,-179.5 1098.5,-179.5\"/>\n<text text-anchor=\"start\" x=\"1001\" y=\"-164.3\" font-family=\"Helvetica,sans-Serif\" font-size=\"14.00\">entropy = 0.0</text>\n<text text-anchor=\"start\" x=\"1001\" y=\"-149.3\" font-family=\"Helvetica,sans-Serif\" font-size=\"14.00\">samples = 18</text>\n<text text-anchor=\"start\" x=\"996.5\" y=\"-134.3\" font-family=\"Helvetica,sans-Serif\" font-size=\"14.00\">value = [27, 0]</text>\n<text text-anchor=\"start\" x=\"1017\" y=\"-119.3\" font-family=\"Helvetica,sans-Serif\" font-size=\"14.00\">class = 0</text>\n</g>\n<!-- 27&#45;&gt;29 -->\n<g id=\"edge29\" class=\"edge\">\n<title>27&#45;&gt;29</title>\n<path fill=\"none\" stroke=\"black\" d=\"M960.68,-222.91C974.41,-211.1 989.39,-198.22 1003.06,-186.45\"/>\n<polygon fill=\"black\" stroke=\"black\" points=\"1005.65,-188.84 1010.95,-179.67 1001.08,-183.54 1005.65,-188.84\"/>\n</g>\n<!-- 31 -->\n<g id=\"node32\" class=\"node\">\n<title>31</title>\n<path fill=\"#3e9fe6\" stroke=\"black\" d=\"M1589,-425C1589,-425 1404,-425 1404,-425 1398,-425 1392,-419 1392,-413 1392,-413 1392,-354 1392,-354 1392,-348 1398,-342 1404,-342 1404,-342 1589,-342 1589,-342 1595,-342 1601,-348 1601,-354 1601,-354 1601,-413 1601,-413 1601,-419 1595,-425 1589,-425\"/>\n<text text-anchor=\"start\" x=\"1400\" y=\"-409.8\" font-family=\"Helvetica,sans-Serif\" font-size=\"14.00\">days.with.cr.line ≤ 11745.0</text>\n<text text-anchor=\"start\" x=\"1439\" y=\"-394.8\" font-family=\"Helvetica,sans-Serif\" font-size=\"14.00\">entropy = 0.167</text>\n<text text-anchor=\"start\" x=\"1439\" y=\"-379.8\" font-family=\"Helvetica,sans-Serif\" font-size=\"14.00\">samples = 1038</text>\n<text text-anchor=\"start\" x=\"1430\" y=\"-364.8\" font-family=\"Helvetica,sans-Serif\" font-size=\"14.00\">value = [40, 1580]</text>\n<text text-anchor=\"start\" x=\"1464\" y=\"-349.8\" font-family=\"Helvetica,sans-Serif\" font-size=\"14.00\">class = 1</text>\n</g>\n<!-- 30&#45;&gt;31 -->\n<g id=\"edge31\" class=\"edge\">\n<title>30&#45;&gt;31</title>\n<path fill=\"none\" stroke=\"black\" d=\"M1496.5,-460.91C1496.5,-452.65 1496.5,-443.86 1496.5,-435.3\"/>\n<polygon fill=\"black\" stroke=\"black\" points=\"1500,-435.02 1496.5,-425.02 1493,-435.02 1500,-435.02\"/>\n</g>\n<!-- 44 -->\n<g id=\"node45\" class=\"node\">\n<title>44</title>\n<path fill=\"#4da7e8\" stroke=\"black\" d=\"M1872.5,-425C1872.5,-425 1732.5,-425 1732.5,-425 1726.5,-425 1720.5,-419 1720.5,-413 1720.5,-413 1720.5,-354 1720.5,-354 1720.5,-348 1726.5,-342 1732.5,-342 1732.5,-342 1872.5,-342 1872.5,-342 1878.5,-342 1884.5,-348 1884.5,-354 1884.5,-354 1884.5,-413 1884.5,-413 1884.5,-419 1878.5,-425 1872.5,-425\"/>\n<text text-anchor=\"start\" x=\"1728.5\" y=\"-409.8\" font-family=\"Helvetica,sans-Serif\" font-size=\"14.00\">installment ≤ 63.415</text>\n<text text-anchor=\"start\" x=\"1745\" y=\"-394.8\" font-family=\"Helvetica,sans-Serif\" font-size=\"14.00\">entropy = 0.442</text>\n<text text-anchor=\"start\" x=\"1754\" y=\"-379.8\" font-family=\"Helvetica,sans-Serif\" font-size=\"14.00\">samples = 73</text>\n<text text-anchor=\"start\" x=\"1740.5\" y=\"-364.8\" font-family=\"Helvetica,sans-Serif\" font-size=\"14.00\">value = [11, 109]</text>\n<text text-anchor=\"start\" x=\"1770\" y=\"-349.8\" font-family=\"Helvetica,sans-Serif\" font-size=\"14.00\">class = 1</text>\n</g>\n<!-- 30&#45;&gt;44 -->\n<g id=\"edge44\" class=\"edge\">\n<title>30&#45;&gt;44</title>\n<path fill=\"none\" stroke=\"black\" d=\"M1571.36,-472.88C1613.48,-456.77 1666.4,-436.54 1710.98,-419.49\"/>\n<polygon fill=\"black\" stroke=\"black\" points=\"1712.26,-422.75 1720.35,-415.91 1709.76,-416.21 1712.26,-422.75\"/>\n</g>\n<!-- 32 -->\n<g id=\"node33\" class=\"node\">\n<title>32</title>\n<path fill=\"#3d9fe5\" stroke=\"black\" d=\"M1491.5,-306C1491.5,-306 1325.5,-306 1325.5,-306 1319.5,-306 1313.5,-300 1313.5,-294 1313.5,-294 1313.5,-235 1313.5,-235 1313.5,-229 1319.5,-223 1325.5,-223 1325.5,-223 1491.5,-223 1491.5,-223 1497.5,-223 1503.5,-229 1503.5,-235 1503.5,-235 1503.5,-294 1503.5,-294 1503.5,-300 1497.5,-306 1491.5,-306\"/>\n<text text-anchor=\"start\" x=\"1321.5\" y=\"-290.8\" font-family=\"Helvetica,sans-Serif\" font-size=\"14.00\">debt_consolidation ≤ 0.5</text>\n<text text-anchor=\"start\" x=\"1351\" y=\"-275.8\" font-family=\"Helvetica,sans-Serif\" font-size=\"14.00\">entropy = 0.133</text>\n<text text-anchor=\"start\" x=\"1351\" y=\"-260.8\" font-family=\"Helvetica,sans-Serif\" font-size=\"14.00\">samples = 1001</text>\n<text text-anchor=\"start\" x=\"1342\" y=\"-245.8\" font-family=\"Helvetica,sans-Serif\" font-size=\"14.00\">value = [29, 1532]</text>\n<text text-anchor=\"start\" x=\"1376\" y=\"-230.8\" font-family=\"Helvetica,sans-Serif\" font-size=\"14.00\">class = 1</text>\n</g>\n<!-- 31&#45;&gt;32 -->\n<g id=\"edge32\" class=\"edge\">\n<title>31&#45;&gt;32</title>\n<path fill=\"none\" stroke=\"black\" d=\"M1465.97,-341.91C1459.21,-332.92 1451.98,-323.32 1445.02,-314.05\"/>\n<polygon fill=\"black\" stroke=\"black\" points=\"1447.79,-311.91 1438.98,-306.02 1442.19,-316.12 1447.79,-311.91\"/>\n</g>\n<!-- 39 -->\n<g id=\"node40\" class=\"node\">\n<title>39</title>\n<path fill=\"#66b3eb\" stroke=\"black\" d=\"M1707.5,-306C1707.5,-306 1567.5,-306 1567.5,-306 1561.5,-306 1555.5,-300 1555.5,-294 1555.5,-294 1555.5,-235 1555.5,-235 1555.5,-229 1561.5,-223 1567.5,-223 1567.5,-223 1707.5,-223 1707.5,-223 1713.5,-223 1719.5,-229 1719.5,-235 1719.5,-235 1719.5,-294 1719.5,-294 1719.5,-300 1713.5,-306 1707.5,-306\"/>\n<text text-anchor=\"start\" x=\"1563.5\" y=\"-290.8\" font-family=\"Helvetica,sans-Serif\" font-size=\"14.00\">revol.bal ≤ 123153.0</text>\n<text text-anchor=\"start\" x=\"1580\" y=\"-275.8\" font-family=\"Helvetica,sans-Serif\" font-size=\"14.00\">entropy = 0.694</text>\n<text text-anchor=\"start\" x=\"1589\" y=\"-260.8\" font-family=\"Helvetica,sans-Serif\" font-size=\"14.00\">samples = 37</text>\n<text text-anchor=\"start\" x=\"1580\" y=\"-245.8\" font-family=\"Helvetica,sans-Serif\" font-size=\"14.00\">value = [11, 48]</text>\n<text text-anchor=\"start\" x=\"1605\" y=\"-230.8\" font-family=\"Helvetica,sans-Serif\" font-size=\"14.00\">class = 1</text>\n</g>\n<!-- 31&#45;&gt;39 -->\n<g id=\"edge39\" class=\"edge\">\n<title>31&#45;&gt;39</title>\n<path fill=\"none\" stroke=\"black\" d=\"M1545.42,-341.91C1556.79,-332.47 1569,-322.34 1580.68,-312.65\"/>\n<polygon fill=\"black\" stroke=\"black\" points=\"1583.21,-315.1 1588.67,-306.02 1578.74,-309.71 1583.21,-315.1\"/>\n</g>\n<!-- 33 -->\n<g id=\"node34\" class=\"node\">\n<title>33</title>\n<path fill=\"#3ea0e6\" stroke=\"black\" d=\"M1266,-187C1266,-187 1141,-187 1141,-187 1135,-187 1129,-181 1129,-175 1129,-175 1129,-116 1129,-116 1129,-110 1135,-104 1141,-104 1141,-104 1266,-104 1266,-104 1272,-104 1278,-110 1278,-116 1278,-116 1278,-175 1278,-175 1278,-181 1272,-187 1266,-187\"/>\n<text text-anchor=\"start\" x=\"1147.5\" y=\"-171.8\" font-family=\"Helvetica,sans-Serif\" font-size=\"14.00\">int.rate ≤ 0.157</text>\n<text text-anchor=\"start\" x=\"1146\" y=\"-156.8\" font-family=\"Helvetica,sans-Serif\" font-size=\"14.00\">entropy = 0.171</text>\n<text text-anchor=\"start\" x=\"1150.5\" y=\"-141.8\" font-family=\"Helvetica,sans-Serif\" font-size=\"14.00\">samples = 711</text>\n<text text-anchor=\"start\" x=\"1137\" y=\"-126.8\" font-family=\"Helvetica,sans-Serif\" font-size=\"14.00\">value = [28, 1072]</text>\n<text text-anchor=\"start\" x=\"1171\" y=\"-111.8\" font-family=\"Helvetica,sans-Serif\" font-size=\"14.00\">class = 1</text>\n</g>\n<!-- 32&#45;&gt;33 -->\n<g id=\"edge33\" class=\"edge\">\n<title>32&#45;&gt;33</title>\n<path fill=\"none\" stroke=\"black\" d=\"M1337.38,-222.91C1320.04,-213.02 1301.39,-202.37 1283.67,-192.25\"/>\n<polygon fill=\"black\" stroke=\"black\" points=\"1284.92,-188.94 1274.5,-187.02 1281.45,-195.02 1284.92,-188.94\"/>\n</g>\n<!-- 36 -->\n<g id=\"node37\" class=\"node\">\n<title>36</title>\n<path fill=\"#399de5\" stroke=\"black\" d=\"M1489,-187C1489,-187 1328,-187 1328,-187 1322,-187 1316,-181 1316,-175 1316,-175 1316,-116 1316,-116 1316,-110 1322,-104 1328,-104 1328,-104 1489,-104 1489,-104 1495,-104 1501,-110 1501,-116 1501,-116 1501,-175 1501,-175 1501,-181 1495,-187 1489,-187\"/>\n<text text-anchor=\"start\" x=\"1324\" y=\"-171.8\" font-family=\"Helvetica,sans-Serif\" font-size=\"14.00\">log.annual.inc ≤ 12.342</text>\n<text text-anchor=\"start\" x=\"1351\" y=\"-156.8\" font-family=\"Helvetica,sans-Serif\" font-size=\"14.00\">entropy = 0.022</text>\n<text text-anchor=\"start\" x=\"1355.5\" y=\"-141.8\" font-family=\"Helvetica,sans-Serif\" font-size=\"14.00\">samples = 290</text>\n<text text-anchor=\"start\" x=\"1351\" y=\"-126.8\" font-family=\"Helvetica,sans-Serif\" font-size=\"14.00\">value = [1, 460]</text>\n<text text-anchor=\"start\" x=\"1376\" y=\"-111.8\" font-family=\"Helvetica,sans-Serif\" font-size=\"14.00\">class = 1</text>\n</g>\n<!-- 32&#45;&gt;36 -->\n<g id=\"edge36\" class=\"edge\">\n<title>32&#45;&gt;36</title>\n<path fill=\"none\" stroke=\"black\" d=\"M1408.5,-222.91C1408.5,-214.65 1408.5,-205.86 1408.5,-197.3\"/>\n<polygon fill=\"black\" stroke=\"black\" points=\"1412,-197.02 1408.5,-187.02 1405,-197.02 1412,-197.02\"/>\n</g>\n<!-- 34 -->\n<g id=\"node35\" class=\"node\">\n<title>34</title>\n<path fill=\"#3d9fe6\" stroke=\"black\" d=\"M1104,-68C1104,-68 979,-68 979,-68 973,-68 967,-62 967,-56 967,-56 967,-12 967,-12 967,-6 973,0 979,0 979,0 1104,0 1104,0 1110,0 1116,-6 1116,-12 1116,-12 1116,-56 1116,-56 1116,-62 1110,-68 1104,-68\"/>\n<text text-anchor=\"start\" x=\"984\" y=\"-52.8\" font-family=\"Helvetica,sans-Serif\" font-size=\"14.00\">entropy = 0.143</text>\n<text text-anchor=\"start\" x=\"988.5\" y=\"-37.8\" font-family=\"Helvetica,sans-Serif\" font-size=\"14.00\">samples = 702</text>\n<text text-anchor=\"start\" x=\"975\" y=\"-22.8\" font-family=\"Helvetica,sans-Serif\" font-size=\"14.00\">value = [22, 1061]</text>\n<text text-anchor=\"start\" x=\"1009\" y=\"-7.8\" font-family=\"Helvetica,sans-Serif\" font-size=\"14.00\">class = 1</text>\n</g>\n<!-- 33&#45;&gt;34 -->\n<g id=\"edge34\" class=\"edge\">\n<title>33&#45;&gt;34</title>\n<path fill=\"none\" stroke=\"black\" d=\"M1143.18,-103.73C1128.66,-93.92 1113.2,-83.46 1098.83,-73.75\"/>\n<polygon fill=\"black\" stroke=\"black\" points=\"1100.75,-70.83 1090.51,-68.13 1096.83,-76.62 1100.75,-70.83\"/>\n</g>\n<!-- 35 -->\n<g id=\"node36\" class=\"node\">\n<title>35</title>\n<path fill=\"#a5d2f3\" stroke=\"black\" d=\"M1253,-68C1253,-68 1146,-68 1146,-68 1140,-68 1134,-62 1134,-56 1134,-56 1134,-12 1134,-12 1134,-6 1140,0 1146,0 1146,0 1253,0 1253,0 1259,0 1265,-6 1265,-12 1265,-12 1265,-56 1265,-56 1265,-62 1259,-68 1253,-68\"/>\n<text text-anchor=\"start\" x=\"1142\" y=\"-52.8\" font-family=\"Helvetica,sans-Serif\" font-size=\"14.00\">entropy = 0.937</text>\n<text text-anchor=\"start\" x=\"1155.5\" y=\"-37.8\" font-family=\"Helvetica,sans-Serif\" font-size=\"14.00\">samples = 9</text>\n<text text-anchor=\"start\" x=\"1146.5\" y=\"-22.8\" font-family=\"Helvetica,sans-Serif\" font-size=\"14.00\">value = [6, 11]</text>\n<text text-anchor=\"start\" x=\"1167\" y=\"-7.8\" font-family=\"Helvetica,sans-Serif\" font-size=\"14.00\">class = 1</text>\n</g>\n<!-- 33&#45;&gt;35 -->\n<g id=\"edge35\" class=\"edge\">\n<title>33&#45;&gt;35</title>\n<path fill=\"none\" stroke=\"black\" d=\"M1202.01,-103.73C1201.71,-95.52 1201.39,-86.86 1201.09,-78.56\"/>\n<polygon fill=\"black\" stroke=\"black\" points=\"1204.58,-78.17 1200.72,-68.3 1197.58,-78.42 1204.58,-78.17\"/>\n</g>\n<!-- 37 -->\n<g id=\"node38\" class=\"node\">\n<title>37</title>\n<path fill=\"#399de5\" stroke=\"black\" d=\"M1402,-68C1402,-68 1295,-68 1295,-68 1289,-68 1283,-62 1283,-56 1283,-56 1283,-12 1283,-12 1283,-6 1289,0 1295,0 1295,0 1402,0 1402,0 1408,0 1414,-6 1414,-12 1414,-12 1414,-56 1414,-56 1414,-62 1408,-68 1402,-68\"/>\n<text text-anchor=\"start\" x=\"1300\" y=\"-52.8\" font-family=\"Helvetica,sans-Serif\" font-size=\"14.00\">entropy = 0.0</text>\n<text text-anchor=\"start\" x=\"1295.5\" y=\"-37.8\" font-family=\"Helvetica,sans-Serif\" font-size=\"14.00\">samples = 285</text>\n<text text-anchor=\"start\" x=\"1291\" y=\"-22.8\" font-family=\"Helvetica,sans-Serif\" font-size=\"14.00\">value = [0, 456]</text>\n<text text-anchor=\"start\" x=\"1316\" y=\"-7.8\" font-family=\"Helvetica,sans-Serif\" font-size=\"14.00\">class = 1</text>\n</g>\n<!-- 36&#45;&gt;37 -->\n<g id=\"edge37\" class=\"edge\">\n<title>36&#45;&gt;37</title>\n<path fill=\"none\" stroke=\"black\" d=\"M1386.16,-103.73C1381.41,-95.06 1376.39,-85.9 1371.61,-77.18\"/>\n<polygon fill=\"black\" stroke=\"black\" points=\"1374.62,-75.39 1366.75,-68.3 1368.48,-78.75 1374.62,-75.39\"/>\n</g>\n<!-- 38 -->\n<g id=\"node39\" class=\"node\">\n<title>38</title>\n<path fill=\"#6ab6ec\" stroke=\"black\" d=\"M1551,-68C1551,-68 1444,-68 1444,-68 1438,-68 1432,-62 1432,-56 1432,-56 1432,-12 1432,-12 1432,-6 1438,0 1444,0 1444,0 1551,0 1551,0 1557,0 1563,-6 1563,-12 1563,-12 1563,-56 1563,-56 1563,-62 1557,-68 1551,-68\"/>\n<text text-anchor=\"start\" x=\"1440\" y=\"-52.8\" font-family=\"Helvetica,sans-Serif\" font-size=\"14.00\">entropy = 0.722</text>\n<text text-anchor=\"start\" x=\"1453.5\" y=\"-37.8\" font-family=\"Helvetica,sans-Serif\" font-size=\"14.00\">samples = 5</text>\n<text text-anchor=\"start\" x=\"1449\" y=\"-22.8\" font-family=\"Helvetica,sans-Serif\" font-size=\"14.00\">value = [1, 4]</text>\n<text text-anchor=\"start\" x=\"1465\" y=\"-7.8\" font-family=\"Helvetica,sans-Serif\" font-size=\"14.00\">class = 1</text>\n</g>\n<!-- 36&#45;&gt;38 -->\n<g id=\"edge38\" class=\"edge\">\n<title>36&#45;&gt;38</title>\n<path fill=\"none\" stroke=\"black\" d=\"M1441.64,-103.73C1448.98,-94.7 1456.76,-85.12 1464.11,-76.08\"/>\n<polygon fill=\"black\" stroke=\"black\" points=\"1466.84,-78.27 1470.43,-68.3 1461.41,-73.85 1466.84,-78.27\"/>\n</g>\n<!-- 40 -->\n<g id=\"node41\" class=\"node\">\n<title>40</title>\n<path fill=\"#56abe9\" stroke=\"black\" d=\"M1710.5,-187C1710.5,-187 1564.5,-187 1564.5,-187 1558.5,-187 1552.5,-181 1552.5,-175 1552.5,-175 1552.5,-116 1552.5,-116 1552.5,-110 1558.5,-104 1564.5,-104 1564.5,-104 1710.5,-104 1710.5,-104 1716.5,-104 1722.5,-110 1722.5,-116 1722.5,-116 1722.5,-175 1722.5,-175 1722.5,-181 1716.5,-187 1710.5,-187\"/>\n<text text-anchor=\"start\" x=\"1560.5\" y=\"-171.8\" font-family=\"Helvetica,sans-Serif\" font-size=\"14.00\">major_purchase ≤ 0.5</text>\n<text text-anchor=\"start\" x=\"1584.5\" y=\"-156.8\" font-family=\"Helvetica,sans-Serif\" font-size=\"14.00\">entropy = 0.55</text>\n<text text-anchor=\"start\" x=\"1589\" y=\"-141.8\" font-family=\"Helvetica,sans-Serif\" font-size=\"14.00\">samples = 35</text>\n<text text-anchor=\"start\" x=\"1584.5\" y=\"-126.8\" font-family=\"Helvetica,sans-Serif\" font-size=\"14.00\">value = [7, 48]</text>\n<text text-anchor=\"start\" x=\"1605\" y=\"-111.8\" font-family=\"Helvetica,sans-Serif\" font-size=\"14.00\">class = 1</text>\n</g>\n<!-- 39&#45;&gt;40 -->\n<g id=\"edge40\" class=\"edge\">\n<title>39&#45;&gt;40</title>\n<path fill=\"none\" stroke=\"black\" d=\"M1637.5,-222.91C1637.5,-214.65 1637.5,-205.86 1637.5,-197.3\"/>\n<polygon fill=\"black\" stroke=\"black\" points=\"1641,-197.02 1637.5,-187.02 1634,-197.02 1641,-197.02\"/>\n</g>\n<!-- 43 -->\n<g id=\"node44\" class=\"node\">\n<title>43</title>\n<path fill=\"#e58139\" stroke=\"black\" d=\"M1842,-179.5C1842,-179.5 1753,-179.5 1753,-179.5 1747,-179.5 1741,-173.5 1741,-167.5 1741,-167.5 1741,-123.5 1741,-123.5 1741,-117.5 1747,-111.5 1753,-111.5 1753,-111.5 1842,-111.5 1842,-111.5 1848,-111.5 1854,-117.5 1854,-123.5 1854,-123.5 1854,-167.5 1854,-167.5 1854,-173.5 1848,-179.5 1842,-179.5\"/>\n<text text-anchor=\"start\" x=\"1749\" y=\"-164.3\" font-family=\"Helvetica,sans-Serif\" font-size=\"14.00\">entropy = 0.0</text>\n<text text-anchor=\"start\" x=\"1753.5\" y=\"-149.3\" font-family=\"Helvetica,sans-Serif\" font-size=\"14.00\">samples = 2</text>\n<text text-anchor=\"start\" x=\"1749\" y=\"-134.3\" font-family=\"Helvetica,sans-Serif\" font-size=\"14.00\">value = [4, 0]</text>\n<text text-anchor=\"start\" x=\"1765\" y=\"-119.3\" font-family=\"Helvetica,sans-Serif\" font-size=\"14.00\">class = 0</text>\n</g>\n<!-- 39&#45;&gt;43 -->\n<g id=\"edge43\" class=\"edge\">\n<title>39&#45;&gt;43</title>\n<path fill=\"none\" stroke=\"black\" d=\"M1693.01,-222.91C1709.46,-210.88 1727.44,-197.73 1743.77,-185.79\"/>\n<polygon fill=\"black\" stroke=\"black\" points=\"1746.14,-188.39 1752.14,-179.67 1742.01,-182.74 1746.14,-188.39\"/>\n</g>\n<!-- 41 -->\n<g id=\"node42\" class=\"node\">\n<title>41</title>\n<path fill=\"#5caeea\" stroke=\"black\" d=\"M1700,-68C1700,-68 1593,-68 1593,-68 1587,-68 1581,-62 1581,-56 1581,-56 1581,-12 1581,-12 1581,-6 1587,0 1593,0 1593,0 1700,0 1700,0 1706,0 1712,-6 1712,-12 1712,-12 1712,-56 1712,-56 1712,-62 1706,-68 1700,-68\"/>\n<text text-anchor=\"start\" x=\"1589\" y=\"-52.8\" font-family=\"Helvetica,sans-Serif\" font-size=\"14.00\">entropy = 0.607</text>\n<text text-anchor=\"start\" x=\"1598\" y=\"-37.8\" font-family=\"Helvetica,sans-Serif\" font-size=\"14.00\">samples = 30</text>\n<text text-anchor=\"start\" x=\"1593.5\" y=\"-22.8\" font-family=\"Helvetica,sans-Serif\" font-size=\"14.00\">value = [7, 40]</text>\n<text text-anchor=\"start\" x=\"1614\" y=\"-7.8\" font-family=\"Helvetica,sans-Serif\" font-size=\"14.00\">class = 1</text>\n</g>\n<!-- 40&#45;&gt;41 -->\n<g id=\"edge41\" class=\"edge\">\n<title>40&#45;&gt;41</title>\n<path fill=\"none\" stroke=\"black\" d=\"M1640.85,-103.73C1641.53,-95.43 1642.25,-86.67 1642.94,-78.28\"/>\n<polygon fill=\"black\" stroke=\"black\" points=\"1646.43,-78.55 1643.76,-68.3 1639.46,-77.98 1646.43,-78.55\"/>\n</g>\n<!-- 42 -->\n<g id=\"node43\" class=\"node\">\n<title>42</title>\n<path fill=\"#399de5\" stroke=\"black\" d=\"M1831,-68C1831,-68 1742,-68 1742,-68 1736,-68 1730,-62 1730,-56 1730,-56 1730,-12 1730,-12 1730,-6 1736,0 1742,0 1742,0 1831,0 1831,0 1837,0 1843,-6 1843,-12 1843,-12 1843,-56 1843,-56 1843,-62 1837,-68 1831,-68\"/>\n<text text-anchor=\"start\" x=\"1738\" y=\"-52.8\" font-family=\"Helvetica,sans-Serif\" font-size=\"14.00\">entropy = 0.0</text>\n<text text-anchor=\"start\" x=\"1742.5\" y=\"-37.8\" font-family=\"Helvetica,sans-Serif\" font-size=\"14.00\">samples = 5</text>\n<text text-anchor=\"start\" x=\"1738\" y=\"-22.8\" font-family=\"Helvetica,sans-Serif\" font-size=\"14.00\">value = [0, 8]</text>\n<text text-anchor=\"start\" x=\"1754\" y=\"-7.8\" font-family=\"Helvetica,sans-Serif\" font-size=\"14.00\">class = 1</text>\n</g>\n<!-- 40&#45;&gt;42 -->\n<g id=\"edge42\" class=\"edge\">\n<title>40&#45;&gt;42</title>\n<path fill=\"none\" stroke=\"black\" d=\"M1692.98,-103.73C1706.01,-94.15 1719.88,-83.96 1732.83,-74.44\"/>\n<polygon fill=\"black\" stroke=\"black\" points=\"1735.2,-77.04 1741.19,-68.3 1731.06,-71.4 1735.2,-77.04\"/>\n</g>\n<!-- 45 -->\n<g id=\"node46\" class=\"node\">\n<title>45</title>\n<path fill=\"#ea9a61\" stroke=\"black\" d=\"M1851.5,-298.5C1851.5,-298.5 1753.5,-298.5 1753.5,-298.5 1747.5,-298.5 1741.5,-292.5 1741.5,-286.5 1741.5,-286.5 1741.5,-242.5 1741.5,-242.5 1741.5,-236.5 1747.5,-230.5 1753.5,-230.5 1753.5,-230.5 1851.5,-230.5 1851.5,-230.5 1857.5,-230.5 1863.5,-236.5 1863.5,-242.5 1863.5,-242.5 1863.5,-286.5 1863.5,-286.5 1863.5,-292.5 1857.5,-298.5 1851.5,-298.5\"/>\n<text text-anchor=\"start\" x=\"1749.5\" y=\"-283.3\" font-family=\"Helvetica,sans-Serif\" font-size=\"14.00\">entropy = 0.65</text>\n<text text-anchor=\"start\" x=\"1758.5\" y=\"-268.3\" font-family=\"Helvetica,sans-Serif\" font-size=\"14.00\">samples = 3</text>\n<text text-anchor=\"start\" x=\"1754\" y=\"-253.3\" font-family=\"Helvetica,sans-Serif\" font-size=\"14.00\">value = [5, 1]</text>\n<text text-anchor=\"start\" x=\"1770\" y=\"-238.3\" font-family=\"Helvetica,sans-Serif\" font-size=\"14.00\">class = 0</text>\n</g>\n<!-- 44&#45;&gt;45 -->\n<g id=\"edge45\" class=\"edge\">\n<title>44&#45;&gt;45</title>\n<path fill=\"none\" stroke=\"black\" d=\"M1802.5,-341.91C1802.5,-331.2 1802.5,-319.62 1802.5,-308.78\"/>\n<polygon fill=\"black\" stroke=\"black\" points=\"1806,-308.67 1802.5,-298.67 1799,-308.67 1806,-308.67\"/>\n</g>\n<!-- 46 -->\n<g id=\"node47\" class=\"node\">\n<title>46</title>\n<path fill=\"#44a2e6\" stroke=\"black\" d=\"M2006,-306C2006,-306 1899,-306 1899,-306 1893,-306 1887,-300 1887,-294 1887,-294 1887,-235 1887,-235 1887,-229 1893,-223 1899,-223 1899,-223 2006,-223 2006,-223 2012,-223 2018,-229 2018,-235 2018,-235 2018,-294 2018,-294 2018,-300 2012,-306 2006,-306\"/>\n<text text-anchor=\"start\" x=\"1912.5\" y=\"-290.8\" font-family=\"Helvetica,sans-Serif\" font-size=\"14.00\">dti ≤ 17.13</text>\n<text text-anchor=\"start\" x=\"1895\" y=\"-275.8\" font-family=\"Helvetica,sans-Serif\" font-size=\"14.00\">entropy = 0.297</text>\n<text text-anchor=\"start\" x=\"1904\" y=\"-260.8\" font-family=\"Helvetica,sans-Serif\" font-size=\"14.00\">samples = 70</text>\n<text text-anchor=\"start\" x=\"1895\" y=\"-245.8\" font-family=\"Helvetica,sans-Serif\" font-size=\"14.00\">value = [6, 108]</text>\n<text text-anchor=\"start\" x=\"1920\" y=\"-230.8\" font-family=\"Helvetica,sans-Serif\" font-size=\"14.00\">class = 1</text>\n</g>\n<!-- 44&#45;&gt;46 -->\n<g id=\"edge46\" class=\"edge\">\n<title>44&#45;&gt;46</title>\n<path fill=\"none\" stroke=\"black\" d=\"M1854.54,-341.91C1866.76,-332.38 1879.87,-322.15 1892.41,-312.37\"/>\n<polygon fill=\"black\" stroke=\"black\" points=\"1894.82,-314.93 1900.55,-306.02 1890.51,-309.41 1894.82,-314.93\"/>\n</g>\n<!-- 47 -->\n<g id=\"node48\" class=\"node\">\n<title>47</title>\n<path fill=\"#3fa0e6\" stroke=\"black\" d=\"M2020.5,-187C2020.5,-187 1884.5,-187 1884.5,-187 1878.5,-187 1872.5,-181 1872.5,-175 1872.5,-175 1872.5,-116 1872.5,-116 1872.5,-110 1878.5,-104 1884.5,-104 1884.5,-104 2020.5,-104 2020.5,-104 2026.5,-104 2032.5,-110 2032.5,-116 2032.5,-116 2032.5,-175 2032.5,-175 2032.5,-181 2026.5,-187 2020.5,-187\"/>\n<text text-anchor=\"start\" x=\"1880.5\" y=\"-171.8\" font-family=\"Helvetica,sans-Serif\" font-size=\"14.00\">inq.last.6mths ≤ 0.5</text>\n<text text-anchor=\"start\" x=\"1895\" y=\"-156.8\" font-family=\"Helvetica,sans-Serif\" font-size=\"14.00\">entropy = 0.181</text>\n<text text-anchor=\"start\" x=\"1904\" y=\"-141.8\" font-family=\"Helvetica,sans-Serif\" font-size=\"14.00\">samples = 68</text>\n<text text-anchor=\"start\" x=\"1895\" y=\"-126.8\" font-family=\"Helvetica,sans-Serif\" font-size=\"14.00\">value = [3, 107]</text>\n<text text-anchor=\"start\" x=\"1920\" y=\"-111.8\" font-family=\"Helvetica,sans-Serif\" font-size=\"14.00\">class = 1</text>\n</g>\n<!-- 46&#45;&gt;47 -->\n<g id=\"edge47\" class=\"edge\">\n<title>46&#45;&gt;47</title>\n<path fill=\"none\" stroke=\"black\" d=\"M1952.5,-222.91C1952.5,-214.65 1952.5,-205.86 1952.5,-197.3\"/>\n<polygon fill=\"black\" stroke=\"black\" points=\"1956,-197.02 1952.5,-187.02 1949,-197.02 1956,-197.02\"/>\n</g>\n<!-- 50 -->\n<g id=\"node51\" class=\"node\">\n<title>50</title>\n<path fill=\"#eeab7b\" stroke=\"black\" d=\"M2170,-179.5C2170,-179.5 2063,-179.5 2063,-179.5 2057,-179.5 2051,-173.5 2051,-167.5 2051,-167.5 2051,-123.5 2051,-123.5 2051,-117.5 2057,-111.5 2063,-111.5 2063,-111.5 2170,-111.5 2170,-111.5 2176,-111.5 2182,-117.5 2182,-123.5 2182,-123.5 2182,-167.5 2182,-167.5 2182,-173.5 2176,-179.5 2170,-179.5\"/>\n<text text-anchor=\"start\" x=\"2059\" y=\"-164.3\" font-family=\"Helvetica,sans-Serif\" font-size=\"14.00\">entropy = 0.811</text>\n<text text-anchor=\"start\" x=\"2072.5\" y=\"-149.3\" font-family=\"Helvetica,sans-Serif\" font-size=\"14.00\">samples = 2</text>\n<text text-anchor=\"start\" x=\"2068\" y=\"-134.3\" font-family=\"Helvetica,sans-Serif\" font-size=\"14.00\">value = [3, 1]</text>\n<text text-anchor=\"start\" x=\"2084\" y=\"-119.3\" font-family=\"Helvetica,sans-Serif\" font-size=\"14.00\">class = 0</text>\n</g>\n<!-- 46&#45;&gt;50 -->\n<g id=\"edge50\" class=\"edge\">\n<title>46&#45;&gt;50</title>\n<path fill=\"none\" stroke=\"black\" d=\"M2009.4,-222.91C2026.26,-210.88 2044.68,-197.73 2061.43,-185.79\"/>\n<polygon fill=\"black\" stroke=\"black\" points=\"2063.9,-188.32 2070.01,-179.67 2059.84,-182.63 2063.9,-188.32\"/>\n</g>\n<!-- 48 -->\n<g id=\"node49\" class=\"node\">\n<title>48</title>\n<path fill=\"#41a1e6\" stroke=\"black\" d=\"M1997,-68C1997,-68 1890,-68 1890,-68 1884,-68 1878,-62 1878,-56 1878,-56 1878,-12 1878,-12 1878,-6 1884,0 1890,0 1890,0 1997,0 1997,0 2003,0 2009,-6 2009,-12 2009,-12 2009,-56 2009,-56 2009,-62 2003,-68 1997,-68\"/>\n<text text-anchor=\"start\" x=\"1886\" y=\"-52.8\" font-family=\"Helvetica,sans-Serif\" font-size=\"14.00\">entropy = 0.247</text>\n<text text-anchor=\"start\" x=\"1895\" y=\"-37.8\" font-family=\"Helvetica,sans-Serif\" font-size=\"14.00\">samples = 43</text>\n<text text-anchor=\"start\" x=\"1890.5\" y=\"-22.8\" font-family=\"Helvetica,sans-Serif\" font-size=\"14.00\">value = [3, 70]</text>\n<text text-anchor=\"start\" x=\"1911\" y=\"-7.8\" font-family=\"Helvetica,sans-Serif\" font-size=\"14.00\">class = 1</text>\n</g>\n<!-- 47&#45;&gt;48 -->\n<g id=\"edge48\" class=\"edge\">\n<title>47&#45;&gt;48</title>\n<path fill=\"none\" stroke=\"black\" d=\"M1949.15,-103.73C1948.47,-95.43 1947.75,-86.67 1947.06,-78.28\"/>\n<polygon fill=\"black\" stroke=\"black\" points=\"1950.54,-77.98 1946.24,-68.3 1943.57,-78.55 1950.54,-77.98\"/>\n</g>\n<!-- 49 -->\n<g id=\"node50\" class=\"node\">\n<title>49</title>\n<path fill=\"#399de5\" stroke=\"black\" d=\"M2137.5,-68C2137.5,-68 2039.5,-68 2039.5,-68 2033.5,-68 2027.5,-62 2027.5,-56 2027.5,-56 2027.5,-12 2027.5,-12 2027.5,-6 2033.5,0 2039.5,0 2039.5,0 2137.5,0 2137.5,0 2143.5,0 2149.5,-6 2149.5,-12 2149.5,-12 2149.5,-56 2149.5,-56 2149.5,-62 2143.5,-68 2137.5,-68\"/>\n<text text-anchor=\"start\" x=\"2040\" y=\"-52.8\" font-family=\"Helvetica,sans-Serif\" font-size=\"14.00\">entropy = 0.0</text>\n<text text-anchor=\"start\" x=\"2040\" y=\"-37.8\" font-family=\"Helvetica,sans-Serif\" font-size=\"14.00\">samples = 25</text>\n<text text-anchor=\"start\" x=\"2035.5\" y=\"-22.8\" font-family=\"Helvetica,sans-Serif\" font-size=\"14.00\">value = [0, 37]</text>\n<text text-anchor=\"start\" x=\"2056\" y=\"-7.8\" font-family=\"Helvetica,sans-Serif\" font-size=\"14.00\">class = 1</text>\n</g>\n<!-- 47&#45;&gt;49 -->\n<g id=\"edge49\" class=\"edge\">\n<title>47&#45;&gt;49</title>\n<path fill=\"none\" stroke=\"black\" d=\"M2003.14,-103.73C2014.92,-94.24 2027.45,-84.16 2039.17,-74.72\"/>\n<polygon fill=\"black\" stroke=\"black\" points=\"2041.55,-77.3 2047.14,-68.3 2037.16,-71.84 2041.55,-77.3\"/>\n</g>\n</g>\n</svg>\n",
      "text/plain": "<graphviz.sources.Source at 0x7fbbb46bbfa0>"
     },
     "execution_count": 55,
     "metadata": {},
     "output_type": "execute_result"
    }
   ],
   "source": [
    "rf_clf = grid_search_rf.best_estimator_\n",
    "\n",
    "# visualize some tree from random forest\n",
    "dot_data = export_graphviz(rf_clf.estimators_[0], out_file=None,\n",
    "                           feature_names=X.columns,\n",
    "                           class_names=['0', '1'],\n",
    "                           filled=True, rounded=True,\n",
    "                           special_characters=True)\n",
    "graph = graphviz.Source(dot_data)\n",
    "graph"
   ],
   "metadata": {
    "collapsed": false,
    "pycharm": {
     "name": "#%%\n"
    }
   }
  },
  {
   "cell_type": "markdown",
   "source": [
    "### Questions\n",
    "1. How did the DT compare to the RF in performance? Why?\n",
    "    - DT has worse performance than RF. RF is an ensemble of DTs, so it is more powerful than a single DT. Also, RF is less prone to overfitting.\n",
    "2. After fine-tuning, how does the max depth in DT compare to RF? Why?\n",
    "    - The max depth in DT is 6, while in RF it is 7. DT is more prone to overfitting, so it has a smaller max depth after cross validation.\n",
    "3. What is ensemble learning? What are its pros and cons?\n",
    "    - Pros:\n",
    "        - Ensemble learning is more powerful than a single model.\n",
    "        - Ensemble learning is less prone to overfitting.\n",
    "    - Cons:\n",
    "        - Ensemble learning is more computationally expensive.\n",
    "        - Ensemble learning is harder to interpret.\n",
    "4. Briefly explain 2 types of boosting methods and 2 types of bagging methods.\n",
    "Which of these categories does RF fall under?\n",
    "    - Boosting methods:\n",
    "        - AdaBoost - Boosting method that uses decision trees as weak learners. It is a sequential method, where each tree is trained on the weighted data from the previous tree. The weights are updated after each tree is trained. The final prediction is the weighted average of the predictions of all the trees.\n",
    "        - Gradient Boosting - Boosting method that uses decision trees as weak learners. It is also a sequential method, where each tree is trained on the residuals from the previous tree. The final prediction is the sum of the predictions of all the trees.\n",
    "    - Bagging methods:\n",
    "        - Bootstrap Aggregation—this method just consists of averaging the predictions of multiple models. These models are trained on different subsets of the data.\n",
    "        - Bagging—this method is like bootstrap aggregation, but the models are trained on different subsets of the features.\n",
    "    - Random Forest is a bootstrap aggregation method."
   ],
   "metadata": {
    "collapsed": false,
    "pycharm": {
     "name": "#%% md\n"
    }
   }
  },
  {
   "cell_type": "markdown",
   "source": [
    "# Task 4: Domain Gap (15%)\n",
    "\n",
    "Evaluate your CNN model from task 2 on SVHN data without retraining your model."
   ],
   "metadata": {
    "collapsed": false,
    "pycharm": {
     "name": "#%% md\n"
    }
   }
  },
  {
   "cell_type": "code",
   "execution_count": 56,
   "outputs": [],
   "source": [
    "import os\n",
    "import torchvision.io as io\n",
    "svhn_dir = 'svhn/'\n",
    "\n",
    "data = []\n",
    "labels = []\n",
    "for file in (os.listdir(svhn_dir)):\n",
    "    if file.endswith('.png'):\n",
    "        img_data = io.read_image(svhn_dir + file)\n",
    "        data.append(img_data)\n",
    "        labels.append(file)\n",
    "# for sample in data:\n",
    "#     print(sample.shape)\n",
    "# data = torch.stack(data)\n",
    "# data.shape"
   ],
   "metadata": {
    "collapsed": false,
    "pycharm": {
     "name": "#%%\n"
    }
   }
  },
  {
   "cell_type": "code",
   "execution_count": 57,
   "outputs": [
    {
     "data": {
      "text/plain": "<Figure size 640x480 with 1 Axes>",
      "image/png": "[encoded data removed]"
     },
     "metadata": {},
     "output_type": "display_data"
    },
    {
     "name": "stdout",
     "output_type": "stream",
     "text": [
      "255.png\n"
     ]
    }
   ],
   "source": [
    "imshow(data[5].to('cpu'))\n",
    "print(labels[5])"
   ],
   "metadata": {
    "collapsed": false,
    "pycharm": {
     "name": "#%%\n"
    }
   }
  },
  {
   "cell_type": "code",
   "execution_count": 58,
   "outputs": [],
   "source": [
    "import torchvision.transforms as T\n",
    "data_tensors = []\n",
    "for file in data:\n",
    "    file = T.ToPILImage()(file)\n",
    "    file = T.Resize((84, 84))(file)\n",
    "    file = T.ToTensor()(file)\n",
    "    data_tensors.append(file)\n",
    "\n",
    "data_tensors = torch.stack(data_tensors)\n"
   ],
   "metadata": {
    "collapsed": false,
    "pycharm": {
     "name": "#%%\n"
    }
   }
  },
  {
   "cell_type": "code",
   "execution_count": 59,
   "outputs": [
    {
     "data": {
      "text/plain": "<Figure size 640x480 with 1 Axes>",
      "image/png": "[encoded data removed]"
     },
     "metadata": {},
     "output_type": "display_data"
    },
    {
     "name": "stdout",
     "output_type": "stream",
     "text": [
      "255.png\n"
     ]
    }
   ],
   "source": [
    "imshow(data_tensors[5].to('cpu'))\n",
    "print(labels[5])"
   ],
   "metadata": {
    "collapsed": false,
    "pycharm": {
     "name": "#%%\n"
    }
   }
  },
  {
   "cell_type": "code",
   "execution_count": 60,
   "outputs": [
    {
     "data": {
      "text/plain": "<matplotlib.image.AxesImage at 0x7fbb7eaebeb0>"
     },
     "execution_count": 60,
     "metadata": {},
     "output_type": "execute_result"
    },
    {
     "data": {
      "text/plain": "<Figure size 640x480 with 1 Axes>",
      "image/png": "[encoded data removed]"
     },
     "metadata": {},
     "output_type": "display_data"
    }
   ],
   "source": [
    "from scipy import ndimage\n",
    "some_image = data_tensors[5]\n",
    "\n",
    "grey_image = torch.mean(some_image, dim=0)\n",
    "# make image sharper\n",
    "sharpened_image = ndimage.gaussian_filter(grey_image, sigma=1)\n",
    "plt.imshow(sharpened_image, cmap='gray')"
   ],
   "metadata": {
    "collapsed": false,
    "pycharm": {
     "name": "#%%\n"
    }
   }
  },
  {
   "cell_type": "code",
   "execution_count": 61,
   "outputs": [
    {
     "name": "stdout",
     "output_type": "stream",
     "text": [
      "tensor([[[1, 1, 1]]], device='cuda:0')\n",
      "138.png\n",
      "-------------\n",
      "tensor([[[1, 1, 4]]], device='cuda:0')\n",
      "701.png\n",
      "-------------\n",
      "tensor([[[1, 1, 4]]], device='cuda:0')\n",
      "708.png\n",
      "-------------\n",
      "tensor([[[1, 1, 4]]], device='cuda:0')\n",
      "910.png\n",
      "-------------\n",
      "tensor([[[1, 1, 1]]], device='cuda:0')\n",
      "203.png\n",
      "-------------\n",
      "tensor([[[1, 1, 1]]], device='cuda:0')\n",
      "255.png\n",
      "-------------\n",
      "tensor([[[1, 4, 4]]], device='cuda:0')\n",
      "754.png\n",
      "-------------\n",
      "tensor([[[1, 4, 4]]], device='cuda:0')\n",
      "150.png\n",
      "-------------\n",
      "tensor([[[1, 4, 4]]], device='cuda:0')\n",
      "402.png\n",
      "-------------\n",
      "tensor([[[1, 1, 4]]], device='cuda:0')\n",
      "282.png\n",
      "-------------\n",
      "tensor([[[1, 1, 4]]], device='cuda:0')\n",
      "148.png\n",
      "-------------\n",
      "tensor([[[1, 1, 4]]], device='cuda:0')\n",
      "380.png\n",
      "-------------\n",
      "tensor([[[1, 1, 4]]], device='cuda:0')\n",
      "205.png\n",
      "-------------\n",
      "tensor([[[1, 1, 4]]], device='cuda:0')\n",
      "995.png\n",
      "-------------\n",
      "tensor([[[1, 1, 4]]], device='cuda:0')\n",
      "505.png\n",
      "-------------\n",
      "tensor([[[1, 1, 4]]], device='cuda:0')\n",
      "174.png\n",
      "-------------\n",
      "tensor([[[1, 1, 4]]], device='cuda:0')\n",
      "297.png\n",
      "-------------\n",
      "tensor([[[1, 1, 1]]], device='cuda:0')\n",
      "553.png\n",
      "-------------\n",
      "tensor([[[1, 1, 4]]], device='cuda:0')\n",
      "176.png\n",
      "-------------\n",
      "tensor([[[1, 1, 4]]], device='cuda:0')\n",
      "132.png\n",
      "-------------\n",
      "tensor([[[1, 4, 4]]], device='cuda:0')\n",
      "129.png\n",
      "-------------\n",
      "tensor([[[1, 1, 4]]], device='cuda:0')\n",
      "151.png\n",
      "-------------\n",
      "tensor([[[1, 1, 4]]], device='cuda:0')\n",
      "460.png\n",
      "-------------\n",
      "tensor([[[1, 1, 4]]], device='cuda:0')\n",
      "166.png\n",
      "-------------\n",
      "tensor([[[1, 1, 4]]], device='cuda:0')\n",
      "188.png\n",
      "-------------\n",
      "tensor([[[1, 1, 4]]], device='cuda:0')\n",
      "195.png\n",
      "-------------\n",
      "tensor([[[1, 1, 4]]], device='cuda:0')\n",
      "153.png\n",
      "-------------\n",
      "tensor([[[1, 4, 4]]], device='cuda:0')\n",
      "840.png\n",
      "-------------\n",
      "tensor([[[1, 1, 1]]], device='cuda:0')\n",
      "410.png\n",
      "-------------\n",
      "tensor([[[1, 1, 4]]], device='cuda:0')\n",
      "817.png\n",
      "-------------\n",
      "tensor([[[1, 1, 4]]], device='cuda:0')\n",
      "209.png\n",
      "-------------\n",
      "tensor([[[1, 1, 1]]], device='cuda:0')\n",
      "178.png\n",
      "-------------\n",
      "tensor([[[1, 1, 6]]], device='cuda:0')\n",
      "116.png\n",
      "-------------\n",
      "tensor([[[1, 1, 4]]], device='cuda:0')\n",
      "744.png\n",
      "-------------\n",
      "tensor([[[1, 1, 4]]], device='cuda:0')\n",
      "191.png\n",
      "-------------\n",
      "tensor([[[1, 1, 4]]], device='cuda:0')\n",
      "218.png\n",
      "-------------\n",
      "tensor([[[4, 1, 4]]], device='cuda:0')\n",
      "513.png\n",
      "-------------\n",
      "tensor([[[1, 1, 4]]], device='cuda:0')\n",
      "215.png\n",
      "-------------\n",
      "tensor([[[1, 1, 1]]], device='cuda:0')\n",
      "220.png\n",
      "-------------\n",
      "tensor([[[1, 1, 1]]], device='cuda:0')\n",
      "739.png\n",
      "-------------\n",
      "tensor([[[1, 1, 4]]], device='cuda:0')\n",
      "256.png\n",
      "-------------\n",
      "tensor([[[1, 1, 4]]], device='cuda:0')\n",
      "464.png\n",
      "-------------\n",
      "tensor([[[1, 1, 4]]], device='cuda:0')\n",
      "111.png\n",
      "-------------\n",
      "tensor([[[1, 1, 4]]], device='cuda:0')\n",
      "200.png\n",
      "-------------\n",
      "tensor([[[1, 1, 4]]], device='cuda:0')\n",
      "130.png\n",
      "-------------\n",
      "tensor([[[1, 1, 4]]], device='cuda:0')\n",
      "421.png\n",
      "-------------\n",
      "tensor([[[1, 1, 1]]], device='cuda:0')\n",
      "120.png\n",
      "-------------\n",
      "tensor([[[1, 1, 1]]], device='cuda:0')\n",
      "193.png\n",
      "-------------\n",
      "tensor([[[1, 1, 4]]], device='cuda:0')\n",
      "658.png\n",
      "-------------\n",
      "tensor([[[1, 1, 4]]], device='cuda:0')\n",
      "328.png\n",
      "-------------\n",
      "tensor([[[1, 1, 4]]], device='cuda:0')\n",
      "355.png\n",
      "-------------\n",
      "tensor([[[1, 1, 1]]], device='cuda:0')\n",
      "261.png\n",
      "-------------\n",
      "tensor([[[1, 1, 4]]], device='cuda:0')\n",
      "158.png\n",
      "-------------\n",
      "tensor([[[1, 1, 1]]], device='cuda:0')\n",
      "568.png\n",
      "-------------\n",
      "tensor([[[1, 1, 4]]], device='cuda:0')\n",
      "159.png\n",
      "-------------\n",
      "tensor([[[1, 1, 1]]], device='cuda:0')\n",
      "208.png\n",
      "-------------\n",
      "tensor([[[1, 1, 4]]], device='cuda:0')\n",
      "128.png\n",
      "-------------\n",
      "tensor([[[1, 1, 1]]], device='cuda:0')\n",
      "113.png\n",
      "-------------\n",
      "tensor([[[1, 1, 4]]], device='cuda:0')\n",
      "222.png\n",
      "-------------\n",
      "tensor([[[1, 1, 1]]], device='cuda:0')\n",
      "304.png\n",
      "-------------\n",
      "tensor([[[1, 1, 6]]], device='cuda:0')\n",
      "318.png\n",
      "-------------\n",
      "tensor([[[1, 1, 4]]], device='cuda:0')\n",
      "316.png\n",
      "-------------\n",
      "tensor([[[1, 1, 4]]], device='cuda:0')\n",
      "171.png\n",
      "-------------\n",
      "tensor([[[1, 1, 4]]], device='cuda:0')\n",
      "542.png\n",
      "-------------\n",
      "tensor([[[1, 1, 1]]], device='cuda:0')\n",
      "750.png\n",
      "-------------\n",
      "tensor([[[1, 1, 4]]], device='cuda:0')\n",
      "353.png\n",
      "-------------\n",
      "tensor([[[1, 1, 4]]], device='cuda:0')\n",
      "290.png\n",
      "-------------\n",
      "tensor([[[1, 1, 4]]], device='cuda:0')\n",
      "419.png\n",
      "-------------\n",
      "tensor([[[1, 1, 4]]], device='cuda:0')\n",
      "315.png\n",
      "-------------\n",
      "tensor([[[4, 1, 1]]], device='cuda:0')\n",
      "266.png\n",
      "-------------\n",
      "tensor([[[1, 1, 4]]], device='cuda:0')\n",
      "286.png\n",
      "-------------\n",
      "tensor([[[1, 1, 4]]], device='cuda:0')\n",
      "308.png\n",
      "-------------\n",
      "tensor([[[1, 1, 4]]], device='cuda:0')\n",
      "165.png\n",
      "-------------\n",
      "tensor([[[1, 1, 1]]], device='cuda:0')\n",
      "515.png\n",
      "-------------\n",
      "tensor([[[1, 1, 4]]], device='cuda:0')\n",
      "638.png\n",
      "-------------\n",
      "tensor([[[1, 1, 1]]], device='cuda:0')\n",
      "144.png\n",
      "-------------\n",
      "tensor([[[1, 4, 4]]], device='cuda:0')\n",
      "570.png\n",
      "-------------\n",
      "tensor([[[1, 1, 4]]], device='cuda:0')\n",
      "327.png\n",
      "-------------\n",
      "tensor([[[1, 1, 4]]], device='cuda:0')\n",
      "323.png\n",
      "-------------\n",
      "tensor([[[1, 1, 4]]], device='cuda:0')\n",
      "292.png\n",
      "-------------\n",
      "tensor([[[1, 1, 1]]], device='cuda:0')\n",
      "136.png\n",
      "-------------\n",
      "tensor([[[1, 4, 4]]], device='cuda:0')\n",
      "251.png\n",
      "-------------\n",
      "tensor([[[1, 1, 1]]], device='cuda:0')\n",
      "140.png\n",
      "-------------\n",
      "tensor([[[1, 1, 4]]], device='cuda:0')\n",
      "114.png\n",
      "-------------\n",
      "tensor([[[1, 1, 4]]], device='cuda:0')\n",
      "157.png\n",
      "-------------\n",
      "tensor([[[1, 1, 4]]], device='cuda:0')\n",
      "289.png\n",
      "-------------\n",
      "tensor([[[1, 1, 1]]], device='cuda:0')\n",
      "187.png\n",
      "-------------\n",
      "tensor([[[1, 1, 4]]], device='cuda:0')\n",
      "164.png\n",
      "-------------\n",
      "tensor([[[1, 1, 4]]], device='cuda:0')\n",
      "241.png\n",
      "-------------\n",
      "tensor([[[1, 1, 4]]], device='cuda:0')\n",
      "204.png\n",
      "-------------\n",
      "tensor([[[1, 1, 4]]], device='cuda:0')\n",
      "124.png\n",
      "-------------\n",
      "tensor([[[4, 4, 4]]], device='cuda:0')\n",
      "307.png\n",
      "-------------\n"
     ]
    }
   ],
   "source": [
    "for i, sample in enumerate(data_tensors):\n",
    "    # print(sample.shape)\n",
    "    output = triple_mnist_cnn(data_tensors[i].to(device))\n",
    "    # print(output.shape)\n",
    "    output = output.view(1, 10, -1)\n",
    "    # print(output.shape)\n",
    "    print(output.argmax(dim=1, keepdim=True))\n",
    "    print(labels[i])\n",
    "    # imshow(sample.to('cpu'))\n",
    "    print('-------------')\n",
    "    # break"
   ],
   "metadata": {
    "collapsed": false,
    "pycharm": {
     "name": "#%%\n"
    }
   }
  },
  {
   "cell_type": "markdown",
   "source": [
    "### Questions\n",
    "1. How did your model perform? Why is it better/worse?\n",
    "    - *Answer*\n",
    "2. What is domain gap in the context of ML?\n",
    "    - *Answer*\n",
    "3. Suggest two ways through which the problem of domain gap can be tackled.\n",
    "    - *Answer*"
   ],
   "metadata": {
    "collapsed": false,
    "pycharm": {
     "name": "#%% md\n"
    }
   }
  }
 ],
 "metadata": {
  "kernelspec": {
   "display_name": "Python 3",
   "language": "python",
   "name": "python3"
  },
  "language_info": {
   "codemirror_mode": {
    "name": "ipython",
    "version": 2
   },
   "file_extension": ".py",
   "mimetype": "text/x-python",
   "name": "python",
   "nbconvert_exporter": "python",
   "pygments_lexer": "ipython2",
   "version": "2.7.6"
  }
 },
 "nbformat": 4,
 "nbformat_minor": 0
}